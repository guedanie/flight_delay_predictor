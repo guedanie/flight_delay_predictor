{
 "cells": [
  {
   "cell_type": "markdown",
   "metadata": {},
   "source": [
    "# Weather Exploration Notebook"
   ]
  },
  {
   "cell_type": "code",
   "execution_count": 1,
   "metadata": {},
   "outputs": [],
   "source": [
    "import pandas as pd\n",
    "import numpy as np\n",
    "\n",
    "import os.path\n",
    "import requests\n",
    "import io\n",
    "\n",
    "import seaborn as sns\n",
    "import matplotlib.pyplot as plt\n",
    "import scipy.stats as stats\n",
    "\n",
    "import warnings\n",
    "warnings.filterwarnings(\"ignore\")\n",
    "\n",
    "from sklearn.model_selection import cross_val_score, train_test_split, GridSearchCV\n",
    "from sklearn.preprocessing import MinMaxScaler, StandardScaler, PowerTransformer\n",
    "from sklearn.ensemble import GradientBoostingClassifier\n",
    "from sklearn.neighbors import KNeighborsClassifier\n",
    "\n",
    "import wrangle\n",
    "import model\n",
    "import preprocessing"
   ]
  },
  {
   "cell_type": "code",
   "execution_count": 2,
   "metadata": {},
   "outputs": [],
   "source": [
    "weather_data = pd.read_csv(\"US_WeatherEvents_2016-2019.csv\")"
   ]
  },
  {
   "cell_type": "code",
   "execution_count": 3,
   "metadata": {},
   "outputs": [
    {
     "data": {
      "text/plain": [
       "array(['Davis', 'Sanford', 'Goldsboro', 'Salisbury', 'Greensboro',\n",
       "       'Southport', 'Louisburg', 'Oxford', 'Stoneville', 'Elm City',\n",
       "       'Smithfield', 'Statesville', 'Franklin', 'Concord', 'Monroe',\n",
       "       'Richlands', 'Rockingham', 'Whiteville', 'Pope Army Airfield',\n",
       "       'Washington', 'Erwin', 'Pikeville', 'Tarboro', 'Wilmington',\n",
       "       'New London', 'Morrisville', 'Mount Airy', 'Jefferson',\n",
       "       'Engelhard', 'Frisco', 'Andrews', 'Elizabeth City', 'New Bern',\n",
       "       'Winston Salem', 'Lexington', 'Elizabethtown', 'Iron Station',\n",
       "       'Rutherfordton', 'Aulander', 'Asheboro', 'Timberlake',\n",
       "       'Burlington', 'Maxton', 'Wadesboro', 'North Wilkesboro', 'Hoffman',\n",
       "       'Jacksonville', 'Carthage', 'Edenton', 'Kinston', 'Lumberton',\n",
       "       'Clinton', 'Fayetteville', 'Manteo', 'Newport', 'Halifax',\n",
       "       'Kenansville', 'Beaufort', 'Havelock', 'Cleveland', 'Gastonia',\n",
       "       'Morganton', 'Greenville', 'Maple', 'New River', 'Fletcher',\n",
       "       'Township 2 Berryhill', 'Kill Devil Hills', 'Hickory',\n",
       "       'Siler City', 'Chapel Hill', 'Roanoke Rapids'], dtype=object)"
      ]
     },
     "execution_count": 3,
     "metadata": {},
     "output_type": "execute_result"
    }
   ],
   "source": [
    "weather_data[weather_data.State == \"NC\"].City.unique()"
   ]
  },
  {
   "cell_type": "code",
   "execution_count": 4,
   "metadata": {
    "scrolled": false
   },
   "outputs": [
    {
     "data": {
      "text/html": [
       "<div>\n",
       "<style scoped>\n",
       "    .dataframe tbody tr th:only-of-type {\n",
       "        vertical-align: middle;\n",
       "    }\n",
       "\n",
       "    .dataframe tbody tr th {\n",
       "        vertical-align: top;\n",
       "    }\n",
       "\n",
       "    .dataframe thead th {\n",
       "        text-align: right;\n",
       "    }\n",
       "</style>\n",
       "<table border=\"1\" class=\"dataframe\">\n",
       "  <thead>\n",
       "    <tr style=\"text-align: right;\">\n",
       "      <th></th>\n",
       "      <th>EventId</th>\n",
       "      <th>Type</th>\n",
       "      <th>Severity</th>\n",
       "      <th>StartTime(UTC)</th>\n",
       "      <th>EndTime(UTC)</th>\n",
       "      <th>TimeZone</th>\n",
       "      <th>AirportCode</th>\n",
       "      <th>LocationLat</th>\n",
       "      <th>LocationLng</th>\n",
       "      <th>City</th>\n",
       "      <th>County</th>\n",
       "      <th>State</th>\n",
       "      <th>ZipCode</th>\n",
       "    </tr>\n",
       "  </thead>\n",
       "  <tbody>\n",
       "    <tr>\n",
       "      <th>788917</th>\n",
       "      <td>W-789030</td>\n",
       "      <td>Rain</td>\n",
       "      <td>Light</td>\n",
       "      <td>2016-01-06 15:53:00</td>\n",
       "      <td>2016-01-06 16:53:00</td>\n",
       "      <td>US/Central</td>\n",
       "      <td>KRBD</td>\n",
       "      <td>32.6809</td>\n",
       "      <td>-96.8682</td>\n",
       "      <td>Dallas</td>\n",
       "      <td>Dallas</td>\n",
       "      <td>TX</td>\n",
       "      <td>75237.0</td>\n",
       "    </tr>\n",
       "    <tr>\n",
       "      <th>788918</th>\n",
       "      <td>W-789031</td>\n",
       "      <td>Rain</td>\n",
       "      <td>Light</td>\n",
       "      <td>2016-01-07 01:39:00</td>\n",
       "      <td>2016-01-07 02:00:00</td>\n",
       "      <td>US/Central</td>\n",
       "      <td>KRBD</td>\n",
       "      <td>32.6809</td>\n",
       "      <td>-96.8682</td>\n",
       "      <td>Dallas</td>\n",
       "      <td>Dallas</td>\n",
       "      <td>TX</td>\n",
       "      <td>75237.0</td>\n",
       "    </tr>\n",
       "    <tr>\n",
       "      <th>788919</th>\n",
       "      <td>W-789032</td>\n",
       "      <td>Rain</td>\n",
       "      <td>Light</td>\n",
       "      <td>2016-01-07 02:18:00</td>\n",
       "      <td>2016-01-07 02:41:00</td>\n",
       "      <td>US/Central</td>\n",
       "      <td>KRBD</td>\n",
       "      <td>32.6809</td>\n",
       "      <td>-96.8682</td>\n",
       "      <td>Dallas</td>\n",
       "      <td>Dallas</td>\n",
       "      <td>TX</td>\n",
       "      <td>75237.0</td>\n",
       "    </tr>\n",
       "    <tr>\n",
       "      <th>788920</th>\n",
       "      <td>W-789033</td>\n",
       "      <td>Rain</td>\n",
       "      <td>Heavy</td>\n",
       "      <td>2016-01-07 02:41:00</td>\n",
       "      <td>2016-01-07 03:06:00</td>\n",
       "      <td>US/Central</td>\n",
       "      <td>KRBD</td>\n",
       "      <td>32.6809</td>\n",
       "      <td>-96.8682</td>\n",
       "      <td>Dallas</td>\n",
       "      <td>Dallas</td>\n",
       "      <td>TX</td>\n",
       "      <td>75237.0</td>\n",
       "    </tr>\n",
       "    <tr>\n",
       "      <th>788921</th>\n",
       "      <td>W-789034</td>\n",
       "      <td>Rain</td>\n",
       "      <td>Moderate</td>\n",
       "      <td>2016-01-07 03:06:00</td>\n",
       "      <td>2016-01-07 04:26:00</td>\n",
       "      <td>US/Central</td>\n",
       "      <td>KRBD</td>\n",
       "      <td>32.6809</td>\n",
       "      <td>-96.8682</td>\n",
       "      <td>Dallas</td>\n",
       "      <td>Dallas</td>\n",
       "      <td>TX</td>\n",
       "      <td>75237.0</td>\n",
       "    </tr>\n",
       "    <tr>\n",
       "      <th>...</th>\n",
       "      <td>...</td>\n",
       "      <td>...</td>\n",
       "      <td>...</td>\n",
       "      <td>...</td>\n",
       "      <td>...</td>\n",
       "      <td>...</td>\n",
       "      <td>...</td>\n",
       "      <td>...</td>\n",
       "      <td>...</td>\n",
       "      <td>...</td>\n",
       "      <td>...</td>\n",
       "      <td>...</td>\n",
       "      <td>...</td>\n",
       "    </tr>\n",
       "    <tr>\n",
       "      <th>3805626</th>\n",
       "      <td>W-3806127</td>\n",
       "      <td>Rain</td>\n",
       "      <td>Light</td>\n",
       "      <td>2019-12-29 18:15:00</td>\n",
       "      <td>2019-12-29 18:55:00</td>\n",
       "      <td>US/Eastern</td>\n",
       "      <td>KPUJ</td>\n",
       "      <td>33.9120</td>\n",
       "      <td>-84.9410</td>\n",
       "      <td>Dallas</td>\n",
       "      <td>Paulding</td>\n",
       "      <td>GA</td>\n",
       "      <td>30157.0</td>\n",
       "    </tr>\n",
       "    <tr>\n",
       "      <th>3805627</th>\n",
       "      <td>W-3806128</td>\n",
       "      <td>Rain</td>\n",
       "      <td>Light</td>\n",
       "      <td>2019-12-29 20:35:00</td>\n",
       "      <td>2019-12-29 20:55:00</td>\n",
       "      <td>US/Eastern</td>\n",
       "      <td>KPUJ</td>\n",
       "      <td>33.9120</td>\n",
       "      <td>-84.9410</td>\n",
       "      <td>Dallas</td>\n",
       "      <td>Paulding</td>\n",
       "      <td>GA</td>\n",
       "      <td>30157.0</td>\n",
       "    </tr>\n",
       "    <tr>\n",
       "      <th>3805628</th>\n",
       "      <td>W-3806129</td>\n",
       "      <td>Rain</td>\n",
       "      <td>Light</td>\n",
       "      <td>2019-12-29 22:15:00</td>\n",
       "      <td>2019-12-29 22:55:00</td>\n",
       "      <td>US/Eastern</td>\n",
       "      <td>KPUJ</td>\n",
       "      <td>33.9120</td>\n",
       "      <td>-84.9410</td>\n",
       "      <td>Dallas</td>\n",
       "      <td>Paulding</td>\n",
       "      <td>GA</td>\n",
       "      <td>30157.0</td>\n",
       "    </tr>\n",
       "    <tr>\n",
       "      <th>3805629</th>\n",
       "      <td>W-3806130</td>\n",
       "      <td>Rain</td>\n",
       "      <td>Light</td>\n",
       "      <td>2019-12-30 01:55:00</td>\n",
       "      <td>2019-12-30 02:35:00</td>\n",
       "      <td>US/Eastern</td>\n",
       "      <td>KPUJ</td>\n",
       "      <td>33.9120</td>\n",
       "      <td>-84.9410</td>\n",
       "      <td>Dallas</td>\n",
       "      <td>Paulding</td>\n",
       "      <td>GA</td>\n",
       "      <td>30157.0</td>\n",
       "    </tr>\n",
       "    <tr>\n",
       "      <th>3805630</th>\n",
       "      <td>W-3806131</td>\n",
       "      <td>Rain</td>\n",
       "      <td>Light</td>\n",
       "      <td>2019-12-30 05:55:00</td>\n",
       "      <td>2019-12-30 07:15:00</td>\n",
       "      <td>US/Eastern</td>\n",
       "      <td>KPUJ</td>\n",
       "      <td>33.9120</td>\n",
       "      <td>-84.9410</td>\n",
       "      <td>Dallas</td>\n",
       "      <td>Paulding</td>\n",
       "      <td>GA</td>\n",
       "      <td>30157.0</td>\n",
       "    </tr>\n",
       "  </tbody>\n",
       "</table>\n",
       "<p>8959 rows × 13 columns</p>\n",
       "</div>"
      ],
      "text/plain": [
       "           EventId  Type  Severity       StartTime(UTC)         EndTime(UTC)  \\\n",
       "788917    W-789030  Rain     Light  2016-01-06 15:53:00  2016-01-06 16:53:00   \n",
       "788918    W-789031  Rain     Light  2016-01-07 01:39:00  2016-01-07 02:00:00   \n",
       "788919    W-789032  Rain     Light  2016-01-07 02:18:00  2016-01-07 02:41:00   \n",
       "788920    W-789033  Rain     Heavy  2016-01-07 02:41:00  2016-01-07 03:06:00   \n",
       "788921    W-789034  Rain  Moderate  2016-01-07 03:06:00  2016-01-07 04:26:00   \n",
       "...            ...   ...       ...                  ...                  ...   \n",
       "3805626  W-3806127  Rain     Light  2019-12-29 18:15:00  2019-12-29 18:55:00   \n",
       "3805627  W-3806128  Rain     Light  2019-12-29 20:35:00  2019-12-29 20:55:00   \n",
       "3805628  W-3806129  Rain     Light  2019-12-29 22:15:00  2019-12-29 22:55:00   \n",
       "3805629  W-3806130  Rain     Light  2019-12-30 01:55:00  2019-12-30 02:35:00   \n",
       "3805630  W-3806131  Rain     Light  2019-12-30 05:55:00  2019-12-30 07:15:00   \n",
       "\n",
       "           TimeZone AirportCode  LocationLat  LocationLng    City    County  \\\n",
       "788917   US/Central        KRBD      32.6809     -96.8682  Dallas    Dallas   \n",
       "788918   US/Central        KRBD      32.6809     -96.8682  Dallas    Dallas   \n",
       "788919   US/Central        KRBD      32.6809     -96.8682  Dallas    Dallas   \n",
       "788920   US/Central        KRBD      32.6809     -96.8682  Dallas    Dallas   \n",
       "788921   US/Central        KRBD      32.6809     -96.8682  Dallas    Dallas   \n",
       "...             ...         ...          ...          ...     ...       ...   \n",
       "3805626  US/Eastern        KPUJ      33.9120     -84.9410  Dallas  Paulding   \n",
       "3805627  US/Eastern        KPUJ      33.9120     -84.9410  Dallas  Paulding   \n",
       "3805628  US/Eastern        KPUJ      33.9120     -84.9410  Dallas  Paulding   \n",
       "3805629  US/Eastern        KPUJ      33.9120     -84.9410  Dallas  Paulding   \n",
       "3805630  US/Eastern        KPUJ      33.9120     -84.9410  Dallas  Paulding   \n",
       "\n",
       "        State  ZipCode  \n",
       "788917     TX  75237.0  \n",
       "788918     TX  75237.0  \n",
       "788919     TX  75237.0  \n",
       "788920     TX  75237.0  \n",
       "788921     TX  75237.0  \n",
       "...       ...      ...  \n",
       "3805626    GA  30157.0  \n",
       "3805627    GA  30157.0  \n",
       "3805628    GA  30157.0  \n",
       "3805629    GA  30157.0  \n",
       "3805630    GA  30157.0  \n",
       "\n",
       "[8959 rows x 13 columns]"
      ]
     },
     "execution_count": 4,
     "metadata": {},
     "output_type": "execute_result"
    }
   ],
   "source": [
    "weather_data[weather_data.City == \"Dallas\"]"
   ]
  },
  {
   "cell_type": "code",
   "execution_count": 5,
   "metadata": {},
   "outputs": [],
   "source": [
    "# we only want data for 2018"
   ]
  },
  {
   "cell_type": "code",
   "execution_count": 6,
   "metadata": {},
   "outputs": [],
   "source": [
    "# we only wand data for the following cities\n",
    "\n",
    "top_airports = [\"ATL\", \"LAX\", \"ORD\", \"DFW\", \"DEN\", \"JFK\", \"SFO\", \"SEA\", \"LAS\", \"MCO\", \"EWR\", \"CLT\", \"PHX\", \"IAH\", \"MIA\"]"
   ]
  },
  {
   "cell_type": "code",
   "execution_count": 7,
   "metadata": {},
   "outputs": [],
   "source": [
    "airport_codes = pd.read_csv(\"airport_codes.csv\")"
   ]
  },
  {
   "cell_type": "code",
   "execution_count": 8,
   "metadata": {},
   "outputs": [],
   "source": [
    "airport_codes = airport_codes[airport_codes.Country == \"United States\"]"
   ]
  },
  {
   "cell_type": "code",
   "execution_count": 9,
   "metadata": {},
   "outputs": [
    {
     "data": {
      "text/html": [
       "<div>\n",
       "<style scoped>\n",
       "    .dataframe tbody tr th:only-of-type {\n",
       "        vertical-align: middle;\n",
       "    }\n",
       "\n",
       "    .dataframe tbody tr th {\n",
       "        vertical-align: top;\n",
       "    }\n",
       "\n",
       "    .dataframe thead th {\n",
       "        text-align: right;\n",
       "    }\n",
       "</style>\n",
       "<table border=\"1\" class=\"dataframe\">\n",
       "  <thead>\n",
       "    <tr style=\"text-align: right;\">\n",
       "      <th></th>\n",
       "      <th>Unnamed: 0</th>\n",
       "      <th>Name</th>\n",
       "      <th>City</th>\n",
       "      <th>Country</th>\n",
       "      <th>IATA</th>\n",
       "      <th>ICAO</th>\n",
       "      <th>Latitude</th>\n",
       "      <th>Longitude</th>\n",
       "    </tr>\n",
       "  </thead>\n",
       "  <tbody>\n",
       "    <tr>\n",
       "      <th>0</th>\n",
       "      <td>3212</td>\n",
       "      <td>Barter Island LRRS Airport</td>\n",
       "      <td>Barter Island</td>\n",
       "      <td>United States</td>\n",
       "      <td>BTI</td>\n",
       "      <td>PABA</td>\n",
       "      <td>70.134003</td>\n",
       "      <td>-143.582001</td>\n",
       "    </tr>\n",
       "    <tr>\n",
       "      <th>1</th>\n",
       "      <td>3213</td>\n",
       "      <td>Wainwright Air Station</td>\n",
       "      <td>Fort Wainwright</td>\n",
       "      <td>United States</td>\n",
       "      <td>\\N</td>\n",
       "      <td>PAWT</td>\n",
       "      <td>70.613403</td>\n",
       "      <td>-159.860001</td>\n",
       "    </tr>\n",
       "    <tr>\n",
       "      <th>2</th>\n",
       "      <td>3214</td>\n",
       "      <td>Cape Lisburne LRRS Airport</td>\n",
       "      <td>Cape Lisburne</td>\n",
       "      <td>United States</td>\n",
       "      <td>LUR</td>\n",
       "      <td>PALU</td>\n",
       "      <td>68.875099</td>\n",
       "      <td>-166.110001</td>\n",
       "    </tr>\n",
       "    <tr>\n",
       "      <th>3</th>\n",
       "      <td>3215</td>\n",
       "      <td>Point Lay LRRS Airport</td>\n",
       "      <td>Point Lay</td>\n",
       "      <td>United States</td>\n",
       "      <td>PIZ</td>\n",
       "      <td>PPIZ</td>\n",
       "      <td>69.732903</td>\n",
       "      <td>-163.005005</td>\n",
       "    </tr>\n",
       "    <tr>\n",
       "      <th>4</th>\n",
       "      <td>3216</td>\n",
       "      <td>Hilo International Airport</td>\n",
       "      <td>Hilo</td>\n",
       "      <td>United States</td>\n",
       "      <td>ITO</td>\n",
       "      <td>PHTO</td>\n",
       "      <td>19.721399</td>\n",
       "      <td>-155.048004</td>\n",
       "    </tr>\n",
       "  </tbody>\n",
       "</table>\n",
       "</div>"
      ],
      "text/plain": [
       "   Unnamed: 0                        Name             City        Country  \\\n",
       "0        3212  Barter Island LRRS Airport    Barter Island  United States   \n",
       "1        3213      Wainwright Air Station  Fort Wainwright  United States   \n",
       "2        3214  Cape Lisburne LRRS Airport    Cape Lisburne  United States   \n",
       "3        3215      Point Lay LRRS Airport        Point Lay  United States   \n",
       "4        3216  Hilo International Airport             Hilo  United States   \n",
       "\n",
       "  IATA  ICAO   Latitude   Longitude  \n",
       "0  BTI  PABA  70.134003 -143.582001  \n",
       "1   \\N  PAWT  70.613403 -159.860001  \n",
       "2  LUR  PALU  68.875099 -166.110001  \n",
       "3  PIZ  PPIZ  69.732903 -163.005005  \n",
       "4  ITO  PHTO  19.721399 -155.048004  "
      ]
     },
     "execution_count": 9,
     "metadata": {},
     "output_type": "execute_result"
    }
   ],
   "source": [
    "airport_codes.head()"
   ]
  },
  {
   "cell_type": "code",
   "execution_count": 10,
   "metadata": {},
   "outputs": [],
   "source": [
    "# airport_codes.to_csv(\"airport_codes.csv\")"
   ]
  },
  {
   "cell_type": "code",
   "execution_count": 11,
   "metadata": {},
   "outputs": [],
   "source": [
    "weather_data = weather_data.merge(airport_codes, how=\"left\", left_on=\"AirportCode\", right_on=\"ICAO\")"
   ]
  },
  {
   "cell_type": "code",
   "execution_count": 12,
   "metadata": {},
   "outputs": [],
   "source": [
    "top_airports = [\"ATL\", \"LAX\", \"ORD\", \"DFW\", \"DEN\", \"JFK\", \"SFO\", \"SEA\", \"LAS\", \"MCO\", \"EWR\", \"CLT\", \"PHX\", \"IAH\", \"MIA\"]\n",
    "\n",
    "for i in top_airports:\n",
    "    weather_data.loc[weather_data['IATA'] == i, 'is_top'] = True \n",
    "    \n",
    "weather_data.is_top = weather_data.is_top.fillna(False)"
   ]
  },
  {
   "cell_type": "code",
   "execution_count": 13,
   "metadata": {},
   "outputs": [],
   "source": [
    "weather_data = weather_data[weather_data.is_top]"
   ]
  },
  {
   "cell_type": "code",
   "execution_count": 14,
   "metadata": {},
   "outputs": [],
   "source": [
    "weather_data[\"StartTime(UTC)\"] = pd.to_datetime(weather_data[\"StartTime(UTC)\"])"
   ]
  },
  {
   "cell_type": "code",
   "execution_count": 15,
   "metadata": {},
   "outputs": [],
   "source": [
    "weather_data = weather_data.set_index(\"StartTime(UTC)\")"
   ]
  },
  {
   "cell_type": "code",
   "execution_count": 16,
   "metadata": {},
   "outputs": [],
   "source": [
    "weather_data = weather_data[\"2018\"]"
   ]
  },
  {
   "cell_type": "code",
   "execution_count": 17,
   "metadata": {},
   "outputs": [
    {
     "data": {
      "text/html": [
       "<div>\n",
       "<style scoped>\n",
       "    .dataframe tbody tr th:only-of-type {\n",
       "        vertical-align: middle;\n",
       "    }\n",
       "\n",
       "    .dataframe tbody tr th {\n",
       "        vertical-align: top;\n",
       "    }\n",
       "\n",
       "    .dataframe thead th {\n",
       "        text-align: right;\n",
       "    }\n",
       "</style>\n",
       "<table border=\"1\" class=\"dataframe\">\n",
       "  <thead>\n",
       "    <tr style=\"text-align: right;\">\n",
       "      <th></th>\n",
       "      <th>EventId</th>\n",
       "      <th>Type</th>\n",
       "      <th>Severity</th>\n",
       "      <th>EndTime(UTC)</th>\n",
       "      <th>TimeZone</th>\n",
       "      <th>AirportCode</th>\n",
       "      <th>LocationLat</th>\n",
       "      <th>LocationLng</th>\n",
       "      <th>City_x</th>\n",
       "      <th>County</th>\n",
       "      <th>...</th>\n",
       "      <th>ZipCode</th>\n",
       "      <th>Unnamed: 0</th>\n",
       "      <th>Name</th>\n",
       "      <th>City_y</th>\n",
       "      <th>Country</th>\n",
       "      <th>IATA</th>\n",
       "      <th>ICAO</th>\n",
       "      <th>Latitude</th>\n",
       "      <th>Longitude</th>\n",
       "      <th>is_top</th>\n",
       "    </tr>\n",
       "    <tr>\n",
       "      <th>StartTime(UTC)</th>\n",
       "      <th></th>\n",
       "      <th></th>\n",
       "      <th></th>\n",
       "      <th></th>\n",
       "      <th></th>\n",
       "      <th></th>\n",
       "      <th></th>\n",
       "      <th></th>\n",
       "      <th></th>\n",
       "      <th></th>\n",
       "      <th></th>\n",
       "      <th></th>\n",
       "      <th></th>\n",
       "      <th></th>\n",
       "      <th></th>\n",
       "      <th></th>\n",
       "      <th></th>\n",
       "      <th></th>\n",
       "      <th></th>\n",
       "      <th></th>\n",
       "      <th></th>\n",
       "    </tr>\n",
       "  </thead>\n",
       "  <tbody>\n",
       "    <tr>\n",
       "      <th>2018-12-01 17:58:00</th>\n",
       "      <td>W-3204675</td>\n",
       "      <td>Rain</td>\n",
       "      <td>Light</td>\n",
       "      <td>2018-12-01 18:13:00</td>\n",
       "      <td>US/Eastern</td>\n",
       "      <td>KATL</td>\n",
       "      <td>33.6301</td>\n",
       "      <td>-84.4418</td>\n",
       "      <td>Atlanta</td>\n",
       "      <td>Clayton</td>\n",
       "      <td>...</td>\n",
       "      <td>30320.0</td>\n",
       "      <td>3482.0</td>\n",
       "      <td>Hartsfield Jackson Atlanta International Airport</td>\n",
       "      <td>Atlanta</td>\n",
       "      <td>United States</td>\n",
       "      <td>ATL</td>\n",
       "      <td>KATL</td>\n",
       "      <td>33.636700</td>\n",
       "      <td>-84.428101</td>\n",
       "      <td>True</td>\n",
       "    </tr>\n",
       "    <tr>\n",
       "      <th>2018-09-09 20:52:00</th>\n",
       "      <td>W-3204531</td>\n",
       "      <td>Rain</td>\n",
       "      <td>Light</td>\n",
       "      <td>2018-09-09 21:18:00</td>\n",
       "      <td>US/Eastern</td>\n",
       "      <td>KATL</td>\n",
       "      <td>33.6301</td>\n",
       "      <td>-84.4418</td>\n",
       "      <td>Atlanta</td>\n",
       "      <td>Clayton</td>\n",
       "      <td>...</td>\n",
       "      <td>30320.0</td>\n",
       "      <td>3482.0</td>\n",
       "      <td>Hartsfield Jackson Atlanta International Airport</td>\n",
       "      <td>Atlanta</td>\n",
       "      <td>United States</td>\n",
       "      <td>ATL</td>\n",
       "      <td>KATL</td>\n",
       "      <td>33.636700</td>\n",
       "      <td>-84.428101</td>\n",
       "      <td>True</td>\n",
       "    </tr>\n",
       "    <tr>\n",
       "      <th>2018-09-10 19:05:00</th>\n",
       "      <td>W-3204532</td>\n",
       "      <td>Rain</td>\n",
       "      <td>Light</td>\n",
       "      <td>2018-09-10 19:14:00</td>\n",
       "      <td>US/Eastern</td>\n",
       "      <td>KATL</td>\n",
       "      <td>33.6301</td>\n",
       "      <td>-84.4418</td>\n",
       "      <td>Atlanta</td>\n",
       "      <td>Clayton</td>\n",
       "      <td>...</td>\n",
       "      <td>30320.0</td>\n",
       "      <td>3482.0</td>\n",
       "      <td>Hartsfield Jackson Atlanta International Airport</td>\n",
       "      <td>Atlanta</td>\n",
       "      <td>United States</td>\n",
       "      <td>ATL</td>\n",
       "      <td>KATL</td>\n",
       "      <td>33.636700</td>\n",
       "      <td>-84.428101</td>\n",
       "      <td>True</td>\n",
       "    </tr>\n",
       "    <tr>\n",
       "      <th>2018-09-11 20:12:00</th>\n",
       "      <td>W-3204533</td>\n",
       "      <td>Rain</td>\n",
       "      <td>Light</td>\n",
       "      <td>2018-09-11 20:52:00</td>\n",
       "      <td>US/Eastern</td>\n",
       "      <td>KATL</td>\n",
       "      <td>33.6301</td>\n",
       "      <td>-84.4418</td>\n",
       "      <td>Atlanta</td>\n",
       "      <td>Clayton</td>\n",
       "      <td>...</td>\n",
       "      <td>30320.0</td>\n",
       "      <td>3482.0</td>\n",
       "      <td>Hartsfield Jackson Atlanta International Airport</td>\n",
       "      <td>Atlanta</td>\n",
       "      <td>United States</td>\n",
       "      <td>ATL</td>\n",
       "      <td>KATL</td>\n",
       "      <td>33.636700</td>\n",
       "      <td>-84.428101</td>\n",
       "      <td>True</td>\n",
       "    </tr>\n",
       "    <tr>\n",
       "      <th>2018-09-11 20:57:00</th>\n",
       "      <td>W-3204534</td>\n",
       "      <td>Rain</td>\n",
       "      <td>Light</td>\n",
       "      <td>2018-09-11 21:52:00</td>\n",
       "      <td>US/Eastern</td>\n",
       "      <td>KATL</td>\n",
       "      <td>33.6301</td>\n",
       "      <td>-84.4418</td>\n",
       "      <td>Atlanta</td>\n",
       "      <td>Clayton</td>\n",
       "      <td>...</td>\n",
       "      <td>30320.0</td>\n",
       "      <td>3482.0</td>\n",
       "      <td>Hartsfield Jackson Atlanta International Airport</td>\n",
       "      <td>Atlanta</td>\n",
       "      <td>United States</td>\n",
       "      <td>ATL</td>\n",
       "      <td>KATL</td>\n",
       "      <td>33.636700</td>\n",
       "      <td>-84.428101</td>\n",
       "      <td>True</td>\n",
       "    </tr>\n",
       "    <tr>\n",
       "      <th>...</th>\n",
       "      <td>...</td>\n",
       "      <td>...</td>\n",
       "      <td>...</td>\n",
       "      <td>...</td>\n",
       "      <td>...</td>\n",
       "      <td>...</td>\n",
       "      <td>...</td>\n",
       "      <td>...</td>\n",
       "      <td>...</td>\n",
       "      <td>...</td>\n",
       "      <td>...</td>\n",
       "      <td>...</td>\n",
       "      <td>...</td>\n",
       "      <td>...</td>\n",
       "      <td>...</td>\n",
       "      <td>...</td>\n",
       "      <td>...</td>\n",
       "      <td>...</td>\n",
       "      <td>...</td>\n",
       "      <td>...</td>\n",
       "      <td>...</td>\n",
       "    </tr>\n",
       "    <tr>\n",
       "      <th>2018-06-24 14:12:00</th>\n",
       "      <td>W-3376399</td>\n",
       "      <td>Cold</td>\n",
       "      <td>Severe</td>\n",
       "      <td>2018-06-24 14:46:00</td>\n",
       "      <td>US/Pacific</td>\n",
       "      <td>KSEA</td>\n",
       "      <td>47.4447</td>\n",
       "      <td>-122.3144</td>\n",
       "      <td>Seattle</td>\n",
       "      <td>King</td>\n",
       "      <td>...</td>\n",
       "      <td>98148.0</td>\n",
       "      <td>3377.0</td>\n",
       "      <td>Seattle Tacoma International Airport</td>\n",
       "      <td>Seattle</td>\n",
       "      <td>United States</td>\n",
       "      <td>SEA</td>\n",
       "      <td>KSEA</td>\n",
       "      <td>47.449001</td>\n",
       "      <td>-122.308998</td>\n",
       "      <td>True</td>\n",
       "    </tr>\n",
       "    <tr>\n",
       "      <th>2018-06-24 15:53:00</th>\n",
       "      <td>W-3376400</td>\n",
       "      <td>Fog</td>\n",
       "      <td>Moderate</td>\n",
       "      <td>2018-06-24 17:22:00</td>\n",
       "      <td>US/Pacific</td>\n",
       "      <td>KSEA</td>\n",
       "      <td>47.4447</td>\n",
       "      <td>-122.3144</td>\n",
       "      <td>Seattle</td>\n",
       "      <td>King</td>\n",
       "      <td>...</td>\n",
       "      <td>98148.0</td>\n",
       "      <td>3377.0</td>\n",
       "      <td>Seattle Tacoma International Airport</td>\n",
       "      <td>Seattle</td>\n",
       "      <td>United States</td>\n",
       "      <td>SEA</td>\n",
       "      <td>KSEA</td>\n",
       "      <td>47.449001</td>\n",
       "      <td>-122.308998</td>\n",
       "      <td>True</td>\n",
       "    </tr>\n",
       "    <tr>\n",
       "      <th>2018-06-28 21:53:00</th>\n",
       "      <td>W-3376401</td>\n",
       "      <td>Rain</td>\n",
       "      <td>Light</td>\n",
       "      <td>2018-06-28 22:53:00</td>\n",
       "      <td>US/Pacific</td>\n",
       "      <td>KSEA</td>\n",
       "      <td>47.4447</td>\n",
       "      <td>-122.3144</td>\n",
       "      <td>Seattle</td>\n",
       "      <td>King</td>\n",
       "      <td>...</td>\n",
       "      <td>98148.0</td>\n",
       "      <td>3377.0</td>\n",
       "      <td>Seattle Tacoma International Airport</td>\n",
       "      <td>Seattle</td>\n",
       "      <td>United States</td>\n",
       "      <td>SEA</td>\n",
       "      <td>KSEA</td>\n",
       "      <td>47.449001</td>\n",
       "      <td>-122.308998</td>\n",
       "      <td>True</td>\n",
       "    </tr>\n",
       "    <tr>\n",
       "      <th>2018-06-11 01:53:00</th>\n",
       "      <td>W-3376391</td>\n",
       "      <td>Rain</td>\n",
       "      <td>Light</td>\n",
       "      <td>2018-06-11 02:53:00</td>\n",
       "      <td>US/Pacific</td>\n",
       "      <td>KSEA</td>\n",
       "      <td>47.4447</td>\n",
       "      <td>-122.3144</td>\n",
       "      <td>Seattle</td>\n",
       "      <td>King</td>\n",
       "      <td>...</td>\n",
       "      <td>98148.0</td>\n",
       "      <td>3377.0</td>\n",
       "      <td>Seattle Tacoma International Airport</td>\n",
       "      <td>Seattle</td>\n",
       "      <td>United States</td>\n",
       "      <td>SEA</td>\n",
       "      <td>KSEA</td>\n",
       "      <td>47.449001</td>\n",
       "      <td>-122.308998</td>\n",
       "      <td>True</td>\n",
       "    </tr>\n",
       "    <tr>\n",
       "      <th>2018-11-22 15:53:00</th>\n",
       "      <td>W-3376593</td>\n",
       "      <td>Rain</td>\n",
       "      <td>Light</td>\n",
       "      <td>2018-11-22 16:26:00</td>\n",
       "      <td>US/Pacific</td>\n",
       "      <td>KSEA</td>\n",
       "      <td>47.4447</td>\n",
       "      <td>-122.3144</td>\n",
       "      <td>Seattle</td>\n",
       "      <td>King</td>\n",
       "      <td>...</td>\n",
       "      <td>98148.0</td>\n",
       "      <td>3377.0</td>\n",
       "      <td>Seattle Tacoma International Airport</td>\n",
       "      <td>Seattle</td>\n",
       "      <td>United States</td>\n",
       "      <td>SEA</td>\n",
       "      <td>KSEA</td>\n",
       "      <td>47.449001</td>\n",
       "      <td>-122.308998</td>\n",
       "      <td>True</td>\n",
       "    </tr>\n",
       "  </tbody>\n",
       "</table>\n",
       "<p>7704 rows × 21 columns</p>\n",
       "</div>"
      ],
      "text/plain": [
       "                       EventId  Type  Severity         EndTime(UTC)  \\\n",
       "StartTime(UTC)                                                        \n",
       "2018-12-01 17:58:00  W-3204675  Rain     Light  2018-12-01 18:13:00   \n",
       "2018-09-09 20:52:00  W-3204531  Rain     Light  2018-09-09 21:18:00   \n",
       "2018-09-10 19:05:00  W-3204532  Rain     Light  2018-09-10 19:14:00   \n",
       "2018-09-11 20:12:00  W-3204533  Rain     Light  2018-09-11 20:52:00   \n",
       "2018-09-11 20:57:00  W-3204534  Rain     Light  2018-09-11 21:52:00   \n",
       "...                        ...   ...       ...                  ...   \n",
       "2018-06-24 14:12:00  W-3376399  Cold    Severe  2018-06-24 14:46:00   \n",
       "2018-06-24 15:53:00  W-3376400   Fog  Moderate  2018-06-24 17:22:00   \n",
       "2018-06-28 21:53:00  W-3376401  Rain     Light  2018-06-28 22:53:00   \n",
       "2018-06-11 01:53:00  W-3376391  Rain     Light  2018-06-11 02:53:00   \n",
       "2018-11-22 15:53:00  W-3376593  Rain     Light  2018-11-22 16:26:00   \n",
       "\n",
       "                       TimeZone AirportCode  LocationLat  LocationLng  \\\n",
       "StartTime(UTC)                                                          \n",
       "2018-12-01 17:58:00  US/Eastern        KATL      33.6301     -84.4418   \n",
       "2018-09-09 20:52:00  US/Eastern        KATL      33.6301     -84.4418   \n",
       "2018-09-10 19:05:00  US/Eastern        KATL      33.6301     -84.4418   \n",
       "2018-09-11 20:12:00  US/Eastern        KATL      33.6301     -84.4418   \n",
       "2018-09-11 20:57:00  US/Eastern        KATL      33.6301     -84.4418   \n",
       "...                         ...         ...          ...          ...   \n",
       "2018-06-24 14:12:00  US/Pacific        KSEA      47.4447    -122.3144   \n",
       "2018-06-24 15:53:00  US/Pacific        KSEA      47.4447    -122.3144   \n",
       "2018-06-28 21:53:00  US/Pacific        KSEA      47.4447    -122.3144   \n",
       "2018-06-11 01:53:00  US/Pacific        KSEA      47.4447    -122.3144   \n",
       "2018-11-22 15:53:00  US/Pacific        KSEA      47.4447    -122.3144   \n",
       "\n",
       "                      City_x   County  ...  ZipCode  Unnamed: 0  \\\n",
       "StartTime(UTC)                         ...                        \n",
       "2018-12-01 17:58:00  Atlanta  Clayton  ...  30320.0      3482.0   \n",
       "2018-09-09 20:52:00  Atlanta  Clayton  ...  30320.0      3482.0   \n",
       "2018-09-10 19:05:00  Atlanta  Clayton  ...  30320.0      3482.0   \n",
       "2018-09-11 20:12:00  Atlanta  Clayton  ...  30320.0      3482.0   \n",
       "2018-09-11 20:57:00  Atlanta  Clayton  ...  30320.0      3482.0   \n",
       "...                      ...      ...  ...      ...         ...   \n",
       "2018-06-24 14:12:00  Seattle     King  ...  98148.0      3377.0   \n",
       "2018-06-24 15:53:00  Seattle     King  ...  98148.0      3377.0   \n",
       "2018-06-28 21:53:00  Seattle     King  ...  98148.0      3377.0   \n",
       "2018-06-11 01:53:00  Seattle     King  ...  98148.0      3377.0   \n",
       "2018-11-22 15:53:00  Seattle     King  ...  98148.0      3377.0   \n",
       "\n",
       "                                                                 Name  \\\n",
       "StartTime(UTC)                                                          \n",
       "2018-12-01 17:58:00  Hartsfield Jackson Atlanta International Airport   \n",
       "2018-09-09 20:52:00  Hartsfield Jackson Atlanta International Airport   \n",
       "2018-09-10 19:05:00  Hartsfield Jackson Atlanta International Airport   \n",
       "2018-09-11 20:12:00  Hartsfield Jackson Atlanta International Airport   \n",
       "2018-09-11 20:57:00  Hartsfield Jackson Atlanta International Airport   \n",
       "...                                                               ...   \n",
       "2018-06-24 14:12:00              Seattle Tacoma International Airport   \n",
       "2018-06-24 15:53:00              Seattle Tacoma International Airport   \n",
       "2018-06-28 21:53:00              Seattle Tacoma International Airport   \n",
       "2018-06-11 01:53:00              Seattle Tacoma International Airport   \n",
       "2018-11-22 15:53:00              Seattle Tacoma International Airport   \n",
       "\n",
       "                      City_y        Country IATA  ICAO   Latitude   Longitude  \\\n",
       "StartTime(UTC)                                                                  \n",
       "2018-12-01 17:58:00  Atlanta  United States  ATL  KATL  33.636700  -84.428101   \n",
       "2018-09-09 20:52:00  Atlanta  United States  ATL  KATL  33.636700  -84.428101   \n",
       "2018-09-10 19:05:00  Atlanta  United States  ATL  KATL  33.636700  -84.428101   \n",
       "2018-09-11 20:12:00  Atlanta  United States  ATL  KATL  33.636700  -84.428101   \n",
       "2018-09-11 20:57:00  Atlanta  United States  ATL  KATL  33.636700  -84.428101   \n",
       "...                      ...            ...  ...   ...        ...         ...   \n",
       "2018-06-24 14:12:00  Seattle  United States  SEA  KSEA  47.449001 -122.308998   \n",
       "2018-06-24 15:53:00  Seattle  United States  SEA  KSEA  47.449001 -122.308998   \n",
       "2018-06-28 21:53:00  Seattle  United States  SEA  KSEA  47.449001 -122.308998   \n",
       "2018-06-11 01:53:00  Seattle  United States  SEA  KSEA  47.449001 -122.308998   \n",
       "2018-11-22 15:53:00  Seattle  United States  SEA  KSEA  47.449001 -122.308998   \n",
       "\n",
       "                     is_top  \n",
       "StartTime(UTC)               \n",
       "2018-12-01 17:58:00    True  \n",
       "2018-09-09 20:52:00    True  \n",
       "2018-09-10 19:05:00    True  \n",
       "2018-09-11 20:12:00    True  \n",
       "2018-09-11 20:57:00    True  \n",
       "...                     ...  \n",
       "2018-06-24 14:12:00    True  \n",
       "2018-06-24 15:53:00    True  \n",
       "2018-06-28 21:53:00    True  \n",
       "2018-06-11 01:53:00    True  \n",
       "2018-11-22 15:53:00    True  \n",
       "\n",
       "[7704 rows x 21 columns]"
      ]
     },
     "execution_count": 17,
     "metadata": {},
     "output_type": "execute_result"
    }
   ],
   "source": [
    "weather_data.sort_values(\"City_y\")"
   ]
  },
  {
   "cell_type": "markdown",
   "metadata": {},
   "source": [
    "---"
   ]
  },
  {
   "cell_type": "code",
   "execution_count": 18,
   "metadata": {},
   "outputs": [],
   "source": [
    "weather = pd.DataFrame()\n",
    "unique_cities = weather_data.City_y.unique()\n",
    "\n",
    "for city in unique_cities:\n",
    "    city_data = weather_data[weather_data.City_y == city]\n",
    "    r = pd.date_range(start=city_data.index.min(), end=city_data.index.max(), freq=\"H\")\n",
    "    city_data = city_data.reindex(r, copy=True)\n",
    "    city_data[\"EndTime(UTC)\"] = city_data[\"EndTime(UTC)\"].fillna(method=\"ffill\")\n",
    "    for i in range(city_data[\"EndTime(UTC)\"].unique().shape[0]):\n",
    "        date = city_data[\"EndTime(UTC)\"].unique()[i]\n",
    "        mask = (city_data[\"EndTime(UTC)\"] == date) & (city_data.index >= date)\n",
    "        city_data[\"Type\"] = city_data[\"Type\"].mask(mask, city_data[\"Type\"].fillna(\"Clear\"))\n",
    "    mask = city_data.Type != \"Clear\"\n",
    "    city_data = city_data.mask(mask, city_data.fillna(method=\"ffill\"))\n",
    "    city_data = city_data.fillna(method=\"ffill\")  \n",
    "    \n",
    "    weather = pd.concat([weather, city_data])"
   ]
  },
  {
   "cell_type": "code",
   "execution_count": 19,
   "metadata": {},
   "outputs": [],
   "source": [
    "features_to_keep = [\"Type\", \"Severity\", \"TimeZone\", \"IATA\", \"City_y\", \"State\"]\n",
    "\n",
    "weather = weather[features_to_keep]\n",
    "\n",
    "weather = weather.sort_values([\"City_y\", \"State\"])\n",
    "\n",
    "weather.rename(columns={\"City_y\":\"city\"}, inplace=True)"
   ]
  },
  {
   "cell_type": "code",
   "execution_count": 20,
   "metadata": {},
   "outputs": [
    {
     "data": {
      "text/html": [
       "<div>\n",
       "<style scoped>\n",
       "    .dataframe tbody tr th:only-of-type {\n",
       "        vertical-align: middle;\n",
       "    }\n",
       "\n",
       "    .dataframe tbody tr th {\n",
       "        vertical-align: top;\n",
       "    }\n",
       "\n",
       "    .dataframe thead th {\n",
       "        text-align: right;\n",
       "    }\n",
       "</style>\n",
       "<table border=\"1\" class=\"dataframe\">\n",
       "  <thead>\n",
       "    <tr style=\"text-align: right;\">\n",
       "      <th></th>\n",
       "      <th>Type</th>\n",
       "      <th>Severity</th>\n",
       "      <th>TimeZone</th>\n",
       "      <th>IATA</th>\n",
       "      <th>city</th>\n",
       "      <th>State</th>\n",
       "    </tr>\n",
       "  </thead>\n",
       "  <tbody>\n",
       "    <tr>\n",
       "      <th>2018-01-01 14:52:00</th>\n",
       "      <td>Snow</td>\n",
       "      <td>Light</td>\n",
       "      <td>US/Eastern</td>\n",
       "      <td>ATL</td>\n",
       "      <td>Atlanta</td>\n",
       "      <td>GA</td>\n",
       "    </tr>\n",
       "    <tr>\n",
       "      <th>2018-01-01 15:52:00</th>\n",
       "      <td>Clear</td>\n",
       "      <td>Light</td>\n",
       "      <td>US/Eastern</td>\n",
       "      <td>ATL</td>\n",
       "      <td>Atlanta</td>\n",
       "      <td>GA</td>\n",
       "    </tr>\n",
       "    <tr>\n",
       "      <th>2018-01-01 16:52:00</th>\n",
       "      <td>Clear</td>\n",
       "      <td>Light</td>\n",
       "      <td>US/Eastern</td>\n",
       "      <td>ATL</td>\n",
       "      <td>Atlanta</td>\n",
       "      <td>GA</td>\n",
       "    </tr>\n",
       "    <tr>\n",
       "      <th>2018-01-01 17:52:00</th>\n",
       "      <td>Clear</td>\n",
       "      <td>Light</td>\n",
       "      <td>US/Eastern</td>\n",
       "      <td>ATL</td>\n",
       "      <td>Atlanta</td>\n",
       "      <td>GA</td>\n",
       "    </tr>\n",
       "    <tr>\n",
       "      <th>2018-01-01 18:52:00</th>\n",
       "      <td>Clear</td>\n",
       "      <td>Light</td>\n",
       "      <td>US/Eastern</td>\n",
       "      <td>ATL</td>\n",
       "      <td>Atlanta</td>\n",
       "      <td>GA</td>\n",
       "    </tr>\n",
       "  </tbody>\n",
       "</table>\n",
       "</div>"
      ],
      "text/plain": [
       "                      Type Severity    TimeZone IATA     city State\n",
       "2018-01-01 14:52:00   Snow    Light  US/Eastern  ATL  Atlanta    GA\n",
       "2018-01-01 15:52:00  Clear    Light  US/Eastern  ATL  Atlanta    GA\n",
       "2018-01-01 16:52:00  Clear    Light  US/Eastern  ATL  Atlanta    GA\n",
       "2018-01-01 17:52:00  Clear    Light  US/Eastern  ATL  Atlanta    GA\n",
       "2018-01-01 18:52:00  Clear    Light  US/Eastern  ATL  Atlanta    GA"
      ]
     },
     "execution_count": 20,
     "metadata": {},
     "output_type": "execute_result"
    }
   ],
   "source": [
    "weather.head()"
   ]
  },
  {
   "cell_type": "code",
   "execution_count": 21,
   "metadata": {},
   "outputs": [],
   "source": [
    "# We will now normalize the data by changing all time stamps to :30 minutes, to makes it easier to merge\n",
    "# with our flights df \n",
    "\n",
    "weather.index = weather.index.map(lambda t: t.replace(minute=30))"
   ]
  },
  {
   "cell_type": "code",
   "execution_count": 22,
   "metadata": {
    "scrolled": false
   },
   "outputs": [],
   "source": [
    "time_zones = weather.TimeZone.unique()\n",
    "weather_df = pd.DataFrame()\n",
    "for zone in time_zones:\n",
    "    mask = weather.TimeZone == zone\n",
    "    time_zone_df = weather[mask].tz_localize('utc').tz_convert(zone).tz_localize(None)\n",
    "    weather_df = pd.concat([weather_df, time_zone_df])\n",
    "    "
   ]
  },
  {
   "cell_type": "code",
   "execution_count": 23,
   "metadata": {},
   "outputs": [],
   "source": [
    "weather_df[\"unique_id\"] = weather_df.index.astype(str) + \"_\" + weather_df.IATA"
   ]
  },
  {
   "cell_type": "code",
   "execution_count": 24,
   "metadata": {},
   "outputs": [],
   "source": [
    "weather_df = weather_df.reset_index().rename(columns={\"index\": \"date\"})"
   ]
  },
  {
   "cell_type": "code",
   "execution_count": 25,
   "metadata": {},
   "outputs": [
    {
     "data": {
      "text/html": [
       "<div>\n",
       "<style scoped>\n",
       "    .dataframe tbody tr th:only-of-type {\n",
       "        vertical-align: middle;\n",
       "    }\n",
       "\n",
       "    .dataframe tbody tr th {\n",
       "        vertical-align: top;\n",
       "    }\n",
       "\n",
       "    .dataframe thead th {\n",
       "        text-align: right;\n",
       "    }\n",
       "</style>\n",
       "<table border=\"1\" class=\"dataframe\">\n",
       "  <thead>\n",
       "    <tr style=\"text-align: right;\">\n",
       "      <th></th>\n",
       "      <th>date</th>\n",
       "      <th>Type</th>\n",
       "      <th>Severity</th>\n",
       "      <th>TimeZone</th>\n",
       "      <th>IATA</th>\n",
       "      <th>city</th>\n",
       "      <th>State</th>\n",
       "      <th>unique_id</th>\n",
       "    </tr>\n",
       "  </thead>\n",
       "  <tbody>\n",
       "    <tr>\n",
       "      <th>0</th>\n",
       "      <td>2018-01-01 09:30:00</td>\n",
       "      <td>Snow</td>\n",
       "      <td>Light</td>\n",
       "      <td>US/Eastern</td>\n",
       "      <td>ATL</td>\n",
       "      <td>Atlanta</td>\n",
       "      <td>GA</td>\n",
       "      <td>2018-01-01 09:30:00_ATL</td>\n",
       "    </tr>\n",
       "    <tr>\n",
       "      <th>1</th>\n",
       "      <td>2018-01-01 10:30:00</td>\n",
       "      <td>Clear</td>\n",
       "      <td>Light</td>\n",
       "      <td>US/Eastern</td>\n",
       "      <td>ATL</td>\n",
       "      <td>Atlanta</td>\n",
       "      <td>GA</td>\n",
       "      <td>2018-01-01 10:30:00_ATL</td>\n",
       "    </tr>\n",
       "    <tr>\n",
       "      <th>2</th>\n",
       "      <td>2018-01-01 11:30:00</td>\n",
       "      <td>Clear</td>\n",
       "      <td>Light</td>\n",
       "      <td>US/Eastern</td>\n",
       "      <td>ATL</td>\n",
       "      <td>Atlanta</td>\n",
       "      <td>GA</td>\n",
       "      <td>2018-01-01 11:30:00_ATL</td>\n",
       "    </tr>\n",
       "    <tr>\n",
       "      <th>3</th>\n",
       "      <td>2018-01-01 12:30:00</td>\n",
       "      <td>Clear</td>\n",
       "      <td>Light</td>\n",
       "      <td>US/Eastern</td>\n",
       "      <td>ATL</td>\n",
       "      <td>Atlanta</td>\n",
       "      <td>GA</td>\n",
       "      <td>2018-01-01 12:30:00_ATL</td>\n",
       "    </tr>\n",
       "    <tr>\n",
       "      <th>4</th>\n",
       "      <td>2018-01-01 13:30:00</td>\n",
       "      <td>Clear</td>\n",
       "      <td>Light</td>\n",
       "      <td>US/Eastern</td>\n",
       "      <td>ATL</td>\n",
       "      <td>Atlanta</td>\n",
       "      <td>GA</td>\n",
       "      <td>2018-01-01 13:30:00_ATL</td>\n",
       "    </tr>\n",
       "    <tr>\n",
       "      <th>...</th>\n",
       "      <td>...</td>\n",
       "      <td>...</td>\n",
       "      <td>...</td>\n",
       "      <td>...</td>\n",
       "      <td>...</td>\n",
       "      <td>...</td>\n",
       "      <td>...</td>\n",
       "      <td>...</td>\n",
       "    </tr>\n",
       "    <tr>\n",
       "      <th>129666</th>\n",
       "      <td>2018-12-31 07:30:00</td>\n",
       "      <td>Clear</td>\n",
       "      <td>Light</td>\n",
       "      <td>US/Pacific</td>\n",
       "      <td>SEA</td>\n",
       "      <td>Seattle</td>\n",
       "      <td>WA</td>\n",
       "      <td>2018-12-31 07:30:00_SEA</td>\n",
       "    </tr>\n",
       "    <tr>\n",
       "      <th>129667</th>\n",
       "      <td>2018-12-31 08:30:00</td>\n",
       "      <td>Clear</td>\n",
       "      <td>Light</td>\n",
       "      <td>US/Pacific</td>\n",
       "      <td>SEA</td>\n",
       "      <td>Seattle</td>\n",
       "      <td>WA</td>\n",
       "      <td>2018-12-31 08:30:00_SEA</td>\n",
       "    </tr>\n",
       "    <tr>\n",
       "      <th>129668</th>\n",
       "      <td>2018-12-31 09:30:00</td>\n",
       "      <td>Clear</td>\n",
       "      <td>Light</td>\n",
       "      <td>US/Pacific</td>\n",
       "      <td>SEA</td>\n",
       "      <td>Seattle</td>\n",
       "      <td>WA</td>\n",
       "      <td>2018-12-31 09:30:00_SEA</td>\n",
       "    </tr>\n",
       "    <tr>\n",
       "      <th>129669</th>\n",
       "      <td>2018-12-31 10:30:00</td>\n",
       "      <td>Clear</td>\n",
       "      <td>Light</td>\n",
       "      <td>US/Pacific</td>\n",
       "      <td>SEA</td>\n",
       "      <td>Seattle</td>\n",
       "      <td>WA</td>\n",
       "      <td>2018-12-31 10:30:00_SEA</td>\n",
       "    </tr>\n",
       "    <tr>\n",
       "      <th>129670</th>\n",
       "      <td>2018-12-31 11:30:00</td>\n",
       "      <td>Clear</td>\n",
       "      <td>Light</td>\n",
       "      <td>US/Pacific</td>\n",
       "      <td>SEA</td>\n",
       "      <td>Seattle</td>\n",
       "      <td>WA</td>\n",
       "      <td>2018-12-31 11:30:00_SEA</td>\n",
       "    </tr>\n",
       "  </tbody>\n",
       "</table>\n",
       "<p>129671 rows × 8 columns</p>\n",
       "</div>"
      ],
      "text/plain": [
       "                      date   Type Severity    TimeZone IATA     city State  \\\n",
       "0      2018-01-01 09:30:00   Snow    Light  US/Eastern  ATL  Atlanta    GA   \n",
       "1      2018-01-01 10:30:00  Clear    Light  US/Eastern  ATL  Atlanta    GA   \n",
       "2      2018-01-01 11:30:00  Clear    Light  US/Eastern  ATL  Atlanta    GA   \n",
       "3      2018-01-01 12:30:00  Clear    Light  US/Eastern  ATL  Atlanta    GA   \n",
       "4      2018-01-01 13:30:00  Clear    Light  US/Eastern  ATL  Atlanta    GA   \n",
       "...                    ...    ...      ...         ...  ...      ...   ...   \n",
       "129666 2018-12-31 07:30:00  Clear    Light  US/Pacific  SEA  Seattle    WA   \n",
       "129667 2018-12-31 08:30:00  Clear    Light  US/Pacific  SEA  Seattle    WA   \n",
       "129668 2018-12-31 09:30:00  Clear    Light  US/Pacific  SEA  Seattle    WA   \n",
       "129669 2018-12-31 10:30:00  Clear    Light  US/Pacific  SEA  Seattle    WA   \n",
       "129670 2018-12-31 11:30:00  Clear    Light  US/Pacific  SEA  Seattle    WA   \n",
       "\n",
       "                      unique_id  \n",
       "0       2018-01-01 09:30:00_ATL  \n",
       "1       2018-01-01 10:30:00_ATL  \n",
       "2       2018-01-01 11:30:00_ATL  \n",
       "3       2018-01-01 12:30:00_ATL  \n",
       "4       2018-01-01 13:30:00_ATL  \n",
       "...                         ...  \n",
       "129666  2018-12-31 07:30:00_SEA  \n",
       "129667  2018-12-31 08:30:00_SEA  \n",
       "129668  2018-12-31 09:30:00_SEA  \n",
       "129669  2018-12-31 10:30:00_SEA  \n",
       "129670  2018-12-31 11:30:00_SEA  \n",
       "\n",
       "[129671 rows x 8 columns]"
      ]
     },
     "execution_count": 25,
     "metadata": {},
     "output_type": "execute_result"
    }
   ],
   "source": [
    "weather_df"
   ]
  },
  {
   "cell_type": "markdown",
   "metadata": {},
   "source": [
    "-----"
   ]
  },
  {
   "cell_type": "code",
   "execution_count": 26,
   "metadata": {},
   "outputs": [],
   "source": [
    "df = wrangle.prep_flight_data()"
   ]
  },
  {
   "cell_type": "code",
   "execution_count": 27,
   "metadata": {},
   "outputs": [],
   "source": [
    "df[\"crs_dep_time\"] = df['crs_dep_time'].astype(str).apply(lambda x: x.zfill(4))"
   ]
  },
  {
   "cell_type": "code",
   "execution_count": 28,
   "metadata": {},
   "outputs": [],
   "source": [
    "df[\"fl_datetime\"] = df.fl_date.astype(str) + \" \" + df.crs_dep_time.astype(str)"
   ]
  },
  {
   "cell_type": "code",
   "execution_count": 29,
   "metadata": {
    "scrolled": true
   },
   "outputs": [],
   "source": [
    "df.fl_datetime = pd.to_datetime(df.fl_datetime, format=\"%Y-%m-%d %H%M\")"
   ]
  },
  {
   "cell_type": "code",
   "execution_count": 30,
   "metadata": {},
   "outputs": [],
   "source": [
    "df = df.set_index(\"fl_datetime\")"
   ]
  },
  {
   "cell_type": "code",
   "execution_count": 31,
   "metadata": {},
   "outputs": [],
   "source": [
    "df.index = df.index.map(lambda t: t.replace(minute=30))"
   ]
  },
  {
   "cell_type": "code",
   "execution_count": 32,
   "metadata": {},
   "outputs": [
    {
     "name": "stdout",
     "output_type": "stream",
     "text": [
      "<class 'pandas.core.frame.DataFrame'>\n",
      "DatetimeIndex: 2965760 entries, 2018-01-01 15:30:00 to 2018-12-31 13:30:00\n",
      "Data columns (total 18 columns):\n",
      "fl_date                object\n",
      "op_carrier             object\n",
      "op_carrier_fl_num      int64\n",
      "origin                 object\n",
      "dest                   object\n",
      "crs_dep_time           object\n",
      "dep_time               float64\n",
      "dep_delay              float64\n",
      "crs_arr_time           int64\n",
      "arr_time               float64\n",
      "arr_delay              float64\n",
      "distance               float64\n",
      "carrier_delay          float64\n",
      "weather_delay          float64\n",
      "nas_delay              float64\n",
      "security_delay         float64\n",
      "late_aircraft_delay    float64\n",
      "Airline                object\n",
      "dtypes: float64(10), int64(2), object(6)\n",
      "memory usage: 429.9+ MB\n"
     ]
    }
   ],
   "source": [
    "df.info()"
   ]
  },
  {
   "cell_type": "code",
   "execution_count": 33,
   "metadata": {},
   "outputs": [],
   "source": [
    "features_to_keep = [\"fl_date\", \"op_carrier\", \"op_carrier_fl_num\", \"crs_dep_time\", \"origin\", \"dest\", \"dep_delay\", \"arr_delay\", \"weather_delay\", \"Airline\"]"
   ]
  },
  {
   "cell_type": "code",
   "execution_count": 34,
   "metadata": {},
   "outputs": [],
   "source": [
    "df = df[features_to_keep]"
   ]
  },
  {
   "cell_type": "code",
   "execution_count": 35,
   "metadata": {},
   "outputs": [],
   "source": [
    "df = df.reset_index()"
   ]
  },
  {
   "cell_type": "code",
   "execution_count": 36,
   "metadata": {},
   "outputs": [
    {
     "data": {
      "text/html": [
       "<div>\n",
       "<style scoped>\n",
       "    .dataframe tbody tr th:only-of-type {\n",
       "        vertical-align: middle;\n",
       "    }\n",
       "\n",
       "    .dataframe tbody tr th {\n",
       "        vertical-align: top;\n",
       "    }\n",
       "\n",
       "    .dataframe thead th {\n",
       "        text-align: right;\n",
       "    }\n",
       "</style>\n",
       "<table border=\"1\" class=\"dataframe\">\n",
       "  <thead>\n",
       "    <tr style=\"text-align: right;\">\n",
       "      <th></th>\n",
       "      <th>fl_datetime</th>\n",
       "      <th>fl_date</th>\n",
       "      <th>op_carrier</th>\n",
       "      <th>op_carrier_fl_num</th>\n",
       "      <th>crs_dep_time</th>\n",
       "      <th>origin</th>\n",
       "      <th>dest</th>\n",
       "      <th>dep_delay</th>\n",
       "      <th>arr_delay</th>\n",
       "      <th>weather_delay</th>\n",
       "      <th>Airline</th>\n",
       "    </tr>\n",
       "  </thead>\n",
       "  <tbody>\n",
       "    <tr>\n",
       "      <th>0</th>\n",
       "      <td>2018-01-01 15:30:00</td>\n",
       "      <td>2018-01-01</td>\n",
       "      <td>UA</td>\n",
       "      <td>2429</td>\n",
       "      <td>1517</td>\n",
       "      <td>EWR</td>\n",
       "      <td>DEN</td>\n",
       "      <td>-5.0</td>\n",
       "      <td>-23.0</td>\n",
       "      <td>0.0</td>\n",
       "      <td>United Air Lines Inc.</td>\n",
       "    </tr>\n",
       "    <tr>\n",
       "      <th>1</th>\n",
       "      <td>2018-01-01 11:30:00</td>\n",
       "      <td>2018-01-01</td>\n",
       "      <td>UA</td>\n",
       "      <td>2427</td>\n",
       "      <td>1115</td>\n",
       "      <td>LAS</td>\n",
       "      <td>SFO</td>\n",
       "      <td>-8.0</td>\n",
       "      <td>-24.0</td>\n",
       "      <td>0.0</td>\n",
       "      <td>United Air Lines Inc.</td>\n",
       "    </tr>\n",
       "    <tr>\n",
       "      <th>2</th>\n",
       "      <td>2018-01-01 06:30:00</td>\n",
       "      <td>2018-01-01</td>\n",
       "      <td>UA</td>\n",
       "      <td>2424</td>\n",
       "      <td>0630</td>\n",
       "      <td>ORD</td>\n",
       "      <td>ALB</td>\n",
       "      <td>20.0</td>\n",
       "      <td>14.0</td>\n",
       "      <td>0.0</td>\n",
       "      <td>United Air Lines Inc.</td>\n",
       "    </tr>\n",
       "    <tr>\n",
       "      <th>3</th>\n",
       "      <td>2018-01-01 22:30:00</td>\n",
       "      <td>2018-01-01</td>\n",
       "      <td>UA</td>\n",
       "      <td>2422</td>\n",
       "      <td>2241</td>\n",
       "      <td>ORD</td>\n",
       "      <td>OMA</td>\n",
       "      <td>3.0</td>\n",
       "      <td>-11.0</td>\n",
       "      <td>0.0</td>\n",
       "      <td>United Air Lines Inc.</td>\n",
       "    </tr>\n",
       "    <tr>\n",
       "      <th>4</th>\n",
       "      <td>2018-01-01 07:30:00</td>\n",
       "      <td>2018-01-01</td>\n",
       "      <td>UA</td>\n",
       "      <td>2421</td>\n",
       "      <td>0750</td>\n",
       "      <td>IAH</td>\n",
       "      <td>LAS</td>\n",
       "      <td>-3.0</td>\n",
       "      <td>-16.0</td>\n",
       "      <td>0.0</td>\n",
       "      <td>United Air Lines Inc.</td>\n",
       "    </tr>\n",
       "    <tr>\n",
       "      <th>...</th>\n",
       "      <td>...</td>\n",
       "      <td>...</td>\n",
       "      <td>...</td>\n",
       "      <td>...</td>\n",
       "      <td>...</td>\n",
       "      <td>...</td>\n",
       "      <td>...</td>\n",
       "      <td>...</td>\n",
       "      <td>...</td>\n",
       "      <td>...</td>\n",
       "      <td>...</td>\n",
       "    </tr>\n",
       "    <tr>\n",
       "      <th>2965755</th>\n",
       "      <td>2018-12-31 19:30:00</td>\n",
       "      <td>2018-12-31</td>\n",
       "      <td>AA</td>\n",
       "      <td>1814</td>\n",
       "      <td>1955</td>\n",
       "      <td>DFW</td>\n",
       "      <td>PHL</td>\n",
       "      <td>31.0</td>\n",
       "      <td>9.0</td>\n",
       "      <td>0.0</td>\n",
       "      <td>American Airlines Inc.</td>\n",
       "    </tr>\n",
       "    <tr>\n",
       "      <th>2965756</th>\n",
       "      <td>2018-12-31 13:30:00</td>\n",
       "      <td>2018-12-31</td>\n",
       "      <td>AA</td>\n",
       "      <td>1815</td>\n",
       "      <td>1321</td>\n",
       "      <td>CLT</td>\n",
       "      <td>DCA</td>\n",
       "      <td>-1.0</td>\n",
       "      <td>-23.0</td>\n",
       "      <td>0.0</td>\n",
       "      <td>American Airlines Inc.</td>\n",
       "    </tr>\n",
       "    <tr>\n",
       "      <th>2965757</th>\n",
       "      <td>2018-12-31 17:30:00</td>\n",
       "      <td>2018-12-31</td>\n",
       "      <td>AA</td>\n",
       "      <td>1816</td>\n",
       "      <td>1751</td>\n",
       "      <td>CLT</td>\n",
       "      <td>DFW</td>\n",
       "      <td>6.0</td>\n",
       "      <td>1.0</td>\n",
       "      <td>0.0</td>\n",
       "      <td>American Airlines Inc.</td>\n",
       "    </tr>\n",
       "    <tr>\n",
       "      <th>2965758</th>\n",
       "      <td>2018-12-31 20:30:00</td>\n",
       "      <td>2018-12-31</td>\n",
       "      <td>AA</td>\n",
       "      <td>1817</td>\n",
       "      <td>2015</td>\n",
       "      <td>CLT</td>\n",
       "      <td>MEM</td>\n",
       "      <td>-5.0</td>\n",
       "      <td>11.0</td>\n",
       "      <td>0.0</td>\n",
       "      <td>American Airlines Inc.</td>\n",
       "    </tr>\n",
       "    <tr>\n",
       "      <th>2965759</th>\n",
       "      <td>2018-12-31 13:30:00</td>\n",
       "      <td>2018-12-31</td>\n",
       "      <td>AA</td>\n",
       "      <td>1818</td>\n",
       "      <td>1300</td>\n",
       "      <td>CLT</td>\n",
       "      <td>RDU</td>\n",
       "      <td>23.0</td>\n",
       "      <td>14.0</td>\n",
       "      <td>0.0</td>\n",
       "      <td>American Airlines Inc.</td>\n",
       "    </tr>\n",
       "  </tbody>\n",
       "</table>\n",
       "<p>2965760 rows × 11 columns</p>\n",
       "</div>"
      ],
      "text/plain": [
       "                fl_datetime     fl_date op_carrier  op_carrier_fl_num  \\\n",
       "0       2018-01-01 15:30:00  2018-01-01         UA               2429   \n",
       "1       2018-01-01 11:30:00  2018-01-01         UA               2427   \n",
       "2       2018-01-01 06:30:00  2018-01-01         UA               2424   \n",
       "3       2018-01-01 22:30:00  2018-01-01         UA               2422   \n",
       "4       2018-01-01 07:30:00  2018-01-01         UA               2421   \n",
       "...                     ...         ...        ...                ...   \n",
       "2965755 2018-12-31 19:30:00  2018-12-31         AA               1814   \n",
       "2965756 2018-12-31 13:30:00  2018-12-31         AA               1815   \n",
       "2965757 2018-12-31 17:30:00  2018-12-31         AA               1816   \n",
       "2965758 2018-12-31 20:30:00  2018-12-31         AA               1817   \n",
       "2965759 2018-12-31 13:30:00  2018-12-31         AA               1818   \n",
       "\n",
       "        crs_dep_time origin dest  dep_delay  arr_delay  weather_delay  \\\n",
       "0               1517    EWR  DEN       -5.0      -23.0            0.0   \n",
       "1               1115    LAS  SFO       -8.0      -24.0            0.0   \n",
       "2               0630    ORD  ALB       20.0       14.0            0.0   \n",
       "3               2241    ORD  OMA        3.0      -11.0            0.0   \n",
       "4               0750    IAH  LAS       -3.0      -16.0            0.0   \n",
       "...              ...    ...  ...        ...        ...            ...   \n",
       "2965755         1955    DFW  PHL       31.0        9.0            0.0   \n",
       "2965756         1321    CLT  DCA       -1.0      -23.0            0.0   \n",
       "2965757         1751    CLT  DFW        6.0        1.0            0.0   \n",
       "2965758         2015    CLT  MEM       -5.0       11.0            0.0   \n",
       "2965759         1300    CLT  RDU       23.0       14.0            0.0   \n",
       "\n",
       "                        Airline  \n",
       "0         United Air Lines Inc.  \n",
       "1         United Air Lines Inc.  \n",
       "2         United Air Lines Inc.  \n",
       "3         United Air Lines Inc.  \n",
       "4         United Air Lines Inc.  \n",
       "...                         ...  \n",
       "2965755  American Airlines Inc.  \n",
       "2965756  American Airlines Inc.  \n",
       "2965757  American Airlines Inc.  \n",
       "2965758  American Airlines Inc.  \n",
       "2965759  American Airlines Inc.  \n",
       "\n",
       "[2965760 rows x 11 columns]"
      ]
     },
     "execution_count": 36,
     "metadata": {},
     "output_type": "execute_result"
    }
   ],
   "source": [
    "df"
   ]
  },
  {
   "cell_type": "code",
   "execution_count": null,
   "metadata": {},
   "outputs": [],
   "source": [
    "df[\"unique_id\"] = df.fl_datetime.astype(str) + \"_\" + df.origin"
   ]
  },
  {
   "cell_type": "code",
   "execution_count": null,
   "metadata": {},
   "outputs": [],
   "source": [
    "df.head()"
   ]
  },
  {
   "cell_type": "code",
   "execution_count": null,
   "metadata": {},
   "outputs": [],
   "source": [
    "df = df.sort_values([\"origin\", \"fl_datetime\", \"op_carrier\"])"
   ]
  },
  {
   "cell_type": "markdown",
   "metadata": {},
   "source": [
    "---"
   ]
  },
  {
   "cell_type": "code",
   "execution_count": null,
   "metadata": {
    "scrolled": false
   },
   "outputs": [],
   "source": [
    "test = df.merge(weather_df[[\"Type\", \"Severity\", \"unique_id\"]], how=\"left\", right_on=\"unique_id\", left_on=\"unique_id\")"
   ]
  },
  {
   "cell_type": "code",
   "execution_count": null,
   "metadata": {},
   "outputs": [],
   "source": [
    "weather_df[weather_df.IATA == \"CLT\"]"
   ]
  },
  {
   "cell_type": "code",
   "execution_count": null,
   "metadata": {
    "scrolled": false
   },
   "outputs": [],
   "source": [
    "test.Type = test.Type.fillna(\"Clear\")"
   ]
  },
  {
   "cell_type": "code",
   "execution_count": null,
   "metadata": {},
   "outputs": [],
   "source": [
    "test.Severity = test.Severity.fillna(\"Light\")"
   ]
  },
  {
   "cell_type": "code",
   "execution_count": null,
   "metadata": {},
   "outputs": [],
   "source": [
    "test"
   ]
  },
  {
   "cell_type": "markdown",
   "metadata": {},
   "source": [
    "---\n",
    "\n",
    "# Exploration"
   ]
  },
  {
   "cell_type": "code",
   "execution_count": null,
   "metadata": {},
   "outputs": [],
   "source": [
    "plt.figure(figsize=(15,5))\n",
    "sns.barplot(data=test,x=\"Type\", y=\"arr_delay\", ci=False)\n",
    "plt.title(\"What type of precipitation leads to most delays?\")\n",
    "plt.ylabel(\"Number of minutes delayed\")\n",
    "plt.xlabel(\"Type of Weather\")"
   ]
  },
  {
   "cell_type": "markdown",
   "metadata": {},
   "source": [
    "Interesting - it seems that storms lead to the total highest minutes in delays, followed by snow. Extremely cold temperatures seems to have the lowerst number of delays, as well as clear skys."
   ]
  },
  {
   "cell_type": "code",
   "execution_count": null,
   "metadata": {},
   "outputs": [],
   "source": [
    "plt.figure(figsize=(15,5))\n",
    "sns.boxplot(data=test,x=\"Type\", y=\"arr_delay\")\n",
    "plt.title(\"What type of precipitation leads to most delays?\")\n",
    "plt.ylabel(\"Number of minutes delayed\")\n",
    "plt.xlabel(\"Type of Weather\")"
   ]
  },
  {
   "cell_type": "markdown",
   "metadata": {},
   "source": [
    "There are clearly some really high outliers - but overall, Storm stills seems to have the biggest average, closely followed perhaps by precipitation. \n",
    "\n",
    "On a positive note, we have evidence that weather isn't the only reason a plane is delayed, as we still see delays when the sky's are clear, however, they are clearly the minority, so we can hopefuly expect the model will greatly improve with this tipe of information."
   ]
  },
  {
   "cell_type": "code",
   "execution_count": null,
   "metadata": {},
   "outputs": [],
   "source": [
    "# plt.figure(figsize=(15,5))\n",
    "# sns.lineplot(data=test, x=\"fl_datetime\", y=\"arr_delay\", hue=\"Type\", ci=False)\n",
    "# plt.title(\"How does weather over time have an impact on delays?\")\n",
    "# plt.ylabel(\"Minutes delayed\")\n",
    "# plt.xlabel(\"Flight Date\")"
   ]
  },
  {
   "cell_type": "code",
   "execution_count": null,
   "metadata": {},
   "outputs": [],
   "source": [
    "# does the weather severity play a role?\n",
    "\n",
    "plt.figure(figsize=(15,5))\n",
    "sns.barplot(data=test, y=\"arr_delay\", x=\"Severity\")\n",
    "plt.title(\"Does weather severity play a role in delays?\")"
   ]
  },
  {
   "cell_type": "code",
   "execution_count": null,
   "metadata": {
    "scrolled": false
   },
   "outputs": [],
   "source": [
    "severity = test.Severity.unique()\n",
    "\n",
    "fig, ax = plt.subplots(nrows=2, ncols=3, figsize=(15,8))\n",
    "\n",
    "for count, i in enumerate(severity):\n",
    "     \n",
    "    data = test[test.Severity == i]\n",
    "    plt.subplot(3, 3, count + 1)\n",
    "    sns.barplot(data=data, x=\"Type\", y=\"arr_delay\", ci=False)\n",
    "    plt.title(f\"{i}\")\n",
    "    fig.tight_layout()\n",
    "    \n",
    "plt.show()\n",
    "        \n",
    "    \n"
   ]
  },
  {
   "cell_type": "markdown",
   "metadata": {},
   "source": [
    "Interestingly, we see that actually `heavy` precipiation seems to cause the most delays, with `Heavy Snow` causing the greatest delays."
   ]
  },
  {
   "cell_type": "code",
   "execution_count": null,
   "metadata": {},
   "outputs": [],
   "source": [
    "severity = test.Severity.unique()\n",
    "\n",
    "fig, ax = plt.subplots(nrows=2, ncols=3, figsize=(15,8))\n",
    "\n",
    "for count, i in enumerate(severity):\n",
    "     \n",
    "    data = test[test.Severity == i]\n",
    "    plt.subplot(3, 3, count + 1)\n",
    "    sns.boxplot(data=data, x=\"Type\", y=\"arr_delay\")\n",
    "    plt.title(f\"{i}\")\n",
    "    fig.tight_layout()\n",
    "    \n",
    "plt.show()"
   ]
  },
  {
   "cell_type": "markdown",
   "metadata": {},
   "source": [
    "# Preprocessing\n",
    "\n",
    "Features for modeling\n",
    "\n",
    "* Avg delay per weather type\n",
    "* avg airport delay\n",
    "* avg carrier delay\n",
    "* avg day of week delay\n",
    "* avg month delay\n",
    "* avg delay for dept time"
   ]
  },
  {
   "cell_type": "code",
   "execution_count": null,
   "metadata": {
    "scrolled": false
   },
   "outputs": [],
   "source": [
    "test = df.merge(weather_df[[\"Type\", \"Severity\", \"unique_id\"]], how=\"left\", right_on=\"unique_id\", left_on=\"unique_id\")\n",
    "\n",
    "test.Type = test.Type.fillna(\"Clear\")\n",
    "\n",
    "test.Severity = test.Severity.fillna(\"Light\")"
   ]
  },
  {
   "cell_type": "code",
   "execution_count": null,
   "metadata": {},
   "outputs": [],
   "source": [
    "test = test[test.origin == \"ATL\"]"
   ]
  },
  {
   "cell_type": "code",
   "execution_count": null,
   "metadata": {},
   "outputs": [],
   "source": [
    "features_for_modeling = [\"carrier_avg_delay\", \"airport_avg_delay\", \"observation\", \"dep_time_mean_delay\", \"avg_weather_delay\", \"is_delay\", \"avg_month_delay\"]\n",
    "target_variable = \"is_delay\""
   ]
  },
  {
   "cell_type": "code",
   "execution_count": null,
   "metadata": {},
   "outputs": [],
   "source": [
    "test.fl_date = pd.to_datetime(test.fl_date)\n",
    "test[\"day_of_week\"] = test.fl_date.dt.dayofweek\n",
    "test[\"month\"] = test.fl_date.dt.month"
   ]
  },
  {
   "cell_type": "code",
   "execution_count": null,
   "metadata": {},
   "outputs": [],
   "source": [
    "test[\"avg_month_delay\"] = test.groupby(\"month\").arr_delay.transform(\"mean\")"
   ]
  },
  {
   "cell_type": "code",
   "execution_count": null,
   "metadata": {},
   "outputs": [],
   "source": [
    "test[\"avg_day_of_week_delay\"] = test.groupby(\"day_of_week\").arr_delay.transform(\"mean\")"
   ]
  },
  {
   "cell_type": "code",
   "execution_count": null,
   "metadata": {},
   "outputs": [],
   "source": [
    "test[\"airport_avg_delay\"] = test.groupby(\"origin\").arr_delay.transform(\"mean\")"
   ]
  },
  {
   "cell_type": "code",
   "execution_count": null,
   "metadata": {},
   "outputs": [],
   "source": [
    "test[\"dest_airport_avg_delay\"] = test.groupby(\"dest\").arr_delay.transform(\"mean\")"
   ]
  },
  {
   "cell_type": "code",
   "execution_count": null,
   "metadata": {},
   "outputs": [],
   "source": [
    "test[\"carrier_avg_delay\"] = test.groupby(\"op_carrier\").arr_delay.transform(\"mean\")"
   ]
  },
  {
   "cell_type": "code",
   "execution_count": null,
   "metadata": {},
   "outputs": [],
   "source": [
    "test[\"observation\"] = test.fl_date.astype(str) + \"_\" + test.op_carrier + \"_\" + test.op_carrier_fl_num.astype(str)"
   ]
  },
  {
   "cell_type": "code",
   "execution_count": null,
   "metadata": {},
   "outputs": [],
   "source": [
    "test[\"crs_dep_time\"] = test['crs_dep_time'].astype(str).apply(lambda x: x.zfill(4))\n",
    "test[\"crs_dep_time\"] = pd.to_datetime(test.crs_dep_time, format= \"%H%M\")\n",
    "test[\"dep_time_mean_delay\"] = test.groupby(\"crs_dep_time\").arr_delay.transform(\"mean\")"
   ]
  },
  {
   "cell_type": "code",
   "execution_count": null,
   "metadata": {},
   "outputs": [],
   "source": [
    "# weather feature\n",
    "\n",
    "test[\"avg_weather_delay\"] = test.groupby(\"Type\").arr_delay.transform(\"mean\")"
   ]
  },
  {
   "cell_type": "code",
   "execution_count": null,
   "metadata": {},
   "outputs": [],
   "source": [
    "test[\"type_severity\"] = test.Type + \"_\" + test.Severity\n",
    "test[\"avg_type_severity\"] = test.groupby(\"type_severity\").arr_delay.transform(\"mean\")"
   ]
  },
  {
   "cell_type": "code",
   "execution_count": null,
   "metadata": {
    "scrolled": true
   },
   "outputs": [],
   "source": [
    "test.head()"
   ]
  },
  {
   "cell_type": "code",
   "execution_count": null,
   "metadata": {},
   "outputs": [],
   "source": [
    "# add our target variable\n",
    "\n",
    "test['is_delay'] = test['arr_delay'].apply(lambda x: True if x > 0 else False)"
   ]
  },
  {
   "cell_type": "code",
   "execution_count": null,
   "metadata": {},
   "outputs": [],
   "source": [
    "test_modeling = test[features_for_modeling]\n",
    "test_modeling = test_modeling.set_index(\"observation\")"
   ]
  },
  {
   "cell_type": "code",
   "execution_count": null,
   "metadata": {},
   "outputs": [],
   "source": [
    "train, validate, test = preprocessing.split_data(test_modeling)"
   ]
  },
  {
   "cell_type": "code",
   "execution_count": null,
   "metadata": {},
   "outputs": [],
   "source": [
    "train, train_2 = train_test_split(train, random_state=123, train_size=.6)"
   ]
  },
  {
   "cell_type": "code",
   "execution_count": null,
   "metadata": {},
   "outputs": [],
   "source": [
    "X_train = train.drop(columns=target_variable)\n",
    "y_train = train[target_variable]\n",
    "X_validate = validate.drop(columns=target_variable)\n",
    "y_validate = validate[target_variable]\n",
    "X_test = test.drop(columns=target_variable)\n",
    "y_test = test[target_variable]"
   ]
  },
  {
   "cell_type": "code",
   "execution_count": null,
   "metadata": {},
   "outputs": [],
   "source": [
    "scaler, train_scaled, validate_scaled, test_scaled = preprocessing.min_max_scaler(X_train, X_validate, X_test)"
   ]
  },
  {
   "cell_type": "code",
   "execution_count": null,
   "metadata": {},
   "outputs": [],
   "source": [
    "train_scaled.shape"
   ]
  },
  {
   "cell_type": "markdown",
   "metadata": {},
   "source": [
    "---"
   ]
  },
  {
   "cell_type": "markdown",
   "metadata": {},
   "source": [
    "# Modeling"
   ]
  },
  {
   "cell_type": "code",
   "execution_count": null,
   "metadata": {
    "scrolled": true
   },
   "outputs": [],
   "source": [
    "(train.is_delay).mean()"
   ]
  },
  {
   "cell_type": "code",
   "execution_count": null,
   "metadata": {},
   "outputs": [],
   "source": [
    "predictions = pd.DataFrame({\"actual\": y_train, \"baseline\": False})"
   ]
  },
  {
   "cell_type": "markdown",
   "metadata": {},
   "source": [
    "## Random Forest"
   ]
  },
  {
   "cell_type": "code",
   "execution_count": null,
   "metadata": {
    "scrolled": true
   },
   "outputs": [],
   "source": [
    "# model.run_rf_loop(train_scaled, validate_scaled, y_validate, y_train, 8)"
   ]
  },
  {
   "cell_type": "code",
   "execution_count": null,
   "metadata": {
    "scrolled": true
   },
   "outputs": [],
   "source": [
    "rf, y_pred = model.run_rf(train_scaled, y_train, 1, 3)\n",
    "predictions[\"random_forest\"] = y_pred"
   ]
  },
  {
   "cell_type": "code",
   "execution_count": null,
   "metadata": {},
   "outputs": [],
   "source": [
    "accuracy_score, matrix, report = model.accuracy_report(rf, y_pred, y_train)\n",
    "\n",
    "print(accuracy_score)\n",
    "print(matrix)\n",
    "\n",
    "report"
   ]
  },
  {
   "cell_type": "code",
   "execution_count": null,
   "metadata": {},
   "outputs": [],
   "source": [
    "rf.score(validate_scaled, y_validate)"
   ]
  },
  {
   "cell_type": "code",
   "execution_count": null,
   "metadata": {
    "scrolled": false
   },
   "outputs": [],
   "source": [
    "model.rf_feature_importance(rf, X_train)"
   ]
  },
  {
   "cell_type": "markdown",
   "metadata": {},
   "source": [
    "# KNN"
   ]
  },
  {
   "cell_type": "code",
   "execution_count": null,
   "metadata": {},
   "outputs": [],
   "source": [
    "# model.run_knn_loop(train_scaled, validate_scaled, y_validate, y_train, 10)"
   ]
  },
  {
   "cell_type": "code",
   "execution_count": null,
   "metadata": {},
   "outputs": [],
   "source": [
    "knn = KNeighborsClassifier(n_neighbors=4, weights='uniform')"
   ]
  },
  {
   "cell_type": "code",
   "execution_count": null,
   "metadata": {},
   "outputs": [],
   "source": [
    "knn.fit(train_scaled, y_train)"
   ]
  },
  {
   "cell_type": "code",
   "execution_count": null,
   "metadata": {},
   "outputs": [],
   "source": [
    "y_pred = knn.predict(train_scaled)\n",
    "predictions[\"knn\"] = y_pred"
   ]
  },
  {
   "cell_type": "code",
   "execution_count": null,
   "metadata": {},
   "outputs": [],
   "source": [
    "accuracy_score, matrix, report = model.accuracy_report(knn, y_pred, y_train)\n",
    "\n",
    "print(accuracy_score)\n",
    "print(matrix)\n",
    "\n",
    "report"
   ]
  },
  {
   "cell_type": "code",
   "execution_count": null,
   "metadata": {},
   "outputs": [],
   "source": [
    "knn.score(validate_scaled, y_validate)"
   ]
  },
  {
   "cell_type": "markdown",
   "metadata": {},
   "source": [
    "## Gradient Boosting Classifier"
   ]
  },
  {
   "cell_type": "code",
   "execution_count": null,
   "metadata": {},
   "outputs": [],
   "source": [
    "def run_gb(X_train, y_train):\n",
    "    gb = GradientBoostingClassifier(random_state = 123, n_estimators=300, learning_rate=0.003, max_depth=5).fit(X_train, y_train)\n",
    "    y_pred = gb.predict(X_train)\n",
    "    return gb, y_pred"
   ]
  },
  {
   "cell_type": "code",
   "execution_count": null,
   "metadata": {},
   "outputs": [],
   "source": [
    "gb, y_pred = run_gb(train_scaled, y_train)\n",
    "predictions[\"gradient_boosting\"] = y_pred"
   ]
  },
  {
   "cell_type": "code",
   "execution_count": null,
   "metadata": {
    "scrolled": false
   },
   "outputs": [],
   "source": [
    "accuracy_score, matrix, report = model.accuracy_report(gb, y_pred, y_train)\n",
    "\n",
    "print(accuracy_score)\n",
    "print(matrix)\n",
    "\n",
    "report"
   ]
  },
  {
   "cell_type": "code",
   "execution_count": null,
   "metadata": {},
   "outputs": [],
   "source": [
    "gb.score(validate_scaled, y_validate)"
   ]
  },
  {
   "cell_type": "code",
   "execution_count": null,
   "metadata": {},
   "outputs": [],
   "source": [
    "# How do the different models compare on accuracy?\n",
    "print(\"Accuracy Scores\")\n",
    "print(\"---------------\")\n",
    "for i in range(predictions.shape[1]):\n",
    "    report = model.create_report(predictions.actual, predictions.iloc[:,i])\n",
    "    print(f'{predictions.columns[i].title()} = {report.accuracy[0]:.2f}')"
   ]
  },
  {
   "cell_type": "code",
   "execution_count": null,
   "metadata": {
    "scrolled": true
   },
   "outputs": [],
   "source": [
    "# How do the different models compare on recall?\n",
    "print(\"Recall Scores\")\n",
    "print(\"---------------\")\n",
    "for i in range(predictions.shape[1]):\n",
    "    report = model.create_report(predictions.actual, predictions.iloc[:,i])\n",
    "    print(f'{predictions.columns[i].title()} = {report[\"True\"].loc[\"recall\"]:.2f}')"
   ]
  },
  {
   "cell_type": "code",
   "execution_count": null,
   "metadata": {},
   "outputs": [],
   "source": [
    "# How do the different models compare on recall?\n",
    "print(\"Precision Scores\")\n",
    "print(\"---------------\")\n",
    "for i in range(predictions.shape[1]):\n",
    "    report = model.create_report(predictions.actual, predictions.iloc[:,i])\n",
    "    print(f'{predictions.columns[i].title()} = {report[\"True\"].loc[\"precision\"]:.2f}')"
   ]
  },
  {
   "cell_type": "code",
   "execution_count": null,
   "metadata": {},
   "outputs": [],
   "source": [
    "grid, df_result, best_model = model.run_knn_cv(validate_scaled, y_validate)"
   ]
  },
  {
   "cell_type": "markdown",
   "metadata": {},
   "source": [
    "# Evaluate"
   ]
  },
  {
   "cell_type": "code",
   "execution_count": null,
   "metadata": {},
   "outputs": [],
   "source": [
    "knn, y_pred = model.run_knn(train_scaled, y_train, 4)"
   ]
  },
  {
   "cell_type": "code",
   "execution_count": null,
   "metadata": {},
   "outputs": [],
   "source": [
    "y_pred = knn.predict(test_scaled)"
   ]
  },
  {
   "cell_type": "code",
   "execution_count": null,
   "metadata": {
    "scrolled": true
   },
   "outputs": [],
   "source": [
    "accuracy_score, matrix, report = model.accuracy_report(gb, y_pred, y_test)\n",
    "\n",
    "print(accuracy_score)\n",
    "print(matrix)\n",
    "\n",
    "report"
   ]
  },
  {
   "cell_type": "markdown",
   "metadata": {},
   "source": [
    "Conclusion: It seems that weather doesn't greatly help improve the accuracy of the models when it comes to predicting flight delay. "
   ]
  }
 ],
 "metadata": {
  "kernelspec": {
   "display_name": "Python 3",
   "language": "python",
   "name": "python3"
  },
  "language_info": {
   "codemirror_mode": {
    "name": "ipython",
    "version": 3
   },
   "file_extension": ".py",
   "mimetype": "text/x-python",
   "name": "python",
   "nbconvert_exporter": "python",
   "pygments_lexer": "ipython3",
   "version": "3.7.4"
  }
 },
 "nbformat": 4,
 "nbformat_minor": 2
}
