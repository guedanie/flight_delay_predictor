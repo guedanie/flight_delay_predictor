{
 "cells": [
  {
   "cell_type": "code",
   "execution_count": 197,
   "metadata": {},
   "outputs": [],
   "source": [
    "from requests import get\n",
    "from bs4 import BeautifulSoup\n",
    "import os\n",
    "\n",
    "import pandas as pd\n",
    "from datetime import date\n",
    "import datetime\n",
    "\n",
    "import preprocessing\n",
    "import model\n",
    "import wrangle"
   ]
  },
  {
   "cell_type": "markdown",
   "metadata": {},
   "source": [
    "# Webscrapping"
   ]
  },
  {
   "cell_type": "code",
   "execution_count": 87,
   "metadata": {},
   "outputs": [
    {
     "name": "stdout",
     "output_type": "stream",
     "text": [
      "Today's date: 2020-07-22\n"
     ]
    }
   ],
   "source": [
    "today = date.today()\n",
    "print(\"Today's date:\", today)"
   ]
  },
  {
   "cell_type": "code",
   "execution_count": 93,
   "metadata": {},
   "outputs": [],
   "source": [
    "month = today.month"
   ]
  },
  {
   "cell_type": "code",
   "execution_count": 94,
   "metadata": {},
   "outputs": [],
   "source": [
    "day = today.day"
   ]
  },
  {
   "cell_type": "code",
   "execution_count": 95,
   "metadata": {},
   "outputs": [],
   "source": [
    "year = today.year"
   ]
  },
  {
   "cell_type": "code",
   "execution_count": 132,
   "metadata": {},
   "outputs": [],
   "source": [
    "airline = \"aa\"\n",
    "flight_number = \"1988\"\n",
    "flight_date = \"08/02/2020\""
   ]
  },
  {
   "cell_type": "code",
   "execution_count": 135,
   "metadata": {},
   "outputs": [
    {
     "data": {
      "text/plain": [
       "datetime.datetime(2020, 8, 2, 0, 0)"
      ]
     },
     "execution_count": 135,
     "metadata": {},
     "output_type": "execute_result"
    }
   ],
   "source": [
    "datee = datetime.datetime.strptime(flight_date, \"%m/%d/%Y\")\n",
    "datee"
   ]
  },
  {
   "cell_type": "code",
   "execution_count": 140,
   "metadata": {},
   "outputs": [
    {
     "data": {
      "text/plain": [
       "2"
      ]
     },
     "execution_count": 140,
     "metadata": {},
     "output_type": "execute_result"
    }
   ],
   "source": [
    "datee.day"
   ]
  },
  {
   "cell_type": "code",
   "execution_count": 96,
   "metadata": {},
   "outputs": [],
   "source": [
    "url = f'https://www.flightstats.com/v2/flight-tracker/{airline}/{flight_number}?year={year}&month={month}&date={day}&flightId=1040676332'\n",
    "headers = {'User-Agent': 'Codeup Data Science'} # Some websites don't accept the pyhon-requests default user-agent\n",
    "response = get(url, headers=headers)"
   ]
  },
  {
   "cell_type": "code",
   "execution_count": 97,
   "metadata": {},
   "outputs": [],
   "source": [
    "soup = BeautifulSoup(response.content, 'html.parser')"
   ]
  },
  {
   "cell_type": "code",
   "execution_count": 98,
   "metadata": {},
   "outputs": [],
   "source": [
    "airports = soup.find_all(\"a\",class_=\"ticket__AirportLink-s1rrbl5o-10 cuIkvt\")"
   ]
  },
  {
   "cell_type": "code",
   "execution_count": 99,
   "metadata": {},
   "outputs": [
    {
     "data": {
      "text/plain": [
       "'CLT'"
      ]
     },
     "execution_count": 99,
     "metadata": {},
     "output_type": "execute_result"
    }
   ],
   "source": [
    "dep_airport = airports[0].text\n",
    "dep_airport"
   ]
  },
  {
   "cell_type": "code",
   "execution_count": 100,
   "metadata": {},
   "outputs": [
    {
     "data": {
      "text/plain": [
       "'SAT'"
      ]
     },
     "execution_count": 100,
     "metadata": {},
     "output_type": "execute_result"
    }
   ],
   "source": [
    "arr_airport = airports[1].text\n",
    "arr_airport"
   ]
  },
  {
   "cell_type": "code",
   "execution_count": 111,
   "metadata": {},
   "outputs": [],
   "source": [
    "crs_times = soup.find_all(\"div\", class_=\"text-helper__TextHelper-s8bko4a-0 cCfBRT\")"
   ]
  },
  {
   "cell_type": "code",
   "execution_count": 154,
   "metadata": {},
   "outputs": [
    {
     "data": {
      "text/plain": [
       "1119"
      ]
     },
     "execution_count": 154,
     "metadata": {},
     "output_type": "execute_result"
    }
   ],
   "source": [
    "crs_dep_time = crs_times[0].text\n",
    "crs_dep_time = int(crs_dep_time[0:5].replace(\":\",\"\"))\n",
    "crs_dep_time"
   ]
  },
  {
   "cell_type": "code",
   "execution_count": 152,
   "metadata": {},
   "outputs": [
    {
     "data": {
      "text/plain": [
       "1301"
      ]
     },
     "execution_count": 152,
     "metadata": {},
     "output_type": "execute_result"
    }
   ],
   "source": [
    "crs_arr_time = crs_times[2].text\n",
    "crs_arr_time = int(crs_arr_time[0:5].replace(\":\", \"\"))\n",
    "crs_arr_time"
   ]
  },
  {
   "cell_type": "markdown",
   "metadata": {},
   "source": [
    "# Preprocessing"
   ]
  },
  {
   "cell_type": "code",
   "execution_count": 123,
   "metadata": {},
   "outputs": [],
   "source": [
    "features_for_modeling = [\"op_carrier\", \"origin\", \"dest\", \"dest_airport_avg_delay\", \"carrier_avg_delay\", \"airport_avg_delay\", \"crs_dep_time\", \"crs_arr_time\", \"month\", \"day_of_week\"]\n",
    "target_variable = \"is_delay\""
   ]
  },
  {
   "cell_type": "code",
   "execution_count": 34,
   "metadata": {},
   "outputs": [],
   "source": [
    "# train_scaled, y_train, validate_scaled, y_validate, test_scaled, y_test = preprocessing.mvp_modeling_prep(modeling=True, features_for_modeling=features_for_modeling, target_variable=target_variable)"
   ]
  },
  {
   "cell_type": "code",
   "execution_count": 124,
   "metadata": {},
   "outputs": [],
   "source": [
    "df = preprocessing.mvp_modeling_prep(features_for_modeling = features_for_modeling, target_variable = target_variable)"
   ]
  },
  {
   "cell_type": "code",
   "execution_count": 125,
   "metadata": {
    "scrolled": true
   },
   "outputs": [
    {
     "data": {
      "text/html": [
       "<div>\n",
       "<style scoped>\n",
       "    .dataframe tbody tr th:only-of-type {\n",
       "        vertical-align: middle;\n",
       "    }\n",
       "\n",
       "    .dataframe tbody tr th {\n",
       "        vertical-align: top;\n",
       "    }\n",
       "\n",
       "    .dataframe thead th {\n",
       "        text-align: right;\n",
       "    }\n",
       "</style>\n",
       "<table border=\"1\" class=\"dataframe\">\n",
       "  <thead>\n",
       "    <tr style=\"text-align: right;\">\n",
       "      <th></th>\n",
       "      <th>op_carrier</th>\n",
       "      <th>origin</th>\n",
       "      <th>dest</th>\n",
       "      <th>dest_airport_avg_delay</th>\n",
       "      <th>carrier_avg_delay</th>\n",
       "      <th>airport_avg_delay</th>\n",
       "      <th>crs_dep_time</th>\n",
       "      <th>crs_arr_time</th>\n",
       "      <th>month</th>\n",
       "      <th>day_of_week</th>\n",
       "      <th>is_delay</th>\n",
       "    </tr>\n",
       "    <tr>\n",
       "      <th>observation</th>\n",
       "      <th></th>\n",
       "      <th></th>\n",
       "      <th></th>\n",
       "      <th></th>\n",
       "      <th></th>\n",
       "      <th></th>\n",
       "      <th></th>\n",
       "      <th></th>\n",
       "      <th></th>\n",
       "      <th></th>\n",
       "      <th></th>\n",
       "    </tr>\n",
       "  </thead>\n",
       "  <tbody>\n",
       "    <tr>\n",
       "      <th>2018-01-01_UA_2429</th>\n",
       "      <td>UA</td>\n",
       "      <td>EWR</td>\n",
       "      <td>DEN</td>\n",
       "      <td>4.163647</td>\n",
       "      <td>6.260671</td>\n",
       "      <td>8.998358</td>\n",
       "      <td>1517</td>\n",
       "      <td>1745</td>\n",
       "      <td>1</td>\n",
       "      <td>0</td>\n",
       "      <td>False</td>\n",
       "    </tr>\n",
       "    <tr>\n",
       "      <th>2018-01-01_UA_2427</th>\n",
       "      <td>UA</td>\n",
       "      <td>LAS</td>\n",
       "      <td>SFO</td>\n",
       "      <td>9.162307</td>\n",
       "      <td>6.260671</td>\n",
       "      <td>4.242133</td>\n",
       "      <td>1115</td>\n",
       "      <td>1254</td>\n",
       "      <td>1</td>\n",
       "      <td>0</td>\n",
       "      <td>False</td>\n",
       "    </tr>\n",
       "    <tr>\n",
       "      <th>2018-01-01_UA_2424</th>\n",
       "      <td>UA</td>\n",
       "      <td>ORD</td>\n",
       "      <td>ALB</td>\n",
       "      <td>6.406991</td>\n",
       "      <td>6.260671</td>\n",
       "      <td>10.384382</td>\n",
       "      <td>630</td>\n",
       "      <td>922</td>\n",
       "      <td>1</td>\n",
       "      <td>0</td>\n",
       "      <td>True</td>\n",
       "    </tr>\n",
       "    <tr>\n",
       "      <th>2018-01-01_UA_2422</th>\n",
       "      <td>UA</td>\n",
       "      <td>ORD</td>\n",
       "      <td>OMA</td>\n",
       "      <td>3.662693</td>\n",
       "      <td>6.260671</td>\n",
       "      <td>10.384382</td>\n",
       "      <td>2241</td>\n",
       "      <td>14</td>\n",
       "      <td>1</td>\n",
       "      <td>0</td>\n",
       "      <td>False</td>\n",
       "    </tr>\n",
       "    <tr>\n",
       "      <th>2018-01-01_UA_2421</th>\n",
       "      <td>UA</td>\n",
       "      <td>IAH</td>\n",
       "      <td>LAS</td>\n",
       "      <td>3.966989</td>\n",
       "      <td>6.260671</td>\n",
       "      <td>3.795300</td>\n",
       "      <td>750</td>\n",
       "      <td>916</td>\n",
       "      <td>1</td>\n",
       "      <td>0</td>\n",
       "      <td>False</td>\n",
       "    </tr>\n",
       "  </tbody>\n",
       "</table>\n",
       "</div>"
      ],
      "text/plain": [
       "                   op_carrier origin dest  dest_airport_avg_delay  \\\n",
       "observation                                                         \n",
       "2018-01-01_UA_2429         UA    EWR  DEN                4.163647   \n",
       "2018-01-01_UA_2427         UA    LAS  SFO                9.162307   \n",
       "2018-01-01_UA_2424         UA    ORD  ALB                6.406991   \n",
       "2018-01-01_UA_2422         UA    ORD  OMA                3.662693   \n",
       "2018-01-01_UA_2421         UA    IAH  LAS                3.966989   \n",
       "\n",
       "                    carrier_avg_delay  airport_avg_delay  crs_dep_time  \\\n",
       "observation                                                              \n",
       "2018-01-01_UA_2429           6.260671           8.998358          1517   \n",
       "2018-01-01_UA_2427           6.260671           4.242133          1115   \n",
       "2018-01-01_UA_2424           6.260671          10.384382           630   \n",
       "2018-01-01_UA_2422           6.260671          10.384382          2241   \n",
       "2018-01-01_UA_2421           6.260671           3.795300           750   \n",
       "\n",
       "                    crs_arr_time  month  day_of_week  is_delay  \n",
       "observation                                                     \n",
       "2018-01-01_UA_2429          1745      1            0     False  \n",
       "2018-01-01_UA_2427          1254      1            0     False  \n",
       "2018-01-01_UA_2424           922      1            0      True  \n",
       "2018-01-01_UA_2422            14      1            0     False  \n",
       "2018-01-01_UA_2421           916      1            0     False  "
      ]
     },
     "execution_count": 125,
     "metadata": {},
     "output_type": "execute_result"
    }
   ],
   "source": [
    "df.head()"
   ]
  },
  {
   "cell_type": "code",
   "execution_count": 163,
   "metadata": {},
   "outputs": [],
   "source": [
    "carrier_avg_delay = df[df.op_carrier == airline.upper()].carrier_avg_delay.mean()"
   ]
  },
  {
   "cell_type": "code",
   "execution_count": 175,
   "metadata": {},
   "outputs": [],
   "source": [
    "dest_airport_avg_delay = df[df.dest == arr_airport].dest_airport_avg_delay.mean()"
   ]
  },
  {
   "cell_type": "code",
   "execution_count": 174,
   "metadata": {},
   "outputs": [],
   "source": [
    "airport_avg_delay = df[df.origin == dep_airport].airport_avg_delay.mean()"
   ]
  },
  {
   "cell_type": "code",
   "execution_count": 177,
   "metadata": {
    "scrolled": true
   },
   "outputs": [
    {
     "data": {
      "text/html": [
       "<div>\n",
       "<style scoped>\n",
       "    .dataframe tbody tr th:only-of-type {\n",
       "        vertical-align: middle;\n",
       "    }\n",
       "\n",
       "    .dataframe tbody tr th {\n",
       "        vertical-align: top;\n",
       "    }\n",
       "\n",
       "    .dataframe thead th {\n",
       "        text-align: right;\n",
       "    }\n",
       "</style>\n",
       "<table border=\"1\" class=\"dataframe\">\n",
       "  <thead>\n",
       "    <tr style=\"text-align: right;\">\n",
       "      <th></th>\n",
       "      <th>carrier_avg_delay</th>\n",
       "      <th>dest_airport_avg_delay</th>\n",
       "      <th>airport_avg_delay</th>\n",
       "      <th>crs_dep_time</th>\n",
       "      <th>crs_arr_time</th>\n",
       "      <th>month</th>\n",
       "      <th>day_of_week</th>\n",
       "    </tr>\n",
       "  </thead>\n",
       "  <tbody>\n",
       "    <tr>\n",
       "      <th>08/02/2020_AA_1988</th>\n",
       "      <td>6.861925</td>\n",
       "      <td>5.586935</td>\n",
       "      <td>7.573031</td>\n",
       "      <td>1119</td>\n",
       "      <td>1301</td>\n",
       "      <td>8</td>\n",
       "      <td>2</td>\n",
       "    </tr>\n",
       "  </tbody>\n",
       "</table>\n",
       "</div>"
      ],
      "text/plain": [
       "                    carrier_avg_delay  dest_airport_avg_delay  \\\n",
       "08/02/2020_AA_1988           6.861925                5.586935   \n",
       "\n",
       "                    airport_avg_delay  crs_dep_time  crs_arr_time  month  \\\n",
       "08/02/2020_AA_1988           7.573031          1119          1301      8   \n",
       "\n",
       "                    day_of_week  \n",
       "08/02/2020_AA_1988            2  "
      ]
     },
     "execution_count": 177,
     "metadata": {},
     "output_type": "execute_result"
    }
   ],
   "source": [
    "pd.DataFrame({\"carrier_avg_delay\":carrier_avg_delay, \"dest_airport_avg_delay\": dest_airport_avg_delay, \"airport_avg_delay\":airport_avg_delay, \"crs_dep_time\": crs_dep_time, \"crs_arr_time\": crs_arr_time, \"month\": datee.month, \"day_of_week\":datee.day}, index=[f\"{flight_date}_{airline.upper()}_{flight_number}\"])"
   ]
  },
  {
   "cell_type": "markdown",
   "metadata": {},
   "source": [
    "# Model"
   ]
  },
  {
   "cell_type": "code",
   "execution_count": 195,
   "metadata": {},
   "outputs": [],
   "source": [
    "features_for_modeling = [\"dest_airport_avg_delay\", \"carrier_avg_delay\", \"airport_avg_delay\", \"crs_dep_time\", \"crs_arr_time\", \"month\", \"day_of_week\"]\n",
    "target_variable = \"is_delay\""
   ]
  },
  {
   "cell_type": "code",
   "execution_count": null,
   "metadata": {
    "scrolled": true
   },
   "outputs": [],
   "source": [
    "df = wrangle.prep_flight_data()\n",
    "df = preprocessing.to_date_time(df)\n",
    "df = preprocessing.create_new_features(df)\n",
    "df = preprocessing.create_target_variable(df)\n",
    "\n",
    "df = df[df.origin == dep_airport]\n",
    "\n",
    "features_for_modeling += [\"observation\"]\n",
    "features_for_modeling += [target_variable]\n",
    "\n",
    "df_modeling = df[features_for_modeling]\n",
    "\n",
    "df_modeling = df_modeling.set_index(\"observation\")\n",
    "\n",
    "\n",
    "train, validate, test = preprocessing.split_data(df_modeling)\n",
    "\n",
    "X_train = train.drop(columns=target_variable)\n",
    "y_train = train[target_variable]\n",
    "X_validate = validate.drop(columns=target_variable)\n",
    "y_validate = validate[target_variable]\n",
    "X_test = test.drop(columns=target_variable)\n",
    "y_test = test[target_variable]\n",
    "\n",
    "scaler, train_scaled, validate_scaled, test_scaled = preprocessing.min_max_scaler(X_train, X_validate, X_test)"
   ]
  },
  {
   "cell_type": "code",
   "execution_count": null,
   "metadata": {},
   "outputs": [],
   "source": [
    "knn, y_pred = model.run_knn(train_scaled, y_train)"
   ]
  }
 ],
 "metadata": {
  "kernelspec": {
   "display_name": "Python 3",
   "language": "python",
   "name": "python3"
  },
  "language_info": {
   "codemirror_mode": {
    "name": "ipython",
    "version": 3
   },
   "file_extension": ".py",
   "mimetype": "text/x-python",
   "name": "python",
   "nbconvert_exporter": "python",
   "pygments_lexer": "ipython3",
   "version": "3.7.4"
  }
 },
 "nbformat": 4,
 "nbformat_minor": 2
}
