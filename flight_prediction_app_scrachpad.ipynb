{
 "cells": [
  {
   "cell_type": "code",
   "execution_count": 1,
   "metadata": {},
   "outputs": [],
   "source": [
    "from requests import get\n",
    "from bs4 import BeautifulSoup\n",
    "import os\n",
    "\n",
    "import pandas as pd\n",
    "from datetime import date\n",
    "import datetime\n",
    "\n",
    "import preprocessing\n",
    "import model\n",
    "import wrangle"
   ]
  },
  {
   "cell_type": "code",
   "execution_count": 2,
   "metadata": {},
   "outputs": [],
   "source": [
    "# airline = \"aa\"\n",
    "# flight_number = \"1988\"\n",
    "# flight_date = \"08/02/2020\""
   ]
  },
  {
   "cell_type": "code",
   "execution_count": 3,
   "metadata": {},
   "outputs": [
    {
     "name": "stdout",
     "output_type": "stream",
     "text": [
      "What is the airline? AA\n"
     ]
    }
   ],
   "source": [
    "airline = input(\"What is the airline? \")"
   ]
  },
  {
   "cell_type": "code",
   "execution_count": 4,
   "metadata": {},
   "outputs": [
    {
     "name": "stdout",
     "output_type": "stream",
     "text": [
      "What is the flight number? 2946\n"
     ]
    }
   ],
   "source": [
    "flight_number = input(\"What is the flight number? \")"
   ]
  },
  {
   "cell_type": "code",
   "execution_count": 5,
   "metadata": {},
   "outputs": [
    {
     "name": "stdout",
     "output_type": "stream",
     "text": [
      "When are your flying? 08/02/2020\n"
     ]
    }
   ],
   "source": [
    "flight_date = input(\"When are your flying? \")"
   ]
  },
  {
   "cell_type": "markdown",
   "metadata": {},
   "source": [
    "# Webscrapping"
   ]
  },
  {
   "cell_type": "code",
   "execution_count": 6,
   "metadata": {},
   "outputs": [
    {
     "name": "stdout",
     "output_type": "stream",
     "text": [
      "Today's date: 2020-07-22\n"
     ]
    }
   ],
   "source": [
    "today = date.today()\n",
    "print(\"Today's date:\", today)"
   ]
  },
  {
   "cell_type": "code",
   "execution_count": 7,
   "metadata": {},
   "outputs": [],
   "source": [
    "month = today.month"
   ]
  },
  {
   "cell_type": "code",
   "execution_count": 8,
   "metadata": {},
   "outputs": [],
   "source": [
    "day = today.day"
   ]
  },
  {
   "cell_type": "code",
   "execution_count": 9,
   "metadata": {},
   "outputs": [],
   "source": [
    "year = today.year"
   ]
  },
  {
   "cell_type": "code",
   "execution_count": 10,
   "metadata": {},
   "outputs": [
    {
     "data": {
      "text/plain": [
       "datetime.datetime(2020, 8, 2, 0, 0)"
      ]
     },
     "execution_count": 10,
     "metadata": {},
     "output_type": "execute_result"
    }
   ],
   "source": [
    "datee = datetime.datetime.strptime(flight_date, \"%m/%d/%Y\")\n",
    "datee"
   ]
  },
  {
   "cell_type": "code",
   "execution_count": 11,
   "metadata": {},
   "outputs": [
    {
     "data": {
      "text/plain": [
       "2"
      ]
     },
     "execution_count": 11,
     "metadata": {},
     "output_type": "execute_result"
    }
   ],
   "source": [
    "datee.day"
   ]
  },
  {
   "cell_type": "code",
   "execution_count": 12,
   "metadata": {},
   "outputs": [],
   "source": [
    "url = f'https://www.flightstats.com/v2/flight-tracker/{airline}/{flight_number}?year={year}&month={month}&date={day}&flightId=1040676332'\n",
    "headers = {'User-Agent': 'Codeup Data Science'} # Some websites don't accept the pyhon-requests default user-agent\n",
    "response = get(url, headers=headers)"
   ]
  },
  {
   "cell_type": "code",
   "execution_count": 13,
   "metadata": {},
   "outputs": [],
   "source": [
    "soup = BeautifulSoup(response.content, 'html.parser')"
   ]
  },
  {
   "cell_type": "code",
   "execution_count": 14,
   "metadata": {},
   "outputs": [],
   "source": [
    "airports = soup.find_all(\"a\",class_=\"ticket__AirportLink-s1rrbl5o-10 cuIkvt\")"
   ]
  },
  {
   "cell_type": "code",
   "execution_count": 15,
   "metadata": {},
   "outputs": [
    {
     "data": {
      "text/plain": [
       "'ORD'"
      ]
     },
     "execution_count": 15,
     "metadata": {},
     "output_type": "execute_result"
    }
   ],
   "source": [
    "dep_airport = airports[0].text\n",
    "dep_airport"
   ]
  },
  {
   "cell_type": "code",
   "execution_count": 16,
   "metadata": {},
   "outputs": [
    {
     "data": {
      "text/plain": [
       "'ATL'"
      ]
     },
     "execution_count": 16,
     "metadata": {},
     "output_type": "execute_result"
    }
   ],
   "source": [
    "arr_airport = airports[1].text\n",
    "arr_airport"
   ]
  },
  {
   "cell_type": "code",
   "execution_count": 17,
   "metadata": {},
   "outputs": [],
   "source": [
    "crs_times = soup.find_all(\"div\", class_=\"text-helper__TextHelper-s8bko4a-0 cCfBRT\")"
   ]
  },
  {
   "cell_type": "code",
   "execution_count": 18,
   "metadata": {},
   "outputs": [
    {
     "data": {
      "text/plain": [
       "1020"
      ]
     },
     "execution_count": 18,
     "metadata": {},
     "output_type": "execute_result"
    }
   ],
   "source": [
    "crs_dep_time = crs_times[0].text\n",
    "crs_dep_time = int(crs_dep_time[0:5].replace(\":\",\"\"))\n",
    "crs_dep_time"
   ]
  },
  {
   "cell_type": "code",
   "execution_count": 19,
   "metadata": {},
   "outputs": [
    {
     "data": {
      "text/plain": [
       "1326"
      ]
     },
     "execution_count": 19,
     "metadata": {},
     "output_type": "execute_result"
    }
   ],
   "source": [
    "crs_arr_time = crs_times[2].text\n",
    "crs_arr_time = int(crs_arr_time[0:5].replace(\":\", \"\"))\n",
    "crs_arr_time"
   ]
  },
  {
   "cell_type": "markdown",
   "metadata": {},
   "source": [
    "# Preprocessing"
   ]
  },
  {
   "cell_type": "code",
   "execution_count": 20,
   "metadata": {},
   "outputs": [],
   "source": [
    "features_for_modeling = [\"op_carrier\", \"origin\", \"dest\", \"dest_airport_avg_delay\", \"carrier_avg_delay\", \"airport_avg_delay\", \"crs_dep_time\", \"crs_arr_time\", \"month\", \"day_of_week\"]\n",
    "target_variable = \"is_delay\""
   ]
  },
  {
   "cell_type": "code",
   "execution_count": 21,
   "metadata": {},
   "outputs": [],
   "source": [
    "# train_scaled, y_train, validate_scaled, y_validate, test_scaled, y_test = preprocessing.mvp_modeling_prep(modeling=True, features_for_modeling=features_for_modeling, target_variable=target_variable)"
   ]
  },
  {
   "cell_type": "code",
   "execution_count": 22,
   "metadata": {},
   "outputs": [],
   "source": [
    "df = preprocessing.mvp_modeling_prep(features_for_modeling = features_for_modeling, target_variable = target_variable)"
   ]
  },
  {
   "cell_type": "code",
   "execution_count": 23,
   "metadata": {
    "scrolled": true
   },
   "outputs": [
    {
     "data": {
      "text/html": [
       "<div>\n",
       "<style scoped>\n",
       "    .dataframe tbody tr th:only-of-type {\n",
       "        vertical-align: middle;\n",
       "    }\n",
       "\n",
       "    .dataframe tbody tr th {\n",
       "        vertical-align: top;\n",
       "    }\n",
       "\n",
       "    .dataframe thead th {\n",
       "        text-align: right;\n",
       "    }\n",
       "</style>\n",
       "<table border=\"1\" class=\"dataframe\">\n",
       "  <thead>\n",
       "    <tr style=\"text-align: right;\">\n",
       "      <th></th>\n",
       "      <th>op_carrier</th>\n",
       "      <th>origin</th>\n",
       "      <th>dest</th>\n",
       "      <th>dest_airport_avg_delay</th>\n",
       "      <th>carrier_avg_delay</th>\n",
       "      <th>airport_avg_delay</th>\n",
       "      <th>crs_dep_time</th>\n",
       "      <th>crs_arr_time</th>\n",
       "      <th>month</th>\n",
       "      <th>day_of_week</th>\n",
       "      <th>is_delay</th>\n",
       "    </tr>\n",
       "    <tr>\n",
       "      <th>observation</th>\n",
       "      <th></th>\n",
       "      <th></th>\n",
       "      <th></th>\n",
       "      <th></th>\n",
       "      <th></th>\n",
       "      <th></th>\n",
       "      <th></th>\n",
       "      <th></th>\n",
       "      <th></th>\n",
       "      <th></th>\n",
       "      <th></th>\n",
       "    </tr>\n",
       "  </thead>\n",
       "  <tbody>\n",
       "    <tr>\n",
       "      <th>2018-01-01_UA_2429</th>\n",
       "      <td>UA</td>\n",
       "      <td>EWR</td>\n",
       "      <td>DEN</td>\n",
       "      <td>4.163647</td>\n",
       "      <td>6.260671</td>\n",
       "      <td>8.998358</td>\n",
       "      <td>1517</td>\n",
       "      <td>1745</td>\n",
       "      <td>1</td>\n",
       "      <td>0</td>\n",
       "      <td>False</td>\n",
       "    </tr>\n",
       "    <tr>\n",
       "      <th>2018-01-01_UA_2427</th>\n",
       "      <td>UA</td>\n",
       "      <td>LAS</td>\n",
       "      <td>SFO</td>\n",
       "      <td>9.162307</td>\n",
       "      <td>6.260671</td>\n",
       "      <td>4.242133</td>\n",
       "      <td>1115</td>\n",
       "      <td>1254</td>\n",
       "      <td>1</td>\n",
       "      <td>0</td>\n",
       "      <td>False</td>\n",
       "    </tr>\n",
       "    <tr>\n",
       "      <th>2018-01-01_UA_2424</th>\n",
       "      <td>UA</td>\n",
       "      <td>ORD</td>\n",
       "      <td>ALB</td>\n",
       "      <td>6.406991</td>\n",
       "      <td>6.260671</td>\n",
       "      <td>10.384382</td>\n",
       "      <td>630</td>\n",
       "      <td>922</td>\n",
       "      <td>1</td>\n",
       "      <td>0</td>\n",
       "      <td>True</td>\n",
       "    </tr>\n",
       "    <tr>\n",
       "      <th>2018-01-01_UA_2422</th>\n",
       "      <td>UA</td>\n",
       "      <td>ORD</td>\n",
       "      <td>OMA</td>\n",
       "      <td>3.662693</td>\n",
       "      <td>6.260671</td>\n",
       "      <td>10.384382</td>\n",
       "      <td>2241</td>\n",
       "      <td>14</td>\n",
       "      <td>1</td>\n",
       "      <td>0</td>\n",
       "      <td>False</td>\n",
       "    </tr>\n",
       "    <tr>\n",
       "      <th>2018-01-01_UA_2421</th>\n",
       "      <td>UA</td>\n",
       "      <td>IAH</td>\n",
       "      <td>LAS</td>\n",
       "      <td>3.966989</td>\n",
       "      <td>6.260671</td>\n",
       "      <td>3.795300</td>\n",
       "      <td>750</td>\n",
       "      <td>916</td>\n",
       "      <td>1</td>\n",
       "      <td>0</td>\n",
       "      <td>False</td>\n",
       "    </tr>\n",
       "  </tbody>\n",
       "</table>\n",
       "</div>"
      ],
      "text/plain": [
       "                   op_carrier origin dest  dest_airport_avg_delay  \\\n",
       "observation                                                         \n",
       "2018-01-01_UA_2429         UA    EWR  DEN                4.163647   \n",
       "2018-01-01_UA_2427         UA    LAS  SFO                9.162307   \n",
       "2018-01-01_UA_2424         UA    ORD  ALB                6.406991   \n",
       "2018-01-01_UA_2422         UA    ORD  OMA                3.662693   \n",
       "2018-01-01_UA_2421         UA    IAH  LAS                3.966989   \n",
       "\n",
       "                    carrier_avg_delay  airport_avg_delay  crs_dep_time  \\\n",
       "observation                                                              \n",
       "2018-01-01_UA_2429           6.260671           8.998358          1517   \n",
       "2018-01-01_UA_2427           6.260671           4.242133          1115   \n",
       "2018-01-01_UA_2424           6.260671          10.384382           630   \n",
       "2018-01-01_UA_2422           6.260671          10.384382          2241   \n",
       "2018-01-01_UA_2421           6.260671           3.795300           750   \n",
       "\n",
       "                    crs_arr_time  month  day_of_week  is_delay  \n",
       "observation                                                     \n",
       "2018-01-01_UA_2429          1745      1            0     False  \n",
       "2018-01-01_UA_2427          1254      1            0     False  \n",
       "2018-01-01_UA_2424           922      1            0      True  \n",
       "2018-01-01_UA_2422            14      1            0     False  \n",
       "2018-01-01_UA_2421           916      1            0     False  "
      ]
     },
     "execution_count": 23,
     "metadata": {},
     "output_type": "execute_result"
    }
   ],
   "source": [
    "df.head()"
   ]
  },
  {
   "cell_type": "code",
   "execution_count": 24,
   "metadata": {},
   "outputs": [],
   "source": [
    "carrier_avg_delay = df[df.op_carrier == airline.upper()].carrier_avg_delay.mean()"
   ]
  },
  {
   "cell_type": "code",
   "execution_count": 25,
   "metadata": {},
   "outputs": [],
   "source": [
    "dest_airport_avg_delay = df[df.dest == arr_airport].dest_airport_avg_delay.mean()"
   ]
  },
  {
   "cell_type": "code",
   "execution_count": 26,
   "metadata": {},
   "outputs": [],
   "source": [
    "airport_avg_delay = df[df.origin == dep_airport].airport_avg_delay.mean()"
   ]
  },
  {
   "cell_type": "code",
   "execution_count": 27,
   "metadata": {
    "scrolled": true
   },
   "outputs": [],
   "source": [
    "prediction = pd.DataFrame({\"carrier_avg_delay\":carrier_avg_delay, \"dest_airport_avg_delay\": dest_airport_avg_delay, \"airport_avg_delay\":airport_avg_delay, \"crs_dep_time\": crs_dep_time, \"crs_arr_time\": crs_arr_time, \"month\": datee.month, \"day_of_week\":datee.day}, index=[f\"{flight_date}_{airline.upper()}_{flight_number}\"])"
   ]
  },
  {
   "cell_type": "markdown",
   "metadata": {},
   "source": [
    "# Model"
   ]
  },
  {
   "cell_type": "code",
   "execution_count": 28,
   "metadata": {},
   "outputs": [],
   "source": [
    "features_for_modeling = [\"dest_airport_avg_delay\", \"carrier_avg_delay\", \"airport_avg_delay\", \"crs_dep_time\", \"crs_arr_time\", \"month\", \"day_of_week\"]\n",
    "target_variable = \"is_delay\""
   ]
  },
  {
   "cell_type": "code",
   "execution_count": 29,
   "metadata": {
    "scrolled": true
   },
   "outputs": [],
   "source": [
    "df = wrangle.prep_flight_data()\n",
    "df = preprocessing.to_date_time(df)\n",
    "df = preprocessing.create_new_features(df)\n",
    "df = preprocessing.create_target_variable(df)\n",
    "\n",
    "df = df[df.origin == dep_airport]\n",
    "\n",
    "features_for_modeling += [\"observation\"]\n",
    "features_for_modeling += [target_variable]\n",
    "\n",
    "df_modeling = df[features_for_modeling]\n",
    "\n",
    "df_modeling = df_modeling.set_index(\"observation\")\n",
    "\n",
    "\n",
    "train, validate, test = preprocessing.split_data(df_modeling)\n",
    "\n",
    "X_train = train.drop(columns=target_variable)\n",
    "y_train = train[target_variable]\n",
    "X_validate = validate.drop(columns=target_variable)\n",
    "y_validate = validate[target_variable]\n",
    "X_test = test.drop(columns=target_variable)\n",
    "y_test = test[target_variable]\n",
    "\n",
    "scaler, train_scaled, validate_scaled, test_scaled = preprocessing.min_max_scaler(X_train, X_validate, X_test)"
   ]
  },
  {
   "cell_type": "code",
   "execution_count": 30,
   "metadata": {},
   "outputs": [],
   "source": [
    "knn, y_pred = model.run_knn(train_scaled, y_train, 3)"
   ]
  },
  {
   "cell_type": "code",
   "execution_count": 31,
   "metadata": {},
   "outputs": [
    {
     "name": "stdout",
     "output_type": "stream",
     "text": [
      "Accuracy on dataset: 0.77\n",
      "       False  True \n",
      "False  86179  18499\n",
      "True   23531  54512\n"
     ]
    },
    {
     "data": {
      "text/html": [
       "<div>\n",
       "<style scoped>\n",
       "    .dataframe tbody tr th:only-of-type {\n",
       "        vertical-align: middle;\n",
       "    }\n",
       "\n",
       "    .dataframe tbody tr th {\n",
       "        vertical-align: top;\n",
       "    }\n",
       "\n",
       "    .dataframe thead th {\n",
       "        text-align: right;\n",
       "    }\n",
       "</style>\n",
       "<table border=\"1\" class=\"dataframe\">\n",
       "  <thead>\n",
       "    <tr style=\"text-align: right;\">\n",
       "      <th></th>\n",
       "      <th>False</th>\n",
       "      <th>True</th>\n",
       "      <th>accuracy</th>\n",
       "      <th>macro avg</th>\n",
       "      <th>weighted avg</th>\n",
       "    </tr>\n",
       "  </thead>\n",
       "  <tbody>\n",
       "    <tr>\n",
       "      <th>precision</th>\n",
       "      <td>0.785516</td>\n",
       "      <td>0.746627</td>\n",
       "      <td>0.769977</td>\n",
       "      <td>0.766072</td>\n",
       "      <td>0.768906</td>\n",
       "    </tr>\n",
       "    <tr>\n",
       "      <th>recall</th>\n",
       "      <td>0.823277</td>\n",
       "      <td>0.698487</td>\n",
       "      <td>0.769977</td>\n",
       "      <td>0.760882</td>\n",
       "      <td>0.769977</td>\n",
       "    </tr>\n",
       "    <tr>\n",
       "      <th>f1-score</th>\n",
       "      <td>0.803954</td>\n",
       "      <td>0.721755</td>\n",
       "      <td>0.769977</td>\n",
       "      <td>0.762854</td>\n",
       "      <td>0.768845</td>\n",
       "    </tr>\n",
       "    <tr>\n",
       "      <th>support</th>\n",
       "      <td>104678.000000</td>\n",
       "      <td>78043.000000</td>\n",
       "      <td>0.769977</td>\n",
       "      <td>182721.000000</td>\n",
       "      <td>182721.000000</td>\n",
       "    </tr>\n",
       "  </tbody>\n",
       "</table>\n",
       "</div>"
      ],
      "text/plain": [
       "                   False          True  accuracy      macro avg   weighted avg\n",
       "precision       0.785516      0.746627  0.769977       0.766072       0.768906\n",
       "recall          0.823277      0.698487  0.769977       0.760882       0.769977\n",
       "f1-score        0.803954      0.721755  0.769977       0.762854       0.768845\n",
       "support    104678.000000  78043.000000  0.769977  182721.000000  182721.000000"
      ]
     },
     "execution_count": 31,
     "metadata": {},
     "output_type": "execute_result"
    }
   ],
   "source": [
    "accuracy_score, matrix, report = model.accuracy_report(knn, y_pred, y_train)\n",
    "\n",
    "print(accuracy_score)\n",
    "print(matrix)\n",
    "\n",
    "report"
   ]
  },
  {
   "cell_type": "code",
   "execution_count": 32,
   "metadata": {},
   "outputs": [
    {
     "data": {
      "text/plain": [
       "0.5718876985592908"
      ]
     },
     "execution_count": 32,
     "metadata": {},
     "output_type": "execute_result"
    }
   ],
   "source": [
    "knn.score(test_scaled, y_test)"
   ]
  },
  {
   "cell_type": "code",
   "execution_count": 33,
   "metadata": {},
   "outputs": [],
   "source": [
    "probability = knn.predict_proba(prediction)"
   ]
  },
  {
   "cell_type": "code",
   "execution_count": 34,
   "metadata": {},
   "outputs": [
    {
     "name": "stdout",
     "output_type": "stream",
     "text": [
      "The probability that your flight will get delayed is: 67%\n"
     ]
    }
   ],
   "source": [
    "print(f\"The probability that your flight will get delayed is: {probability[0][1]:.0%}\")"
   ]
  }
 ],
 "metadata": {
  "kernelspec": {
   "display_name": "Python 3",
   "language": "python",
   "name": "python3"
  },
  "language_info": {
   "codemirror_mode": {
    "name": "ipython",
    "version": 3
   },
   "file_extension": ".py",
   "mimetype": "text/x-python",
   "name": "python",
   "nbconvert_exporter": "python",
   "pygments_lexer": "ipython3",
   "version": "3.7.4"
  }
 },
 "nbformat": 4,
 "nbformat_minor": 2
}
