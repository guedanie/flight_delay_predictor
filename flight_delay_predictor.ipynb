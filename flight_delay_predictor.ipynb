{
 "cells": [
  {
   "cell_type": "markdown",
   "metadata": {},
   "source": [
    "# Predicting Flight Delays\n",
    "\n",
    "The ogjective of this project is to use historical flight information to create a classification model that can return the probability of a flight being delayed. \n",
    "\n",
    "We will be looking at data from 2016, 2017, and 2018. All data files are downloaded from OST website, which stores flights on-time performance fro 1987 to present.\n",
    "\n",
    "**Our MVP**: Our MVP will look to just deliver predictions and exploration on the flight data. Once the MVP is completed, I will look to bring in weather data.\n",
    "\n",
    "\n",
    "In addition to the data that we are bringing, we will also be using weather data. \n",
    "\n",
    "As stated in a published paper by \n",
    "\n",
    "> \"Our analysis shows that weather shocks like rainfall, snow and wind have a significant impact on departure delays within the U.S. aviation system. Depending on the intensity of the weather shock considered, rain- and snowfall lead to additional departure delays between 10 and 23 min. For wind, the discovered effects are smaller in magnitude, ranging from 1 to 3 min. While the impact of rainfall is more pronounced between April and September, the effect of wind is more evenly distributed across the year. With regard to slow onset weather shocks, our results reveal that cold conditions lead to additional departure delays. For temperatures below 0∘C, our analysis shows an increase in delay on average by around 2 min per departure. For heat, we do not discover any significant amplifying impacts on departure delay. While our results indicate a tendency of higher average departure delays when temperatures go beyond 45∘C, the results are not statistically significant. Considering the recent experiences from Phoenix, where temperatures of 49∘C on June 20th, 2017 lead to the cancellation of more than 40 regional flights, together with the projections by Coffel et al. (2017), we expect extreme temperatures to increase departure delays.8 Our observations for temperatures beyond 45∘C, however, are insufficient for robust estimates.\"$^1$\n",
    "\n",
    "\n",
    "\n",
    "$^1$Borsky, S and Unterberger, C (2019) ‘Bad weather and flight delays: The impact of sudden and slow onset weather events’, Economics of Transportation, Volume 18.\n",
    "\n",
    "The weather data comes from:\n",
    "\n",
    "Moosavi, Sobhan, Mohammad Hossein Samavatian, Arnab Nandi, Srinivasan Parthasarathy, and Rajiv Ramnath. “Short and Long-term Pattern Discovery Over Large-Scale Geo-Spatiotemporal Data.” In Proceedings of the 25th ACM SIGKDD International Conference on Knowledge Discovery & Data Mining, ACM, 2019."
   ]
  },
  {
   "cell_type": "code",
   "execution_count": 1,
   "metadata": {},
   "outputs": [],
   "source": [
    "import pandas as pd\n",
    "import numpy as np\n",
    "\n",
    "import os.path\n",
    "import requests\n",
    "import io\n",
    "\n",
    "import seaborn as sns\n",
    "import matplotlib.pyplot as plt\n",
    "import scipy.stats as stats\n",
    "\n",
    "import warnings\n",
    "warnings.filterwarnings(\"ignore\")\n",
    "\n",
    "from sklearn.model_selection import cross_val_score, train_test_split, GridSearchCV\n",
    "from sklearn.preprocessing import MinMaxScaler, StandardScaler, PowerTransformer\n",
    "from sklearn.ensemble import GradientBoostingClassifier\n",
    "\n",
    "import wrangle\n",
    "import model"
   ]
  },
  {
   "cell_type": "markdown",
   "metadata": {},
   "source": [
    "# Acquistion"
   ]
  },
  {
   "cell_type": "code",
   "execution_count": 2,
   "metadata": {},
   "outputs": [],
   "source": [
    "# df = pd.read_csv(\"https://raw.githubusercontent.com/michaelarg/datasets/master/airports.csv\")\n",
    "\n",
    "# airports = df[df.Country == \"United States\"]\n",
    "\n",
    "# weather_data = pd.read_csv(\"US_WeatherEvents_2016-2019.csv\")"
   ]
  },
  {
   "cell_type": "code",
   "execution_count": 3,
   "metadata": {},
   "outputs": [],
   "source": [
    "df = pd.read_csv(\"2018.csv\")"
   ]
  },
  {
   "cell_type": "code",
   "execution_count": 4,
   "metadata": {},
   "outputs": [
    {
     "name": "stdout",
     "output_type": "stream",
     "text": [
      "<class 'pandas.core.frame.DataFrame'>\n",
      "RangeIndex: 7213446 entries, 0 to 7213445\n",
      "Data columns (total 28 columns):\n",
      "FL_DATE                object\n",
      "OP_CARRIER             object\n",
      "OP_CARRIER_FL_NUM      int64\n",
      "ORIGIN                 object\n",
      "DEST                   object\n",
      "CRS_DEP_TIME           int64\n",
      "DEP_TIME               float64\n",
      "DEP_DELAY              float64\n",
      "TAXI_OUT               float64\n",
      "WHEELS_OFF             float64\n",
      "WHEELS_ON              float64\n",
      "TAXI_IN                float64\n",
      "CRS_ARR_TIME           int64\n",
      "ARR_TIME               float64\n",
      "ARR_DELAY              float64\n",
      "CANCELLED              float64\n",
      "CANCELLATION_CODE      object\n",
      "DIVERTED               float64\n",
      "CRS_ELAPSED_TIME       float64\n",
      "ACTUAL_ELAPSED_TIME    float64\n",
      "AIR_TIME               float64\n",
      "DISTANCE               float64\n",
      "CARRIER_DELAY          float64\n",
      "WEATHER_DELAY          float64\n",
      "NAS_DELAY              float64\n",
      "SECURITY_DELAY         float64\n",
      "LATE_AIRCRAFT_DELAY    float64\n",
      "Unnamed: 27            float64\n",
      "dtypes: float64(20), int64(3), object(5)\n",
      "memory usage: 1.5+ GB\n"
     ]
    }
   ],
   "source": [
    "df.info()"
   ]
  },
  {
   "cell_type": "markdown",
   "metadata": {},
   "source": [
    "Given that there is a large amount of data (+1.5GB), we will filter down to the top 15 largest airports. This will be at least for the exploration phase. We may look to bring additional data once we are ready to model."
   ]
  },
  {
   "cell_type": "code",
   "execution_count": 5,
   "metadata": {},
   "outputs": [],
   "source": [
    "top_airports = [\"ATL\", \"LAX\", \"ORD\", \"DFW\", \"DEN\", \"JFK\", \"SFO\", \"SEA\", \"LAS\", \"MCO\", \"EWR\", \"CLT\", \"PHX\", \"IAH\", \"MIA\"]\n",
    "\n",
    "for i in top_airports:\n",
    "    df.loc[df['ORIGIN'] == i, 'is_top'] = True \n",
    "    \n",
    "df.is_top = df.is_top.fillna(False)"
   ]
  },
  {
   "cell_type": "code",
   "execution_count": 8,
   "metadata": {},
   "outputs": [
    {
     "data": {
      "text/plain": [
       "ATL    390046\n",
       "ORD    332953\n",
       "DFW    279298\n",
       "DEN    235989\n",
       "CLT    233317\n",
       "LAX    221486\n",
       "SFO    175849\n",
       "PHX    173962\n",
       "IAH    173806\n",
       "LAS    161113\n",
       "EWR    143875\n",
       "SEA    140006\n",
       "MCO    138296\n",
       "JFK    129684\n",
       "MIA     87880\n",
       "Name: ORIGIN, dtype: int64"
      ]
     },
     "execution_count": 8,
     "metadata": {},
     "output_type": "execute_result"
    }
   ],
   "source": [
    "# How many datapoints are there per airport? \n",
    "\n",
    "df[df.is_top].ORIGIN.value_counts()"
   ]
  },
  {
   "cell_type": "code",
   "execution_count": 9,
   "metadata": {},
   "outputs": [],
   "source": [
    "# Let's reassign the dataframe so that we only have our top airports\n",
    "\n",
    "df = df[df.is_top]"
   ]
  },
  {
   "cell_type": "code",
   "execution_count": 10,
   "metadata": {},
   "outputs": [
    {
     "data": {
      "text/plain": [
       "(3017560, 29)"
      ]
     },
     "execution_count": 10,
     "metadata": {},
     "output_type": "execute_result"
    }
   ],
   "source": [
    "# What does our new dataframe look like?\n",
    "\n",
    "df.shape  "
   ]
  },
  {
   "cell_type": "code",
   "execution_count": 11,
   "metadata": {},
   "outputs": [
    {
     "data": {
      "text/plain": [
       "FL_DATE                      0\n",
       "OP_CARRIER                   0\n",
       "OP_CARRIER_FL_NUM            0\n",
       "ORIGIN                       0\n",
       "DEST                         0\n",
       "CRS_DEP_TIME                 0\n",
       "DEP_TIME                 40437\n",
       "DEP_DELAY                41790\n",
       "TAXI_OUT                 41892\n",
       "WHEELS_OFF               41892\n",
       "WHEELS_ON                43585\n",
       "TAXI_IN                  43585\n",
       "CRS_ARR_TIME                 0\n",
       "ARR_TIME                 43585\n",
       "ARR_DELAY                50550\n",
       "CANCELLED                    0\n",
       "CANCELLATION_CODE      2975227\n",
       "DIVERTED                     0\n",
       "CRS_ELAPSED_TIME             2\n",
       "ACTUAL_ELAPSED_TIME      49843\n",
       "AIR_TIME                 49843\n",
       "DISTANCE                     0\n",
       "CARRIER_DELAY          2416987\n",
       "WEATHER_DELAY          2416987\n",
       "NAS_DELAY              2416987\n",
       "SECURITY_DELAY         2416987\n",
       "LATE_AIRCRAFT_DELAY    2416987\n",
       "Unnamed: 27            3017560\n",
       "is_top                       0\n",
       "dtype: int64"
      ]
     },
     "execution_count": 11,
     "metadata": {},
     "output_type": "execute_result"
    }
   ],
   "source": [
    "# How many null values do we have?\n",
    "\n",
    "df.isnull().sum()"
   ]
  },
  {
   "cell_type": "markdown",
   "metadata": {},
   "source": [
    "We see that even after only keeping the top 15 airports, we stll have a lot of NULL values. We will do some further exploration to figure out what we can remove, and what we need to keep."
   ]
  },
  {
   "cell_type": "code",
   "execution_count": 13,
   "metadata": {},
   "outputs": [],
   "source": [
    "df.drop(columns = [\"Unnamed: 27\", \"is_top\", \"CANCELLATION_CODE\"], inplace=True)"
   ]
  },
  {
   "cell_type": "code",
   "execution_count": 14,
   "metadata": {},
   "outputs": [],
   "source": [
    "df = df[df.ARR_DELAY.notnull()]"
   ]
  },
  {
   "cell_type": "code",
   "execution_count": 15,
   "metadata": {},
   "outputs": [],
   "source": [
    "df = df[df.DEP_DELAY.notnull()]"
   ]
  },
  {
   "cell_type": "code",
   "execution_count": 16,
   "metadata": {},
   "outputs": [],
   "source": [
    "df = df.fillna(0.0)"
   ]
  },
  {
   "cell_type": "code",
   "execution_count": 17,
   "metadata": {
    "scrolled": false
   },
   "outputs": [
    {
     "data": {
      "text/plain": [
       "FL_DATE                0\n",
       "OP_CARRIER             0\n",
       "OP_CARRIER_FL_NUM      0\n",
       "ORIGIN                 0\n",
       "DEST                   0\n",
       "CRS_DEP_TIME           0\n",
       "DEP_TIME               0\n",
       "DEP_DELAY              0\n",
       "TAXI_OUT               0\n",
       "WHEELS_OFF             0\n",
       "WHEELS_ON              0\n",
       "TAXI_IN                0\n",
       "CRS_ARR_TIME           0\n",
       "ARR_TIME               0\n",
       "ARR_DELAY              0\n",
       "CANCELLED              0\n",
       "DIVERTED               0\n",
       "CRS_ELAPSED_TIME       0\n",
       "ACTUAL_ELAPSED_TIME    0\n",
       "AIR_TIME               0\n",
       "DISTANCE               0\n",
       "CARRIER_DELAY          0\n",
       "WEATHER_DELAY          0\n",
       "NAS_DELAY              0\n",
       "SECURITY_DELAY         0\n",
       "LATE_AIRCRAFT_DELAY    0\n",
       "dtype: int64"
      ]
     },
     "execution_count": 17,
     "metadata": {},
     "output_type": "execute_result"
    }
   ],
   "source": [
    "df.isnull().sum()"
   ]
  },
  {
   "cell_type": "markdown",
   "metadata": {},
   "source": [
    "We see that we largely were able to get rid of any null values. It seems that `Cancelation_code` has no remaining values, we so will drop that column. "
   ]
  },
  {
   "cell_type": "code",
   "execution_count": 18,
   "metadata": {},
   "outputs": [],
   "source": [
    "# let's lower case the column names to make it easier to access them\n",
    "\n",
    "df.columns = map(str.lower, df.columns)"
   ]
  },
  {
   "cell_type": "code",
   "execution_count": 19,
   "metadata": {},
   "outputs": [],
   "source": [
    "# lets add the airline names\n",
    "\n",
    "airline_code = pd.read_csv(\"airline_codes.csv\")\n",
    "\n",
    "airline_code.drop(columns=\"Unnamed: 0\", inplace=True)"
   ]
  },
  {
   "cell_type": "code",
   "execution_count": 20,
   "metadata": {},
   "outputs": [],
   "source": [
    "df = df.merge(airline_code, how=\"left\", left_on=\"op_carrier\", right_on = \"Code\")"
   ]
  },
  {
   "cell_type": "code",
   "execution_count": 21,
   "metadata": {},
   "outputs": [],
   "source": [
    "df.drop(columns=\"Code\", inplace=True)"
   ]
  },
  {
   "cell_type": "markdown",
   "metadata": {},
   "source": [
    "Now that we have the data in the shape that we want it it, we are ready to move onto exploration"
   ]
  },
  {
   "cell_type": "markdown",
   "metadata": {},
   "source": [
    "# Exploration\n",
    "\n",
    "We will look to understand if there are any patterns that can help us predict if a flight will be delayed.\n",
    "\n",
    "The objective is to see if there are significantly different groupings based on our target variable, as these would be extremly useful for modeling."
   ]
  },
  {
   "cell_type": "markdown",
   "metadata": {},
   "source": [
    "## What percentage of flights experience delays?"
   ]
  },
  {
   "cell_type": "code",
   "execution_count": 22,
   "metadata": {},
   "outputs": [
    {
     "name": "stdout",
     "output_type": "stream",
     "text": [
      "37% of flights experienced a delay in 2018\n"
     ]
    }
   ],
   "source": [
    "print(f\"{(df.arr_delay > 0).mean():.0%} of flights experienced a delay in 2018\")"
   ]
  },
  {
   "cell_type": "code",
   "execution_count": 23,
   "metadata": {},
   "outputs": [
    {
     "data": {
      "text/plain": [
       "Text(0.5, 0, 'Minutes Delayed')"
      ]
     },
     "execution_count": 23,
     "metadata": {},
     "output_type": "execute_result"
    },
    {
     "data": {
      "image/png": "[encoded data removed]",
      "text/plain": [
       "<Figure size 1080x360 with 1 Axes>"
      ]
     },
     "metadata": {
      "needs_background": "light"
     },
     "output_type": "display_data"
    }
   ],
   "source": [
    "# Is arr delay evenly distributed?\n",
    "\n",
    "plt.figure(figsize=(15,5))\n",
    "sns.distplot(df.arr_delay)\n",
    "plt.title(\"Is arrival delays evenly distributed?\")\n",
    "plt.ylabel(\"Frequency\")\n",
    "plt.xlabel(\"Minutes Delayed\")"
   ]
  },
  {
   "cell_type": "markdown",
   "metadata": {},
   "source": [
    "As we can see, the data is infact not normally distributed. This means that there are a lot of outliers. I won't remove the ourliers at this point, however, as we want to preserve as many data points as possible, particularly for the time series exploration. If we find that they are skewing the data too much, we will look to remove them using the IQR method.\n",
    "\n",
    "\n",
    "This will likely have an effect on any statistical testing, however, as these tests assume that the data is normally distributed."
   ]
  },
  {
   "cell_type": "markdown",
   "metadata": {},
   "source": [
    "## What airline carrier experiences the most delays?\n",
    "\n",
    "* $H_0$: There is no difference in mean between all the carriers in avg minutes of delays\n",
    "* $H_a$: There is a difference in mean between all the carriers in avg minutes of delays"
   ]
  },
  {
   "cell_type": "code",
   "execution_count": 24,
   "metadata": {},
   "outputs": [
    {
     "data": {
      "text/plain": [
       "Text(0.5, 0, 'Airline Code')"
      ]
     },
     "execution_count": 24,
     "metadata": {},
     "output_type": "execute_result"
    },
    {
     "data": {
      "image/png": "[encoded data removed]",
      "text/plain": [
       "<Figure size 1080x360 with 1 Axes>"
      ]
     },
     "metadata": {
      "needs_background": "light"
     },
     "output_type": "display_data"
    }
   ],
   "source": [
    "# Delays in minutes\n",
    "df.groupby(\"op_carrier\").arr_delay.mean().sort_values().plot.bar(figsize=(15,5))\n",
    "plt.title(\"Which airline is delayed the most?\")\n",
    "plt.ylabel(\"Minutes Delayed\")\n",
    "plt.xlabel(\"Airline Code\")"
   ]
  },
  {
   "cell_type": "markdown",
   "metadata": {},
   "source": [
    "It seems that Frontier had the longest delays, with an average of 13 min delay across 2018. Delta had the overall smallest delays in minutes, with an average of 0.6 min for 2018.\n",
    "\n",
    "Given that there are 18 unique airlines, we will not perform an ANOVA test, an instead will assume that the data is significant. Given the evidence in the graph, and the fact that we have nearly 2 million datapoints, I suspect we would get a very low p value anyways."
   ]
  },
  {
   "cell_type": "code",
   "execution_count": 25,
   "metadata": {},
   "outputs": [
    {
     "data": {
      "text/plain": [
       "Text(0.5, 0, 'Airline Code')"
      ]
     },
     "execution_count": 25,
     "metadata": {},
     "output_type": "execute_result"
    },
    {
     "data": {
      "image/png": "[encoded data removed]",
      "text/plain": [
       "<Figure size 1080x360 with 1 Axes>"
      ]
     },
     "metadata": {
      "needs_background": "light"
     },
     "output_type": "display_data"
    }
   ],
   "source": [
    "# Delays by flights (count)\n",
    "\n",
    "df[df.arr_delay > 0].groupby(\"op_carrier\").arr_delay.count().sort_values().plot.bar(figsize=(15,5))\n",
    "plt.title(\"Which airline has the most delays?\")\n",
    "plt.ylabel(\"Number of Flights\")\n",
    "plt.xlabel(\"Airline Code\")"
   ]
  },
  {
   "cell_type": "markdown",
   "metadata": {},
   "source": [
    "Interestingly, American Airlines seems to have the most flights delayed. I think this is more indicative of which airlines have most scheduled flights. If we want to look at better metric of delays, we should use minutes delayed."
   ]
  },
  {
   "cell_type": "markdown",
   "metadata": {},
   "source": [
    "## What airport experience the most delays?\n",
    "\n",
    "* $H_0$: There is no mean difference in minutes delayed by airport\n",
    "* $H_a$: There is a difference in minutes delayed by airport"
   ]
  },
  {
   "cell_type": "code",
   "execution_count": 26,
   "metadata": {
    "scrolled": false
   },
   "outputs": [
    {
     "data": {
      "text/plain": [
       "Text(0.5, 0, 'Airline Code')"
      ]
     },
     "execution_count": 26,
     "metadata": {},
     "output_type": "execute_result"
    },
    {
     "data": {
      "image/png": "[encoded data removed]",
      "text/plain": [
       "<Figure size 1080x360 with 1 Axes>"
      ]
     },
     "metadata": {
      "needs_background": "light"
     },
     "output_type": "display_data"
    }
   ],
   "source": [
    "# Delays in minutes\n",
    "df.groupby(\"origin\").arr_delay.mean().sort_values().plot.bar(figsize=(15,5))\n",
    "plt.title(\"Which airport experiences the most delays, in minutes?\")\n",
    "plt.ylabel(\"Minutes Delayed\")\n",
    "plt.xlabel(\"Airline Code\")"
   ]
  },
  {
   "cell_type": "code",
   "execution_count": 27,
   "metadata": {
    "scrolled": false
   },
   "outputs": [
    {
     "data": {
      "text/plain": [
       "Text(0.5, 0, 'Airline Code')"
      ]
     },
     "execution_count": 27,
     "metadata": {},
     "output_type": "execute_result"
    },
    {
     "data": {
      "image/png": "[encoded data removed]",
      "text/plain": [
       "<Figure size 1080x360 with 1 Axes>"
      ]
     },
     "metadata": {
      "needs_background": "light"
     },
     "output_type": "display_data"
    }
   ],
   "source": [
    "df[df.arr_delay > 0].groupby(\"origin\").arr_delay.count().sort_values().plot.bar(figsize=(15,5))\n",
    "plt.title(\"Which airport has the most number of flights delayed?\")\n",
    "plt.ylabel(\"Number of Flights\")\n",
    "plt.xlabel(\"Airline Code\")"
   ]
  },
  {
   "cell_type": "markdown",
   "metadata": {},
   "source": [
    "Interestingly, Orland seems to have the most delays both in number of flights delayed by more than a minute, and avg minutes delayed. Some ideas that might help explain these results:\n",
    "\n",
    "1. Look at airports that recieve the most international flights\n",
    "1. Look at what airports have hubs for what airlines. Given that we know that overall some airlines have a higher propensity to experience delays, it might be that this has an effect on delays by airports.\n",
    "\n",
    "I initially though that weather might have an impact on this - as Orlando could experience high humidity, however Miami is on the other side of the spectrum, and I would suspect they would have similar weather.\n",
    "\n",
    "We know Atlanta and LAX are the busiest airports in terms of total number of flights.\n",
    "\n",
    "Again, given that there are 15 unique airports, we won't conduct an ANOVA test. We will assume that the data is statistically significant."
   ]
  },
  {
   "cell_type": "markdown",
   "metadata": {},
   "source": [
    "## What is the most common type of delay?\n",
    "\n",
    "* $H_0$: There is no difference in mean minutes delayed between the different delay types\n",
    "* $H_a$: There is a difference in mean minutes delayed between the different delay types"
   ]
  },
  {
   "cell_type": "code",
   "execution_count": 28,
   "metadata": {},
   "outputs": [
    {
     "name": "stdout",
     "output_type": "stream",
     "text": [
      "<class 'pandas.core.frame.DataFrame'>\n",
      "Int64Index: 2965760 entries, 0 to 2965759\n",
      "Data columns (total 27 columns):\n",
      "fl_date                object\n",
      "op_carrier             object\n",
      "op_carrier_fl_num      int64\n",
      "origin                 object\n",
      "dest                   object\n",
      "crs_dep_time           int64\n",
      "dep_time               float64\n",
      "dep_delay              float64\n",
      "taxi_out               float64\n",
      "wheels_off             float64\n",
      "wheels_on              float64\n",
      "taxi_in                float64\n",
      "crs_arr_time           int64\n",
      "arr_time               float64\n",
      "arr_delay              float64\n",
      "cancelled              float64\n",
      "diverted               float64\n",
      "crs_elapsed_time       float64\n",
      "actual_elapsed_time    float64\n",
      "air_time               float64\n",
      "distance               float64\n",
      "carrier_delay          float64\n",
      "weather_delay          float64\n",
      "nas_delay              float64\n",
      "security_delay         float64\n",
      "late_aircraft_delay    float64\n",
      "Airline                object\n",
      "dtypes: float64(19), int64(3), object(5)\n",
      "memory usage: 633.6+ MB\n"
     ]
    }
   ],
   "source": [
    "df.info()"
   ]
  },
  {
   "cell_type": "code",
   "execution_count": 29,
   "metadata": {},
   "outputs": [
    {
     "data": {
      "text/plain": [
       "Text(0.5, 0, 'Reason for delay')"
      ]
     },
     "execution_count": 29,
     "metadata": {},
     "output_type": "execute_result"
    },
    {
     "data": {
      "image/png": "[encoded data removed]",
      "text/plain": [
       "<Figure size 1080x360 with 1 Axes>"
      ]
     },
     "metadata": {
      "needs_background": "light"
     },
     "output_type": "display_data"
    }
   ],
   "source": [
    "df.iloc[:,22:26].mean().sort_values().plot.bar(figsize=(15,5))\n",
    "plt.title(\"What is the most common reason for a delay?\")\n",
    "plt.ylabel(\"Avg minutes delayed\")\n",
    "plt.xlabel(\"Reason for delay\")"
   ]
  },
  {
   "cell_type": "markdown",
   "metadata": {},
   "source": [
    "It seems that a late aircraft arrival is the main cause for delays. This raises more questions, as now we may have to not only look at the weather and factor of the previous flights (which means we will need to definitively look at the flight number). \n",
    "\n",
    "We might be able to use this information to track inbound [flights]https://flightaware.com/live/flight/UAL208/history/20200709/2205Z/KATL/KIAH\n",
    "\n",
    "If we could find a way to actually scrape the previous airport, we might be able to get additional data to enhance the model's effectiveness."
   ]
  },
  {
   "cell_type": "code",
   "execution_count": 30,
   "metadata": {},
   "outputs": [
    {
     "name": "stdout",
     "output_type": "stream",
     "text": [
      "p value:0.0\n"
     ]
    }
   ],
   "source": [
    "# ANOVA\n",
    "stat, pvalue = stats.f_oneway(df.security_delay, df.weather_delay, df.nas_delay, df.late_aircraft_delay)\n",
    "\n",
    "print(f\"p value:{pvalue}\")"
   ]
  },
  {
   "cell_type": "markdown",
   "metadata": {},
   "source": [
    "Given that our p value is lower than our alpha, we can reject the null hypothesis, and assume that there is a significant difference between the groups."
   ]
  },
  {
   "cell_type": "markdown",
   "metadata": {},
   "source": [
    "## Are delays more or less common when the destination is another major airport?\n",
    "\n",
    "* $H_0$: The airport destination does no make a mean difference in minutes delayed\n",
    "* $H_a$: The airport destination does make a mean difference in minutes delayed\n",
    "\n",
    "$\\alpha$ = 0.05"
   ]
  },
  {
   "cell_type": "code",
   "execution_count": 31,
   "metadata": {},
   "outputs": [],
   "source": [
    "for i in top_airports:\n",
    "    df.loc[df['dest'] == i, 'is_top'] = True\n",
    "    \n",
    "df.is_top = df.is_top.fillna(False)"
   ]
  },
  {
   "cell_type": "code",
   "execution_count": 32,
   "metadata": {},
   "outputs": [
    {
     "data": {
      "text/plain": [
       "5.972897744384738"
      ]
     },
     "execution_count": 32,
     "metadata": {},
     "output_type": "execute_result"
    }
   ],
   "source": [
    "df[df.is_top].arr_delay.mean()"
   ]
  },
  {
   "cell_type": "code",
   "execution_count": 33,
   "metadata": {},
   "outputs": [
    {
     "data": {
      "text/plain": [
       "5.636822310970039"
      ]
     },
     "execution_count": 33,
     "metadata": {},
     "output_type": "execute_result"
    }
   ],
   "source": [
    "df[~df.is_top].arr_delay.mean()"
   ]
  },
  {
   "cell_type": "code",
   "execution_count": 34,
   "metadata": {},
   "outputs": [
    {
     "name": "stdout",
     "output_type": "stream",
     "text": [
      "p value: 0.00\n"
     ]
    }
   ],
   "source": [
    "subgroup_1 = df[df.is_top].arr_delay\n",
    "subgroup_2 = df[~df.is_top].arr_delay\n",
    "\n",
    "tstat, p = stats.ttest_ind(subgroup_1, subgroup_2)\n",
    "\n",
    "print(f\"p value: {p:.2f}\")"
   ]
  },
  {
   "cell_type": "markdown",
   "metadata": {},
   "source": [
    "As we can see, our p value is smaller than our alpha, and as such we can reject the null hypothesis. In this case, we can assume that if the destination airport is another major airport, we can expect higher delayes. This, however, should be taken with some caution, as we are dealing with a very high number of data points, and this could have an influence on the test."
   ]
  },
  {
   "cell_type": "markdown",
   "metadata": {},
   "source": [
    "## Is there a time series element to delays?\n",
    "\n",
    "Elements to look for:\n",
    "\n",
    "* Yearly seasonality\n",
    "* Month\n",
    "* Day of week\n",
    "* Hourly"
   ]
  },
  {
   "cell_type": "code",
   "execution_count": 35,
   "metadata": {},
   "outputs": [],
   "source": [
    "df.fl_date = pd.to_datetime(df.fl_date)"
   ]
  },
  {
   "cell_type": "code",
   "execution_count": 36,
   "metadata": {},
   "outputs": [],
   "source": [
    "df = df.set_index(\"fl_date\")"
   ]
  },
  {
   "cell_type": "code",
   "execution_count": 37,
   "metadata": {},
   "outputs": [
    {
     "name": "stdout",
     "output_type": "stream",
     "text": [
      "<class 'pandas.core.frame.DataFrame'>\n",
      "DatetimeIndex: 2965760 entries, 2018-01-01 to 2018-12-31\n",
      "Data columns (total 27 columns):\n",
      "op_carrier             object\n",
      "op_carrier_fl_num      int64\n",
      "origin                 object\n",
      "dest                   object\n",
      "crs_dep_time           int64\n",
      "dep_time               float64\n",
      "dep_delay              float64\n",
      "taxi_out               float64\n",
      "wheels_off             float64\n",
      "wheels_on              float64\n",
      "taxi_in                float64\n",
      "crs_arr_time           int64\n",
      "arr_time               float64\n",
      "arr_delay              float64\n",
      "cancelled              float64\n",
      "diverted               float64\n",
      "crs_elapsed_time       float64\n",
      "actual_elapsed_time    float64\n",
      "air_time               float64\n",
      "distance               float64\n",
      "carrier_delay          float64\n",
      "weather_delay          float64\n",
      "nas_delay              float64\n",
      "security_delay         float64\n",
      "late_aircraft_delay    float64\n",
      "Airline                object\n",
      "is_top                 bool\n",
      "dtypes: bool(1), float64(19), int64(3), object(4)\n",
      "memory usage: 613.8+ MB\n"
     ]
    }
   ],
   "source": [
    "df.info()"
   ]
  },
  {
   "cell_type": "code",
   "execution_count": 38,
   "metadata": {},
   "outputs": [],
   "source": [
    "monthly = df.resample(\"M\").mean()"
   ]
  },
  {
   "cell_type": "code",
   "execution_count": 39,
   "metadata": {},
   "outputs": [
    {
     "data": {
      "text/plain": [
       "Text(0.5, 0, 'Date')"
      ]
     },
     "execution_count": 39,
     "metadata": {},
     "output_type": "execute_result"
    },
    {
     "data": {
      "image/png": "[encoded data removed]",
      "text/plain": [
       "<Figure size 1080x360 with 1 Axes>"
      ]
     },
     "metadata": {
      "needs_background": "light"
     },
     "output_type": "display_data"
    }
   ],
   "source": [
    "plt.figure(figsize=(15,5))\n",
    "sns.lineplot(data=monthly, x=monthly.index, y=\"arr_delay\")\n",
    "plt.title(\"Does time of year make a difference in avg minutes delayed?\")\n",
    "plt.ylabel(\"Arrival delayed, in minutes\")\n",
    "plt.xlabel(\"Date\")"
   ]
  },
  {
   "cell_type": "markdown",
   "metadata": {},
   "source": [
    "We see that there ceirtainly seems to be a seasonality that could be impacting flight delays. It seems that over the summer is when delayes peak. This is likely related to an increase in travel from school breaks as well as summer holidays. We do see a small spike in December, which likely shows people traveling for Christmas. "
   ]
  },
  {
   "cell_type": "markdown",
   "metadata": {},
   "source": [
    "## Is there a difference in day of the week delay?\n",
    "\n",
    "* $H_0$: There is no mean difference in arrival delays between the days of the week\n",
    "* $H_a$: There is a mean difference in arrival delays between the days of the week"
   ]
  },
  {
   "cell_type": "code",
   "execution_count": 40,
   "metadata": {},
   "outputs": [],
   "source": [
    "df = df.reset_index()"
   ]
  },
  {
   "cell_type": "code",
   "execution_count": 41,
   "metadata": {},
   "outputs": [],
   "source": [
    "df[\"day_name\"] = df.fl_date.dt.day_name()"
   ]
  },
  {
   "cell_type": "code",
   "execution_count": 42,
   "metadata": {},
   "outputs": [
    {
     "data": {
      "text/plain": [
       "Text(0, 0.5, 'Arrival delay, in minutes')"
      ]
     },
     "execution_count": 42,
     "metadata": {},
     "output_type": "execute_result"
    },
    {
     "data": {
      "image/png": "[encoded data removed]",
      "text/plain": [
       "<Figure size 1080x360 with 1 Axes>"
      ]
     },
     "metadata": {
      "needs_background": "light"
     },
     "output_type": "display_data"
    }
   ],
   "source": [
    "plt.figure(figsize=(15,5))\n",
    "sns.barplot(data=df, x=\"day_name\", y=\"arr_delay\")\n",
    "plt.title(\"Does the day of the week matter?\")\n",
    "plt.ylabel(\"Arrival delay, in minutes\")"
   ]
  },
  {
   "cell_type": "code",
   "execution_count": 43,
   "metadata": {},
   "outputs": [
    {
     "data": {
      "text/html": [
       "<div>\n",
       "<style scoped>\n",
       "    .dataframe tbody tr th:only-of-type {\n",
       "        vertical-align: middle;\n",
       "    }\n",
       "\n",
       "    .dataframe tbody tr th {\n",
       "        vertical-align: top;\n",
       "    }\n",
       "\n",
       "    .dataframe thead th {\n",
       "        text-align: right;\n",
       "    }\n",
       "</style>\n",
       "<table border=\"1\" class=\"dataframe\">\n",
       "  <thead>\n",
       "    <tr style=\"text-align: right;\">\n",
       "      <th></th>\n",
       "      <th>fl_date</th>\n",
       "      <th>op_carrier</th>\n",
       "      <th>op_carrier_fl_num</th>\n",
       "      <th>origin</th>\n",
       "      <th>dest</th>\n",
       "      <th>crs_dep_time</th>\n",
       "      <th>dep_time</th>\n",
       "      <th>dep_delay</th>\n",
       "      <th>taxi_out</th>\n",
       "      <th>wheels_off</th>\n",
       "      <th>...</th>\n",
       "      <th>air_time</th>\n",
       "      <th>distance</th>\n",
       "      <th>carrier_delay</th>\n",
       "      <th>weather_delay</th>\n",
       "      <th>nas_delay</th>\n",
       "      <th>security_delay</th>\n",
       "      <th>late_aircraft_delay</th>\n",
       "      <th>Airline</th>\n",
       "      <th>is_top</th>\n",
       "      <th>day_name</th>\n",
       "    </tr>\n",
       "  </thead>\n",
       "  <tbody>\n",
       "    <tr>\n",
       "      <th>0</th>\n",
       "      <td>2018-01-01</td>\n",
       "      <td>UA</td>\n",
       "      <td>2429</td>\n",
       "      <td>EWR</td>\n",
       "      <td>DEN</td>\n",
       "      <td>1517</td>\n",
       "      <td>1512.0</td>\n",
       "      <td>-5.0</td>\n",
       "      <td>15.0</td>\n",
       "      <td>1527.0</td>\n",
       "      <td>...</td>\n",
       "      <td>225.0</td>\n",
       "      <td>1605.0</td>\n",
       "      <td>0.0</td>\n",
       "      <td>0.0</td>\n",
       "      <td>0.0</td>\n",
       "      <td>0.0</td>\n",
       "      <td>0.0</td>\n",
       "      <td>United Air Lines Inc.</td>\n",
       "      <td>True</td>\n",
       "      <td>Monday</td>\n",
       "    </tr>\n",
       "    <tr>\n",
       "      <th>1</th>\n",
       "      <td>2018-01-01</td>\n",
       "      <td>UA</td>\n",
       "      <td>2427</td>\n",
       "      <td>LAS</td>\n",
       "      <td>SFO</td>\n",
       "      <td>1115</td>\n",
       "      <td>1107.0</td>\n",
       "      <td>-8.0</td>\n",
       "      <td>11.0</td>\n",
       "      <td>1118.0</td>\n",
       "      <td>...</td>\n",
       "      <td>65.0</td>\n",
       "      <td>414.0</td>\n",
       "      <td>0.0</td>\n",
       "      <td>0.0</td>\n",
       "      <td>0.0</td>\n",
       "      <td>0.0</td>\n",
       "      <td>0.0</td>\n",
       "      <td>United Air Lines Inc.</td>\n",
       "      <td>True</td>\n",
       "      <td>Monday</td>\n",
       "    </tr>\n",
       "    <tr>\n",
       "      <th>2</th>\n",
       "      <td>2018-01-01</td>\n",
       "      <td>UA</td>\n",
       "      <td>2424</td>\n",
       "      <td>ORD</td>\n",
       "      <td>ALB</td>\n",
       "      <td>630</td>\n",
       "      <td>650.0</td>\n",
       "      <td>20.0</td>\n",
       "      <td>13.0</td>\n",
       "      <td>703.0</td>\n",
       "      <td>...</td>\n",
       "      <td>83.0</td>\n",
       "      <td>723.0</td>\n",
       "      <td>0.0</td>\n",
       "      <td>0.0</td>\n",
       "      <td>0.0</td>\n",
       "      <td>0.0</td>\n",
       "      <td>0.0</td>\n",
       "      <td>United Air Lines Inc.</td>\n",
       "      <td>False</td>\n",
       "      <td>Monday</td>\n",
       "    </tr>\n",
       "    <tr>\n",
       "      <th>3</th>\n",
       "      <td>2018-01-01</td>\n",
       "      <td>UA</td>\n",
       "      <td>2422</td>\n",
       "      <td>ORD</td>\n",
       "      <td>OMA</td>\n",
       "      <td>2241</td>\n",
       "      <td>2244.0</td>\n",
       "      <td>3.0</td>\n",
       "      <td>15.0</td>\n",
       "      <td>2259.0</td>\n",
       "      <td>...</td>\n",
       "      <td>62.0</td>\n",
       "      <td>416.0</td>\n",
       "      <td>0.0</td>\n",
       "      <td>0.0</td>\n",
       "      <td>0.0</td>\n",
       "      <td>0.0</td>\n",
       "      <td>0.0</td>\n",
       "      <td>United Air Lines Inc.</td>\n",
       "      <td>False</td>\n",
       "      <td>Monday</td>\n",
       "    </tr>\n",
       "    <tr>\n",
       "      <th>4</th>\n",
       "      <td>2018-01-01</td>\n",
       "      <td>UA</td>\n",
       "      <td>2421</td>\n",
       "      <td>IAH</td>\n",
       "      <td>LAS</td>\n",
       "      <td>750</td>\n",
       "      <td>747.0</td>\n",
       "      <td>-3.0</td>\n",
       "      <td>14.0</td>\n",
       "      <td>801.0</td>\n",
       "      <td>...</td>\n",
       "      <td>173.0</td>\n",
       "      <td>1222.0</td>\n",
       "      <td>0.0</td>\n",
       "      <td>0.0</td>\n",
       "      <td>0.0</td>\n",
       "      <td>0.0</td>\n",
       "      <td>0.0</td>\n",
       "      <td>United Air Lines Inc.</td>\n",
       "      <td>True</td>\n",
       "      <td>Monday</td>\n",
       "    </tr>\n",
       "  </tbody>\n",
       "</table>\n",
       "<p>5 rows × 29 columns</p>\n",
       "</div>"
      ],
      "text/plain": [
       "     fl_date op_carrier  op_carrier_fl_num origin dest  crs_dep_time  \\\n",
       "0 2018-01-01         UA               2429    EWR  DEN          1517   \n",
       "1 2018-01-01         UA               2427    LAS  SFO          1115   \n",
       "2 2018-01-01         UA               2424    ORD  ALB           630   \n",
       "3 2018-01-01         UA               2422    ORD  OMA          2241   \n",
       "4 2018-01-01         UA               2421    IAH  LAS           750   \n",
       "\n",
       "   dep_time  dep_delay  taxi_out  wheels_off  ...  air_time  distance  \\\n",
       "0    1512.0       -5.0      15.0      1527.0  ...     225.0    1605.0   \n",
       "1    1107.0       -8.0      11.0      1118.0  ...      65.0     414.0   \n",
       "2     650.0       20.0      13.0       703.0  ...      83.0     723.0   \n",
       "3    2244.0        3.0      15.0      2259.0  ...      62.0     416.0   \n",
       "4     747.0       -3.0      14.0       801.0  ...     173.0    1222.0   \n",
       "\n",
       "   carrier_delay  weather_delay  nas_delay  security_delay  \\\n",
       "0            0.0            0.0        0.0             0.0   \n",
       "1            0.0            0.0        0.0             0.0   \n",
       "2            0.0            0.0        0.0             0.0   \n",
       "3            0.0            0.0        0.0             0.0   \n",
       "4            0.0            0.0        0.0             0.0   \n",
       "\n",
       "   late_aircraft_delay                Airline  is_top  day_name  \n",
       "0                  0.0  United Air Lines Inc.    True    Monday  \n",
       "1                  0.0  United Air Lines Inc.    True    Monday  \n",
       "2                  0.0  United Air Lines Inc.   False    Monday  \n",
       "3                  0.0  United Air Lines Inc.   False    Monday  \n",
       "4                  0.0  United Air Lines Inc.    True    Monday  \n",
       "\n",
       "[5 rows x 29 columns]"
      ]
     },
     "execution_count": 43,
     "metadata": {},
     "output_type": "execute_result"
    }
   ],
   "source": [
    "df.head()"
   ]
  },
  {
   "cell_type": "code",
   "execution_count": 44,
   "metadata": {},
   "outputs": [
    {
     "name": "stdout",
     "output_type": "stream",
     "text": [
      "p value: 0.0\n"
     ]
    }
   ],
   "source": [
    "monday = df[df.day_name == \"Monday\"].arr_delay\n",
    "tuesday = df[df.day_name == \"Tuesday\"].arr_delay\n",
    "wed = df[df.day_name == \"Wednesday\"].arr_delay\n",
    "thur = df[df.day_name == \"Thursday\"].arr_delay\n",
    "fri = df[df.day_name == \"Friday\"].arr_delay\n",
    "sat = df[df.day_name == \"Saturday\"].arr_delay\n",
    "sun = df[df.day_name == \"Sunday\"].arr_delay\n",
    "\n",
    "# ANOVA\n",
    "stat, pvalue = stats.f_oneway(monday, tuesday, wed, thur, fri, sat, sun)\n",
    "\n",
    "print(f\"p value: {pvalue}\")"
   ]
  },
  {
   "cell_type": "markdown",
   "metadata": {},
   "source": [
    "Given that our p value is zero, we can reject the null hypothesis, and assume that there is a significant difference in the day of the week and the avg minutes of delays.\n",
    "\n",
    "It seems that there is ceirtainly some big difference, with Saturday experiencing the least number of delays, and Thursday and Friday having the most. This kind of makes sense, as you would expect most people to travel on a Thursday or Friday (to take advantage of the long weekends) and then return Sunday. Satuday is likely on of the least traveled days."
   ]
  },
  {
   "cell_type": "markdown",
   "metadata": {},
   "source": [
    "## Is there a difference in avg minutes delay based on the time of day?"
   ]
  },
  {
   "cell_type": "code",
   "execution_count": 45,
   "metadata": {},
   "outputs": [],
   "source": [
    "df[\"crs_dep_time\"] = df['crs_dep_time'].astype(str).apply(lambda x: x.zfill(4))"
   ]
  },
  {
   "cell_type": "code",
   "execution_count": 46,
   "metadata": {
    "scrolled": false
   },
   "outputs": [],
   "source": [
    "df[\"crs_dep_time\"] = pd.to_datetime(df.crs_dep_time, format= \"%H%M\")"
   ]
  },
  {
   "cell_type": "code",
   "execution_count": 47,
   "metadata": {},
   "outputs": [
    {
     "data": {
      "text/plain": [
       "Text(0.5, 0, 'Dept Time')"
      ]
     },
     "execution_count": 47,
     "metadata": {},
     "output_type": "execute_result"
    },
    {
     "data": {
      "image/png": "[encoded data removed]",
      "text/plain": [
       "<Figure size 1080x360 with 1 Axes>"
      ]
     },
     "metadata": {
      "needs_background": "light"
     },
     "output_type": "display_data"
    }
   ],
   "source": [
    "df.set_index(\"crs_dep_time\").arr_delay.resample(\"1H\").mean().plot.line(figsize=(15,5))\n",
    "plt.title(\"Are there any hours where delays are more common?\")\n",
    "plt.ylabel(\"Arrival delay, in minutes\")\n",
    "plt.xlabel(\"Dept Time\")"
   ]
  },
  {
   "cell_type": "markdown",
   "metadata": {},
   "source": [
    "It seems that the flights that get most delayed are those in the afternoon, between 4 pm and 9 pm. It also seems that there are no flights between 2 am and 4 am. It seems that there seems to be a small peak in delays at around the time when the airpot opens."
   ]
  },
  {
   "cell_type": "code",
   "execution_count": 48,
   "metadata": {},
   "outputs": [
    {
     "data": {
      "text/html": [
       "<div>\n",
       "<style scoped>\n",
       "    .dataframe tbody tr th:only-of-type {\n",
       "        vertical-align: middle;\n",
       "    }\n",
       "\n",
       "    .dataframe tbody tr th {\n",
       "        vertical-align: top;\n",
       "    }\n",
       "\n",
       "    .dataframe thead th {\n",
       "        text-align: right;\n",
       "    }\n",
       "</style>\n",
       "<table border=\"1\" class=\"dataframe\">\n",
       "  <thead>\n",
       "    <tr style=\"text-align: right;\">\n",
       "      <th></th>\n",
       "      <th>fl_date</th>\n",
       "      <th>op_carrier</th>\n",
       "      <th>op_carrier_fl_num</th>\n",
       "      <th>origin</th>\n",
       "      <th>dest</th>\n",
       "      <th>crs_dep_time</th>\n",
       "      <th>dep_time</th>\n",
       "      <th>dep_delay</th>\n",
       "      <th>taxi_out</th>\n",
       "      <th>wheels_off</th>\n",
       "      <th>...</th>\n",
       "      <th>air_time</th>\n",
       "      <th>distance</th>\n",
       "      <th>carrier_delay</th>\n",
       "      <th>weather_delay</th>\n",
       "      <th>nas_delay</th>\n",
       "      <th>security_delay</th>\n",
       "      <th>late_aircraft_delay</th>\n",
       "      <th>Airline</th>\n",
       "      <th>is_top</th>\n",
       "      <th>day_name</th>\n",
       "    </tr>\n",
       "  </thead>\n",
       "  <tbody>\n",
       "    <tr>\n",
       "      <th>0</th>\n",
       "      <td>2018-01-01</td>\n",
       "      <td>UA</td>\n",
       "      <td>2429</td>\n",
       "      <td>EWR</td>\n",
       "      <td>DEN</td>\n",
       "      <td>1900-01-01 15:17:00</td>\n",
       "      <td>1512.0</td>\n",
       "      <td>-5.0</td>\n",
       "      <td>15.0</td>\n",
       "      <td>1527.0</td>\n",
       "      <td>...</td>\n",
       "      <td>225.0</td>\n",
       "      <td>1605.0</td>\n",
       "      <td>0.0</td>\n",
       "      <td>0.0</td>\n",
       "      <td>0.0</td>\n",
       "      <td>0.0</td>\n",
       "      <td>0.0</td>\n",
       "      <td>United Air Lines Inc.</td>\n",
       "      <td>True</td>\n",
       "      <td>Monday</td>\n",
       "    </tr>\n",
       "    <tr>\n",
       "      <th>1</th>\n",
       "      <td>2018-01-01</td>\n",
       "      <td>UA</td>\n",
       "      <td>2427</td>\n",
       "      <td>LAS</td>\n",
       "      <td>SFO</td>\n",
       "      <td>1900-01-01 11:15:00</td>\n",
       "      <td>1107.0</td>\n",
       "      <td>-8.0</td>\n",
       "      <td>11.0</td>\n",
       "      <td>1118.0</td>\n",
       "      <td>...</td>\n",
       "      <td>65.0</td>\n",
       "      <td>414.0</td>\n",
       "      <td>0.0</td>\n",
       "      <td>0.0</td>\n",
       "      <td>0.0</td>\n",
       "      <td>0.0</td>\n",
       "      <td>0.0</td>\n",
       "      <td>United Air Lines Inc.</td>\n",
       "      <td>True</td>\n",
       "      <td>Monday</td>\n",
       "    </tr>\n",
       "    <tr>\n",
       "      <th>2</th>\n",
       "      <td>2018-01-01</td>\n",
       "      <td>UA</td>\n",
       "      <td>2424</td>\n",
       "      <td>ORD</td>\n",
       "      <td>ALB</td>\n",
       "      <td>1900-01-01 06:30:00</td>\n",
       "      <td>650.0</td>\n",
       "      <td>20.0</td>\n",
       "      <td>13.0</td>\n",
       "      <td>703.0</td>\n",
       "      <td>...</td>\n",
       "      <td>83.0</td>\n",
       "      <td>723.0</td>\n",
       "      <td>0.0</td>\n",
       "      <td>0.0</td>\n",
       "      <td>0.0</td>\n",
       "      <td>0.0</td>\n",
       "      <td>0.0</td>\n",
       "      <td>United Air Lines Inc.</td>\n",
       "      <td>False</td>\n",
       "      <td>Monday</td>\n",
       "    </tr>\n",
       "    <tr>\n",
       "      <th>3</th>\n",
       "      <td>2018-01-01</td>\n",
       "      <td>UA</td>\n",
       "      <td>2422</td>\n",
       "      <td>ORD</td>\n",
       "      <td>OMA</td>\n",
       "      <td>1900-01-01 22:41:00</td>\n",
       "      <td>2244.0</td>\n",
       "      <td>3.0</td>\n",
       "      <td>15.0</td>\n",
       "      <td>2259.0</td>\n",
       "      <td>...</td>\n",
       "      <td>62.0</td>\n",
       "      <td>416.0</td>\n",
       "      <td>0.0</td>\n",
       "      <td>0.0</td>\n",
       "      <td>0.0</td>\n",
       "      <td>0.0</td>\n",
       "      <td>0.0</td>\n",
       "      <td>United Air Lines Inc.</td>\n",
       "      <td>False</td>\n",
       "      <td>Monday</td>\n",
       "    </tr>\n",
       "    <tr>\n",
       "      <th>4</th>\n",
       "      <td>2018-01-01</td>\n",
       "      <td>UA</td>\n",
       "      <td>2421</td>\n",
       "      <td>IAH</td>\n",
       "      <td>LAS</td>\n",
       "      <td>1900-01-01 07:50:00</td>\n",
       "      <td>747.0</td>\n",
       "      <td>-3.0</td>\n",
       "      <td>14.0</td>\n",
       "      <td>801.0</td>\n",
       "      <td>...</td>\n",
       "      <td>173.0</td>\n",
       "      <td>1222.0</td>\n",
       "      <td>0.0</td>\n",
       "      <td>0.0</td>\n",
       "      <td>0.0</td>\n",
       "      <td>0.0</td>\n",
       "      <td>0.0</td>\n",
       "      <td>United Air Lines Inc.</td>\n",
       "      <td>True</td>\n",
       "      <td>Monday</td>\n",
       "    </tr>\n",
       "  </tbody>\n",
       "</table>\n",
       "<p>5 rows × 29 columns</p>\n",
       "</div>"
      ],
      "text/plain": [
       "     fl_date op_carrier  op_carrier_fl_num origin dest        crs_dep_time  \\\n",
       "0 2018-01-01         UA               2429    EWR  DEN 1900-01-01 15:17:00   \n",
       "1 2018-01-01         UA               2427    LAS  SFO 1900-01-01 11:15:00   \n",
       "2 2018-01-01         UA               2424    ORD  ALB 1900-01-01 06:30:00   \n",
       "3 2018-01-01         UA               2422    ORD  OMA 1900-01-01 22:41:00   \n",
       "4 2018-01-01         UA               2421    IAH  LAS 1900-01-01 07:50:00   \n",
       "\n",
       "   dep_time  dep_delay  taxi_out  wheels_off  ...  air_time  distance  \\\n",
       "0    1512.0       -5.0      15.0      1527.0  ...     225.0    1605.0   \n",
       "1    1107.0       -8.0      11.0      1118.0  ...      65.0     414.0   \n",
       "2     650.0       20.0      13.0       703.0  ...      83.0     723.0   \n",
       "3    2244.0        3.0      15.0      2259.0  ...      62.0     416.0   \n",
       "4     747.0       -3.0      14.0       801.0  ...     173.0    1222.0   \n",
       "\n",
       "   carrier_delay  weather_delay  nas_delay  security_delay  \\\n",
       "0            0.0            0.0        0.0             0.0   \n",
       "1            0.0            0.0        0.0             0.0   \n",
       "2            0.0            0.0        0.0             0.0   \n",
       "3            0.0            0.0        0.0             0.0   \n",
       "4            0.0            0.0        0.0             0.0   \n",
       "\n",
       "   late_aircraft_delay                Airline  is_top  day_name  \n",
       "0                  0.0  United Air Lines Inc.    True    Monday  \n",
       "1                  0.0  United Air Lines Inc.    True    Monday  \n",
       "2                  0.0  United Air Lines Inc.   False    Monday  \n",
       "3                  0.0  United Air Lines Inc.   False    Monday  \n",
       "4                  0.0  United Air Lines Inc.    True    Monday  \n",
       "\n",
       "[5 rows x 29 columns]"
      ]
     },
     "execution_count": 48,
     "metadata": {},
     "output_type": "execute_result"
    }
   ],
   "source": [
    "df.head()"
   ]
  },
  {
   "cell_type": "code",
   "execution_count": 49,
   "metadata": {
    "scrolled": false
   },
   "outputs": [
    {
     "data": {
      "image/png": "[encoded data removed]",
      "text/plain": [
       "<Figure size 792x576 with 7 Axes>"
      ]
     },
     "metadata": {
      "needs_background": "light"
     },
     "output_type": "display_data"
    }
   ],
   "source": [
    "# can we look at it by day of the week?\n",
    "\n",
    "fig = plt.figure(figsize=(11,8))\n",
    "days_of_week = df.day_name.unique()\n",
    "for count, day in enumerate(days_of_week):    \n",
    "    plt.subplot(5, 2, 1+count)\n",
    "    df[df.day_name == day].set_index(\"crs_dep_time\").arr_delay.resample(\"1H\").mean().plot.line()\n",
    "    plt.title(day)\n",
    "\n",
    "    fig.tight_layout()\n",
    "\n",
    "plt.show()\n"
   ]
  },
  {
   "cell_type": "markdown",
   "metadata": {},
   "source": [
    "As we can see - it seems that regarless of the day of the week, it seems that the peak in delays is always in the evening, between 6 pm and 9 pm. The only exeption is Thursdays, which suprisingly has a long delays at 4 am. I suspect this is one outlier that is pushing the data towards a peak."
   ]
  },
  {
   "cell_type": "markdown",
   "metadata": {},
   "source": [
    "## What percentage of flights had a delayed departure, but still reached their destination on time?"
   ]
  },
  {
   "cell_type": "code",
   "execution_count": 50,
   "metadata": {},
   "outputs": [
    {
     "name": "stdout",
     "output_type": "stream",
     "text": [
      "10% of flights that are delayed still reach their destination\n"
     ]
    }
   ],
   "source": [
    "print(f\"{((df.dep_delay > 0) & (df.arr_delay <= 0 )).mean():.0%} of flights that are delayed still reach their destination\")"
   ]
  },
  {
   "cell_type": "code",
   "execution_count": 51,
   "metadata": {},
   "outputs": [
    {
     "data": {
      "text/html": [
       "<div>\n",
       "<style scoped>\n",
       "    .dataframe tbody tr th:only-of-type {\n",
       "        vertical-align: middle;\n",
       "    }\n",
       "\n",
       "    .dataframe tbody tr th {\n",
       "        vertical-align: top;\n",
       "    }\n",
       "\n",
       "    .dataframe thead th {\n",
       "        text-align: right;\n",
       "    }\n",
       "</style>\n",
       "<table border=\"1\" class=\"dataframe\">\n",
       "  <thead>\n",
       "    <tr style=\"text-align: right;\">\n",
       "      <th></th>\n",
       "      <th>fl_date</th>\n",
       "      <th>op_carrier</th>\n",
       "      <th>origin</th>\n",
       "      <th>dest</th>\n",
       "      <th>crs_dep_time</th>\n",
       "      <th>dep_delay</th>\n",
       "      <th>arr_delay</th>\n",
       "    </tr>\n",
       "  </thead>\n",
       "  <tbody>\n",
       "    <tr>\n",
       "      <th>2077240</th>\n",
       "      <td>2018-09-12</td>\n",
       "      <td>DL</td>\n",
       "      <td>JFK</td>\n",
       "      <td>SFO</td>\n",
       "      <td>1900-01-01 19:25:00</td>\n",
       "      <td>65.0</td>\n",
       "      <td>-1.0</td>\n",
       "    </tr>\n",
       "    <tr>\n",
       "      <th>23077</th>\n",
       "      <td>2018-01-03</td>\n",
       "      <td>DL</td>\n",
       "      <td>SEA</td>\n",
       "      <td>KOA</td>\n",
       "      <td>1900-01-01 15:25:00</td>\n",
       "      <td>62.0</td>\n",
       "      <td>-3.0</td>\n",
       "    </tr>\n",
       "    <tr>\n",
       "      <th>1540617</th>\n",
       "      <td>2018-07-11</td>\n",
       "      <td>DL</td>\n",
       "      <td>JFK</td>\n",
       "      <td>SFO</td>\n",
       "      <td>1900-01-01 21:00:00</td>\n",
       "      <td>62.0</td>\n",
       "      <td>-1.0</td>\n",
       "    </tr>\n",
       "    <tr>\n",
       "      <th>2216828</th>\n",
       "      <td>2018-09-29</td>\n",
       "      <td>DL</td>\n",
       "      <td>SEA</td>\n",
       "      <td>BOS</td>\n",
       "      <td>1900-01-01 15:35:00</td>\n",
       "      <td>62.0</td>\n",
       "      <td>-2.0</td>\n",
       "    </tr>\n",
       "    <tr>\n",
       "      <th>154663</th>\n",
       "      <td>2018-01-21</td>\n",
       "      <td>DL</td>\n",
       "      <td>JFK</td>\n",
       "      <td>SFO</td>\n",
       "      <td>1900-01-01 15:25:00</td>\n",
       "      <td>60.0</td>\n",
       "      <td>0.0</td>\n",
       "    </tr>\n",
       "  </tbody>\n",
       "</table>\n",
       "</div>"
      ],
      "text/plain": [
       "           fl_date op_carrier origin dest        crs_dep_time  dep_delay  \\\n",
       "2077240 2018-09-12         DL    JFK  SFO 1900-01-01 19:25:00       65.0   \n",
       "23077   2018-01-03         DL    SEA  KOA 1900-01-01 15:25:00       62.0   \n",
       "1540617 2018-07-11         DL    JFK  SFO 1900-01-01 21:00:00       62.0   \n",
       "2216828 2018-09-29         DL    SEA  BOS 1900-01-01 15:35:00       62.0   \n",
       "154663  2018-01-21         DL    JFK  SFO 1900-01-01 15:25:00       60.0   \n",
       "\n",
       "         arr_delay  \n",
       "2077240       -1.0  \n",
       "23077         -3.0  \n",
       "1540617       -1.0  \n",
       "2216828       -2.0  \n",
       "154663         0.0  "
      ]
     },
     "execution_count": 51,
     "metadata": {},
     "output_type": "execute_result"
    }
   ],
   "source": [
    "# What is the max delay that still can reach destination on time? \n",
    "\n",
    "df[(df.dep_delay > 0) & (df.arr_delay <= 0 )][[\"fl_date\", \"op_carrier\", \"origin\", \"dest\", \"crs_dep_time\", \"dep_delay\", \"arr_delay\"]].nlargest(5, columns=\"dep_delay\")"
   ]
  },
  {
   "cell_type": "markdown",
   "metadata": {},
   "source": [
    "It seems that even after a one hour delay, it is still possible to arrive on time. I suspect this has to do with factors other than the ones in this dataset, such as weather conditions, type of plane, length of flight.\n",
    "\n",
    "Still, it is good to know for modeling purposes."
   ]
  },
  {
   "cell_type": "code",
   "execution_count": 52,
   "metadata": {},
   "outputs": [
    {
     "name": "stdout",
     "output_type": "stream",
     "text": [
      "\n",
      "\n",
      "Flights that departed late by more than one hour were on average 126 minutes late\n",
      "      \n",
      "\n"
     ]
    }
   ],
   "source": [
    "print(f'''\n",
    "\n",
    "Flights that departed late by more than one hour were on average {df[(df.dep_delay > 60)][[\"fl_date\", \"op_carrier\", \"origin\", \"dest\", \"crs_dep_time\", \"dep_delay\", \"arr_delay\"]].arr_delay.mean():.0f} minutes late\n",
    "      \n",
    "''')"
   ]
  },
  {
   "cell_type": "code",
   "execution_count": 53,
   "metadata": {},
   "outputs": [
    {
     "name": "stdout",
     "output_type": "stream",
     "text": [
      "\n",
      "\n",
      "Flights that departed late by 30 min were on average 26 minutes late\n",
      "      \n",
      "\n"
     ]
    }
   ],
   "source": [
    "print(f'''\n",
    "\n",
    "Flights that departed late by 30 min were on average {df[(df.dep_delay == 30)][[\"fl_date\", \"op_carrier\", \"origin\", \"dest\", \"crs_dep_time\", \"dep_delay\", \"arr_delay\"]].arr_delay.mean():.0f} minutes late\n",
    "      \n",
    "''')"
   ]
  },
  {
   "cell_type": "code",
   "execution_count": 54,
   "metadata": {},
   "outputs": [
    {
     "name": "stdout",
     "output_type": "stream",
     "text": [
      "\n",
      "\n",
      "Flights that departed late by 15 min were on average 10 minutes late\n",
      "      \n",
      "\n"
     ]
    }
   ],
   "source": [
    "print(f'''\n",
    "\n",
    "Flights that departed late by 15 min were on average {df[(df.dep_delay == 15)][[\"fl_date\", \"op_carrier\", \"origin\", \"dest\", \"crs_dep_time\", \"dep_delay\", \"arr_delay\"]].arr_delay.mean():.0f} minutes late\n",
    "      \n",
    "''')"
   ]
  },
  {
   "cell_type": "code",
   "execution_count": 55,
   "metadata": {},
   "outputs": [
    {
     "name": "stdout",
     "output_type": "stream",
     "text": [
      "\n",
      "\n",
      "Flights that departed late by 5 min were on average 0 minutes late\n",
      "      \n",
      "\n"
     ]
    }
   ],
   "source": [
    "print(f'''\n",
    "\n",
    "Flights that departed late by 5 min were on average {df[(df.dep_delay == 5)][[\"fl_date\", \"op_carrier\", \"origin\", \"dest\", \"crs_dep_time\", \"dep_delay\", \"arr_delay\"]].arr_delay.mean():.0f} minutes late\n",
    "      \n",
    "''')"
   ]
  },
  {
   "cell_type": "markdown",
   "metadata": {},
   "source": [
    "## What other trends do we see?"
   ]
  },
  {
   "cell_type": "code",
   "execution_count": 56,
   "metadata": {},
   "outputs": [],
   "source": [
    "df['is_delay'] = df['arr_delay'].apply(lambda x: 'True' if x > 0 else 'False')"
   ]
  },
  {
   "cell_type": "code",
   "execution_count": 57,
   "metadata": {},
   "outputs": [
    {
     "name": "stdout",
     "output_type": "stream",
     "text": [
      "<class 'pandas.core.frame.DataFrame'>\n",
      "RangeIndex: 2965760 entries, 0 to 2965759\n",
      "Data columns (total 30 columns):\n",
      "fl_date                datetime64[ns]\n",
      "op_carrier             object\n",
      "op_carrier_fl_num      int64\n",
      "origin                 object\n",
      "dest                   object\n",
      "crs_dep_time           datetime64[ns]\n",
      "dep_time               float64\n",
      "dep_delay              float64\n",
      "taxi_out               float64\n",
      "wheels_off             float64\n",
      "wheels_on              float64\n",
      "taxi_in                float64\n",
      "crs_arr_time           int64\n",
      "arr_time               float64\n",
      "arr_delay              float64\n",
      "cancelled              float64\n",
      "diverted               float64\n",
      "crs_elapsed_time       float64\n",
      "actual_elapsed_time    float64\n",
      "air_time               float64\n",
      "distance               float64\n",
      "carrier_delay          float64\n",
      "weather_delay          float64\n",
      "nas_delay              float64\n",
      "security_delay         float64\n",
      "late_aircraft_delay    float64\n",
      "Airline                object\n",
      "is_top                 bool\n",
      "day_name               object\n",
      "is_delay               object\n",
      "dtypes: bool(1), datetime64[ns](2), float64(19), int64(2), object(6)\n",
      "memory usage: 659.0+ MB\n"
     ]
    }
   ],
   "source": [
    "df.info()"
   ]
  },
  {
   "cell_type": "code",
   "execution_count": 58,
   "metadata": {},
   "outputs": [],
   "source": [
    "list_of_values = [\"distance\", \"taxi_in\", \"air_time\", \"taxi_out\", \"carrier_delay\", \"nas_delay\", \"security_delay\", \"late_aircraft_delay\"]"
   ]
  },
  {
   "cell_type": "code",
   "execution_count": 59,
   "metadata": {
    "scrolled": true
   },
   "outputs": [
    {
     "data": {
      "image/png": "[encoded data removed]",
      "text/plain": [
       "<Figure size 1800x1440 with 4 Axes>"
      ]
     },
     "metadata": {
      "needs_background": "light"
     },
     "output_type": "display_data"
    }
   ],
   "source": [
    "f = plt.figure(figsize=(25,20))\n",
    "list_of_values = [\"distance\", \"taxi_in\", \"air_time\", \"taxi_out\"]\n",
    "\n",
    "for count, element in enumerate(list_of_values):\n",
    "    f.add_subplot(4,5, count+1)\n",
    "    sns.barplot(data=df, x=\"is_delay\", y=element, ci=False)\n",
    "\n",
    "    plt.xticks(rotation=45)\n",
    "plt.tight_layout()\n",
    "plt.show()"
   ]
  },
  {
   "cell_type": "markdown",
   "metadata": {},
   "source": [
    "We can see that there doesn't seem to be major difference between the remaining features. One of the surpises was distance. I was very surprised that the distance of the flight doesn't seem to make a difference on whether the flights are delayed. \n",
    "\n",
    "With this - I have enough information to move onto a first phase of modeling."
   ]
  },
  {
   "cell_type": "markdown",
   "metadata": {},
   "source": [
    "# Preprocessing\n",
    "\n",
    "For modeling purposes, I think the best features would be:\n",
    "\n",
    "* Is the destination a major airport?\n",
    "* What is the day / time of the flight?\n",
    "* What is the airport?\n",
    "* What is the airline carrier?"
   ]
  },
  {
   "cell_type": "code",
   "execution_count": 60,
   "metadata": {},
   "outputs": [],
   "source": [
    "df = wrangle.prep_flight_data()"
   ]
  },
  {
   "cell_type": "code",
   "execution_count": 61,
   "metadata": {},
   "outputs": [],
   "source": [
    "# df = df[(df.op_carrier == \"AA\") | (df.op_carrier == \"DL\")]"
   ]
  },
  {
   "cell_type": "code",
   "execution_count": 62,
   "metadata": {},
   "outputs": [],
   "source": [
    "df.fl_date = pd.to_datetime(df.fl_date)"
   ]
  },
  {
   "cell_type": "code",
   "execution_count": 63,
   "metadata": {},
   "outputs": [],
   "source": [
    "df[\"day_of_week\"] = df.fl_date.dt.dayofweek"
   ]
  },
  {
   "cell_type": "code",
   "execution_count": 64,
   "metadata": {},
   "outputs": [],
   "source": [
    "df[\"month\"] = df.fl_date.dt.month"
   ]
  },
  {
   "cell_type": "code",
   "execution_count": 65,
   "metadata": {},
   "outputs": [],
   "source": [
    "df[\"airport_avg_delay\"] = df.groupby(\"origin\").arr_delay.transform(\"mean\")"
   ]
  },
  {
   "cell_type": "code",
   "execution_count": 66,
   "metadata": {},
   "outputs": [],
   "source": [
    "df[\"dest_airport_avg_delay\"] = df.groupby(\"dest\").arr_delay.transform(\"mean\")"
   ]
  },
  {
   "cell_type": "code",
   "execution_count": 67,
   "metadata": {},
   "outputs": [],
   "source": [
    "# # We will look to see if the airport is on of the top five airports that experience delays\n",
    "# top_airports = df.groupby(\"origin\").arr_delay.mean().nlargest(5).index\n",
    "\n",
    "# for i in top_airports:\n",
    "#     df.loc[df['origin'] == i, 'is_top_delay'] = 1\n",
    "    \n",
    "# df.is_top_delay = df.is_top_delay.fillna(0)"
   ]
  },
  {
   "cell_type": "code",
   "execution_count": 68,
   "metadata": {},
   "outputs": [],
   "source": [
    "# We will use the mean delay as a representation of the airline\n",
    "\n",
    "df[\"carrier_avg_delay\"] = df.groupby(\"op_carrier\").arr_delay.transform(\"mean\")"
   ]
  },
  {
   "cell_type": "code",
   "execution_count": 69,
   "metadata": {},
   "outputs": [],
   "source": [
    "# # We will look to see if the airport is on of the top five airports that experience delays\n",
    "# top_carriers= df.groupby(\"op_carrier\").arr_delay.mean().nlargest(5).index\n",
    "\n",
    "# for i in top_carriers:\n",
    "#     df.loc[df['op_carrier'] == i, 'is_delay_carrier'] = 1\n",
    "    \n",
    "# df.is_delay_carrier = df.is_delay_carrier.fillna(0)"
   ]
  },
  {
   "cell_type": "code",
   "execution_count": 70,
   "metadata": {},
   "outputs": [],
   "source": [
    "# Lets add our target variable\n",
    "\n",
    "df['is_delay'] = df['arr_delay'].apply(lambda x: True if x > 0 else False)"
   ]
  },
  {
   "cell_type": "code",
   "execution_count": 71,
   "metadata": {},
   "outputs": [],
   "source": [
    "df[\"observation\"] = df.fl_date.astype(str) + \"_\" + df.op_carrier + \"_\" + df.op_carrier_fl_num.astype(str)"
   ]
  },
  {
   "cell_type": "code",
   "execution_count": 72,
   "metadata": {
    "scrolled": false
   },
   "outputs": [],
   "source": [
    "features_for_modeling = [\"dest_airport_avg_delay\", \"carrier_avg_delay\", \"airport_avg_delay\", \"crs_dep_time\", \"crs_arr_time\", \"month\", \"day_of_week\", \"is_delay\", \"observation\"]\n",
    "\n",
    "df_modeling = df[features_for_modeling]"
   ]
  },
  {
   "cell_type": "markdown",
   "metadata": {},
   "source": [
    "Before we begin modeling, we need to add observations for the index."
   ]
  },
  {
   "cell_type": "code",
   "execution_count": 73,
   "metadata": {},
   "outputs": [],
   "source": [
    "df_modeling = df_modeling.set_index(\"observation\")"
   ]
  },
  {
   "cell_type": "code",
   "execution_count": 74,
   "metadata": {
    "scrolled": true
   },
   "outputs": [
    {
     "data": {
      "text/html": [
       "<div>\n",
       "<style scoped>\n",
       "    .dataframe tbody tr th:only-of-type {\n",
       "        vertical-align: middle;\n",
       "    }\n",
       "\n",
       "    .dataframe tbody tr th {\n",
       "        vertical-align: top;\n",
       "    }\n",
       "\n",
       "    .dataframe thead th {\n",
       "        text-align: right;\n",
       "    }\n",
       "</style>\n",
       "<table border=\"1\" class=\"dataframe\">\n",
       "  <thead>\n",
       "    <tr style=\"text-align: right;\">\n",
       "      <th></th>\n",
       "      <th>dest_airport_avg_delay</th>\n",
       "      <th>carrier_avg_delay</th>\n",
       "      <th>airport_avg_delay</th>\n",
       "      <th>crs_dep_time</th>\n",
       "      <th>crs_arr_time</th>\n",
       "      <th>month</th>\n",
       "      <th>day_of_week</th>\n",
       "      <th>is_delay</th>\n",
       "    </tr>\n",
       "    <tr>\n",
       "      <th>observation</th>\n",
       "      <th></th>\n",
       "      <th></th>\n",
       "      <th></th>\n",
       "      <th></th>\n",
       "      <th></th>\n",
       "      <th></th>\n",
       "      <th></th>\n",
       "      <th></th>\n",
       "    </tr>\n",
       "  </thead>\n",
       "  <tbody>\n",
       "    <tr>\n",
       "      <th>2018-01-01_AA_419</th>\n",
       "      <td>4.427472</td>\n",
       "      <td>6.861925</td>\n",
       "      <td>10.246579</td>\n",
       "      <td>705</td>\n",
       "      <td>1056</td>\n",
       "      <td>1</td>\n",
       "      <td>0</td>\n",
       "      <td>False</td>\n",
       "    </tr>\n",
       "    <tr>\n",
       "      <th>2018-01-01_AA_420</th>\n",
       "      <td>6.430783</td>\n",
       "      <td>6.861925</td>\n",
       "      <td>1.570023</td>\n",
       "      <td>1148</td>\n",
       "      <td>1720</td>\n",
       "      <td>1</td>\n",
       "      <td>0</td>\n",
       "      <td>False</td>\n",
       "    </tr>\n",
       "    <tr>\n",
       "      <th>2018-01-01_AA_422</th>\n",
       "      <td>5.908550</td>\n",
       "      <td>6.861925</td>\n",
       "      <td>2.123515</td>\n",
       "      <td>2259</td>\n",
       "      <td>458</td>\n",
       "      <td>1</td>\n",
       "      <td>0</td>\n",
       "      <td>True</td>\n",
       "    </tr>\n",
       "    <tr>\n",
       "      <th>2018-01-01_AA_424</th>\n",
       "      <td>-1.555229</td>\n",
       "      <td>6.861925</td>\n",
       "      <td>2.123515</td>\n",
       "      <td>1626</td>\n",
       "      <td>2208</td>\n",
       "      <td>1</td>\n",
       "      <td>0</td>\n",
       "      <td>True</td>\n",
       "    </tr>\n",
       "    <tr>\n",
       "      <th>2018-01-01_AA_424</th>\n",
       "      <td>5.500477</td>\n",
       "      <td>6.861925</td>\n",
       "      <td>1.894642</td>\n",
       "      <td>1229</td>\n",
       "      <td>1530</td>\n",
       "      <td>1</td>\n",
       "      <td>0</td>\n",
       "      <td>True</td>\n",
       "    </tr>\n",
       "  </tbody>\n",
       "</table>\n",
       "</div>"
      ],
      "text/plain": [
       "                   dest_airport_avg_delay  carrier_avg_delay  \\\n",
       "observation                                                    \n",
       "2018-01-01_AA_419                4.427472           6.861925   \n",
       "2018-01-01_AA_420                6.430783           6.861925   \n",
       "2018-01-01_AA_422                5.908550           6.861925   \n",
       "2018-01-01_AA_424               -1.555229           6.861925   \n",
       "2018-01-01_AA_424                5.500477           6.861925   \n",
       "\n",
       "                   airport_avg_delay  crs_dep_time  crs_arr_time  month  \\\n",
       "observation                                                               \n",
       "2018-01-01_AA_419          10.246579           705          1056      1   \n",
       "2018-01-01_AA_420           1.570023          1148          1720      1   \n",
       "2018-01-01_AA_422           2.123515          2259           458      1   \n",
       "2018-01-01_AA_424           2.123515          1626          2208      1   \n",
       "2018-01-01_AA_424           1.894642          1229          1530      1   \n",
       "\n",
       "                   day_of_week  is_delay  \n",
       "observation                               \n",
       "2018-01-01_AA_419            0     False  \n",
       "2018-01-01_AA_420            0     False  \n",
       "2018-01-01_AA_422            0      True  \n",
       "2018-01-01_AA_424            0      True  \n",
       "2018-01-01_AA_424            0      True  "
      ]
     },
     "execution_count": 74,
     "metadata": {},
     "output_type": "execute_result"
    }
   ],
   "source": [
    "df_modeling.head()"
   ]
  },
  {
   "cell_type": "code",
   "execution_count": 75,
   "metadata": {},
   "outputs": [],
   "source": [
    "train, test = train_test_split(df_modeling, random_state = 123, train_size= 0.75)\n",
    "train, validate = train_test_split(train, random_state = 123, train_size= 0.75)"
   ]
  },
  {
   "cell_type": "code",
   "execution_count": 76,
   "metadata": {},
   "outputs": [
    {
     "data": {
      "text/plain": [
       "((558162, 8), (186055, 8), (248073, 8))"
      ]
     },
     "execution_count": 76,
     "metadata": {},
     "output_type": "execute_result"
    }
   ],
   "source": [
    "train.shape, validate.shape, test.shape"
   ]
  },
  {
   "cell_type": "code",
   "execution_count": 77,
   "metadata": {},
   "outputs": [],
   "source": [
    "X_train = train.drop(columns=\"is_delay\")\n",
    "y_train = train[\"is_delay\"]\n",
    "X_validate = validate.drop(columns=\"is_delay\")\n",
    "y_validate = validate.is_delay\n",
    "X_test = test.drop(columns=\"is_delay\")\n",
    "y_test = test.is_delay"
   ]
  },
  {
   "cell_type": "code",
   "execution_count": 78,
   "metadata": {},
   "outputs": [],
   "source": [
    "def return_values(scaler, train, validate, test):\n",
    "    '''\n",
    "    Helper function used to updated the scaled arrays and transform them into usable dataframes\n",
    "    '''\n",
    "    train_scaled = pd.DataFrame(scaler.transform(train), columns=train.columns.values).set_index([train.index.values])\n",
    "    validate_scaled = pd.DataFrame(scaler.transform(validate), columns=validate.columns.values).set_index([validate.index.values])\n",
    "    test_scaled = pd.DataFrame(scaler.transform(test), columns=test.columns.values).set_index([test.index.values])\n",
    "    return scaler, train_scaled, validate_scaled, test_scaled\n",
    "\n",
    "# Linear scaler\n",
    "def min_max_scaler(train,validate, test):\n",
    "    '''\n",
    "    Helper function that scales that data. Returns scaler, as well as the scaled dataframes\n",
    "    '''\n",
    "    scaler = MinMaxScaler().fit(train)\n",
    "    scaler, train_scaled, validate_scaled, test_scaled = return_values(scaler, train, validate, test)\n",
    "    return scaler, train_scaled, validate_scaled, test_scaled"
   ]
  },
  {
   "cell_type": "code",
   "execution_count": 79,
   "metadata": {},
   "outputs": [],
   "source": [
    "scaler, train_scaled, validate_scaled, test_scaled = min_max_scaler(X_train, X_validate, X_test)"
   ]
  },
  {
   "cell_type": "markdown",
   "metadata": {},
   "source": [
    "# Modeling"
   ]
  },
  {
   "cell_type": "code",
   "execution_count": 80,
   "metadata": {},
   "outputs": [
    {
     "data": {
      "text/plain": [
       "0.3558303861602904"
      ]
     },
     "execution_count": 80,
     "metadata": {},
     "output_type": "execute_result"
    }
   ],
   "source": [
    "train.is_delay.mean()"
   ]
  },
  {
   "cell_type": "markdown",
   "metadata": {},
   "source": [
    "## Random Forest"
   ]
  },
  {
   "cell_type": "code",
   "execution_count": 81,
   "metadata": {},
   "outputs": [],
   "source": [
    "# model.run_rf_loop(train_scaled, validate_scaled, y_validate, y_train, 8)"
   ]
  },
  {
   "cell_type": "code",
   "execution_count": 82,
   "metadata": {
    "scrolled": true
   },
   "outputs": [],
   "source": [
    "rf, y_pred = model.run_rf(train_scaled, y_train, 1, 5)"
   ]
  },
  {
   "cell_type": "code",
   "execution_count": 84,
   "metadata": {},
   "outputs": [
    {
     "name": "stdout",
     "output_type": "stream",
     "text": [
      "Accuracy on dataset: 0.65\n",
      "        False  True \n",
      "False  344138  15413\n",
      "True   177273  21338\n"
     ]
    },
    {
     "data": {
      "text/html": [
       "<div>\n",
       "<style scoped>\n",
       "    .dataframe tbody tr th:only-of-type {\n",
       "        vertical-align: middle;\n",
       "    }\n",
       "\n",
       "    .dataframe tbody tr th {\n",
       "        vertical-align: top;\n",
       "    }\n",
       "\n",
       "    .dataframe thead th {\n",
       "        text-align: right;\n",
       "    }\n",
       "</style>\n",
       "<table border=\"1\" class=\"dataframe\">\n",
       "  <thead>\n",
       "    <tr style=\"text-align: right;\">\n",
       "      <th></th>\n",
       "      <th>False</th>\n",
       "      <th>True</th>\n",
       "      <th>accuracy</th>\n",
       "      <th>macro avg</th>\n",
       "      <th>weighted avg</th>\n",
       "    </tr>\n",
       "  </thead>\n",
       "  <tbody>\n",
       "    <tr>\n",
       "      <th>precision</th>\n",
       "      <td>0.660013</td>\n",
       "      <td>0.580610</td>\n",
       "      <td>0.654785</td>\n",
       "      <td>0.620311</td>\n",
       "      <td>0.631759</td>\n",
       "    </tr>\n",
       "    <tr>\n",
       "      <th>recall</th>\n",
       "      <td>0.957133</td>\n",
       "      <td>0.107436</td>\n",
       "      <td>0.654785</td>\n",
       "      <td>0.532284</td>\n",
       "      <td>0.654785</td>\n",
       "    </tr>\n",
       "    <tr>\n",
       "      <th>f1-score</th>\n",
       "      <td>0.781278</td>\n",
       "      <td>0.181321</td>\n",
       "      <td>0.654785</td>\n",
       "      <td>0.481299</td>\n",
       "      <td>0.567795</td>\n",
       "    </tr>\n",
       "    <tr>\n",
       "      <th>support</th>\n",
       "      <td>359551.000000</td>\n",
       "      <td>198611.000000</td>\n",
       "      <td>0.654785</td>\n",
       "      <td>558162.000000</td>\n",
       "      <td>558162.000000</td>\n",
       "    </tr>\n",
       "  </tbody>\n",
       "</table>\n",
       "</div>"
      ],
      "text/plain": [
       "                   False           True  accuracy      macro avg  \\\n",
       "precision       0.660013       0.580610  0.654785       0.620311   \n",
       "recall          0.957133       0.107436  0.654785       0.532284   \n",
       "f1-score        0.781278       0.181321  0.654785       0.481299   \n",
       "support    359551.000000  198611.000000  0.654785  558162.000000   \n",
       "\n",
       "            weighted avg  \n",
       "precision       0.631759  \n",
       "recall          0.654785  \n",
       "f1-score        0.567795  \n",
       "support    558162.000000  "
      ]
     },
     "execution_count": 84,
     "metadata": {},
     "output_type": "execute_result"
    }
   ],
   "source": [
    "accuracy_score, matrix, report = model.accuracy_report(rf, y_pred, y_train)\n",
    "\n",
    "print(accuracy_score)\n",
    "print(matrix)\n",
    "\n",
    "report"
   ]
  },
  {
   "cell_type": "code",
   "execution_count": 85,
   "metadata": {},
   "outputs": [
    {
     "data": {
      "image/png": "[encoded data removed]",
      "text/plain": [
       "<Figure size 432x288 with 1 Axes>"
      ]
     },
     "metadata": {
      "needs_background": "light"
     },
     "output_type": "display_data"
    }
   ],
   "source": [
    "model.rf_feature_importance(rf, X_train)"
   ]
  },
  {
   "cell_type": "markdown",
   "metadata": {},
   "source": [
    "# KNN"
   ]
  },
  {
   "cell_type": "code",
   "execution_count": null,
   "metadata": {},
   "outputs": [],
   "source": [
    "# model.run_knn_loop(train_scaled, validate_scaled, y_validate, y_train, 10)"
   ]
  },
  {
   "cell_type": "code",
   "execution_count": 86,
   "metadata": {},
   "outputs": [],
   "source": [
    "knn, y_pred = model.run_knn(train_scaled, y_train, 3)"
   ]
  },
  {
   "cell_type": "code",
   "execution_count": 87,
   "metadata": {},
   "outputs": [
    {
     "name": "stdout",
     "output_type": "stream",
     "text": [
      "Accuracy on dataset: 0.79\n",
      "        False   True \n",
      "False  314139   45412\n",
      "True    72705  125906\n"
     ]
    },
    {
     "data": {
      "text/html": [
       "<div>\n",
       "<style scoped>\n",
       "    .dataframe tbody tr th:only-of-type {\n",
       "        vertical-align: middle;\n",
       "    }\n",
       "\n",
       "    .dataframe tbody tr th {\n",
       "        vertical-align: top;\n",
       "    }\n",
       "\n",
       "    .dataframe thead th {\n",
       "        text-align: right;\n",
       "    }\n",
       "</style>\n",
       "<table border=\"1\" class=\"dataframe\">\n",
       "  <thead>\n",
       "    <tr style=\"text-align: right;\">\n",
       "      <th></th>\n",
       "      <th>False</th>\n",
       "      <th>True</th>\n",
       "      <th>accuracy</th>\n",
       "      <th>macro avg</th>\n",
       "      <th>weighted avg</th>\n",
       "    </tr>\n",
       "  </thead>\n",
       "  <tbody>\n",
       "    <tr>\n",
       "      <th>precision</th>\n",
       "      <td>0.812056</td>\n",
       "      <td>0.734926</td>\n",
       "      <td>0.788382</td>\n",
       "      <td>0.773491</td>\n",
       "      <td>0.784611</td>\n",
       "    </tr>\n",
       "    <tr>\n",
       "      <th>recall</th>\n",
       "      <td>0.873698</td>\n",
       "      <td>0.633933</td>\n",
       "      <td>0.788382</td>\n",
       "      <td>0.753815</td>\n",
       "      <td>0.788382</td>\n",
       "    </tr>\n",
       "    <tr>\n",
       "      <th>f1-score</th>\n",
       "      <td>0.841750</td>\n",
       "      <td>0.680704</td>\n",
       "      <td>0.788382</td>\n",
       "      <td>0.761227</td>\n",
       "      <td>0.784445</td>\n",
       "    </tr>\n",
       "    <tr>\n",
       "      <th>support</th>\n",
       "      <td>359551.000000</td>\n",
       "      <td>198611.000000</td>\n",
       "      <td>0.788382</td>\n",
       "      <td>558162.000000</td>\n",
       "      <td>558162.000000</td>\n",
       "    </tr>\n",
       "  </tbody>\n",
       "</table>\n",
       "</div>"
      ],
      "text/plain": [
       "                   False           True  accuracy      macro avg  \\\n",
       "precision       0.812056       0.734926  0.788382       0.773491   \n",
       "recall          0.873698       0.633933  0.788382       0.753815   \n",
       "f1-score        0.841750       0.680704  0.788382       0.761227   \n",
       "support    359551.000000  198611.000000  0.788382  558162.000000   \n",
       "\n",
       "            weighted avg  \n",
       "precision       0.784611  \n",
       "recall          0.788382  \n",
       "f1-score        0.784445  \n",
       "support    558162.000000  "
      ]
     },
     "execution_count": 87,
     "metadata": {},
     "output_type": "execute_result"
    }
   ],
   "source": [
    "accuracy_score, matrix, report = model.accuracy_report(knn, y_pred, y_train)\n",
    "\n",
    "print(accuracy_score)\n",
    "print(matrix)\n",
    "\n",
    "report"
   ]
  },
  {
   "cell_type": "code",
   "execution_count": 88,
   "metadata": {},
   "outputs": [
    {
     "data": {
      "text/plain": [
       "0.6121254467764908"
      ]
     },
     "execution_count": 88,
     "metadata": {},
     "output_type": "execute_result"
    }
   ],
   "source": [
    "knn.score(validate_scaled, y_validate)"
   ]
  },
  {
   "cell_type": "markdown",
   "metadata": {},
   "source": [
    "## Gradient Boosting Classifier"
   ]
  },
  {
   "cell_type": "code",
   "execution_count": 89,
   "metadata": {},
   "outputs": [],
   "source": [
    "def run_gb(X_train, y_train):\n",
    "    gb = GradientBoostingClassifier(random_state = 123, n_estimators=300, learning_rate=0.003, max_depth=5).fit(X_train, y_train)\n",
    "    y_pred = gb.predict(X_train)\n",
    "    return gb, y_pred"
   ]
  },
  {
   "cell_type": "code",
   "execution_count": 90,
   "metadata": {},
   "outputs": [],
   "source": [
    "gb, y_pred = run_gb(train_scaled, y_train)"
   ]
  },
  {
   "cell_type": "code",
   "execution_count": 91,
   "metadata": {
    "scrolled": true
   },
   "outputs": [
    {
     "name": "stdout",
     "output_type": "stream",
     "text": [
      "Accuracy on dataset: 0.65\n",
      "        False  True \n",
      "False  354778   4773\n",
      "True   189852   8759\n"
     ]
    },
    {
     "data": {
      "text/html": [
       "<div>\n",
       "<style scoped>\n",
       "    .dataframe tbody tr th:only-of-type {\n",
       "        vertical-align: middle;\n",
       "    }\n",
       "\n",
       "    .dataframe tbody tr th {\n",
       "        vertical-align: top;\n",
       "    }\n",
       "\n",
       "    .dataframe thead th {\n",
       "        text-align: right;\n",
       "    }\n",
       "</style>\n",
       "<table border=\"1\" class=\"dataframe\">\n",
       "  <thead>\n",
       "    <tr style=\"text-align: right;\">\n",
       "      <th></th>\n",
       "      <th>False</th>\n",
       "      <th>True</th>\n",
       "      <th>accuracy</th>\n",
       "      <th>macro avg</th>\n",
       "      <th>weighted avg</th>\n",
       "    </tr>\n",
       "  </thead>\n",
       "  <tbody>\n",
       "    <tr>\n",
       "      <th>precision</th>\n",
       "      <td>0.651411</td>\n",
       "      <td>0.647281</td>\n",
       "      <td>0.651311</td>\n",
       "      <td>0.649346</td>\n",
       "      <td>0.649941</td>\n",
       "    </tr>\n",
       "    <tr>\n",
       "      <th>recall</th>\n",
       "      <td>0.986725</td>\n",
       "      <td>0.044101</td>\n",
       "      <td>0.651311</td>\n",
       "      <td>0.515413</td>\n",
       "      <td>0.651311</td>\n",
       "    </tr>\n",
       "    <tr>\n",
       "      <th>f1-score</th>\n",
       "      <td>0.784750</td>\n",
       "      <td>0.082576</td>\n",
       "      <td>0.651311</td>\n",
       "      <td>0.433663</td>\n",
       "      <td>0.534895</td>\n",
       "    </tr>\n",
       "    <tr>\n",
       "      <th>support</th>\n",
       "      <td>359551.000000</td>\n",
       "      <td>198611.000000</td>\n",
       "      <td>0.651311</td>\n",
       "      <td>558162.000000</td>\n",
       "      <td>558162.000000</td>\n",
       "    </tr>\n",
       "  </tbody>\n",
       "</table>\n",
       "</div>"
      ],
      "text/plain": [
       "                   False           True  accuracy      macro avg  \\\n",
       "precision       0.651411       0.647281  0.651311       0.649346   \n",
       "recall          0.986725       0.044101  0.651311       0.515413   \n",
       "f1-score        0.784750       0.082576  0.651311       0.433663   \n",
       "support    359551.000000  198611.000000  0.651311  558162.000000   \n",
       "\n",
       "            weighted avg  \n",
       "precision       0.649941  \n",
       "recall          0.651311  \n",
       "f1-score        0.534895  \n",
       "support    558162.000000  "
      ]
     },
     "execution_count": 91,
     "metadata": {},
     "output_type": "execute_result"
    }
   ],
   "source": [
    "accuracy_score, matrix, report = model.accuracy_report(gb, y_pred, y_train)\n",
    "\n",
    "print(accuracy_score)\n",
    "print(matrix)\n",
    "\n",
    "report"
   ]
  },
  {
   "cell_type": "markdown",
   "metadata": {},
   "source": [
    "# Evaluate"
   ]
  },
  {
   "cell_type": "code",
   "execution_count": 141,
   "metadata": {},
   "outputs": [],
   "source": [
    "features_for_modeling = [\"dest_airport_avg_delay\", \"carrier_avg_delay\", \"airport_avg_delay\", \"crs_dep_time\", \"crs_arr_time\", \"month\", \"day_of_week\"]\n",
    "target_variable = \"is_delay\""
   ]
  },
  {
   "cell_type": "code",
   "execution_count": 142,
   "metadata": {},
   "outputs": [],
   "source": [
    "train_scaled, y_train, validate_scaled, y_validate, test_scaled, y_test = preprocessing.main_modeling_prep(features_for_modeling, target_variable)"
   ]
  },
  {
   "cell_type": "code",
   "execution_count": 143,
   "metadata": {},
   "outputs": [],
   "source": [
    "knn, y_pred = model.run_knn(train_scaled, y_train, 3)"
   ]
  },
  {
   "cell_type": "code",
   "execution_count": 144,
   "metadata": {},
   "outputs": [],
   "source": [
    "y_pred = knn.predict(test_scaled)"
   ]
  },
  {
   "cell_type": "code",
   "execution_count": 145,
   "metadata": {},
   "outputs": [
    {
     "name": "stdout",
     "output_type": "stream",
     "text": [
      "Accuracy on dataset: 0.61\n",
      "        False   True \n",
      "False  335144  129518\n",
      "True   163120  113658\n"
     ]
    },
    {
     "data": {
      "text/html": [
       "<div>\n",
       "<style scoped>\n",
       "    .dataframe tbody tr th:only-of-type {\n",
       "        vertical-align: middle;\n",
       "    }\n",
       "\n",
       "    .dataframe tbody tr th {\n",
       "        vertical-align: top;\n",
       "    }\n",
       "\n",
       "    .dataframe thead th {\n",
       "        text-align: right;\n",
       "    }\n",
       "</style>\n",
       "<table border=\"1\" class=\"dataframe\">\n",
       "  <thead>\n",
       "    <tr style=\"text-align: right;\">\n",
       "      <th></th>\n",
       "      <th>False</th>\n",
       "      <th>True</th>\n",
       "      <th>accuracy</th>\n",
       "      <th>macro avg</th>\n",
       "      <th>weighted avg</th>\n",
       "    </tr>\n",
       "  </thead>\n",
       "  <tbody>\n",
       "    <tr>\n",
       "      <th>precision</th>\n",
       "      <td>0.672623</td>\n",
       "      <td>0.467390</td>\n",
       "      <td>0.605311</td>\n",
       "      <td>0.570007</td>\n",
       "      <td>0.596010</td>\n",
       "    </tr>\n",
       "    <tr>\n",
       "      <th>recall</th>\n",
       "      <td>0.721264</td>\n",
       "      <td>0.410647</td>\n",
       "      <td>0.605311</td>\n",
       "      <td>0.565955</td>\n",
       "      <td>0.605311</td>\n",
       "    </tr>\n",
       "    <tr>\n",
       "      <th>f1-score</th>\n",
       "      <td>0.696095</td>\n",
       "      <td>0.437185</td>\n",
       "      <td>0.605311</td>\n",
       "      <td>0.566640</td>\n",
       "      <td>0.599444</td>\n",
       "    </tr>\n",
       "    <tr>\n",
       "      <th>support</th>\n",
       "      <td>464662.000000</td>\n",
       "      <td>276778.000000</td>\n",
       "      <td>0.605311</td>\n",
       "      <td>741440.000000</td>\n",
       "      <td>741440.000000</td>\n",
       "    </tr>\n",
       "  </tbody>\n",
       "</table>\n",
       "</div>"
      ],
      "text/plain": [
       "                   False           True  accuracy      macro avg  \\\n",
       "precision       0.672623       0.467390  0.605311       0.570007   \n",
       "recall          0.721264       0.410647  0.605311       0.565955   \n",
       "f1-score        0.696095       0.437185  0.605311       0.566640   \n",
       "support    464662.000000  276778.000000  0.605311  741440.000000   \n",
       "\n",
       "            weighted avg  \n",
       "precision       0.596010  \n",
       "recall          0.605311  \n",
       "f1-score        0.599444  \n",
       "support    741440.000000  "
      ]
     },
     "execution_count": 145,
     "metadata": {},
     "output_type": "execute_result"
    }
   ],
   "source": [
    "accuracy_score, matrix, report = model.accuracy_report(gb, y_pred, y_test)\n",
    "\n",
    "print(accuracy_score)\n",
    "print(matrix)\n",
    "\n",
    "report"
   ]
  },
  {
   "cell_type": "markdown",
   "metadata": {},
   "source": [
    "# Conclusion\n",
    "\n",
    "It seems that KNN is the best model for this task. We are only able to get a 61% accuracy on our test data, which is less than ideal. I believe that the reason for this is because there are other factors, beyond just those present in the data, that lead to a flight getting delayed. \n",
    "\n",
    "As we saw from the data, the missing variables that we could bring in to further improve the model are:\n",
    "\n",
    "1. Weather data\n",
    "1. Previous flight information\n",
    "    * We saw that actually the biggest reason for a flight delay is because the plane arrived late. If we could perhaps find a way to actually track that information, we could further enhanced the model. A way to actually accomplish this is to perhaps use the mean delay avg in minutes for the previous flight."
   ]
  }
 ],
 "metadata": {
  "kernelspec": {
   "display_name": "Python 3",
   "language": "python",
   "name": "python3"
  },
  "language_info": {
   "codemirror_mode": {
    "name": "ipython",
    "version": 3
   },
   "file_extension": ".py",
   "mimetype": "text/x-python",
   "name": "python",
   "nbconvert_exporter": "python",
   "pygments_lexer": "ipython3",
   "version": "3.7.4"
  }
 },
 "nbformat": 4,
 "nbformat_minor": 2
}
