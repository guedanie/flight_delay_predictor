{
 "cells": [
  {
   "cell_type": "markdown",
   "metadata": {},
   "source": [
    "# Predicting Flight Delays\n",
    "\n",
    "The ogjective of this project is to use historical flight information to create a classification model that can return the probability of a flight being delayed. \n",
    "\n",
    "We will be looking at data from 2016, 2017, and 2018. All data files are downloaded from OST website, which stores flights on-time performance fro 1987 to present.\n",
    "\n",
    "**Our MVP**: Our MVP will look to just deliver predictions and exploration on the flight data. Once the MVP is completed, I will look to bring in weather data.\n",
    "\n",
    "\n",
    "In addition to the data that we are bringing, we will also be using weather data. \n",
    "\n",
    "As stated in a published paper by \n",
    "\n",
    "> \"Our analysis shows that weather shocks like rainfall, snow and wind have a significant impact on departure delays within the U.S. aviation system. Depending on the intensity of the weather shock considered, rain- and snowfall lead to additional departure delays between 10 and 23 min. For wind, the discovered effects are smaller in magnitude, ranging from 1 to 3 min. While the impact of rainfall is more pronounced between April and September, the effect of wind is more evenly distributed across the year. With regard to slow onset weather shocks, our results reveal that cold conditions lead to additional departure delays. For temperatures below 0∘C, our analysis shows an increase in delay on average by around 2 min per departure. For heat, we do not discover any significant amplifying impacts on departure delay. While our results indicate a tendency of higher average departure delays when temperatures go beyond 45∘C, the results are not statistically significant. Considering the recent experiences from Phoenix, where temperatures of 49∘C on June 20th, 2017 lead to the cancellation of more than 40 regional flights, together with the projections by Coffel et al. (2017), we expect extreme temperatures to increase departure delays.8 Our observations for temperatures beyond 45∘C, however, are insufficient for robust estimates.\"$^1$\n",
    "\n",
    "\n",
    "\n",
    "$^1$Borsky, S and Unterberger, C (2019) ‘Bad weather and flight delays: The impact of sudden and slow onset weather events’, Economics of Transportation, Volume 18.\n",
    "\n",
    "The weather data comes from:\n",
    "\n",
    "Moosavi, Sobhan, Mohammad Hossein Samavatian, Arnab Nandi, Srinivasan Parthasarathy, and Rajiv Ramnath. “Short and Long-term Pattern Discovery Over Large-Scale Geo-Spatiotemporal Data.” In Proceedings of the 25th ACM SIGKDD International Conference on Knowledge Discovery & Data Mining, ACM, 2019."
   ]
  },
  {
   "cell_type": "code",
   "execution_count": 5,
   "metadata": {},
   "outputs": [],
   "source": [
    "import pandas as pd\n",
    "import numpy as np\n",
    "\n",
    "import os.path\n",
    "import requests\n",
    "import io"
   ]
  },
  {
   "cell_type": "markdown",
   "metadata": {},
   "source": [
    "# Acquistion"
   ]
  },
  {
   "cell_type": "code",
   "execution_count": 21,
   "metadata": {},
   "outputs": [],
   "source": [
    "# df = pd.read_csv(\"https://raw.githubusercontent.com/michaelarg/datasets/master/airports.csv\")\n",
    "\n",
    "# airports = df[df.Country == \"United States\"]\n",
    "\n",
    "# weather_data = pd.read_csv(\"US_WeatherEvents_2016-2019.csv\")"
   ]
  },
  {
   "cell_type": "code",
   "execution_count": 61,
   "metadata": {},
   "outputs": [],
   "source": [
    "df = pd.read_csv(\"2018.csv\")"
   ]
  },
  {
   "cell_type": "code",
   "execution_count": 63,
   "metadata": {},
   "outputs": [
    {
     "name": "stdout",
     "output_type": "stream",
     "text": [
      "<class 'pandas.core.frame.DataFrame'>\n",
      "RangeIndex: 7213446 entries, 0 to 7213445\n",
      "Data columns (total 28 columns):\n",
      "FL_DATE                object\n",
      "OP_CARRIER             object\n",
      "OP_CARRIER_FL_NUM      int64\n",
      "ORIGIN                 object\n",
      "DEST                   object\n",
      "CRS_DEP_TIME           int64\n",
      "DEP_TIME               float64\n",
      "DEP_DELAY              float64\n",
      "TAXI_OUT               float64\n",
      "WHEELS_OFF             float64\n",
      "WHEELS_ON              float64\n",
      "TAXI_IN                float64\n",
      "CRS_ARR_TIME           int64\n",
      "ARR_TIME               float64\n",
      "ARR_DELAY              float64\n",
      "CANCELLED              float64\n",
      "CANCELLATION_CODE      object\n",
      "DIVERTED               float64\n",
      "CRS_ELAPSED_TIME       float64\n",
      "ACTUAL_ELAPSED_TIME    float64\n",
      "AIR_TIME               float64\n",
      "DISTANCE               float64\n",
      "CARRIER_DELAY          float64\n",
      "WEATHER_DELAY          float64\n",
      "NAS_DELAY              float64\n",
      "SECURITY_DELAY         float64\n",
      "LATE_AIRCRAFT_DELAY    float64\n",
      "Unnamed: 27            float64\n",
      "dtypes: float64(20), int64(3), object(5)\n",
      "memory usage: 1.5+ GB\n"
     ]
    }
   ],
   "source": [
    "df.info()"
   ]
  },
  {
   "cell_type": "markdown",
   "metadata": {},
   "source": [
    "Given that there is a large amount of data (+1.5GB), we will filter down to the top 15 largest airports. This will be at least for the exploration phase. We may look to bring additional data once we are ready to model"
   ]
  },
  {
   "cell_type": "code",
   "execution_count": 66,
   "metadata": {},
   "outputs": [],
   "source": [
    "top_airports = [\"ATL\", \"LAX\", \"ORD\", \"DFW\", \"DEN\", \"JFK\", \"SFO\", \"SEA\", \"LAS\", \"MCO\", \"EWR\", \"CLT\", \"PHX\", \"IAH\", \"MIA\"]"
   ]
  },
  {
   "cell_type": "code",
   "execution_count": 72,
   "metadata": {},
   "outputs": [
    {
     "data": {
      "text/html": [
       "<div>\n",
       "<style scoped>\n",
       "    .dataframe tbody tr th:only-of-type {\n",
       "        vertical-align: middle;\n",
       "    }\n",
       "\n",
       "    .dataframe tbody tr th {\n",
       "        vertical-align: top;\n",
       "    }\n",
       "\n",
       "    .dataframe thead th {\n",
       "        text-align: right;\n",
       "    }\n",
       "</style>\n",
       "<table border=\"1\" class=\"dataframe\">\n",
       "  <thead>\n",
       "    <tr style=\"text-align: right;\">\n",
       "      <th></th>\n",
       "      <th>FL_DATE</th>\n",
       "      <th>OP_CARRIER</th>\n",
       "      <th>OP_CARRIER_FL_NUM</th>\n",
       "      <th>ORIGIN</th>\n",
       "      <th>DEST</th>\n",
       "      <th>CRS_DEP_TIME</th>\n",
       "      <th>DEP_TIME</th>\n",
       "      <th>DEP_DELAY</th>\n",
       "      <th>TAXI_OUT</th>\n",
       "      <th>WHEELS_OFF</th>\n",
       "      <th>...</th>\n",
       "      <th>CRS_ELAPSED_TIME</th>\n",
       "      <th>ACTUAL_ELAPSED_TIME</th>\n",
       "      <th>AIR_TIME</th>\n",
       "      <th>DISTANCE</th>\n",
       "      <th>CARRIER_DELAY</th>\n",
       "      <th>WEATHER_DELAY</th>\n",
       "      <th>NAS_DELAY</th>\n",
       "      <th>SECURITY_DELAY</th>\n",
       "      <th>LATE_AIRCRAFT_DELAY</th>\n",
       "      <th>Unnamed: 27</th>\n",
       "    </tr>\n",
       "  </thead>\n",
       "  <tbody>\n",
       "  </tbody>\n",
       "</table>\n",
       "<p>0 rows × 28 columns</p>\n",
       "</div>"
      ],
      "text/plain": [
       "Empty DataFrame\n",
       "Columns: [FL_DATE, OP_CARRIER, OP_CARRIER_FL_NUM, ORIGIN, DEST, CRS_DEP_TIME, DEP_TIME, DEP_DELAY, TAXI_OUT, WHEELS_OFF, WHEELS_ON, TAXI_IN, CRS_ARR_TIME, ARR_TIME, ARR_DELAY, CANCELLED, CANCELLATION_CODE, DIVERTED, CRS_ELAPSED_TIME, ACTUAL_ELAPSED_TIME, AIR_TIME, DISTANCE, CARRIER_DELAY, WEATHER_DELAY, NAS_DELAY, SECURITY_DELAY, LATE_AIRCRAFT_DELAY, Unnamed: 27]\n",
       "Index: []\n",
       "\n",
       "[0 rows x 28 columns]"
      ]
     },
     "execution_count": 72,
     "metadata": {},
     "output_type": "execute_result"
    }
   ],
   "source": [
    "df[df.ORIGIN.str.contains(\"ATL | LAX\")]"
   ]
  },
  {
   "cell_type": "code",
   "execution_count": null,
   "metadata": {},
   "outputs": [],
   "source": [
    "for i in top_airports:\n",
    "    df.loc[df['ORIGIN'] == i, 'is_top'] = True \n",
    "    "
   ]
  },
  {
   "cell_type": "code",
   "execution_count": 74,
   "metadata": {},
   "outputs": [],
   "source": [
    "df.is_top = df.is_top.fillna(False)"
   ]
  },
  {
   "cell_type": "code",
   "execution_count": 75,
   "metadata": {},
   "outputs": [
    {
     "data": {
      "text/plain": [
       "ATL    390046\n",
       "ORD    332953\n",
       "DFW    279298\n",
       "DEN    235989\n",
       "CLT    233317\n",
       "LAX    221486\n",
       "SFO    175849\n",
       "PHX    173962\n",
       "IAH    173806\n",
       "LAS    161113\n",
       "EWR    143875\n",
       "SEA    140006\n",
       "MCO    138296\n",
       "JFK    129684\n",
       "MIA     87880\n",
       "Name: ORIGIN, dtype: int64"
      ]
     },
     "execution_count": 75,
     "metadata": {},
     "output_type": "execute_result"
    }
   ],
   "source": [
    "df[df.is_top].ORIGIN.value_counts()"
   ]
  },
  {
   "cell_type": "code",
   "execution_count": 76,
   "metadata": {},
   "outputs": [],
   "source": [
    "df = df[df.is_top]"
   ]
  },
  {
   "cell_type": "code",
   "execution_count": 86,
   "metadata": {},
   "outputs": [
    {
     "data": {
      "text/plain": [
       "(3017560, 29)"
      ]
     },
     "execution_count": 86,
     "metadata": {},
     "output_type": "execute_result"
    }
   ],
   "source": [
    "df.shape"
   ]
  },
  {
   "cell_type": "code",
   "execution_count": 88,
   "metadata": {},
   "outputs": [
    {
     "data": {
      "text/plain": [
       "FL_DATE                      0\n",
       "OP_CARRIER                   0\n",
       "OP_CARRIER_FL_NUM            0\n",
       "ORIGIN                       0\n",
       "DEST                         0\n",
       "CRS_DEP_TIME                 0\n",
       "DEP_TIME                 40437\n",
       "DEP_DELAY                41790\n",
       "TAXI_OUT                 41892\n",
       "WHEELS_OFF               41892\n",
       "WHEELS_ON                43585\n",
       "TAXI_IN                  43585\n",
       "CRS_ARR_TIME                 0\n",
       "ARR_TIME                 43585\n",
       "ARR_DELAY                50550\n",
       "CANCELLED                    0\n",
       "CANCELLATION_CODE      2975227\n",
       "DIVERTED                     0\n",
       "CRS_ELAPSED_TIME             2\n",
       "ACTUAL_ELAPSED_TIME      49843\n",
       "AIR_TIME                 49843\n",
       "DISTANCE                     0\n",
       "CARRIER_DELAY          2416987\n",
       "WEATHER_DELAY          2416987\n",
       "NAS_DELAY              2416987\n",
       "SECURITY_DELAY         2416987\n",
       "LATE_AIRCRAFT_DELAY    2416987\n",
       "Unnamed: 27            3017560\n",
       "is_top                       0\n",
       "dtype: int64"
      ]
     },
     "execution_count": 88,
     "metadata": {},
     "output_type": "execute_result"
    }
   ],
   "source": [
    "df.isnull().sum()"
   ]
  },
  {
   "cell_type": "markdown",
   "metadata": {},
   "source": [
    "We see that even after only keeping the top 15 airports, we stll have a lot of NULL values. Given that at this point we want to know what factors might lead to a delay, we will remove all NULL values for the categorical Dalays. We will still have around 600,000 usable data points."
   ]
  },
  {
   "cell_type": "code",
   "execution_count": 89,
   "metadata": {
    "scrolled": true
   },
   "outputs": [],
   "source": [
    "df = df[df.WEATHER_DELAY.notnull()]"
   ]
  },
  {
   "cell_type": "code",
   "execution_count": 92,
   "metadata": {
    "scrolled": false
   },
   "outputs": [
    {
     "name": "stdout",
     "output_type": "stream",
     "text": [
      "<class 'pandas.core.frame.DataFrame'>\n",
      "Int64Index: 600573 entries, 11 to 7213429\n",
      "Data columns (total 29 columns):\n",
      "FL_DATE                600573 non-null object\n",
      "OP_CARRIER             600573 non-null object\n",
      "OP_CARRIER_FL_NUM      600573 non-null int64\n",
      "ORIGIN                 600573 non-null object\n",
      "DEST                   600573 non-null object\n",
      "CRS_DEP_TIME           600573 non-null int64\n",
      "DEP_TIME               600573 non-null float64\n",
      "DEP_DELAY              600496 non-null float64\n",
      "TAXI_OUT               600573 non-null float64\n",
      "WHEELS_OFF             600573 non-null float64\n",
      "WHEELS_ON              600573 non-null float64\n",
      "TAXI_IN                600573 non-null float64\n",
      "CRS_ARR_TIME           600573 non-null int64\n",
      "ARR_TIME               600573 non-null float64\n",
      "ARR_DELAY              600573 non-null float64\n",
      "CANCELLED              600573 non-null float64\n",
      "CANCELLATION_CODE      0 non-null object\n",
      "DIVERTED               600573 non-null float64\n",
      "CRS_ELAPSED_TIME       600573 non-null float64\n",
      "ACTUAL_ELAPSED_TIME    600573 non-null float64\n",
      "AIR_TIME               600573 non-null float64\n",
      "DISTANCE               600573 non-null float64\n",
      "CARRIER_DELAY          600573 non-null float64\n",
      "WEATHER_DELAY          600573 non-null float64\n",
      "NAS_DELAY              600573 non-null float64\n",
      "SECURITY_DELAY         600573 non-null float64\n",
      "LATE_AIRCRAFT_DELAY    600573 non-null float64\n",
      "Unnamed: 27            0 non-null float64\n",
      "is_top                 600573 non-null bool\n",
      "dtypes: bool(1), float64(20), int64(3), object(5)\n",
      "memory usage: 133.5+ MB\n"
     ]
    }
   ],
   "source": [
    "df.info()"
   ]
  },
  {
   "cell_type": "markdown",
   "metadata": {},
   "source": [
    "We see that we largely were able to get rid of any null values. It seems that `Cancelation_code` has no remaining values, we so will drop that column. Additionally, it seems that `Dep_delay` still has some null values, so we will try to impude those."
   ]
  },
  {
   "cell_type": "code",
   "execution_count": 96,
   "metadata": {},
   "outputs": [],
   "source": [
    "df.drop(columns = [\"Unnamed: 27\", \"is_top\", \"CANCELLATION_CODE\"], inplace=True)"
   ]
  },
  {
   "cell_type": "code",
   "execution_count": 98,
   "metadata": {
    "scrolled": false
   },
   "outputs": [
    {
     "data": {
      "text/html": [
       "<div>\n",
       "<style scoped>\n",
       "    .dataframe tbody tr th:only-of-type {\n",
       "        vertical-align: middle;\n",
       "    }\n",
       "\n",
       "    .dataframe tbody tr th {\n",
       "        vertical-align: top;\n",
       "    }\n",
       "\n",
       "    .dataframe thead th {\n",
       "        text-align: right;\n",
       "    }\n",
       "</style>\n",
       "<table border=\"1\" class=\"dataframe\">\n",
       "  <thead>\n",
       "    <tr style=\"text-align: right;\">\n",
       "      <th></th>\n",
       "      <th>FL_DATE</th>\n",
       "      <th>OP_CARRIER</th>\n",
       "      <th>OP_CARRIER_FL_NUM</th>\n",
       "      <th>ORIGIN</th>\n",
       "      <th>DEST</th>\n",
       "      <th>CRS_DEP_TIME</th>\n",
       "      <th>DEP_TIME</th>\n",
       "      <th>DEP_DELAY</th>\n",
       "      <th>TAXI_OUT</th>\n",
       "      <th>WHEELS_OFF</th>\n",
       "      <th>...</th>\n",
       "      <th>DIVERTED</th>\n",
       "      <th>CRS_ELAPSED_TIME</th>\n",
       "      <th>ACTUAL_ELAPSED_TIME</th>\n",
       "      <th>AIR_TIME</th>\n",
       "      <th>DISTANCE</th>\n",
       "      <th>CARRIER_DELAY</th>\n",
       "      <th>WEATHER_DELAY</th>\n",
       "      <th>NAS_DELAY</th>\n",
       "      <th>SECURITY_DELAY</th>\n",
       "      <th>LATE_AIRCRAFT_DELAY</th>\n",
       "    </tr>\n",
       "  </thead>\n",
       "  <tbody>\n",
       "    <tr>\n",
       "      <th>206834</th>\n",
       "      <td>2018-01-12</td>\n",
       "      <td>9E</td>\n",
       "      <td>3378</td>\n",
       "      <td>ATL</td>\n",
       "      <td>GNV</td>\n",
       "      <td>2230</td>\n",
       "      <td>2230.0</td>\n",
       "      <td>NaN</td>\n",
       "      <td>50.0</td>\n",
       "      <td>2320.0</td>\n",
       "      <td>...</td>\n",
       "      <td>0.0</td>\n",
       "      <td>76.0</td>\n",
       "      <td>99.0</td>\n",
       "      <td>46.0</td>\n",
       "      <td>300.0</td>\n",
       "      <td>0.0</td>\n",
       "      <td>0.0</td>\n",
       "      <td>23.0</td>\n",
       "      <td>0.0</td>\n",
       "      <td>0.0</td>\n",
       "    </tr>\n",
       "    <tr>\n",
       "      <th>405036</th>\n",
       "      <td>2018-01-23</td>\n",
       "      <td>9E</td>\n",
       "      <td>4066</td>\n",
       "      <td>ORD</td>\n",
       "      <td>JFK</td>\n",
       "      <td>700</td>\n",
       "      <td>700.0</td>\n",
       "      <td>NaN</td>\n",
       "      <td>49.0</td>\n",
       "      <td>749.0</td>\n",
       "      <td>...</td>\n",
       "      <td>0.0</td>\n",
       "      <td>139.0</td>\n",
       "      <td>163.0</td>\n",
       "      <td>109.0</td>\n",
       "      <td>740.0</td>\n",
       "      <td>0.0</td>\n",
       "      <td>0.0</td>\n",
       "      <td>24.0</td>\n",
       "      <td>0.0</td>\n",
       "      <td>0.0</td>\n",
       "    </tr>\n",
       "    <tr>\n",
       "      <th>513786</th>\n",
       "      <td>2018-01-29</td>\n",
       "      <td>9E</td>\n",
       "      <td>3727</td>\n",
       "      <td>ORD</td>\n",
       "      <td>JFK</td>\n",
       "      <td>1334</td>\n",
       "      <td>1334.0</td>\n",
       "      <td>NaN</td>\n",
       "      <td>69.0</td>\n",
       "      <td>1443.0</td>\n",
       "      <td>...</td>\n",
       "      <td>0.0</td>\n",
       "      <td>145.0</td>\n",
       "      <td>189.0</td>\n",
       "      <td>107.0</td>\n",
       "      <td>740.0</td>\n",
       "      <td>0.0</td>\n",
       "      <td>0.0</td>\n",
       "      <td>44.0</td>\n",
       "      <td>0.0</td>\n",
       "      <td>0.0</td>\n",
       "    </tr>\n",
       "    <tr>\n",
       "      <th>553576</th>\n",
       "      <td>2018-01-31</td>\n",
       "      <td>9E</td>\n",
       "      <td>4099</td>\n",
       "      <td>JFK</td>\n",
       "      <td>ORD</td>\n",
       "      <td>1926</td>\n",
       "      <td>1926.0</td>\n",
       "      <td>NaN</td>\n",
       "      <td>47.0</td>\n",
       "      <td>2013.0</td>\n",
       "      <td>...</td>\n",
       "      <td>0.0</td>\n",
       "      <td>185.0</td>\n",
       "      <td>201.0</td>\n",
       "      <td>135.0</td>\n",
       "      <td>740.0</td>\n",
       "      <td>0.0</td>\n",
       "      <td>0.0</td>\n",
       "      <td>16.0</td>\n",
       "      <td>0.0</td>\n",
       "      <td>0.0</td>\n",
       "    </tr>\n",
       "    <tr>\n",
       "      <th>606927</th>\n",
       "      <td>2018-02-02</td>\n",
       "      <td>9E</td>\n",
       "      <td>4024</td>\n",
       "      <td>JFK</td>\n",
       "      <td>BWI</td>\n",
       "      <td>1709</td>\n",
       "      <td>1709.0</td>\n",
       "      <td>NaN</td>\n",
       "      <td>48.0</td>\n",
       "      <td>1757.0</td>\n",
       "      <td>...</td>\n",
       "      <td>0.0</td>\n",
       "      <td>80.0</td>\n",
       "      <td>98.0</td>\n",
       "      <td>46.0</td>\n",
       "      <td>184.0</td>\n",
       "      <td>0.0</td>\n",
       "      <td>0.0</td>\n",
       "      <td>18.0</td>\n",
       "      <td>0.0</td>\n",
       "      <td>0.0</td>\n",
       "    </tr>\n",
       "    <tr>\n",
       "      <th>...</th>\n",
       "      <td>...</td>\n",
       "      <td>...</td>\n",
       "      <td>...</td>\n",
       "      <td>...</td>\n",
       "      <td>...</td>\n",
       "      <td>...</td>\n",
       "      <td>...</td>\n",
       "      <td>...</td>\n",
       "      <td>...</td>\n",
       "      <td>...</td>\n",
       "      <td>...</td>\n",
       "      <td>...</td>\n",
       "      <td>...</td>\n",
       "      <td>...</td>\n",
       "      <td>...</td>\n",
       "      <td>...</td>\n",
       "      <td>...</td>\n",
       "      <td>...</td>\n",
       "      <td>...</td>\n",
       "      <td>...</td>\n",
       "      <td>...</td>\n",
       "    </tr>\n",
       "    <tr>\n",
       "      <th>4470815</th>\n",
       "      <td>2018-08-14</td>\n",
       "      <td>9E</td>\n",
       "      <td>5337</td>\n",
       "      <td>JFK</td>\n",
       "      <td>ORD</td>\n",
       "      <td>1245</td>\n",
       "      <td>1245.0</td>\n",
       "      <td>NaN</td>\n",
       "      <td>56.0</td>\n",
       "      <td>1341.0</td>\n",
       "      <td>...</td>\n",
       "      <td>0.0</td>\n",
       "      <td>167.0</td>\n",
       "      <td>189.0</td>\n",
       "      <td>120.0</td>\n",
       "      <td>740.0</td>\n",
       "      <td>0.0</td>\n",
       "      <td>0.0</td>\n",
       "      <td>22.0</td>\n",
       "      <td>0.0</td>\n",
       "      <td>0.0</td>\n",
       "    </tr>\n",
       "    <tr>\n",
       "      <th>4554977</th>\n",
       "      <td>2018-08-18</td>\n",
       "      <td>9E</td>\n",
       "      <td>3386</td>\n",
       "      <td>ATL</td>\n",
       "      <td>HPN</td>\n",
       "      <td>1632</td>\n",
       "      <td>1632.0</td>\n",
       "      <td>NaN</td>\n",
       "      <td>42.0</td>\n",
       "      <td>1714.0</td>\n",
       "      <td>...</td>\n",
       "      <td>0.0</td>\n",
       "      <td>145.0</td>\n",
       "      <td>169.0</td>\n",
       "      <td>124.0</td>\n",
       "      <td>780.0</td>\n",
       "      <td>0.0</td>\n",
       "      <td>0.0</td>\n",
       "      <td>24.0</td>\n",
       "      <td>0.0</td>\n",
       "      <td>0.0</td>\n",
       "    </tr>\n",
       "    <tr>\n",
       "      <th>4580696</th>\n",
       "      <td>2018-08-19</td>\n",
       "      <td>9E</td>\n",
       "      <td>3477</td>\n",
       "      <td>ATL</td>\n",
       "      <td>MGM</td>\n",
       "      <td>1801</td>\n",
       "      <td>1801.0</td>\n",
       "      <td>NaN</td>\n",
       "      <td>54.0</td>\n",
       "      <td>1855.0</td>\n",
       "      <td>...</td>\n",
       "      <td>0.0</td>\n",
       "      <td>63.0</td>\n",
       "      <td>97.0</td>\n",
       "      <td>38.0</td>\n",
       "      <td>147.0</td>\n",
       "      <td>0.0</td>\n",
       "      <td>0.0</td>\n",
       "      <td>34.0</td>\n",
       "      <td>0.0</td>\n",
       "      <td>0.0</td>\n",
       "    </tr>\n",
       "    <tr>\n",
       "      <th>4670072</th>\n",
       "      <td>2018-08-24</td>\n",
       "      <td>9E</td>\n",
       "      <td>5038</td>\n",
       "      <td>ORD</td>\n",
       "      <td>JFK</td>\n",
       "      <td>1507</td>\n",
       "      <td>1507.0</td>\n",
       "      <td>NaN</td>\n",
       "      <td>17.0</td>\n",
       "      <td>1524.0</td>\n",
       "      <td>...</td>\n",
       "      <td>0.0</td>\n",
       "      <td>153.0</td>\n",
       "      <td>169.0</td>\n",
       "      <td>101.0</td>\n",
       "      <td>740.0</td>\n",
       "      <td>0.0</td>\n",
       "      <td>0.0</td>\n",
       "      <td>16.0</td>\n",
       "      <td>0.0</td>\n",
       "      <td>0.0</td>\n",
       "    </tr>\n",
       "    <tr>\n",
       "      <th>4775576</th>\n",
       "      <td>2018-08-29</td>\n",
       "      <td>9E</td>\n",
       "      <td>3405</td>\n",
       "      <td>DFW</td>\n",
       "      <td>JFK</td>\n",
       "      <td>1642</td>\n",
       "      <td>1642.0</td>\n",
       "      <td>NaN</td>\n",
       "      <td>53.0</td>\n",
       "      <td>1735.0</td>\n",
       "      <td>...</td>\n",
       "      <td>0.0</td>\n",
       "      <td>228.0</td>\n",
       "      <td>260.0</td>\n",
       "      <td>197.0</td>\n",
       "      <td>1391.0</td>\n",
       "      <td>0.0</td>\n",
       "      <td>0.0</td>\n",
       "      <td>32.0</td>\n",
       "      <td>0.0</td>\n",
       "      <td>0.0</td>\n",
       "    </tr>\n",
       "  </tbody>\n",
       "</table>\n",
       "<p>77 rows × 26 columns</p>\n",
       "</div>"
      ],
      "text/plain": [
       "            FL_DATE OP_CARRIER  OP_CARRIER_FL_NUM ORIGIN DEST  CRS_DEP_TIME  \\\n",
       "206834   2018-01-12         9E               3378    ATL  GNV          2230   \n",
       "405036   2018-01-23         9E               4066    ORD  JFK           700   \n",
       "513786   2018-01-29         9E               3727    ORD  JFK          1334   \n",
       "553576   2018-01-31         9E               4099    JFK  ORD          1926   \n",
       "606927   2018-02-02         9E               4024    JFK  BWI          1709   \n",
       "...             ...        ...                ...    ...  ...           ...   \n",
       "4470815  2018-08-14         9E               5337    JFK  ORD          1245   \n",
       "4554977  2018-08-18         9E               3386    ATL  HPN          1632   \n",
       "4580696  2018-08-19         9E               3477    ATL  MGM          1801   \n",
       "4670072  2018-08-24         9E               5038    ORD  JFK          1507   \n",
       "4775576  2018-08-29         9E               3405    DFW  JFK          1642   \n",
       "\n",
       "         DEP_TIME  DEP_DELAY  TAXI_OUT  WHEELS_OFF  ...  DIVERTED  \\\n",
       "206834     2230.0        NaN      50.0      2320.0  ...       0.0   \n",
       "405036      700.0        NaN      49.0       749.0  ...       0.0   \n",
       "513786     1334.0        NaN      69.0      1443.0  ...       0.0   \n",
       "553576     1926.0        NaN      47.0      2013.0  ...       0.0   \n",
       "606927     1709.0        NaN      48.0      1757.0  ...       0.0   \n",
       "...           ...        ...       ...         ...  ...       ...   \n",
       "4470815    1245.0        NaN      56.0      1341.0  ...       0.0   \n",
       "4554977    1632.0        NaN      42.0      1714.0  ...       0.0   \n",
       "4580696    1801.0        NaN      54.0      1855.0  ...       0.0   \n",
       "4670072    1507.0        NaN      17.0      1524.0  ...       0.0   \n",
       "4775576    1642.0        NaN      53.0      1735.0  ...       0.0   \n",
       "\n",
       "         CRS_ELAPSED_TIME  ACTUAL_ELAPSED_TIME  AIR_TIME  DISTANCE  \\\n",
       "206834               76.0                 99.0      46.0     300.0   \n",
       "405036              139.0                163.0     109.0     740.0   \n",
       "513786              145.0                189.0     107.0     740.0   \n",
       "553576              185.0                201.0     135.0     740.0   \n",
       "606927               80.0                 98.0      46.0     184.0   \n",
       "...                   ...                  ...       ...       ...   \n",
       "4470815             167.0                189.0     120.0     740.0   \n",
       "4554977             145.0                169.0     124.0     780.0   \n",
       "4580696              63.0                 97.0      38.0     147.0   \n",
       "4670072             153.0                169.0     101.0     740.0   \n",
       "4775576             228.0                260.0     197.0    1391.0   \n",
       "\n",
       "         CARRIER_DELAY  WEATHER_DELAY  NAS_DELAY  SECURITY_DELAY  \\\n",
       "206834             0.0            0.0       23.0             0.0   \n",
       "405036             0.0            0.0       24.0             0.0   \n",
       "513786             0.0            0.0       44.0             0.0   \n",
       "553576             0.0            0.0       16.0             0.0   \n",
       "606927             0.0            0.0       18.0             0.0   \n",
       "...                ...            ...        ...             ...   \n",
       "4470815            0.0            0.0       22.0             0.0   \n",
       "4554977            0.0            0.0       24.0             0.0   \n",
       "4580696            0.0            0.0       34.0             0.0   \n",
       "4670072            0.0            0.0       16.0             0.0   \n",
       "4775576            0.0            0.0       32.0             0.0   \n",
       "\n",
       "         LATE_AIRCRAFT_DELAY  \n",
       "206834                   0.0  \n",
       "405036                   0.0  \n",
       "513786                   0.0  \n",
       "553576                   0.0  \n",
       "606927                   0.0  \n",
       "...                      ...  \n",
       "4470815                  0.0  \n",
       "4554977                  0.0  \n",
       "4580696                  0.0  \n",
       "4670072                  0.0  \n",
       "4775576                  0.0  \n",
       "\n",
       "[77 rows x 26 columns]"
      ]
     },
     "execution_count": 98,
     "metadata": {},
     "output_type": "execute_result"
    }
   ],
   "source": [
    "df[df.DEP_DELAY.isnull()]"
   ]
  },
  {
   "cell_type": "markdown",
   "metadata": {},
   "source": [
    "We see that the null values seem to indicate there wasn't a delay in take off. We will impude these values with 0"
   ]
  },
  {
   "cell_type": "code",
   "execution_count": 105,
   "metadata": {},
   "outputs": [],
   "source": [
    "df.DEP_DELAY = df.DEP_DELAY.fillna(0.0)"
   ]
  },
  {
   "cell_type": "code",
   "execution_count": 108,
   "metadata": {},
   "outputs": [],
   "source": [
    "# Lower case column names\n",
    "\n",
    "df.columns = map(str.lower, df.columns)"
   ]
  },
  {
   "cell_type": "code",
   "execution_count": 110,
   "metadata": {},
   "outputs": [
    {
     "data": {
      "text/plain": [
       "fl_date                0\n",
       "op_carrier             0\n",
       "op_carrier_fl_num      0\n",
       "origin                 0\n",
       "dest                   0\n",
       "crs_dep_time           0\n",
       "dep_time               0\n",
       "dep_delay              0\n",
       "taxi_out               0\n",
       "wheels_off             0\n",
       "wheels_on              0\n",
       "taxi_in                0\n",
       "crs_arr_time           0\n",
       "arr_time               0\n",
       "arr_delay              0\n",
       "cancelled              0\n",
       "diverted               0\n",
       "crs_elapsed_time       0\n",
       "actual_elapsed_time    0\n",
       "air_time               0\n",
       "distance               0\n",
       "carrier_delay          0\n",
       "weather_delay          0\n",
       "nas_delay              0\n",
       "security_delay         0\n",
       "late_aircraft_delay    0\n",
       "dtype: int64"
      ]
     },
     "execution_count": 110,
     "metadata": {},
     "output_type": "execute_result"
    }
   ],
   "source": [
    "df.isnull().sum()"
   ]
  },
  {
   "cell_type": "markdown",
   "metadata": {},
   "source": [
    "Now that we have the data in the shape that we want it it, we are ready to move onto exploration"
   ]
  },
  {
   "cell_type": "markdown",
   "metadata": {},
   "source": [
    "# Exploration\n",
    "\n",
    "We will look to understand if there are any patterns that can help us predict if a flight will be delayed."
   ]
  },
  {
   "cell_type": "markdown",
   "metadata": {},
   "source": [
    "## What percentage of flights experience delays?"
   ]
  },
  {
   "cell_type": "code",
   "execution_count": 113,
   "metadata": {},
   "outputs": [
    {
     "data": {
      "text/plain": [
       "1.0"
      ]
     },
     "execution_count": 113,
     "metadata": {},
     "output_type": "execute_result"
    }
   ],
   "source": [
    "(df.arr_delay > 0).mean()"
   ]
  },
  {
   "cell_type": "markdown",
   "metadata": {},
   "source": [
    "## What airline carrier experiences the most delays?"
   ]
  },
  {
   "cell_type": "markdown",
   "metadata": {},
   "source": [
    "## What airport experience the most delays?"
   ]
  },
  {
   "cell_type": "markdown",
   "metadata": {},
   "source": [
    "## What is the most common type of delay?"
   ]
  },
  {
   "cell_type": "markdown",
   "metadata": {},
   "source": [
    "## Are delays more or less common when the destination is another major airport?"
   ]
  }
 ],
 "metadata": {
  "kernelspec": {
   "display_name": "Python 3",
   "language": "python",
   "name": "python3"
  },
  "language_info": {
   "codemirror_mode": {
    "name": "ipython",
    "version": 3
   },
   "file_extension": ".py",
   "mimetype": "text/x-python",
   "name": "python",
   "nbconvert_exporter": "python",
   "pygments_lexer": "ipython3",
   "version": "3.7.4"
  }
 },
 "nbformat": 4,
 "nbformat_minor": 2
}
