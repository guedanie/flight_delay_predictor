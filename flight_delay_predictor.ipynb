{
 "cells": [
  {
   "cell_type": "markdown",
   "metadata": {},
   "source": [
    "# Predicting Flight Delays\n",
    "\n",
    "The ogjective of this project is to use historical flight information to create a classification model that can return the probability of a flight being delayed. \n",
    "\n",
    "We will be looking at data from 2016, 2017, and 2018. All data files are downloaded from OST website, which stores flights on-time performance fro 1987 to present.\n",
    "\n",
    "**Our MVP**: Our MVP will look to just deliver predictions and exploration on the flight data. Once the MVP is completed, I will look to bring in weather data.\n",
    "\n",
    "\n",
    "In addition to the data that we are bringing, we will also be using weather data. \n",
    "\n",
    "As stated in a published paper by \n",
    "\n",
    "> \"Our analysis shows that weather shocks like rainfall, snow and wind have a significant impact on departure delays within the U.S. aviation system. Depending on the intensity of the weather shock considered, rain- and snowfall lead to additional departure delays between 10 and 23 min. For wind, the discovered effects are smaller in magnitude, ranging from 1 to 3 min. While the impact of rainfall is more pronounced between April and September, the effect of wind is more evenly distributed across the year. With regard to slow onset weather shocks, our results reveal that cold conditions lead to additional departure delays. For temperatures below 0∘C, our analysis shows an increase in delay on average by around 2 min per departure. For heat, we do not discover any significant amplifying impacts on departure delay. While our results indicate a tendency of higher average departure delays when temperatures go beyond 45∘C, the results are not statistically significant. Considering the recent experiences from Phoenix, where temperatures of 49∘C on June 20th, 2017 lead to the cancellation of more than 40 regional flights, together with the projections by Coffel et al. (2017), we expect extreme temperatures to increase departure delays.8 Our observations for temperatures beyond 45∘C, however, are insufficient for robust estimates.\"$^1$\n",
    "\n",
    "\n",
    "\n",
    "$^1$Borsky, S and Unterberger, C (2019) ‘Bad weather and flight delays: The impact of sudden and slow onset weather events’, Economics of Transportation, Volume 18.\n",
    "\n",
    "The weather data comes from:\n",
    "\n",
    "Moosavi, Sobhan, Mohammad Hossein Samavatian, Arnab Nandi, Srinivasan Parthasarathy, and Rajiv Ramnath. “Short and Long-term Pattern Discovery Over Large-Scale Geo-Spatiotemporal Data.” In Proceedings of the 25th ACM SIGKDD International Conference on Knowledge Discovery & Data Mining, ACM, 2019."
   ]
  },
  {
   "cell_type": "code",
   "execution_count": 174,
   "metadata": {},
   "outputs": [],
   "source": [
    "import pandas as pd\n",
    "import numpy as np\n",
    "\n",
    "import os.path\n",
    "import requests\n",
    "import io\n",
    "\n",
    "import seaborn as sns\n",
    "import matplotlib.pyplot as plt"
   ]
  },
  {
   "cell_type": "markdown",
   "metadata": {},
   "source": [
    "# Acquistion"
   ]
  },
  {
   "cell_type": "code",
   "execution_count": 21,
   "metadata": {},
   "outputs": [],
   "source": [
    "# df = pd.read_csv(\"https://raw.githubusercontent.com/michaelarg/datasets/master/airports.csv\")\n",
    "\n",
    "# airports = df[df.Country == \"United States\"]\n",
    "\n",
    "# weather_data = pd.read_csv(\"US_WeatherEvents_2016-2019.csv\")"
   ]
  },
  {
   "cell_type": "code",
   "execution_count": 115,
   "metadata": {},
   "outputs": [],
   "source": [
    "df = pd.read_csv(\"2018.csv\")"
   ]
  },
  {
   "cell_type": "code",
   "execution_count": 116,
   "metadata": {},
   "outputs": [
    {
     "name": "stdout",
     "output_type": "stream",
     "text": [
      "<class 'pandas.core.frame.DataFrame'>\n",
      "RangeIndex: 7213446 entries, 0 to 7213445\n",
      "Data columns (total 28 columns):\n",
      "FL_DATE                object\n",
      "OP_CARRIER             object\n",
      "OP_CARRIER_FL_NUM      int64\n",
      "ORIGIN                 object\n",
      "DEST                   object\n",
      "CRS_DEP_TIME           int64\n",
      "DEP_TIME               float64\n",
      "DEP_DELAY              float64\n",
      "TAXI_OUT               float64\n",
      "WHEELS_OFF             float64\n",
      "WHEELS_ON              float64\n",
      "TAXI_IN                float64\n",
      "CRS_ARR_TIME           int64\n",
      "ARR_TIME               float64\n",
      "ARR_DELAY              float64\n",
      "CANCELLED              float64\n",
      "CANCELLATION_CODE      object\n",
      "DIVERTED               float64\n",
      "CRS_ELAPSED_TIME       float64\n",
      "ACTUAL_ELAPSED_TIME    float64\n",
      "AIR_TIME               float64\n",
      "DISTANCE               float64\n",
      "CARRIER_DELAY          float64\n",
      "WEATHER_DELAY          float64\n",
      "NAS_DELAY              float64\n",
      "SECURITY_DELAY         float64\n",
      "LATE_AIRCRAFT_DELAY    float64\n",
      "Unnamed: 27            float64\n",
      "dtypes: float64(20), int64(3), object(5)\n",
      "memory usage: 1.5+ GB\n"
     ]
    }
   ],
   "source": [
    "df.info()"
   ]
  },
  {
   "cell_type": "markdown",
   "metadata": {},
   "source": [
    "Given that there is a large amount of data (+1.5GB), we will filter down to the top 15 largest airports. This will be at least for the exploration phase. We may look to bring additional data once we are ready to model"
   ]
  },
  {
   "cell_type": "code",
   "execution_count": 117,
   "metadata": {},
   "outputs": [],
   "source": [
    "top_airports = [\"ATL\", \"LAX\", \"ORD\", \"DFW\", \"DEN\", \"JFK\", \"SFO\", \"SEA\", \"LAS\", \"MCO\", \"EWR\", \"CLT\", \"PHX\", \"IAH\", \"MIA\"]"
   ]
  },
  {
   "cell_type": "code",
   "execution_count": 119,
   "metadata": {},
   "outputs": [],
   "source": [
    "for i in top_airports:\n",
    "    df.loc[df['ORIGIN'] == i, 'is_top'] = True \n",
    "    "
   ]
  },
  {
   "cell_type": "code",
   "execution_count": 121,
   "metadata": {},
   "outputs": [],
   "source": [
    "df.is_top = df.is_top.fillna(False)"
   ]
  },
  {
   "cell_type": "code",
   "execution_count": 122,
   "metadata": {},
   "outputs": [
    {
     "data": {
      "text/plain": [
       "ATL    390046\n",
       "ORD    332953\n",
       "DFW    279298\n",
       "DEN    235989\n",
       "CLT    233317\n",
       "LAX    221486\n",
       "SFO    175849\n",
       "PHX    173962\n",
       "IAH    173806\n",
       "LAS    161113\n",
       "EWR    143875\n",
       "SEA    140006\n",
       "MCO    138296\n",
       "JFK    129684\n",
       "MIA     87880\n",
       "Name: ORIGIN, dtype: int64"
      ]
     },
     "execution_count": 122,
     "metadata": {},
     "output_type": "execute_result"
    }
   ],
   "source": [
    "df[df.is_top].ORIGIN.value_counts()"
   ]
  },
  {
   "cell_type": "code",
   "execution_count": 123,
   "metadata": {},
   "outputs": [],
   "source": [
    "df = df[df.is_top]"
   ]
  },
  {
   "cell_type": "code",
   "execution_count": 124,
   "metadata": {},
   "outputs": [
    {
     "data": {
      "text/plain": [
       "(3017560, 29)"
      ]
     },
     "execution_count": 124,
     "metadata": {},
     "output_type": "execute_result"
    }
   ],
   "source": [
    "df.shape"
   ]
  },
  {
   "cell_type": "code",
   "execution_count": 125,
   "metadata": {},
   "outputs": [
    {
     "data": {
      "text/plain": [
       "FL_DATE                      0\n",
       "OP_CARRIER                   0\n",
       "OP_CARRIER_FL_NUM            0\n",
       "ORIGIN                       0\n",
       "DEST                         0\n",
       "CRS_DEP_TIME                 0\n",
       "DEP_TIME                 40437\n",
       "DEP_DELAY                41790\n",
       "TAXI_OUT                 41892\n",
       "WHEELS_OFF               41892\n",
       "WHEELS_ON                43585\n",
       "TAXI_IN                  43585\n",
       "CRS_ARR_TIME                 0\n",
       "ARR_TIME                 43585\n",
       "ARR_DELAY                50550\n",
       "CANCELLED                    0\n",
       "CANCELLATION_CODE      2975227\n",
       "DIVERTED                     0\n",
       "CRS_ELAPSED_TIME             2\n",
       "ACTUAL_ELAPSED_TIME      49843\n",
       "AIR_TIME                 49843\n",
       "DISTANCE                     0\n",
       "CARRIER_DELAY          2416987\n",
       "WEATHER_DELAY          2416987\n",
       "NAS_DELAY              2416987\n",
       "SECURITY_DELAY         2416987\n",
       "LATE_AIRCRAFT_DELAY    2416987\n",
       "Unnamed: 27            3017560\n",
       "is_top                       0\n",
       "dtype: int64"
      ]
     },
     "execution_count": 125,
     "metadata": {},
     "output_type": "execute_result"
    }
   ],
   "source": [
    "df.isnull().sum()"
   ]
  },
  {
   "cell_type": "code",
   "execution_count": 130,
   "metadata": {},
   "outputs": [
    {
     "data": {
      "text/plain": [
       "-8.56143138397515"
      ]
     },
     "execution_count": 130,
     "metadata": {},
     "output_type": "execute_result"
    }
   ],
   "source": [
    "df[df.WEATHER_DELAY.isnull()].ARR_DELAY.mean()"
   ]
  },
  {
   "cell_type": "markdown",
   "metadata": {},
   "source": [
    "We see that even after only keeping the top 15 airports, we stll have a lot of NULL values. We find that actually the null values are for when the flight did not experienced any delays. We will impude all these values with 0.0."
   ]
  },
  {
   "cell_type": "markdown",
   "metadata": {},
   "source": [
    "We see that we largely were able to get rid of any null values. It seems that `Cancelation_code` has no remaining values, we so will drop that column. Additionally, it seems that `Dep_delay` still has some null values, so we will try to impude those."
   ]
  },
  {
   "cell_type": "code",
   "execution_count": 131,
   "metadata": {},
   "outputs": [],
   "source": [
    "df.drop(columns = [\"Unnamed: 27\", \"is_top\", \"CANCELLATION_CODE\"], inplace=True)"
   ]
  },
  {
   "cell_type": "code",
   "execution_count": 143,
   "metadata": {},
   "outputs": [],
   "source": [
    "df = df[df.ARR_DELAY.notnull()]"
   ]
  },
  {
   "cell_type": "code",
   "execution_count": 145,
   "metadata": {},
   "outputs": [],
   "source": [
    "df = df[df.DEP_DELAY.notnull()]"
   ]
  },
  {
   "cell_type": "code",
   "execution_count": 148,
   "metadata": {},
   "outputs": [],
   "source": [
    "df = df.fillna(0.0)"
   ]
  },
  {
   "cell_type": "code",
   "execution_count": 150,
   "metadata": {
    "scrolled": true
   },
   "outputs": [
    {
     "data": {
      "text/plain": [
       "FL_DATE                0\n",
       "OP_CARRIER             0\n",
       "OP_CARRIER_FL_NUM      0\n",
       "ORIGIN                 0\n",
       "DEST                   0\n",
       "CRS_DEP_TIME           0\n",
       "DEP_TIME               0\n",
       "DEP_DELAY              0\n",
       "TAXI_OUT               0\n",
       "WHEELS_OFF             0\n",
       "WHEELS_ON              0\n",
       "TAXI_IN                0\n",
       "CRS_ARR_TIME           0\n",
       "ARR_TIME               0\n",
       "ARR_DELAY              0\n",
       "CANCELLED              0\n",
       "DIVERTED               0\n",
       "CRS_ELAPSED_TIME       0\n",
       "ACTUAL_ELAPSED_TIME    0\n",
       "AIR_TIME               0\n",
       "DISTANCE               0\n",
       "CARRIER_DELAY          0\n",
       "WEATHER_DELAY          0\n",
       "NAS_DELAY              0\n",
       "SECURITY_DELAY         0\n",
       "LATE_AIRCRAFT_DELAY    0\n",
       "dtype: int64"
      ]
     },
     "execution_count": 150,
     "metadata": {},
     "output_type": "execute_result"
    }
   ],
   "source": [
    "df.isnull().sum()"
   ]
  },
  {
   "cell_type": "code",
   "execution_count": 152,
   "metadata": {},
   "outputs": [],
   "source": [
    "df.columns = map(str.lower, df.columns)"
   ]
  },
  {
   "cell_type": "code",
   "execution_count": 200,
   "metadata": {},
   "outputs": [],
   "source": [
    "# lets add the airline names\n",
    "\n",
    "airline_code = pd.read_csv(\"airline_codes.csv\")\n",
    "\n",
    "airline_code.drop(columns=\"Unnamed: 0\", inplace=True)"
   ]
  },
  {
   "cell_type": "code",
   "execution_count": 208,
   "metadata": {},
   "outputs": [],
   "source": [
    "df = df.merge(airline_code, how=\"left\", left_on=\"op_carrier\", right_on = \"Code\")"
   ]
  },
  {
   "cell_type": "code",
   "execution_count": 212,
   "metadata": {},
   "outputs": [],
   "source": [
    "df.drop(columns=\"Code\", inplace=True)"
   ]
  },
  {
   "cell_type": "markdown",
   "metadata": {},
   "source": [
    "Now that we have the data in the shape that we want it it, we are ready to move onto exploration"
   ]
  },
  {
   "cell_type": "markdown",
   "metadata": {},
   "source": [
    "# Exploration\n",
    "\n",
    "We will look to understand if there are any patterns that can help us predict if a flight will be delayed."
   ]
  },
  {
   "cell_type": "markdown",
   "metadata": {},
   "source": [
    "## What percentage of flights experience delays?"
   ]
  },
  {
   "cell_type": "code",
   "execution_count": 159,
   "metadata": {},
   "outputs": [
    {
     "name": "stdout",
     "output_type": "stream",
     "text": [
      "37% of flights experienced a delay in 2018\n"
     ]
    }
   ],
   "source": [
    "print(f\"{(df.arr_delay > 0).mean():.0%} of flights experienced a delay in 2018\")"
   ]
  },
  {
   "cell_type": "markdown",
   "metadata": {},
   "source": [
    "## What airline carrier experiences the most delays?"
   ]
  },
  {
   "cell_type": "code",
   "execution_count": 209,
   "metadata": {},
   "outputs": [
    {
     "data": {
      "text/plain": [
       "Text(0.5, 0, 'Airline Code')"
      ]
     },
     "execution_count": 209,
     "metadata": {},
     "output_type": "execute_result"
    },
    {
     "data": {
      "image/png": "[encoded data removed]",
      "text/plain": [
       "<Figure size 1080x360 with 1 Axes>"
      ]
     },
     "metadata": {
      "needs_background": "light"
     },
     "output_type": "display_data"
    }
   ],
   "source": [
    "# Delays in minutes\n",
    "df.groupby(\"op_carrier\").arr_delay.mean().sort_values().plot.bar(figsize=(15,5))\n",
    "plt.title(\"Which airline is delayed the most?\")\n",
    "plt.ylabel(\"Minutes Delayed\")\n",
    "plt.xlabel(\"Airline Code\")"
   ]
  },
  {
   "cell_type": "markdown",
   "metadata": {},
   "source": [
    "It seems that Frontier had the longest delays, with an average of 13 min delay across 2018. Delta had the overall smallest delays in minutes, with an average of 0.6 min for 2018"
   ]
  },
  {
   "cell_type": "code",
   "execution_count": 210,
   "metadata": {},
   "outputs": [
    {
     "data": {
      "text/plain": [
       "Text(0.5, 0, 'Airline Code')"
      ]
     },
     "execution_count": 210,
     "metadata": {},
     "output_type": "execute_result"
    },
    {
     "data": {
      "image/png": "[encoded data removed]",
      "text/plain": [
       "<Figure size 1080x360 with 1 Axes>"
      ]
     },
     "metadata": {
      "needs_background": "light"
     },
     "output_type": "display_data"
    }
   ],
   "source": [
    "# Delays by flights (count)\n",
    "\n",
    "df[df.arr_delay > 0].groupby(\"op_carrier\").arr_delay.count().sort_values().plot.bar(figsize=(15,5))\n",
    "plt.title(\"Which airline has the most delays?\")\n",
    "plt.ylabel(\"Number of Flights\")\n",
    "plt.xlabel(\"Airline Code\")"
   ]
  },
  {
   "cell_type": "markdown",
   "metadata": {},
   "source": [
    "Interestingly, American Airlines seems to have the most flights delayed. I think this is more indicative of which airlines have most scheduled flights. If we want to look at better metric of delays, we should use minutes delayed."
   ]
  },
  {
   "cell_type": "markdown",
   "metadata": {},
   "source": [
    "## What airport experience the most delays?"
   ]
  },
  {
   "cell_type": "code",
   "execution_count": 185,
   "metadata": {
    "scrolled": false
   },
   "outputs": [
    {
     "data": {
      "text/plain": [
       "Text(0.5, 0, 'Airline Code')"
      ]
     },
     "execution_count": 185,
     "metadata": {},
     "output_type": "execute_result"
    },
    {
     "data": {
      "image/png": "[encoded data removed]",
      "text/plain": [
       "<Figure size 1080x360 with 1 Axes>"
      ]
     },
     "metadata": {
      "needs_background": "light"
     },
     "output_type": "display_data"
    }
   ],
   "source": [
    "# Delays in minutes\n",
    "df.groupby(\"origin\").arr_delay.mean().sort_values().plot.bar(figsize=(15,5))\n",
    "plt.title(\"Which airport experiences the most delays, in minutes?\")\n",
    "plt.ylabel(\"Minutes Delayed\")\n",
    "plt.xlabel(\"Airline Code\")"
   ]
  },
  {
   "cell_type": "code",
   "execution_count": 188,
   "metadata": {
    "scrolled": false
   },
   "outputs": [
    {
     "data": {
      "text/plain": [
       "Text(0.5, 0, 'Airline Code')"
      ]
     },
     "execution_count": 188,
     "metadata": {},
     "output_type": "execute_result"
    },
    {
     "data": {
      "image/png": "[encoded data removed]",
      "text/plain": [
       "<Figure size 1080x360 with 1 Axes>"
      ]
     },
     "metadata": {
      "needs_background": "light"
     },
     "output_type": "display_data"
    }
   ],
   "source": [
    "df[df.arr_delay > 0].groupby(\"origin\").arr_delay.count().sort_values().plot.bar(figsize=(15,5))\n",
    "plt.title(\"Which airport has the most number of flights delayed?\")\n",
    "plt.ylabel(\"Number of Flights\")\n",
    "plt.xlabel(\"Airline Code\")"
   ]
  },
  {
   "cell_type": "markdown",
   "metadata": {},
   "source": [
    "Interestingly, Orland seems to have the most delays both in number of flights delayed by more than a minute, and avg minutes delayed. Some ideas that might help explain these results:\n",
    "\n",
    "1. Look at airports that recieve the most international flights\n",
    "1. Look at what airports have hubs for what airlines. Given that we know that overall some airlines have a higher propensity to experience delays, it might be that this has an effect on delays by airports.\n",
    "\n",
    "I initially though that weather might have an impact on this - as Orlando could experience high humidity, however Miami is on the other side of the spectrum, and I would suspect they would have similar weather.\n",
    "\n",
    "We know Atlanta and LAX are the busiest airports in terms of total number of flights."
   ]
  },
  {
   "cell_type": "markdown",
   "metadata": {},
   "source": [
    "## What is the most common type of delay?"
   ]
  },
  {
   "cell_type": "code",
   "execution_count": 213,
   "metadata": {},
   "outputs": [
    {
     "name": "stdout",
     "output_type": "stream",
     "text": [
      "<class 'pandas.core.frame.DataFrame'>\n",
      "Int64Index: 2965760 entries, 0 to 2965759\n",
      "Data columns (total 27 columns):\n",
      "fl_date                object\n",
      "op_carrier             object\n",
      "op_carrier_fl_num      int64\n",
      "origin                 object\n",
      "dest                   object\n",
      "crs_dep_time           int64\n",
      "dep_time               float64\n",
      "dep_delay              float64\n",
      "taxi_out               float64\n",
      "wheels_off             float64\n",
      "wheels_on              float64\n",
      "taxi_in                float64\n",
      "crs_arr_time           int64\n",
      "arr_time               float64\n",
      "arr_delay              float64\n",
      "cancelled              float64\n",
      "diverted               float64\n",
      "crs_elapsed_time       float64\n",
      "actual_elapsed_time    float64\n",
      "air_time               float64\n",
      "distance               float64\n",
      "carrier_delay          float64\n",
      "weather_delay          float64\n",
      "nas_delay              float64\n",
      "security_delay         float64\n",
      "late_aircraft_delay    float64\n",
      "Airline                object\n",
      "dtypes: float64(19), int64(3), object(5)\n",
      "memory usage: 633.6+ MB\n"
     ]
    }
   ],
   "source": [
    "df.info()"
   ]
  },
  {
   "cell_type": "code",
   "execution_count": 223,
   "metadata": {},
   "outputs": [
    {
     "data": {
      "text/plain": [
       "Text(0.5, 0, 'Reason for delay')"
      ]
     },
     "execution_count": 223,
     "metadata": {},
     "output_type": "execute_result"
    },
    {
     "data": {
      "image/png": "[encoded data removed]",
      "text/plain": [
       "<Figure size 1080x360 with 1 Axes>"
      ]
     },
     "metadata": {
      "needs_background": "light"
     },
     "output_type": "display_data"
    }
   ],
   "source": [
    "df.iloc[:,22:26].mean().sort_values().plot.bar(figsize=(15,5))\n",
    "plt.title(\"What is the most common reason for a delay?\")\n",
    "plt.ylabel(\"Avg minutes delayed\")\n",
    "plt.xlabel(\"Reason for delay\")"
   ]
  },
  {
   "cell_type": "markdown",
   "metadata": {},
   "source": [
    "It seems that a late aircraft arrival is the main cause for delays. This raises more questions, as now we may have to not only look at the weather and factor of the previous flights (which means we will need to definitively look at the flight number). \n",
    "\n",
    "We might be able to use this information to track inbound [flights]https://flightaware.com/live/flight/UAL208/history/20200709/2205Z/KATL/KIAH\n",
    "\n",
    "If we could find a way to actually scrape the previous airport, we might be able to get additional data to enhance the model's effectiveness."
   ]
  },
  {
   "cell_type": "markdown",
   "metadata": {},
   "source": [
    "## Are delays more or less common when the destination is another major airport?"
   ]
  },
  {
   "cell_type": "code",
   "execution_count": 230,
   "metadata": {},
   "outputs": [],
   "source": [
    "for i in top_airports:\n",
    "    df.loc[df['dest'] == i, 'is_top'] = True\n",
    "    \n",
    "df.is_top = df.is_top.fillna(False)"
   ]
  },
  {
   "cell_type": "code",
   "execution_count": 232,
   "metadata": {},
   "outputs": [
    {
     "data": {
      "text/plain": [
       "5.972897744384738"
      ]
     },
     "execution_count": 232,
     "metadata": {},
     "output_type": "execute_result"
    }
   ],
   "source": [
    "df[df.is_top].arr_delay.mean()"
   ]
  },
  {
   "cell_type": "code",
   "execution_count": 234,
   "metadata": {},
   "outputs": [
    {
     "data": {
      "text/plain": [
       "5.636822310970039"
      ]
     },
     "execution_count": 234,
     "metadata": {},
     "output_type": "execute_result"
    }
   ],
   "source": [
    "df[~df.is_top].arr_delay.mean()"
   ]
  },
  {
   "cell_type": "markdown",
   "metadata": {},
   "source": [
    "We see that there is actually very little difference in avg delay in minutes based on the airport destination."
   ]
  },
  {
   "cell_type": "markdown",
   "metadata": {},
   "source": [
    "## Is there a time series element to delays?\n",
    "\n",
    "Elements to look for:\n",
    "\n",
    "* Yearly seasonality\n",
    "* Month\n",
    "* Day of week\n",
    "* Hourly"
   ]
  },
  {
   "cell_type": "code",
   "execution_count": 245,
   "metadata": {},
   "outputs": [],
   "source": [
    "df.fl_date = pd.to_datetime(df.fl_date)"
   ]
  },
  {
   "cell_type": "code",
   "execution_count": 246,
   "metadata": {},
   "outputs": [],
   "source": [
    "df = df.set_index(\"fl_date\")"
   ]
  },
  {
   "cell_type": "code",
   "execution_count": 247,
   "metadata": {},
   "outputs": [
    {
     "name": "stdout",
     "output_type": "stream",
     "text": [
      "<class 'pandas.core.frame.DataFrame'>\n",
      "DatetimeIndex: 2965760 entries, 2018-01-01 to 2018-12-31\n",
      "Data columns (total 27 columns):\n",
      "op_carrier             object\n",
      "op_carrier_fl_num      int64\n",
      "origin                 object\n",
      "dest                   object\n",
      "crs_dep_time           int64\n",
      "dep_time               float64\n",
      "dep_delay              float64\n",
      "taxi_out               float64\n",
      "wheels_off             float64\n",
      "wheels_on              float64\n",
      "taxi_in                float64\n",
      "crs_arr_time           int64\n",
      "arr_time               float64\n",
      "arr_delay              float64\n",
      "cancelled              float64\n",
      "diverted               float64\n",
      "crs_elapsed_time       float64\n",
      "actual_elapsed_time    float64\n",
      "air_time               float64\n",
      "distance               float64\n",
      "carrier_delay          float64\n",
      "weather_delay          float64\n",
      "nas_delay              float64\n",
      "security_delay         float64\n",
      "late_aircraft_delay    float64\n",
      "Airline                object\n",
      "is_top                 bool\n",
      "dtypes: bool(1), float64(19), int64(3), object(4)\n",
      "memory usage: 613.8+ MB\n"
     ]
    }
   ],
   "source": [
    "df.info()"
   ]
  },
  {
   "cell_type": "code",
   "execution_count": 250,
   "metadata": {},
   "outputs": [],
   "source": [
    "monthly = df.resample(\"M\").mean()"
   ]
  },
  {
   "cell_type": "code",
   "execution_count": 252,
   "metadata": {},
   "outputs": [
    {
     "data": {
      "text/plain": [
       "Text(0.5, 0, 'Date')"
      ]
     },
     "execution_count": 252,
     "metadata": {},
     "output_type": "execute_result"
    },
    {
     "data": {
      "image/png": "[encoded data removed]",
      "text/plain": [
       "<Figure size 1080x360 with 1 Axes>"
      ]
     },
     "metadata": {
      "needs_background": "light"
     },
     "output_type": "display_data"
    }
   ],
   "source": [
    "plt.figure(figsize=(15,5))\n",
    "sns.lineplot(data=monthly, x=monthly.index, y=\"arr_delay\")\n",
    "plt.title(\"Does time of year make a difference in avg minutes delayed?\")\n",
    "plt.ylabel(\"Arrival delayed, in minutes\")\n",
    "plt.xlabel(\"Date\")"
   ]
  },
  {
   "cell_type": "markdown",
   "metadata": {},
   "source": [
    "We see that there ceirtainly seems to be a seasonality that could be impacting flight delays. It seems that over the summer is when delayes peak. This is likely related to an increase in travel from school breaks as well as summer holidays. We do see a small spike in December, which likely shows people traveling for Christmas. "
   ]
  },
  {
   "cell_type": "code",
   "execution_count": 293,
   "metadata": {
    "scrolled": false
   },
   "outputs": [
    {
     "data": {
      "text/html": [
       "<div>\n",
       "<style scoped>\n",
       "    .dataframe tbody tr th:only-of-type {\n",
       "        vertical-align: middle;\n",
       "    }\n",
       "\n",
       "    .dataframe tbody tr th {\n",
       "        vertical-align: top;\n",
       "    }\n",
       "\n",
       "    .dataframe thead th {\n",
       "        text-align: right;\n",
       "    }\n",
       "</style>\n",
       "<table border=\"1\" class=\"dataframe\">\n",
       "  <thead>\n",
       "    <tr style=\"text-align: right;\">\n",
       "      <th></th>\n",
       "      <th>op_carrier</th>\n",
       "      <th>op_carrier_fl_num</th>\n",
       "      <th>origin</th>\n",
       "      <th>dest</th>\n",
       "      <th>crs_dep_time</th>\n",
       "      <th>dep_time</th>\n",
       "      <th>dep_delay</th>\n",
       "      <th>taxi_out</th>\n",
       "      <th>wheels_off</th>\n",
       "      <th>wheels_on</th>\n",
       "      <th>...</th>\n",
       "      <th>air_time</th>\n",
       "      <th>distance</th>\n",
       "      <th>carrier_delay</th>\n",
       "      <th>weather_delay</th>\n",
       "      <th>nas_delay</th>\n",
       "      <th>security_delay</th>\n",
       "      <th>late_aircraft_delay</th>\n",
       "      <th>Airline</th>\n",
       "      <th>is_top</th>\n",
       "      <th>day_of_week</th>\n",
       "    </tr>\n",
       "    <tr>\n",
       "      <th>fl_date</th>\n",
       "      <th></th>\n",
       "      <th></th>\n",
       "      <th></th>\n",
       "      <th></th>\n",
       "      <th></th>\n",
       "      <th></th>\n",
       "      <th></th>\n",
       "      <th></th>\n",
       "      <th></th>\n",
       "      <th></th>\n",
       "      <th></th>\n",
       "      <th></th>\n",
       "      <th></th>\n",
       "      <th></th>\n",
       "      <th></th>\n",
       "      <th></th>\n",
       "      <th></th>\n",
       "      <th></th>\n",
       "      <th></th>\n",
       "      <th></th>\n",
       "      <th></th>\n",
       "    </tr>\n",
       "  </thead>\n",
       "  <tbody>\n",
       "    <tr>\n",
       "      <th>2018-01-01</th>\n",
       "      <td>UA</td>\n",
       "      <td>2429</td>\n",
       "      <td>EWR</td>\n",
       "      <td>DEN</td>\n",
       "      <td>1517</td>\n",
       "      <td>1512.0</td>\n",
       "      <td>-5.0</td>\n",
       "      <td>15.0</td>\n",
       "      <td>1527.0</td>\n",
       "      <td>1712.0</td>\n",
       "      <td>...</td>\n",
       "      <td>225.0</td>\n",
       "      <td>1605.0</td>\n",
       "      <td>0.0</td>\n",
       "      <td>0.0</td>\n",
       "      <td>0.0</td>\n",
       "      <td>0.0</td>\n",
       "      <td>0.0</td>\n",
       "      <td>United Air Lines Inc.</td>\n",
       "      <td>True</td>\n",
       "      <td>NaN</td>\n",
       "    </tr>\n",
       "    <tr>\n",
       "      <th>2018-01-01</th>\n",
       "      <td>UA</td>\n",
       "      <td>2427</td>\n",
       "      <td>LAS</td>\n",
       "      <td>SFO</td>\n",
       "      <td>1115</td>\n",
       "      <td>1107.0</td>\n",
       "      <td>-8.0</td>\n",
       "      <td>11.0</td>\n",
       "      <td>1118.0</td>\n",
       "      <td>1223.0</td>\n",
       "      <td>...</td>\n",
       "      <td>65.0</td>\n",
       "      <td>414.0</td>\n",
       "      <td>0.0</td>\n",
       "      <td>0.0</td>\n",
       "      <td>0.0</td>\n",
       "      <td>0.0</td>\n",
       "      <td>0.0</td>\n",
       "      <td>United Air Lines Inc.</td>\n",
       "      <td>True</td>\n",
       "      <td>NaN</td>\n",
       "    </tr>\n",
       "    <tr>\n",
       "      <th>2018-01-01</th>\n",
       "      <td>UA</td>\n",
       "      <td>2424</td>\n",
       "      <td>ORD</td>\n",
       "      <td>ALB</td>\n",
       "      <td>630</td>\n",
       "      <td>650.0</td>\n",
       "      <td>20.0</td>\n",
       "      <td>13.0</td>\n",
       "      <td>703.0</td>\n",
       "      <td>926.0</td>\n",
       "      <td>...</td>\n",
       "      <td>83.0</td>\n",
       "      <td>723.0</td>\n",
       "      <td>0.0</td>\n",
       "      <td>0.0</td>\n",
       "      <td>0.0</td>\n",
       "      <td>0.0</td>\n",
       "      <td>0.0</td>\n",
       "      <td>United Air Lines Inc.</td>\n",
       "      <td>False</td>\n",
       "      <td>NaN</td>\n",
       "    </tr>\n",
       "    <tr>\n",
       "      <th>2018-01-01</th>\n",
       "      <td>UA</td>\n",
       "      <td>2422</td>\n",
       "      <td>ORD</td>\n",
       "      <td>OMA</td>\n",
       "      <td>2241</td>\n",
       "      <td>2244.0</td>\n",
       "      <td>3.0</td>\n",
       "      <td>15.0</td>\n",
       "      <td>2259.0</td>\n",
       "      <td>1.0</td>\n",
       "      <td>...</td>\n",
       "      <td>62.0</td>\n",
       "      <td>416.0</td>\n",
       "      <td>0.0</td>\n",
       "      <td>0.0</td>\n",
       "      <td>0.0</td>\n",
       "      <td>0.0</td>\n",
       "      <td>0.0</td>\n",
       "      <td>United Air Lines Inc.</td>\n",
       "      <td>False</td>\n",
       "      <td>NaN</td>\n",
       "    </tr>\n",
       "    <tr>\n",
       "      <th>2018-01-01</th>\n",
       "      <td>UA</td>\n",
       "      <td>2421</td>\n",
       "      <td>IAH</td>\n",
       "      <td>LAS</td>\n",
       "      <td>750</td>\n",
       "      <td>747.0</td>\n",
       "      <td>-3.0</td>\n",
       "      <td>14.0</td>\n",
       "      <td>801.0</td>\n",
       "      <td>854.0</td>\n",
       "      <td>...</td>\n",
       "      <td>173.0</td>\n",
       "      <td>1222.0</td>\n",
       "      <td>0.0</td>\n",
       "      <td>0.0</td>\n",
       "      <td>0.0</td>\n",
       "      <td>0.0</td>\n",
       "      <td>0.0</td>\n",
       "      <td>United Air Lines Inc.</td>\n",
       "      <td>True</td>\n",
       "      <td>NaN</td>\n",
       "    </tr>\n",
       "  </tbody>\n",
       "</table>\n",
       "<p>5 rows × 28 columns</p>\n",
       "</div>"
      ],
      "text/plain": [
       "           op_carrier  op_carrier_fl_num origin dest  crs_dep_time  dep_time  \\\n",
       "fl_date                                                                        \n",
       "2018-01-01         UA               2429    EWR  DEN          1517    1512.0   \n",
       "2018-01-01         UA               2427    LAS  SFO          1115    1107.0   \n",
       "2018-01-01         UA               2424    ORD  ALB           630     650.0   \n",
       "2018-01-01         UA               2422    ORD  OMA          2241    2244.0   \n",
       "2018-01-01         UA               2421    IAH  LAS           750     747.0   \n",
       "\n",
       "            dep_delay  taxi_out  wheels_off  wheels_on  ...  air_time  \\\n",
       "fl_date                                                 ...             \n",
       "2018-01-01       -5.0      15.0      1527.0     1712.0  ...     225.0   \n",
       "2018-01-01       -8.0      11.0      1118.0     1223.0  ...      65.0   \n",
       "2018-01-01       20.0      13.0       703.0      926.0  ...      83.0   \n",
       "2018-01-01        3.0      15.0      2259.0        1.0  ...      62.0   \n",
       "2018-01-01       -3.0      14.0       801.0      854.0  ...     173.0   \n",
       "\n",
       "            distance  carrier_delay  weather_delay  nas_delay  security_delay  \\\n",
       "fl_date                                                                         \n",
       "2018-01-01    1605.0            0.0            0.0        0.0             0.0   \n",
       "2018-01-01     414.0            0.0            0.0        0.0             0.0   \n",
       "2018-01-01     723.0            0.0            0.0        0.0             0.0   \n",
       "2018-01-01     416.0            0.0            0.0        0.0             0.0   \n",
       "2018-01-01    1222.0            0.0            0.0        0.0             0.0   \n",
       "\n",
       "            late_aircraft_delay                Airline  is_top  day_of_week  \n",
       "fl_date                                                                      \n",
       "2018-01-01                  0.0  United Air Lines Inc.    True          NaN  \n",
       "2018-01-01                  0.0  United Air Lines Inc.    True          NaN  \n",
       "2018-01-01                  0.0  United Air Lines Inc.   False          NaN  \n",
       "2018-01-01                  0.0  United Air Lines Inc.   False          NaN  \n",
       "2018-01-01                  0.0  United Air Lines Inc.    True          NaN  \n",
       "\n",
       "[5 rows x 28 columns]"
      ]
     },
     "execution_count": 293,
     "metadata": {},
     "output_type": "execute_result"
    }
   ],
   "source": [
    "# Is there a difference in day of the week delay?\n",
    "\n",
    "pd.concat([df,df.reset_index().fl_date.dt.day_name()], axis=1)"
   ]
  },
  {
   "cell_type": "code",
   "execution_count": 294,
   "metadata": {},
   "outputs": [],
   "source": [
    "df = df.reset_index()"
   ]
  },
  {
   "cell_type": "code",
   "execution_count": 296,
   "metadata": {},
   "outputs": [],
   "source": [
    "df[\"day_name\"] = df.fl_date.dt.day_name()"
   ]
  },
  {
   "cell_type": "code",
   "execution_count": 299,
   "metadata": {},
   "outputs": [
    {
     "data": {
      "text/plain": [
       "Text(0, 0.5, 'Arrival delay, in minutes')"
      ]
     },
     "execution_count": 299,
     "metadata": {},
     "output_type": "execute_result"
    },
    {
     "data": {
      "image/png": "[encoded data removed]",
      "text/plain": [
       "<Figure size 1080x360 with 1 Axes>"
      ]
     },
     "metadata": {
      "needs_background": "light"
     },
     "output_type": "display_data"
    }
   ],
   "source": [
    "plt.figure(figsize=(15,5))\n",
    "sns.barplot(data=df, x=\"day_name\", y=\"arr_delay\")\n",
    "plt.title(\"Does the day of the week matter?\")\n",
    "plt.ylabel(\"Arrival delay, in minutes\")"
   ]
  },
  {
   "cell_type": "markdown",
   "metadata": {},
   "source": [
    "It seems that there is ceirtainly some big difference, with Saturday experiencing the least number of delays, and Thursday and Friday having the most. This kind of makes sense, as you would expect most people to travel on a Thursday or Friday (to take advantage of the long weekends) and then return Sunday. Satuday is likely on of the least traveled days."
   ]
  },
  {
   "cell_type": "code",
   "execution_count": 307,
   "metadata": {},
   "outputs": [],
   "source": [
    "df[\"crs_dep_time\"] = df['crs_dep_time'].astype(str).apply(lambda x: x.zfill(4))"
   ]
  },
  {
   "cell_type": "code",
   "execution_count": 321,
   "metadata": {
    "scrolled": false
   },
   "outputs": [
    {
     "data": {
      "text/plain": [
       "0         1900-01-01 15:17:00\n",
       "1         1900-01-01 11:15:00\n",
       "2         1900-01-01 06:30:00\n",
       "3         1900-01-01 22:41:00\n",
       "4         1900-01-01 07:50:00\n",
       "                  ...        \n",
       "2965755   1900-01-01 19:55:00\n",
       "2965756   1900-01-01 13:21:00\n",
       "2965757   1900-01-01 17:51:00\n",
       "2965758   1900-01-01 20:15:00\n",
       "2965759   1900-01-01 13:00:00\n",
       "Name: crs_dep_time, Length: 2965760, dtype: datetime64[ns]"
      ]
     },
     "execution_count": 321,
     "metadata": {},
     "output_type": "execute_result"
    }
   ],
   "source": [
    "# By time of day?\n",
    "\n",
    "pd.to_datetime(df.crs_dep_time, format= \"%H%M\")"
   ]
  },
  {
   "cell_type": "code",
   "execution_count": 304,
   "metadata": {},
   "outputs": [
    {
     "data": {
      "text/plain": [
       "0          1517\n",
       "1          1115\n",
       "2           630\n",
       "3          2241\n",
       "4           750\n",
       "           ... \n",
       "2965755    1955\n",
       "2965756    1321\n",
       "2965757    1751\n",
       "2965758    2015\n",
       "2965759    1300\n",
       "Name: crs_dep_time, Length: 2965760, dtype: int64"
      ]
     },
     "execution_count": 304,
     "metadata": {},
     "output_type": "execute_result"
    }
   ],
   "source": [
    "df.crs_dep_time"
   ]
  }
 ],
 "metadata": {
  "kernelspec": {
   "display_name": "Python 3",
   "language": "python",
   "name": "python3"
  },
  "language_info": {
   "codemirror_mode": {
    "name": "ipython",
    "version": 3
   },
   "file_extension": ".py",
   "mimetype": "text/x-python",
   "name": "python",
   "nbconvert_exporter": "python",
   "pygments_lexer": "ipython3",
   "version": "3.7.4"
  }
 },
 "nbformat": 4,
 "nbformat_minor": 2
}
