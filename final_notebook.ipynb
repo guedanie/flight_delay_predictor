{
 "cells": [
  {
   "cell_type": "markdown",
   "metadata": {},
   "source": [
    "# Predicting the probability that a flight will be delayed\n",
    "\n",
    "## Objective: \n",
    "\n",
    "Have you ever been close to booking an important flight, and wondering whether you will make your connecting flight? Wouldn't it be great to know what the probability of your first flight getting delayed would be, so that you can better plan your layover, and avoid missing your flights? \n",
    "\n",
    "That's what this project aim to fix. By using historical flight data, I hope to be able to create a machine learning tool that can help passengers when booking flights, or even airline companies and travel agencies, to reduce the risk of missing a connection. \n",
    "\n",
    "## Data \n",
    "\n",
    "The data used for this project comes from the Department of Transportation website, which stores flights on-time performance fro 1987 to present. You find find the website link [here](https://www.kaggle.com/yuanyuwendymu/airline-delay-and-cancellation-data-2009-2018)\n",
    "\n",
    "For the scope of the project, we will only be looking at all flights in 2018, to make the data size more managable. Additionally, we will only be exploring the patterns of the top 15 busiest airports in the US. Busiest airport was defined based on the \"total passenger boarding\". The list can be found [here](https://en.wikipedia.org/wiki/List_of_the_busiest_airports_in_the_United_States)\n",
    "\n",
    "All major domestic US airlines are included in the dataset, and we will look to use them all for exploration, as well as modeling.\n",
    "\n",
    "## Hypothesis:\n",
    "\n",
    "* $H_0$: Historical flight delays information is not a helpful feature that can help predict probability of a fligth being delayed.\n",
    "* $H_a$: Historical flight delays information is a helpful feature that can help predict probability of a flight being delayed.\n",
    "\n",
    "\n",
    "\n",
    "## Project Phases\n",
    "\n",
    "The project is broken into two phases. The first phase will look to explore the data, and create a model just using the information provided by the Department of Transportation website. The idea is to be able to develop features that can help the model predict whether a specific airline, or a particular airport, is more prone to experience delays versus others. \n",
    "\n",
    "The second phase of the project will look to incorporate weather data, in addition to the information provided by the Department of Transportation. As described in the research paper by S Borsky and C Unterberger$^1$, weather can play a signficant role in flight delays. As such, I hope to incorporate hourly weather data into our dataset, to further explore if there is a relationship, and see if it can be useful for modeling. You can find a link to the paper [here](https://www.sciencedirect.com/science/article/pii/S2212012218300753#sec3).\n",
    "\n",
    "$^1$Borsky, S and Unterberger, C (2019) ‘Bad weather and flight delays: The impact of sudden and slow onset weather events’, Economics of Transportation, Volume 18."
   ]
  },
  {
   "cell_type": "code",
   "execution_count": 1,
   "metadata": {},
   "outputs": [],
   "source": [
    "import pandas as pd\n",
    "import numpy as np\n",
    "\n",
    "import os.path\n",
    "import requests\n",
    "import io\n",
    "\n",
    "import seaborn as sns\n",
    "import matplotlib.pyplot as plt\n",
    "import scipy.stats as stats\n",
    "\n",
    "import warnings\n",
    "warnings.filterwarnings(\"ignore\")\n",
    "\n",
    "from sklearn.model_selection import cross_val_score, train_test_split, GridSearchCV\n",
    "from sklearn.preprocessing import MinMaxScaler, StandardScaler, PowerTransformer\n",
    "from sklearn.ensemble import GradientBoostingClassifier\n",
    "from sklearn.neighbors import KNeighborsClassifier\n",
    "from sklearn.metrics import classification_report\n",
    "\n",
    "import wrangle\n",
    "import model\n",
    "import preprocessing\n",
    "import explore"
   ]
  },
  {
   "cell_type": "markdown",
   "metadata": {},
   "source": [
    "# Phase I"
   ]
  },
  {
   "cell_type": "markdown",
   "metadata": {},
   "source": [
    "## Wrangle\n",
    "\n",
    "The acquisition of the flight data is relatively easy, as there is in fact datasets already compiled in Kaggle that allow for easy acquistion of the data. [Kaggle Data Link](https://www.kaggle.com/yuanyuwendymu/airline-delay-and-cancellation-data-2009-2018)"
   ]
  },
  {
   "cell_type": "code",
   "execution_count": 2,
   "metadata": {},
   "outputs": [],
   "source": [
    "flight_data = pd.read_csv(\"2018.csv\")"
   ]
  },
  {
   "cell_type": "code",
   "execution_count": 3,
   "metadata": {},
   "outputs": [
    {
     "name": "stdout",
     "output_type": "stream",
     "text": [
      "<class 'pandas.core.frame.DataFrame'>\n",
      "RangeIndex: 7213446 entries, 0 to 7213445\n",
      "Data columns (total 28 columns):\n",
      "FL_DATE                object\n",
      "OP_CARRIER             object\n",
      "OP_CARRIER_FL_NUM      int64\n",
      "ORIGIN                 object\n",
      "DEST                   object\n",
      "CRS_DEP_TIME           int64\n",
      "DEP_TIME               float64\n",
      "DEP_DELAY              float64\n",
      "TAXI_OUT               float64\n",
      "WHEELS_OFF             float64\n",
      "WHEELS_ON              float64\n",
      "TAXI_IN                float64\n",
      "CRS_ARR_TIME           int64\n",
      "ARR_TIME               float64\n",
      "ARR_DELAY              float64\n",
      "CANCELLED              float64\n",
      "CANCELLATION_CODE      object\n",
      "DIVERTED               float64\n",
      "CRS_ELAPSED_TIME       float64\n",
      "ACTUAL_ELAPSED_TIME    float64\n",
      "AIR_TIME               float64\n",
      "DISTANCE               float64\n",
      "CARRIER_DELAY          float64\n",
      "WEATHER_DELAY          float64\n",
      "NAS_DELAY              float64\n",
      "SECURITY_DELAY         float64\n",
      "LATE_AIRCRAFT_DELAY    float64\n",
      "Unnamed: 27            float64\n",
      "dtypes: float64(20), int64(3), object(5)\n",
      "memory usage: 1.5+ GB\n"
     ]
    }
   ],
   "source": [
    "flight_data.info()"
   ]
  },
  {
   "cell_type": "code",
   "execution_count": 4,
   "metadata": {},
   "outputs": [
    {
     "data": {
      "text/html": [
       "<div>\n",
       "<style scoped>\n",
       "    .dataframe tbody tr th:only-of-type {\n",
       "        vertical-align: middle;\n",
       "    }\n",
       "\n",
       "    .dataframe tbody tr th {\n",
       "        vertical-align: top;\n",
       "    }\n",
       "\n",
       "    .dataframe thead th {\n",
       "        text-align: right;\n",
       "    }\n",
       "</style>\n",
       "<table border=\"1\" class=\"dataframe\">\n",
       "  <thead>\n",
       "    <tr style=\"text-align: right;\">\n",
       "      <th></th>\n",
       "      <th>FL_DATE</th>\n",
       "      <th>OP_CARRIER</th>\n",
       "      <th>OP_CARRIER_FL_NUM</th>\n",
       "      <th>ORIGIN</th>\n",
       "      <th>DEST</th>\n",
       "      <th>CRS_DEP_TIME</th>\n",
       "      <th>DEP_TIME</th>\n",
       "      <th>DEP_DELAY</th>\n",
       "      <th>TAXI_OUT</th>\n",
       "      <th>WHEELS_OFF</th>\n",
       "      <th>...</th>\n",
       "      <th>CRS_ELAPSED_TIME</th>\n",
       "      <th>ACTUAL_ELAPSED_TIME</th>\n",
       "      <th>AIR_TIME</th>\n",
       "      <th>DISTANCE</th>\n",
       "      <th>CARRIER_DELAY</th>\n",
       "      <th>WEATHER_DELAY</th>\n",
       "      <th>NAS_DELAY</th>\n",
       "      <th>SECURITY_DELAY</th>\n",
       "      <th>LATE_AIRCRAFT_DELAY</th>\n",
       "      <th>Unnamed: 27</th>\n",
       "    </tr>\n",
       "  </thead>\n",
       "  <tbody>\n",
       "    <tr>\n",
       "      <th>0</th>\n",
       "      <td>2018-01-01</td>\n",
       "      <td>UA</td>\n",
       "      <td>2429</td>\n",
       "      <td>EWR</td>\n",
       "      <td>DEN</td>\n",
       "      <td>1517</td>\n",
       "      <td>1512.0</td>\n",
       "      <td>-5.0</td>\n",
       "      <td>15.0</td>\n",
       "      <td>1527.0</td>\n",
       "      <td>...</td>\n",
       "      <td>268.0</td>\n",
       "      <td>250.0</td>\n",
       "      <td>225.0</td>\n",
       "      <td>1605.0</td>\n",
       "      <td>NaN</td>\n",
       "      <td>NaN</td>\n",
       "      <td>NaN</td>\n",
       "      <td>NaN</td>\n",
       "      <td>NaN</td>\n",
       "      <td>NaN</td>\n",
       "    </tr>\n",
       "    <tr>\n",
       "      <th>1</th>\n",
       "      <td>2018-01-01</td>\n",
       "      <td>UA</td>\n",
       "      <td>2427</td>\n",
       "      <td>LAS</td>\n",
       "      <td>SFO</td>\n",
       "      <td>1115</td>\n",
       "      <td>1107.0</td>\n",
       "      <td>-8.0</td>\n",
       "      <td>11.0</td>\n",
       "      <td>1118.0</td>\n",
       "      <td>...</td>\n",
       "      <td>99.0</td>\n",
       "      <td>83.0</td>\n",
       "      <td>65.0</td>\n",
       "      <td>414.0</td>\n",
       "      <td>NaN</td>\n",
       "      <td>NaN</td>\n",
       "      <td>NaN</td>\n",
       "      <td>NaN</td>\n",
       "      <td>NaN</td>\n",
       "      <td>NaN</td>\n",
       "    </tr>\n",
       "    <tr>\n",
       "      <th>2</th>\n",
       "      <td>2018-01-01</td>\n",
       "      <td>UA</td>\n",
       "      <td>2426</td>\n",
       "      <td>SNA</td>\n",
       "      <td>DEN</td>\n",
       "      <td>1335</td>\n",
       "      <td>1330.0</td>\n",
       "      <td>-5.0</td>\n",
       "      <td>15.0</td>\n",
       "      <td>1345.0</td>\n",
       "      <td>...</td>\n",
       "      <td>134.0</td>\n",
       "      <td>126.0</td>\n",
       "      <td>106.0</td>\n",
       "      <td>846.0</td>\n",
       "      <td>NaN</td>\n",
       "      <td>NaN</td>\n",
       "      <td>NaN</td>\n",
       "      <td>NaN</td>\n",
       "      <td>NaN</td>\n",
       "      <td>NaN</td>\n",
       "    </tr>\n",
       "    <tr>\n",
       "      <th>3</th>\n",
       "      <td>2018-01-01</td>\n",
       "      <td>UA</td>\n",
       "      <td>2425</td>\n",
       "      <td>RSW</td>\n",
       "      <td>ORD</td>\n",
       "      <td>1546</td>\n",
       "      <td>1552.0</td>\n",
       "      <td>6.0</td>\n",
       "      <td>19.0</td>\n",
       "      <td>1611.0</td>\n",
       "      <td>...</td>\n",
       "      <td>190.0</td>\n",
       "      <td>182.0</td>\n",
       "      <td>157.0</td>\n",
       "      <td>1120.0</td>\n",
       "      <td>NaN</td>\n",
       "      <td>NaN</td>\n",
       "      <td>NaN</td>\n",
       "      <td>NaN</td>\n",
       "      <td>NaN</td>\n",
       "      <td>NaN</td>\n",
       "    </tr>\n",
       "    <tr>\n",
       "      <th>4</th>\n",
       "      <td>2018-01-01</td>\n",
       "      <td>UA</td>\n",
       "      <td>2424</td>\n",
       "      <td>ORD</td>\n",
       "      <td>ALB</td>\n",
       "      <td>630</td>\n",
       "      <td>650.0</td>\n",
       "      <td>20.0</td>\n",
       "      <td>13.0</td>\n",
       "      <td>703.0</td>\n",
       "      <td>...</td>\n",
       "      <td>112.0</td>\n",
       "      <td>106.0</td>\n",
       "      <td>83.0</td>\n",
       "      <td>723.0</td>\n",
       "      <td>NaN</td>\n",
       "      <td>NaN</td>\n",
       "      <td>NaN</td>\n",
       "      <td>NaN</td>\n",
       "      <td>NaN</td>\n",
       "      <td>NaN</td>\n",
       "    </tr>\n",
       "  </tbody>\n",
       "</table>\n",
       "<p>5 rows × 28 columns</p>\n",
       "</div>"
      ],
      "text/plain": [
       "      FL_DATE OP_CARRIER  OP_CARRIER_FL_NUM ORIGIN DEST  CRS_DEP_TIME  \\\n",
       "0  2018-01-01         UA               2429    EWR  DEN          1517   \n",
       "1  2018-01-01         UA               2427    LAS  SFO          1115   \n",
       "2  2018-01-01         UA               2426    SNA  DEN          1335   \n",
       "3  2018-01-01         UA               2425    RSW  ORD          1546   \n",
       "4  2018-01-01         UA               2424    ORD  ALB           630   \n",
       "\n",
       "   DEP_TIME  DEP_DELAY  TAXI_OUT  WHEELS_OFF  ...  CRS_ELAPSED_TIME  \\\n",
       "0    1512.0       -5.0      15.0      1527.0  ...             268.0   \n",
       "1    1107.0       -8.0      11.0      1118.0  ...              99.0   \n",
       "2    1330.0       -5.0      15.0      1345.0  ...             134.0   \n",
       "3    1552.0        6.0      19.0      1611.0  ...             190.0   \n",
       "4     650.0       20.0      13.0       703.0  ...             112.0   \n",
       "\n",
       "   ACTUAL_ELAPSED_TIME  AIR_TIME  DISTANCE  CARRIER_DELAY  WEATHER_DELAY  \\\n",
       "0                250.0     225.0    1605.0            NaN            NaN   \n",
       "1                 83.0      65.0     414.0            NaN            NaN   \n",
       "2                126.0     106.0     846.0            NaN            NaN   \n",
       "3                182.0     157.0    1120.0            NaN            NaN   \n",
       "4                106.0      83.0     723.0            NaN            NaN   \n",
       "\n",
       "  NAS_DELAY  SECURITY_DELAY  LATE_AIRCRAFT_DELAY  Unnamed: 27  \n",
       "0       NaN             NaN                  NaN          NaN  \n",
       "1       NaN             NaN                  NaN          NaN  \n",
       "2       NaN             NaN                  NaN          NaN  \n",
       "3       NaN             NaN                  NaN          NaN  \n",
       "4       NaN             NaN                  NaN          NaN  \n",
       "\n",
       "[5 rows x 28 columns]"
      ]
     },
     "execution_count": 4,
     "metadata": {},
     "output_type": "execute_result"
    }
   ],
   "source": [
    "flight_data.head()"
   ]
  },
  {
   "cell_type": "markdown",
   "metadata": {},
   "source": [
    "When we first read the data, it comes with flight information for all airports in the US. The data comes with 7.3M rows, and 28 columns. It is taking 1.5GB of memory. Given that large size of the data, and the fact that we want to be able to do efficient exploration and modeling, this is why we will be limiting the size of the data to only the top 15 airports in the US. \n",
    "\n",
    "We will use our main wrangle function to read in the clean data. "
   ]
  },
  {
   "cell_type": "code",
   "execution_count": 5,
   "metadata": {},
   "outputs": [],
   "source": [
    "flight_data = wrangle.prep_flight_data()"
   ]
  },
  {
   "cell_type": "markdown",
   "metadata": {},
   "source": [
    "The main steps in the function are as follows:\n",
    "\n",
    "1. All column names were capitalized, so I lowercase all of the column names.\n",
    "\n",
    "1. We filter the data based on the airport where the flight is leaving (origin airport). To ensure data integrity, the function runs on a loop, which filters each airport information individually, and then concatenates it to a new dataframe. It is important to note that even though we are only looking at the top airports for departure, all other airports are still included in terms of destinations. Essentially, we are still getting a complete list of flights from the major airports. \n",
    "\n",
    "1. Remove null values. Even after filtering for only the top airports, we still had a about 50,000 null values for some rows. After further exploration, I found that the majority of these null values had no departure time / arrival time. I suspect these might have been flights that were cancelled, and as such I decided to drop them.\n",
    "\n",
    "1. I still had some remaining null values for the reasons why the flights were delayed. After further exploration, I found that all the null values were related to flights not being delayed. As such, I inpuded these null values with `0.0` to indicate that there was no delay.\n",
    "\n",
    "1. Lastly, the data only shows the airline code (for example, American Airlines is `AA`). In order to better understand what airlines were being referenced, I created a new column that shows the full airline name."
   ]
  },
  {
   "cell_type": "markdown",
   "metadata": {},
   "source": [
    "**Data Dictionary:**\n",
    "\n",
    "* `fl_date`: The day (mm/dd/yyyy) of the flight\n",
    "* `op_carrier`: The airline carrier code\n",
    "* `op_carrier_fl_num`: The flight number assigned by the airline carrier\n",
    "* `origin`: The airport where the flight was departing from\n",
    "* `dest`: The airport where the flight was arriving\n",
    "* `crs_dep_time`: The time (24H) that the flight was expected to depart\n",
    "* `dep_time`: The actual time that the flight departed \n",
    "* `dep_delay`: The delay, in minutes, for the flight to depart\n",
    "* `crs_arr_time`: The expected arrival time\n",
    "* `arr_time`: The actuall arrival time\n",
    "* `arr_dealy`: The delay, in minutes, for arrival\n",
    "* `distance`: The distance, in miles, for that particular flight\n",
    "* `carrier_delay`: If delayed, the number of minutes this fligth was delayed due to the airline carrier issue\n",
    "* `weather_delay`: If delayed, the number of minutes this fligth was delayed due to weather\n",
    "* `nas_delay`: If delayed, the number of minutes this fligth was delayed due traffic control\n",
    "* `security_delay`: If delayed, the number of minutes this fligth was delayed due security concerns \n",
    "* `late_aircraft_delay`: If delayed, the number of minutes this fligth was delayed due the incoming airplane arriving late\n",
    "* `Airline`: The full name of the airline carrier"
   ]
  },
  {
   "cell_type": "code",
   "execution_count": 6,
   "metadata": {
    "scrolled": false
   },
   "outputs": [
    {
     "name": "stdout",
     "output_type": "stream",
     "text": [
      "<class 'pandas.core.frame.DataFrame'>\n",
      "RangeIndex: 2965760 entries, 0 to 2965759\n",
      "Data columns (total 18 columns):\n",
      "fl_date                object\n",
      "op_carrier             object\n",
      "op_carrier_fl_num      int64\n",
      "origin                 object\n",
      "dest                   object\n",
      "crs_dep_time           int64\n",
      "dep_time               float64\n",
      "dep_delay              float64\n",
      "crs_arr_time           int64\n",
      "arr_time               float64\n",
      "arr_delay              float64\n",
      "distance               float64\n",
      "carrier_delay          float64\n",
      "weather_delay          float64\n",
      "nas_delay              float64\n",
      "security_delay         float64\n",
      "late_aircraft_delay    float64\n",
      "Airline                object\n",
      "dtypes: float64(10), int64(3), object(5)\n",
      "memory usage: 407.3+ MB\n"
     ]
    }
   ],
   "source": [
    "flight_data.info()"
   ]
  },
  {
   "cell_type": "code",
   "execution_count": 7,
   "metadata": {
    "scrolled": false
   },
   "outputs": [
    {
     "data": {
      "text/html": [
       "<div>\n",
       "<style scoped>\n",
       "    .dataframe tbody tr th:only-of-type {\n",
       "        vertical-align: middle;\n",
       "    }\n",
       "\n",
       "    .dataframe tbody tr th {\n",
       "        vertical-align: top;\n",
       "    }\n",
       "\n",
       "    .dataframe thead th {\n",
       "        text-align: right;\n",
       "    }\n",
       "</style>\n",
       "<table border=\"1\" class=\"dataframe\">\n",
       "  <thead>\n",
       "    <tr style=\"text-align: right;\">\n",
       "      <th></th>\n",
       "      <th>fl_date</th>\n",
       "      <th>op_carrier</th>\n",
       "      <th>op_carrier_fl_num</th>\n",
       "      <th>origin</th>\n",
       "      <th>dest</th>\n",
       "      <th>crs_dep_time</th>\n",
       "      <th>dep_time</th>\n",
       "      <th>dep_delay</th>\n",
       "      <th>crs_arr_time</th>\n",
       "      <th>arr_time</th>\n",
       "      <th>arr_delay</th>\n",
       "      <th>distance</th>\n",
       "      <th>carrier_delay</th>\n",
       "      <th>weather_delay</th>\n",
       "      <th>nas_delay</th>\n",
       "      <th>security_delay</th>\n",
       "      <th>late_aircraft_delay</th>\n",
       "      <th>Airline</th>\n",
       "    </tr>\n",
       "  </thead>\n",
       "  <tbody>\n",
       "    <tr>\n",
       "      <th>0</th>\n",
       "      <td>2018-01-01</td>\n",
       "      <td>UA</td>\n",
       "      <td>2429</td>\n",
       "      <td>EWR</td>\n",
       "      <td>DEN</td>\n",
       "      <td>1517</td>\n",
       "      <td>1512.0</td>\n",
       "      <td>-5.0</td>\n",
       "      <td>1745</td>\n",
       "      <td>1722.0</td>\n",
       "      <td>-23.0</td>\n",
       "      <td>1605.0</td>\n",
       "      <td>0.0</td>\n",
       "      <td>0.0</td>\n",
       "      <td>0.0</td>\n",
       "      <td>0.0</td>\n",
       "      <td>0.0</td>\n",
       "      <td>United Air Lines Inc.</td>\n",
       "    </tr>\n",
       "    <tr>\n",
       "      <th>1</th>\n",
       "      <td>2018-01-01</td>\n",
       "      <td>UA</td>\n",
       "      <td>2427</td>\n",
       "      <td>LAS</td>\n",
       "      <td>SFO</td>\n",
       "      <td>1115</td>\n",
       "      <td>1107.0</td>\n",
       "      <td>-8.0</td>\n",
       "      <td>1254</td>\n",
       "      <td>1230.0</td>\n",
       "      <td>-24.0</td>\n",
       "      <td>414.0</td>\n",
       "      <td>0.0</td>\n",
       "      <td>0.0</td>\n",
       "      <td>0.0</td>\n",
       "      <td>0.0</td>\n",
       "      <td>0.0</td>\n",
       "      <td>United Air Lines Inc.</td>\n",
       "    </tr>\n",
       "    <tr>\n",
       "      <th>2</th>\n",
       "      <td>2018-01-01</td>\n",
       "      <td>UA</td>\n",
       "      <td>2424</td>\n",
       "      <td>ORD</td>\n",
       "      <td>ALB</td>\n",
       "      <td>630</td>\n",
       "      <td>650.0</td>\n",
       "      <td>20.0</td>\n",
       "      <td>922</td>\n",
       "      <td>936.0</td>\n",
       "      <td>14.0</td>\n",
       "      <td>723.0</td>\n",
       "      <td>0.0</td>\n",
       "      <td>0.0</td>\n",
       "      <td>0.0</td>\n",
       "      <td>0.0</td>\n",
       "      <td>0.0</td>\n",
       "      <td>United Air Lines Inc.</td>\n",
       "    </tr>\n",
       "    <tr>\n",
       "      <th>3</th>\n",
       "      <td>2018-01-01</td>\n",
       "      <td>UA</td>\n",
       "      <td>2422</td>\n",
       "      <td>ORD</td>\n",
       "      <td>OMA</td>\n",
       "      <td>2241</td>\n",
       "      <td>2244.0</td>\n",
       "      <td>3.0</td>\n",
       "      <td>14</td>\n",
       "      <td>3.0</td>\n",
       "      <td>-11.0</td>\n",
       "      <td>416.0</td>\n",
       "      <td>0.0</td>\n",
       "      <td>0.0</td>\n",
       "      <td>0.0</td>\n",
       "      <td>0.0</td>\n",
       "      <td>0.0</td>\n",
       "      <td>United Air Lines Inc.</td>\n",
       "    </tr>\n",
       "    <tr>\n",
       "      <th>4</th>\n",
       "      <td>2018-01-01</td>\n",
       "      <td>UA</td>\n",
       "      <td>2421</td>\n",
       "      <td>IAH</td>\n",
       "      <td>LAS</td>\n",
       "      <td>750</td>\n",
       "      <td>747.0</td>\n",
       "      <td>-3.0</td>\n",
       "      <td>916</td>\n",
       "      <td>900.0</td>\n",
       "      <td>-16.0</td>\n",
       "      <td>1222.0</td>\n",
       "      <td>0.0</td>\n",
       "      <td>0.0</td>\n",
       "      <td>0.0</td>\n",
       "      <td>0.0</td>\n",
       "      <td>0.0</td>\n",
       "      <td>United Air Lines Inc.</td>\n",
       "    </tr>\n",
       "  </tbody>\n",
       "</table>\n",
       "</div>"
      ],
      "text/plain": [
       "      fl_date op_carrier  op_carrier_fl_num origin dest  crs_dep_time  \\\n",
       "0  2018-01-01         UA               2429    EWR  DEN          1517   \n",
       "1  2018-01-01         UA               2427    LAS  SFO          1115   \n",
       "2  2018-01-01         UA               2424    ORD  ALB           630   \n",
       "3  2018-01-01         UA               2422    ORD  OMA          2241   \n",
       "4  2018-01-01         UA               2421    IAH  LAS           750   \n",
       "\n",
       "   dep_time  dep_delay  crs_arr_time  arr_time  arr_delay  distance  \\\n",
       "0    1512.0       -5.0          1745    1722.0      -23.0    1605.0   \n",
       "1    1107.0       -8.0          1254    1230.0      -24.0     414.0   \n",
       "2     650.0       20.0           922     936.0       14.0     723.0   \n",
       "3    2244.0        3.0            14       3.0      -11.0     416.0   \n",
       "4     747.0       -3.0           916     900.0      -16.0    1222.0   \n",
       "\n",
       "   carrier_delay  weather_delay  nas_delay  security_delay  \\\n",
       "0            0.0            0.0        0.0             0.0   \n",
       "1            0.0            0.0        0.0             0.0   \n",
       "2            0.0            0.0        0.0             0.0   \n",
       "3            0.0            0.0        0.0             0.0   \n",
       "4            0.0            0.0        0.0             0.0   \n",
       "\n",
       "   late_aircraft_delay                Airline  \n",
       "0                  0.0  United Air Lines Inc.  \n",
       "1                  0.0  United Air Lines Inc.  \n",
       "2                  0.0  United Air Lines Inc.  \n",
       "3                  0.0  United Air Lines Inc.  \n",
       "4                  0.0  United Air Lines Inc.  "
      ]
     },
     "execution_count": 7,
     "metadata": {},
     "output_type": "execute_result"
    }
   ],
   "source": [
    "flight_data.head()"
   ]
  },
  {
   "cell_type": "markdown",
   "metadata": {},
   "source": [
    "After we clean the data, we now have about 3M rows, and 18 columns. The data is still very large, but it is more manageble. That concludes our data acquisiton and prep. We are now ready to move onto exploration."
   ]
  },
  {
   "cell_type": "markdown",
   "metadata": {},
   "source": [
    "## Exploration\n",
    "\n",
    "We will look to understand if there are any patterns that can help us predict if a flight will be delayed.\n",
    "\n",
    "The objective is to see if there are significantly different groupings based on our target variable, as these would be extremly useful for modeling."
   ]
  },
  {
   "cell_type": "markdown",
   "metadata": {},
   "source": [
    "## What percentage of flights experience delays?"
   ]
  },
  {
   "cell_type": "code",
   "execution_count": 8,
   "metadata": {},
   "outputs": [
    {
     "name": "stdout",
     "output_type": "stream",
     "text": [
      "37% of flights experienced a delay in 2018\n"
     ]
    }
   ],
   "source": [
    "print(f\"{(flight_data.arr_delay > 0).mean():.0%} of flights experienced a delay in 2018\")"
   ]
  },
  {
   "cell_type": "code",
   "execution_count": 9,
   "metadata": {},
   "outputs": [
    {
     "data": {
      "image/png": "[encoded data removed]",
      "text/plain": [
       "<Figure size 1080x360 with 1 Axes>"
      ]
     },
     "metadata": {
      "needs_background": "light"
     },
     "output_type": "display_data"
    }
   ],
   "source": [
    "explore.data_distribution(flight_data)"
   ]
  },
  {
   "cell_type": "markdown",
   "metadata": {},
   "source": [
    "As we can see, the data is infact not normally distributed. This means that there are a lot of outliers. I won't remove the ourliers at this point, however, as we want to preserve as many data points as possible, particularly for the time series exploration. If we find that they are skewing the data too much, we will look to remove them using the IQR method.\n",
    "\n",
    "\n",
    "This will likely have an effect on any statistical testing, however, as these tests assume that the data is normally distributed."
   ]
  },
  {
   "cell_type": "markdown",
   "metadata": {},
   "source": [
    "## What airline carrier experiences the most delays?\n",
    "\n",
    "* $H_0$: There is no difference in mean between all the carriers in avg minutes of delays\n",
    "* $H_a$: There is a difference in mean between all the carriers in avg minutes of delays"
   ]
  },
  {
   "cell_type": "code",
   "execution_count": 10,
   "metadata": {},
   "outputs": [
    {
     "data": {
      "image/png": "[encoded data removed]",
      "text/plain": [
       "<Figure size 1080x360 with 1 Axes>"
      ]
     },
     "metadata": {
      "needs_background": "light"
     },
     "output_type": "display_data"
    }
   ],
   "source": [
    "explore.delay_by_airline_minutes(flight_data)"
   ]
  },
  {
   "cell_type": "markdown",
   "metadata": {},
   "source": [
    "It seems that Frontier had the longest delays, with an average of 13 min delay across 2018. Delta had the overall smallest delays in minutes, with an average of 0.6 min for 2018.\n",
    "\n",
    "Given that there are 18 unique airlines, we will not perform an ANOVA test, an instead will assume that the data is significant. Given the evidence in the graph, and the fact that we have nearly 2 million datapoints, I suspect we would get a very low p value anyways."
   ]
  },
  {
   "cell_type": "code",
   "execution_count": 11,
   "metadata": {},
   "outputs": [
    {
     "data": {
      "image/png": "[encoded data removed]",
      "text/plain": [
       "<Figure size 1080x360 with 1 Axes>"
      ]
     },
     "metadata": {
      "needs_background": "light"
     },
     "output_type": "display_data"
    }
   ],
   "source": [
    "# Delays by flights (count)\n",
    "\n",
    "explore.delay_by_airline_flights(flight_data)"
   ]
  },
  {
   "cell_type": "markdown",
   "metadata": {},
   "source": [
    "Interestingly, American Airlines seems to have the most flights delayed. I think this is more indicative of which airlines have most scheduled flights. If we want to look at better metric of delays, we should use minutes delayed."
   ]
  },
  {
   "cell_type": "markdown",
   "metadata": {},
   "source": [
    "## What airport experience the most delays?\n",
    "\n",
    "* $H_0$: There is no mean difference in minutes delayed by airport\n",
    "* $H_a$: There is a difference in minutes delayed by airport"
   ]
  },
  {
   "cell_type": "code",
   "execution_count": 12,
   "metadata": {
    "scrolled": false
   },
   "outputs": [
    {
     "data": {
      "image/png": "[encoded data removed]",
      "text/plain": [
       "<Figure size 1080x360 with 1 Axes>"
      ]
     },
     "metadata": {
      "needs_background": "light"
     },
     "output_type": "display_data"
    }
   ],
   "source": [
    "explore.delay_by_airport_minutes(flight_data)"
   ]
  },
  {
   "cell_type": "code",
   "execution_count": 13,
   "metadata": {
    "scrolled": false
   },
   "outputs": [
    {
     "data": {
      "image/png": "[encoded data removed]",
      "text/plain": [
       "<Figure size 1080x360 with 1 Axes>"
      ]
     },
     "metadata": {
      "needs_background": "light"
     },
     "output_type": "display_data"
    }
   ],
   "source": [
    "explore.delay_by_airport_flights(flight_data)"
   ]
  },
  {
   "cell_type": "markdown",
   "metadata": {},
   "source": [
    "Interestingly, Orland seems to have the most delays both in number of flights delayed by more than a minute, and avg minutes delayed. Some ideas that might help explain these results:\n",
    "\n",
    "1. Look at airports that recieve the most international flights\n",
    "1. Look at what airports have hubs for what airlines. Given that we know that overall some airlines have a higher propensity to experience delays, it might be that this has an effect on delays by airports.\n",
    "\n",
    "I initially though that weather might have an impact on this - as Orlando could experience high humidity, however Miami is on the other side of the spectrum, and I would suspect they would have similar weather.\n",
    "\n",
    "We know Atlanta and LAX are the busiest airports in terms of total number of flights.\n",
    "\n",
    "Again, given that there are 15 unique airports, we won't conduct an ANOVA test. We will assume that the data is statistically significant."
   ]
  },
  {
   "cell_type": "markdown",
   "metadata": {},
   "source": [
    "## What is the most common type of delay?\n",
    "\n",
    "* $H_0$: There is no difference in mean minutes delayed between the different delay types\n",
    "* $H_a$: There is a difference in mean minutes delayed between the different delay types"
   ]
  },
  {
   "cell_type": "code",
   "execution_count": 14,
   "metadata": {
    "scrolled": false
   },
   "outputs": [
    {
     "data": {
      "image/png": "[encoded data removed]",
      "text/plain": [
       "<Figure size 1080x360 with 1 Axes>"
      ]
     },
     "metadata": {
      "needs_background": "light"
     },
     "output_type": "display_data"
    }
   ],
   "source": [
    "explore.most_common_reason_for_delay(flight_data)"
   ]
  },
  {
   "cell_type": "markdown",
   "metadata": {},
   "source": [
    "It seems that a late aircraft arrival is the main cause for delays. This raises more questions, as now we may have to not only look at the weather and factor of the previous flights (which means we will need to definitively look at the flight number). \n",
    "\n",
    "We might be able to use this information to track inbound [flights]https://flightaware.com/live/flight/UAL208/history/20200709/2205Z/KATL/KIAH\n",
    "\n",
    "If we could find a way to actually scrape the previous airport, we might be able to get additional data to enhance the model's effectiveness."
   ]
  },
  {
   "cell_type": "code",
   "execution_count": 15,
   "metadata": {},
   "outputs": [
    {
     "name": "stdout",
     "output_type": "stream",
     "text": [
      "p value:0.0\n"
     ]
    }
   ],
   "source": [
    "# ANOVA\n",
    "stat, pvalue = stats.f_oneway(flight_data.security_delay, flight_data.weather_delay, flight_data.nas_delay, flight_data.late_aircraft_delay)\n",
    "\n",
    "print(f\"p value:{pvalue}\")"
   ]
  },
  {
   "cell_type": "markdown",
   "metadata": {},
   "source": [
    "Given that our p value is lower than our alpha, we can reject the null hypothesis, and assume that there is a significant difference between the groups."
   ]
  },
  {
   "cell_type": "markdown",
   "metadata": {},
   "source": [
    "## Are delays more or less common when the destination is another major airport?\n",
    "\n",
    "* $H_0$: The airport destination does no make a mean difference in minutes delayed\n",
    "* $H_a$: The airport destination does make a mean difference in minutes delayed\n",
    "\n",
    "$\\alpha$ = 0.05"
   ]
  },
  {
   "cell_type": "code",
   "execution_count": 16,
   "metadata": {},
   "outputs": [
    {
     "name": "stdout",
     "output_type": "stream",
     "text": [
      "Top airport's had an average of 6 minutes when flying to other top airports\n",
      "Top airport's had an average of 6 minutes when flying to non-top airports\n"
     ]
    }
   ],
   "source": [
    "explore.delays_by_destination(flight_data)"
   ]
  },
  {
   "cell_type": "code",
   "execution_count": 17,
   "metadata": {},
   "outputs": [
    {
     "name": "stdout",
     "output_type": "stream",
     "text": [
      "p value: 0.00\n"
     ]
    }
   ],
   "source": [
    "subgroup_1 = flight_data[flight_data.is_top].arr_delay\n",
    "subgroup_2 = flight_data[~flight_data.is_top].arr_delay\n",
    "\n",
    "tstat, p = stats.ttest_ind(subgroup_1, subgroup_2)\n",
    "\n",
    "print(f\"p value: {p:.2f}\")"
   ]
  },
  {
   "cell_type": "markdown",
   "metadata": {},
   "source": [
    "As we can see, our p value is smaller than our alpha, and as such we can reject the null hypothesis. In this case, we can assume that if the destination airport is another major airport, we can expect higher delayes. This, however, should be taken with some caution, as we are dealing with a very high number of data points, and this could have an influence on the test."
   ]
  },
  {
   "cell_type": "markdown",
   "metadata": {},
   "source": [
    "## Is there a time series element to delays?\n",
    "\n",
    "Elements to look for:\n",
    "\n",
    "* Yearly seasonality\n",
    "* Month\n",
    "* Day of week\n",
    "* Hourly"
   ]
  },
  {
   "cell_type": "code",
   "execution_count": 18,
   "metadata": {},
   "outputs": [
    {
     "data": {
      "image/png": "[encoded data removed]",
      "text/plain": [
       "<Figure size 1080x360 with 1 Axes>"
      ]
     },
     "metadata": {
      "needs_background": "light"
     },
     "output_type": "display_data"
    }
   ],
   "source": [
    "explore.time_of_the_year_delays(flight_data)"
   ]
  },
  {
   "cell_type": "markdown",
   "metadata": {},
   "source": [
    "We see that there ceirtainly seems to be a seasonality that could be impacting flight delays. It seems that over the summer is when delayes peak. This is likely related to an increase in travel from school breaks as well as summer holidays. We do see a small spike in December, which likely shows people traveling for Christmas. "
   ]
  },
  {
   "cell_type": "markdown",
   "metadata": {},
   "source": [
    "## Is there a difference in day of the week delay?\n",
    "\n",
    "* $H_0$: There is no mean difference in arrival delays between the days of the week\n",
    "* $H_a$: There is a mean difference in arrival delays between the days of the week"
   ]
  },
  {
   "cell_type": "code",
   "execution_count": 19,
   "metadata": {},
   "outputs": [
    {
     "data": {
      "image/png": "[encoded data removed]",
      "text/plain": [
       "<Figure size 1080x360 with 1 Axes>"
      ]
     },
     "metadata": {
      "needs_background": "light"
     },
     "output_type": "display_data"
    }
   ],
   "source": [
    "explore.day_of_the_week_delays(flight_data)"
   ]
  },
  {
   "cell_type": "code",
   "execution_count": 20,
   "metadata": {},
   "outputs": [
    {
     "name": "stdout",
     "output_type": "stream",
     "text": [
      "p value: 0.0\n"
     ]
    }
   ],
   "source": [
    "explore.anova_test_difference_in_day_of_week(flight_data)"
   ]
  },
  {
   "cell_type": "markdown",
   "metadata": {},
   "source": [
    "Given that our p value is zero, we can reject the null hypothesis, and assume that there is a significant difference in the day of the week and the avg minutes of delays.\n",
    "\n",
    "It seems that there is ceirtainly some big difference, with Saturday experiencing the least number of delays, and Thursday and Friday having the most. This kind of makes sense, as you would expect most people to travel on a Thursday or Friday (to take advantage of the long weekends) and then return Sunday. Satuday is likely on of the least traveled days."
   ]
  },
  {
   "cell_type": "markdown",
   "metadata": {},
   "source": [
    "## Is there a difference in avg minutes delay based on the time of day?"
   ]
  },
  {
   "cell_type": "code",
   "execution_count": 21,
   "metadata": {},
   "outputs": [
    {
     "data": {
      "image/png": "[encoded data removed]",
      "text/plain": [
       "<Figure size 1080x360 with 1 Axes>"
      ]
     },
     "metadata": {
      "needs_background": "light"
     },
     "output_type": "display_data"
    }
   ],
   "source": [
    "explore.time_of_the_day_delays(flight_data)"
   ]
  },
  {
   "cell_type": "markdown",
   "metadata": {},
   "source": [
    "It seems that the flights that get most delayed are those in the afternoon, between 4 pm and 9 pm. It also seems that there are no flights between 2 am and 4 am. It seems that there seems to be a small peak in delays at around the time when the airpot opens."
   ]
  },
  {
   "cell_type": "code",
   "execution_count": 22,
   "metadata": {
    "scrolled": false
   },
   "outputs": [
    {
     "data": {
      "image/png": "[encoded data removed]",
      "text/plain": [
       "<Figure size 792x576 with 7 Axes>"
      ]
     },
     "metadata": {
      "needs_background": "light"
     },
     "output_type": "display_data"
    }
   ],
   "source": [
    "explore.daily_time_of_day_delays(flight_data)"
   ]
  },
  {
   "cell_type": "markdown",
   "metadata": {},
   "source": [
    "As we can see - it seems that regarless of the day of the week, it seems that the peak in delays is always in the evening, between 6 pm and 9 pm. The only exeption is Thursdays, which suprisingly has a long delays at 4 am. I suspect this is one outlier that is pushing the data towards a peak."
   ]
  },
  {
   "cell_type": "markdown",
   "metadata": {},
   "source": [
    "## What percentage of flights had a delayed departure, but still reached their destination on time?"
   ]
  },
  {
   "cell_type": "code",
   "execution_count": 23,
   "metadata": {},
   "outputs": [
    {
     "name": "stdout",
     "output_type": "stream",
     "text": [
      "10% of flights that are delayed still reach their destination\n"
     ]
    }
   ],
   "source": [
    "print(f\"{((flight_data.dep_delay > 0) & (flight_data.arr_delay <= 0 )).mean():.0%} of flights that are delayed still reach their destination\")"
   ]
  },
  {
   "cell_type": "code",
   "execution_count": 24,
   "metadata": {},
   "outputs": [
    {
     "data": {
      "text/html": [
       "<div>\n",
       "<style scoped>\n",
       "    .dataframe tbody tr th:only-of-type {\n",
       "        vertical-align: middle;\n",
       "    }\n",
       "\n",
       "    .dataframe tbody tr th {\n",
       "        vertical-align: top;\n",
       "    }\n",
       "\n",
       "    .dataframe thead th {\n",
       "        text-align: right;\n",
       "    }\n",
       "</style>\n",
       "<table border=\"1\" class=\"dataframe\">\n",
       "  <thead>\n",
       "    <tr style=\"text-align: right;\">\n",
       "      <th></th>\n",
       "      <th>fl_date</th>\n",
       "      <th>op_carrier</th>\n",
       "      <th>origin</th>\n",
       "      <th>dest</th>\n",
       "      <th>crs_dep_time</th>\n",
       "      <th>dep_delay</th>\n",
       "      <th>arr_delay</th>\n",
       "    </tr>\n",
       "  </thead>\n",
       "  <tbody>\n",
       "    <tr>\n",
       "      <th>2077240</th>\n",
       "      <td>2018-09-12</td>\n",
       "      <td>DL</td>\n",
       "      <td>JFK</td>\n",
       "      <td>SFO</td>\n",
       "      <td>1900-01-01 19:25:00</td>\n",
       "      <td>65.0</td>\n",
       "      <td>-1.0</td>\n",
       "    </tr>\n",
       "    <tr>\n",
       "      <th>23077</th>\n",
       "      <td>2018-01-03</td>\n",
       "      <td>DL</td>\n",
       "      <td>SEA</td>\n",
       "      <td>KOA</td>\n",
       "      <td>1900-01-01 15:25:00</td>\n",
       "      <td>62.0</td>\n",
       "      <td>-3.0</td>\n",
       "    </tr>\n",
       "    <tr>\n",
       "      <th>1540617</th>\n",
       "      <td>2018-07-11</td>\n",
       "      <td>DL</td>\n",
       "      <td>JFK</td>\n",
       "      <td>SFO</td>\n",
       "      <td>1900-01-01 21:00:00</td>\n",
       "      <td>62.0</td>\n",
       "      <td>-1.0</td>\n",
       "    </tr>\n",
       "    <tr>\n",
       "      <th>2216828</th>\n",
       "      <td>2018-09-29</td>\n",
       "      <td>DL</td>\n",
       "      <td>SEA</td>\n",
       "      <td>BOS</td>\n",
       "      <td>1900-01-01 15:35:00</td>\n",
       "      <td>62.0</td>\n",
       "      <td>-2.0</td>\n",
       "    </tr>\n",
       "    <tr>\n",
       "      <th>154663</th>\n",
       "      <td>2018-01-21</td>\n",
       "      <td>DL</td>\n",
       "      <td>JFK</td>\n",
       "      <td>SFO</td>\n",
       "      <td>1900-01-01 15:25:00</td>\n",
       "      <td>60.0</td>\n",
       "      <td>0.0</td>\n",
       "    </tr>\n",
       "  </tbody>\n",
       "</table>\n",
       "</div>"
      ],
      "text/plain": [
       "           fl_date op_carrier origin dest        crs_dep_time  dep_delay  \\\n",
       "2077240 2018-09-12         DL    JFK  SFO 1900-01-01 19:25:00       65.0   \n",
       "23077   2018-01-03         DL    SEA  KOA 1900-01-01 15:25:00       62.0   \n",
       "1540617 2018-07-11         DL    JFK  SFO 1900-01-01 21:00:00       62.0   \n",
       "2216828 2018-09-29         DL    SEA  BOS 1900-01-01 15:35:00       62.0   \n",
       "154663  2018-01-21         DL    JFK  SFO 1900-01-01 15:25:00       60.0   \n",
       "\n",
       "         arr_delay  \n",
       "2077240       -1.0  \n",
       "23077         -3.0  \n",
       "1540617       -1.0  \n",
       "2216828       -2.0  \n",
       "154663         0.0  "
      ]
     },
     "execution_count": 24,
     "metadata": {},
     "output_type": "execute_result"
    }
   ],
   "source": [
    "# What is the max delay that still can reach destination on time? \n",
    "\n",
    "flight_data[(flight_data.dep_delay > 0) & (flight_data.arr_delay <= 0 )][[\"fl_date\", \"op_carrier\", \"origin\", \"dest\", \"crs_dep_time\", \"dep_delay\", \"arr_delay\"]].nlargest(5, columns=\"dep_delay\")"
   ]
  },
  {
   "cell_type": "markdown",
   "metadata": {},
   "source": [
    "It seems that even after a one hour delay, it is still possible to arrive on time. I suspect this has to do with factors other than the ones in this dataset, such as weather conditions, type of plane, length of flight.\n",
    "\n",
    "Still, it is good to know for modeling purposes."
   ]
  },
  {
   "cell_type": "code",
   "execution_count": 25,
   "metadata": {},
   "outputs": [
    {
     "name": "stdout",
     "output_type": "stream",
     "text": [
      "\n",
      "\n",
      "Flights that departed late by more than one hour were on average 126 minutes late\n",
      "      \n",
      "\n"
     ]
    }
   ],
   "source": [
    "print(f'''\n",
    "\n",
    "Flights that departed late by more than one hour were on average {flight_data[(flight_data.dep_delay > 60)][[\"fl_date\", \"op_carrier\", \"origin\", \"dest\", \"crs_dep_time\", \"dep_delay\", \"arr_delay\"]].arr_delay.mean():.0f} minutes late\n",
    "      \n",
    "''')"
   ]
  },
  {
   "cell_type": "code",
   "execution_count": 26,
   "metadata": {},
   "outputs": [
    {
     "name": "stdout",
     "output_type": "stream",
     "text": [
      "\n",
      "\n",
      "Flights that departed late by 30 min were on average 26 minutes late\n",
      "      \n",
      "\n"
     ]
    }
   ],
   "source": [
    "print(f'''\n",
    "\n",
    "Flights that departed late by 30 min were on average {flight_data[(flight_data.dep_delay == 30)][[\"fl_date\", \"op_carrier\", \"origin\", \"dest\", \"crs_dep_time\", \"dep_delay\", \"arr_delay\"]].arr_delay.mean():.0f} minutes late\n",
    "      \n",
    "''')"
   ]
  },
  {
   "cell_type": "code",
   "execution_count": 27,
   "metadata": {},
   "outputs": [
    {
     "name": "stdout",
     "output_type": "stream",
     "text": [
      "\n",
      "\n",
      "Flights that departed late by 15 min were on average 10 minutes late\n",
      "      \n",
      "\n"
     ]
    }
   ],
   "source": [
    "print(f'''\n",
    "\n",
    "Flights that departed late by 15 min were on average {flight_data[(flight_data.dep_delay == 15)][[\"fl_date\", \"op_carrier\", \"origin\", \"dest\", \"crs_dep_time\", \"dep_delay\", \"arr_delay\"]].arr_delay.mean():.0f} minutes late\n",
    "      \n",
    "''')"
   ]
  },
  {
   "cell_type": "code",
   "execution_count": 28,
   "metadata": {},
   "outputs": [
    {
     "name": "stdout",
     "output_type": "stream",
     "text": [
      "\n",
      "\n",
      "Flights that departed late by 6 min were on average 1 minutes late\n",
      "      \n",
      "\n"
     ]
    }
   ],
   "source": [
    "print(f'''\n",
    "\n",
    "Flights that departed late by 6 min were on average {flight_data[(flight_data.dep_delay == 6)][[\"fl_date\", \"op_carrier\", \"origin\", \"dest\", \"crs_dep_time\", \"dep_delay\", \"arr_delay\"]].arr_delay.mean():.0f} minutes late\n",
    "      \n",
    "''')"
   ]
  },
  {
   "cell_type": "markdown",
   "metadata": {},
   "source": [
    "We found that on average, flights that departed late by more than 6 minutes were in fact late. As such, when we look to create our target variable, we will use the `arr_delay` feature. "
   ]
  },
  {
   "cell_type": "markdown",
   "metadata": {},
   "source": [
    "## Does distance have an impact on the number of delays?\n",
    "\n",
    "* $H_0$: There is no correlation between distance and the number of minutes a flights gets delayed\n",
    "* $H_a$: There is a correlation between distance and the number of minutes a flights gets delayed\n",
    "\n",
    "$\\alpha$ = 0.05"
   ]
  },
  {
   "cell_type": "code",
   "execution_count": 29,
   "metadata": {},
   "outputs": [
    {
     "data": {
      "text/html": [
       "<div>\n",
       "<style scoped>\n",
       "    .dataframe tbody tr th:only-of-type {\n",
       "        vertical-align: middle;\n",
       "    }\n",
       "\n",
       "    .dataframe tbody tr th {\n",
       "        vertical-align: top;\n",
       "    }\n",
       "\n",
       "    .dataframe thead th {\n",
       "        text-align: right;\n",
       "    }\n",
       "</style>\n",
       "<table border=\"1\" class=\"dataframe\">\n",
       "  <thead>\n",
       "    <tr style=\"text-align: right;\">\n",
       "      <th></th>\n",
       "      <th>Airline</th>\n",
       "      <th>origin</th>\n",
       "      <th>dest</th>\n",
       "      <th>distance</th>\n",
       "    </tr>\n",
       "  </thead>\n",
       "  <tbody>\n",
       "    <tr>\n",
       "      <th>2194</th>\n",
       "      <td>Hawaiian Airlines Inc.</td>\n",
       "      <td>JFK</td>\n",
       "      <td>HNL</td>\n",
       "      <td>4983.0</td>\n",
       "    </tr>\n",
       "  </tbody>\n",
       "</table>\n",
       "</div>"
      ],
      "text/plain": [
       "                     Airline origin dest  distance\n",
       "2194  Hawaiian Airlines Inc.    JFK  HNL    4983.0"
      ]
     },
     "execution_count": 29,
     "metadata": {},
     "output_type": "execute_result"
    }
   ],
   "source": [
    "# What is the longest flight?\n",
    "\n",
    "flight_data[[\"Airline\", \"origin\", \"dest\", \"distance\"]].nlargest(1, \"distance\")"
   ]
  },
  {
   "cell_type": "code",
   "execution_count": 30,
   "metadata": {},
   "outputs": [
    {
     "data": {
      "image/png": "[encoded data removed]",
      "text/plain": [
       "<Figure size 1080x360 with 1 Axes>"
      ]
     },
     "metadata": {
      "needs_background": "light"
     },
     "output_type": "display_data"
    }
   ],
   "source": [
    "explore.distance_scatterplot(flight_data)"
   ]
  },
  {
   "cell_type": "code",
   "execution_count": 31,
   "metadata": {},
   "outputs": [
    {
     "name": "stdout",
     "output_type": "stream",
     "text": [
      "r value is: -0.03\n",
      "p value is: 0.00\n"
     ]
    }
   ],
   "source": [
    "r, p = stats.pearsonr(flight_data.distance, flight_data.arr_delay)\n",
    "\n",
    "print(f\"r value is: {r:.2f}\")\n",
    "print(f\"p value is: {p:.2f}\")"
   ]
  },
  {
   "cell_type": "markdown",
   "metadata": {},
   "source": [
    "Because our p value is less than our alpha, we reject the null hypothesis, and conclude that distance and arrival delays do have a correlation. However, when we look at the r value, we see that this is actually a very small negative correlation (meaning that as distance increases, arrival delays decrease)."
   ]
  },
  {
   "cell_type": "code",
   "execution_count": 32,
   "metadata": {},
   "outputs": [
    {
     "data": {
      "image/png": "[encoded data removed]",
      "text/plain": [
       "<Figure size 1080x360 with 1 Axes>"
      ]
     },
     "metadata": {
      "needs_background": "light"
     },
     "output_type": "display_data"
    }
   ],
   "source": [
    "explore.distance_boxplot(flight_data)"
   ]
  },
  {
   "cell_type": "markdown",
   "metadata": {},
   "source": [
    "It seems that there is overall no major differences in terms of delays. While the majority of the fligts are towards the shorter end, the overall avg minutes delayed seems to be fairly similar. \n",
    "\n",
    "With this - I have enough information to move onto a first phase of modeling."
   ]
  },
  {
   "cell_type": "markdown",
   "metadata": {},
   "source": [
    "## Preprocessing"
   ]
  },
  {
   "cell_type": "markdown",
   "metadata": {},
   "source": [
    "Now that we have finished exploration, and have a better idea of what are the best features we can use for modeling, we need to prepare the dataframe into the correct format to feed it to the models.\n",
    "\n",
    "Given that a lot of our features are categorical (airport name, airline carrier name, ect), we need to figure out a way to encode these features. We could use a `OneHotEncoder`, but that would add a lot of columns, and that could add a lot of complexities. \n",
    "\n",
    "As such, a better feature to encode our categorical values would be to use the mean delay, in minutes, for each categorical feature. \n",
    "\n",
    "This way, Orlando airport, which has the highest minutes of delays, will have a higher value than other airports. Hopefully, features like this can help the model better understand the historical data and find patterns to predict the likelihood of flights beind delayed. \n",
    "\n",
    "The following steps are used by the `mvp_modeling_prep` function to prepare the data for modeling:\n",
    "\n",
    "1. Read the csv file\n",
    "1. Add's datetime_features\n",
    "1. Creates new features using avg_minutes_delay\n",
    "1. Add's our target value (if the flight's arrival is delayed by 1 minute or more, then it is considered to be a `True` case)\n",
    "1. Splits the data into a train, validate and test dataframes. \n",
    "1. The data is scaled using a `min_max_scaler`"
   ]
  },
  {
   "cell_type": "code",
   "execution_count": 33,
   "metadata": {},
   "outputs": [],
   "source": [
    "features_for_modeling = [\"dest_airport_avg_delay\", \"carrier_avg_delay\", \"airport_avg_delay\", \"crs_dep_time\", \"crs_arr_time\", \"month\", \"day_of_week\"]\n",
    "target_variable = \"is_delay\""
   ]
  },
  {
   "cell_type": "code",
   "execution_count": 34,
   "metadata": {},
   "outputs": [],
   "source": [
    "train_scaled, y_train, validate_scaled, y_validate, test_scaled, y_test = preprocessing.mvp_modeling_prep(modeling=True, features_for_modeling=features_for_modeling, target_variable=target_variable)"
   ]
  },
  {
   "cell_type": "code",
   "execution_count": 35,
   "metadata": {},
   "outputs": [
    {
     "data": {
      "text/plain": [
       "(1668240, 556080, 741440)"
      ]
     },
     "execution_count": 35,
     "metadata": {},
     "output_type": "execute_result"
    }
   ],
   "source": [
    "train_scaled.shape[0], validate_scaled.shape[0], test_scaled.shape[0]"
   ]
  },
  {
   "cell_type": "markdown",
   "metadata": {},
   "source": [
    "## Modeling\n",
    "\n",
    "For modeling, we want to create a classification model that can predict the probability that a flight will be delayed. Luckly, because of the nature of our objective, we don't necesarily need have a particularly high accuracy model, as we are simply trying to calculate the probabily of a flight getting delay. \n",
    "\n",
    "For the purposes of this project, our true positive value will be if the flight is delay. \n",
    "\n",
    "Our confusion matrix will look at following:\n",
    "\n",
    "|    | Actual Positive | Actual Negative | \n",
    "|----|----------------|----------------|\n",
    "Predicted Positive | Flight predicted late, and arrives late | Flight predicted late, but arrives on time |\n",
    "Predicted Negative | Flight predicted to be on time, but arrives late | Flight predicted to be on time, and arrived on time |\n",
    "\n",
    "\n",
    "If we think of our stakeholder, we need to help flight passangers get better insight in how to book their flights. In this case, a false postive (flight predicted late, but arrives on time) is less expensive than a false negative (flight predicted to be on time, but arrives late). The cost of a false positive is a longer layover in an airport, while the cost of a false negative is potentially a missed connection, which can derail an entire trip. As such, we will focus our models to ensure that they have both high accuracy, and a high recall score. Recall score is used to measure the percent of actual positive cases that were predicted as positive, so it will help ensure that our model's are correctly identifying the actual positive values. \n",
    "\n",
    "In other to help us compare the different models, we will compare our model scores against a baseline. As it is tranditional when doing classification models, we will use the most common outcome as the baseline."
   ]
  },
  {
   "cell_type": "code",
   "execution_count": 36,
   "metadata": {},
   "outputs": [
    {
     "name": "stdout",
     "output_type": "stream",
     "text": [
      "37% of flights were delayed in 2018\n"
     ]
    }
   ],
   "source": [
    "print(f\"{(y_train).mean():.0%} of flights were delayed in 2018\")"
   ]
  },
  {
   "cell_type": "markdown",
   "metadata": {},
   "source": [
    "Given that 37% of the flights were late (or positive), we will use `False` as the baseline."
   ]
  },
  {
   "cell_type": "code",
   "execution_count": 37,
   "metadata": {},
   "outputs": [],
   "source": [
    "predictions = pd.DataFrame({\"actual\":y_train, \"baseline\": False})"
   ]
  },
  {
   "cell_type": "markdown",
   "metadata": {},
   "source": [
    "### Random Forest"
   ]
  },
  {
   "cell_type": "code",
   "execution_count": 38,
   "metadata": {},
   "outputs": [],
   "source": [
    "# model.run_rf_loop(train_scaled, validate_scaled, y_validate, y_train, 8)"
   ]
  },
  {
   "cell_type": "code",
   "execution_count": 39,
   "metadata": {
    "scrolled": true
   },
   "outputs": [],
   "source": [
    "rf, y_pred = model.run_rf(train_scaled, y_train, 1, 5)\n",
    "predictions[\"random_forest\"] = y_pred"
   ]
  },
  {
   "cell_type": "code",
   "execution_count": 40,
   "metadata": {
    "scrolled": true
   },
   "outputs": [
    {
     "name": "stdout",
     "output_type": "stream",
     "text": [
      "Accuracy on dataset: 0.63\n",
      "         False  True \n",
      "False  1024892  20841\n",
      "True    593748  28759\n"
     ]
    },
    {
     "data": {
      "text/html": [
       "<div>\n",
       "<style scoped>\n",
       "    .dataframe tbody tr th:only-of-type {\n",
       "        vertical-align: middle;\n",
       "    }\n",
       "\n",
       "    .dataframe tbody tr th {\n",
       "        vertical-align: top;\n",
       "    }\n",
       "\n",
       "    .dataframe thead th {\n",
       "        text-align: right;\n",
       "    }\n",
       "</style>\n",
       "<table border=\"1\" class=\"dataframe\">\n",
       "  <thead>\n",
       "    <tr style=\"text-align: right;\">\n",
       "      <th></th>\n",
       "      <th>False</th>\n",
       "      <th>True</th>\n",
       "      <th>accuracy</th>\n",
       "      <th>macro avg</th>\n",
       "      <th>weighted avg</th>\n",
       "    </tr>\n",
       "  </thead>\n",
       "  <tbody>\n",
       "    <tr>\n",
       "      <th>precision</th>\n",
       "      <td>6.331809e-01</td>\n",
       "      <td>0.579819</td>\n",
       "      <td>0.631594</td>\n",
       "      <td>6.064997e-01</td>\n",
       "      <td>6.132687e-01</td>\n",
       "    </tr>\n",
       "    <tr>\n",
       "      <th>recall</th>\n",
       "      <td>9.800704e-01</td>\n",
       "      <td>0.046199</td>\n",
       "      <td>0.631594</td>\n",
       "      <td>5.131346e-01</td>\n",
       "      <td>6.315944e-01</td>\n",
       "    </tr>\n",
       "    <tr>\n",
       "      <th>f1-score</th>\n",
       "      <td>7.693307e-01</td>\n",
       "      <td>0.085579</td>\n",
       "      <td>0.631594</td>\n",
       "      <td>4.274547e-01</td>\n",
       "      <td>5.141873e-01</td>\n",
       "    </tr>\n",
       "    <tr>\n",
       "      <th>support</th>\n",
       "      <td>1.045733e+06</td>\n",
       "      <td>622507.000000</td>\n",
       "      <td>0.631594</td>\n",
       "      <td>1.668240e+06</td>\n",
       "      <td>1.668240e+06</td>\n",
       "    </tr>\n",
       "  </tbody>\n",
       "</table>\n",
       "</div>"
      ],
      "text/plain": [
       "                  False           True  accuracy     macro avg  weighted avg\n",
       "precision  6.331809e-01       0.579819  0.631594  6.064997e-01  6.132687e-01\n",
       "recall     9.800704e-01       0.046199  0.631594  5.131346e-01  6.315944e-01\n",
       "f1-score   7.693307e-01       0.085579  0.631594  4.274547e-01  5.141873e-01\n",
       "support    1.045733e+06  622507.000000  0.631594  1.668240e+06  1.668240e+06"
      ]
     },
     "execution_count": 40,
     "metadata": {},
     "output_type": "execute_result"
    }
   ],
   "source": [
    "accuracy_score, matrix, report = model.accuracy_report(rf, y_pred, y_train)\n",
    "\n",
    "print(accuracy_score)\n",
    "print(matrix)\n",
    "\n",
    "report"
   ]
  },
  {
   "cell_type": "code",
   "execution_count": 41,
   "metadata": {},
   "outputs": [
    {
     "name": "stdout",
     "output_type": "stream",
     "text": [
      "Accuracy Score on validate df: 63%\n"
     ]
    }
   ],
   "source": [
    "print(f\"Accuracy score on validate df: {rf.score(validate_scaled, y_validate):.0%}\")"
   ]
  },
  {
   "cell_type": "code",
   "execution_count": 42,
   "metadata": {},
   "outputs": [
    {
     "data": {
      "image/png": "[encoded data removed]",
      "text/plain": [
       "<Figure size 432x288 with 1 Axes>"
      ]
     },
     "metadata": {
      "needs_background": "light"
     },
     "output_type": "display_data"
    }
   ],
   "source": [
    "model.rf_feature_importance(rf, train_scaled)"
   ]
  },
  {
   "cell_type": "markdown",
   "metadata": {},
   "source": [
    "**Takeaways:** The random forest model achieved a 63% accuracy. The model performs very similarly on our validate dataframe, which means that the model is not overfit. It performed better than the baseline, however, it has a very low recall score (less than 1 actually), meaning that the model is not getting a lot of true positives. This means that we probably wouldn't recommend using this model.\n",
    "\n",
    "On an interesting note, we see that the most influencial feature leading the prediction is the departure time of the flight. We did see that flights are more likely to experience bigger delays during the hours of 7 pm and 11 pm. \n",
    "\n",
    "The least influencial values are `day_of_week` and `dest_airport_avg_delay`. "
   ]
  },
  {
   "cell_type": "markdown",
   "metadata": {},
   "source": [
    "### KNN"
   ]
  },
  {
   "cell_type": "code",
   "execution_count": 43,
   "metadata": {},
   "outputs": [],
   "source": [
    "# model.run_knn_loop(train_scaled, validate_scaled, y_validate, y_train, 10)"
   ]
  },
  {
   "cell_type": "code",
   "execution_count": 44,
   "metadata": {},
   "outputs": [],
   "source": [
    "knn, y_pred = model.run_knn(train_scaled, y_train, 3)\n",
    "predictions[\"knn\"] = y_pred"
   ]
  },
  {
   "cell_type": "code",
   "execution_count": 45,
   "metadata": {},
   "outputs": [
    {
     "name": "stdout",
     "output_type": "stream",
     "text": [
      "Accuracy on dataset: 0.67\n",
      "        False   True \n",
      "False  946769   98964\n",
      "True   444244  178263\n"
     ]
    },
    {
     "data": {
      "text/html": [
       "<div>\n",
       "<style scoped>\n",
       "    .dataframe tbody tr th:only-of-type {\n",
       "        vertical-align: middle;\n",
       "    }\n",
       "\n",
       "    .dataframe tbody tr th {\n",
       "        vertical-align: top;\n",
       "    }\n",
       "\n",
       "    .dataframe thead th {\n",
       "        text-align: right;\n",
       "    }\n",
       "</style>\n",
       "<table border=\"1\" class=\"dataframe\">\n",
       "  <thead>\n",
       "    <tr style=\"text-align: right;\">\n",
       "      <th></th>\n",
       "      <th>False</th>\n",
       "      <th>True</th>\n",
       "      <th>accuracy</th>\n",
       "      <th>macro avg</th>\n",
       "      <th>weighted avg</th>\n",
       "    </tr>\n",
       "  </thead>\n",
       "  <tbody>\n",
       "    <tr>\n",
       "      <th>precision</th>\n",
       "      <td>6.806327e-01</td>\n",
       "      <td>0.643022</td>\n",
       "      <td>0.674383</td>\n",
       "      <td>6.618273e-01</td>\n",
       "      <td>6.665981e-01</td>\n",
       "    </tr>\n",
       "    <tr>\n",
       "      <th>recall</th>\n",
       "      <td>9.053640e-01</td>\n",
       "      <td>0.286363</td>\n",
       "      <td>0.674383</td>\n",
       "      <td>5.958635e-01</td>\n",
       "      <td>6.743826e-01</td>\n",
       "    </tr>\n",
       "    <tr>\n",
       "      <th>f1-score</th>\n",
       "      <td>7.770765e-01</td>\n",
       "      <td>0.396257</td>\n",
       "      <td>0.674383</td>\n",
       "      <td>5.866668e-01</td>\n",
       "      <td>6.349730e-01</td>\n",
       "    </tr>\n",
       "    <tr>\n",
       "      <th>support</th>\n",
       "      <td>1.045733e+06</td>\n",
       "      <td>622507.000000</td>\n",
       "      <td>0.674383</td>\n",
       "      <td>1.668240e+06</td>\n",
       "      <td>1.668240e+06</td>\n",
       "    </tr>\n",
       "  </tbody>\n",
       "</table>\n",
       "</div>"
      ],
      "text/plain": [
       "                  False           True  accuracy     macro avg  weighted avg\n",
       "precision  6.806327e-01       0.643022  0.674383  6.618273e-01  6.665981e-01\n",
       "recall     9.053640e-01       0.286363  0.674383  5.958635e-01  6.743826e-01\n",
       "f1-score   7.770765e-01       0.396257  0.674383  5.866668e-01  6.349730e-01\n",
       "support    1.045733e+06  622507.000000  0.674383  1.668240e+06  1.668240e+06"
      ]
     },
     "execution_count": 45,
     "metadata": {},
     "output_type": "execute_result"
    }
   ],
   "source": [
    "accuracy_score, matrix, report = model.accuracy_report(knn, y_pred, y_train)\n",
    "\n",
    "print(accuracy_score)\n",
    "print(matrix)\n",
    "\n",
    "report"
   ]
  },
  {
   "cell_type": "code",
   "execution_count": 46,
   "metadata": {
    "scrolled": true
   },
   "outputs": [
    {
     "name": "stdout",
     "output_type": "stream",
     "text": [
      "Accuracy Score on validate df: 63%\n"
     ]
    }
   ],
   "source": [
    "print(f\"Accuracy Score on validate df: {knn.score(validate_scaled, y_validate):.0%}\")"
   ]
  },
  {
   "cell_type": "markdown",
   "metadata": {},
   "source": [
    "**Takeaways:** The KNN performs much better. It achieved a 77% accuracy score, and a 41% recall score, which is significantly better than our previous model. The model is a little more overfit, however, as the model did not perform as well on the validate dataset. "
   ]
  },
  {
   "cell_type": "markdown",
   "metadata": {},
   "source": [
    "### Gradient Boosting Classifier"
   ]
  },
  {
   "cell_type": "code",
   "execution_count": 47,
   "metadata": {},
   "outputs": [],
   "source": [
    "gb, y_pred = model.run_gb(train_scaled, y_train)\n",
    "predictions[\"gradient_bossting\"] = y_pred"
   ]
  },
  {
   "cell_type": "code",
   "execution_count": 48,
   "metadata": {
    "scrolled": false
   },
   "outputs": [
    {
     "name": "stdout",
     "output_type": "stream",
     "text": [
      "Accuracy on dataset: 0.63\n",
      "         False  True \n",
      "False  1045733      0\n",
      "True    622507      0\n"
     ]
    },
    {
     "data": {
      "text/html": [
       "<div>\n",
       "<style scoped>\n",
       "    .dataframe tbody tr th:only-of-type {\n",
       "        vertical-align: middle;\n",
       "    }\n",
       "\n",
       "    .dataframe tbody tr th {\n",
       "        vertical-align: top;\n",
       "    }\n",
       "\n",
       "    .dataframe thead th {\n",
       "        text-align: right;\n",
       "    }\n",
       "</style>\n",
       "<table border=\"1\" class=\"dataframe\">\n",
       "  <thead>\n",
       "    <tr style=\"text-align: right;\">\n",
       "      <th></th>\n",
       "      <th>False</th>\n",
       "      <th>True</th>\n",
       "      <th>accuracy</th>\n",
       "      <th>macro avg</th>\n",
       "      <th>weighted avg</th>\n",
       "    </tr>\n",
       "  </thead>\n",
       "  <tbody>\n",
       "    <tr>\n",
       "      <th>precision</th>\n",
       "      <td>6.268481e-01</td>\n",
       "      <td>0.0</td>\n",
       "      <td>0.626848</td>\n",
       "      <td>3.134240e-01</td>\n",
       "      <td>3.929385e-01</td>\n",
       "    </tr>\n",
       "    <tr>\n",
       "      <th>recall</th>\n",
       "      <td>1.000000e+00</td>\n",
       "      <td>0.0</td>\n",
       "      <td>0.626848</td>\n",
       "      <td>5.000000e-01</td>\n",
       "      <td>6.268481e-01</td>\n",
       "    </tr>\n",
       "    <tr>\n",
       "      <th>f1-score</th>\n",
       "      <td>7.706289e-01</td>\n",
       "      <td>0.0</td>\n",
       "      <td>0.626848</td>\n",
       "      <td>3.853144e-01</td>\n",
       "      <td>4.830672e-01</td>\n",
       "    </tr>\n",
       "    <tr>\n",
       "      <th>support</th>\n",
       "      <td>1.045733e+06</td>\n",
       "      <td>622507.0</td>\n",
       "      <td>0.626848</td>\n",
       "      <td>1.668240e+06</td>\n",
       "      <td>1.668240e+06</td>\n",
       "    </tr>\n",
       "  </tbody>\n",
       "</table>\n",
       "</div>"
      ],
      "text/plain": [
       "                  False      True  accuracy     macro avg  weighted avg\n",
       "precision  6.268481e-01       0.0  0.626848  3.134240e-01  3.929385e-01\n",
       "recall     1.000000e+00       0.0  0.626848  5.000000e-01  6.268481e-01\n",
       "f1-score   7.706289e-01       0.0  0.626848  3.853144e-01  4.830672e-01\n",
       "support    1.045733e+06  622507.0  0.626848  1.668240e+06  1.668240e+06"
      ]
     },
     "execution_count": 48,
     "metadata": {},
     "output_type": "execute_result"
    }
   ],
   "source": [
    "accuracy_score, matrix, report = model.accuracy_report(gb, y_pred, y_train)\n",
    "\n",
    "print(accuracy_score)\n",
    "print(matrix)\n",
    "\n",
    "report"
   ]
  },
  {
   "cell_type": "code",
   "execution_count": 49,
   "metadata": {},
   "outputs": [
    {
     "name": "stdout",
     "output_type": "stream",
     "text": [
      "Accuracy Score on validate df: 62.632355%\n"
     ]
    }
   ],
   "source": [
    "print(f\"Accuracy Score on validate df: {gb.score(validate_scaled, y_validate):0%}\")"
   ]
  },
  {
   "cell_type": "markdown",
   "metadata": {},
   "source": [
    "------"
   ]
  },
  {
   "cell_type": "code",
   "execution_count": 50,
   "metadata": {},
   "outputs": [
    {
     "name": "stdout",
     "output_type": "stream",
     "text": [
      "Accuracy Scores\n",
      "---------------\n",
      "Actual = 1.00\n",
      "Baseline = 0.63\n",
      "Random_Forest = 0.63\n",
      "Knn = 0.67\n",
      "Gradient_Bossting = 0.63\n"
     ]
    }
   ],
   "source": [
    "model.compare_prediction_results_accuracy(predictions)"
   ]
  },
  {
   "cell_type": "code",
   "execution_count": 51,
   "metadata": {},
   "outputs": [
    {
     "name": "stdout",
     "output_type": "stream",
     "text": [
      "Recall Scores\n",
      "---------------\n",
      "Actual = 1.00\n",
      "Baseline = 0.00\n",
      "Random_Forest = 0.05\n",
      "Knn = 0.29\n",
      "Gradient_Bossting = 0.00\n"
     ]
    }
   ],
   "source": [
    "model.compare_prediction_results_other_metrics(predictions, \"recall\", \"True\")"
   ]
  },
  {
   "cell_type": "markdown",
   "metadata": {},
   "source": [
    "**Takeaways:** We see that overall, KNN did the best job. It overall scored the highest accuracy score, and highest recall score.\n",
    "\n",
    "We will now evaluate the KNN model using the test data, to ensure that the model is not overfit."
   ]
  },
  {
   "cell_type": "markdown",
   "metadata": {},
   "source": [
    "## Evaluate"
   ]
  },
  {
   "cell_type": "code",
   "execution_count": 52,
   "metadata": {},
   "outputs": [],
   "source": [
    "knn, y_pred = model.run_knn(train_scaled, y_train, 3)"
   ]
  },
  {
   "cell_type": "code",
   "execution_count": 53,
   "metadata": {},
   "outputs": [],
   "source": [
    "y_pred = knn.predict(test_scaled)"
   ]
  },
  {
   "cell_type": "code",
   "execution_count": 54,
   "metadata": {
    "scrolled": true
   },
   "outputs": [
    {
     "name": "stdout",
     "output_type": "stream",
     "text": [
      "Accuracy on dataset: 0.61\n",
      "        False   True \n",
      "False  335145  129517\n",
      "True   159247  117531\n"
     ]
    },
    {
     "data": {
      "text/html": [
       "<div>\n",
       "<style scoped>\n",
       "    .dataframe tbody tr th:only-of-type {\n",
       "        vertical-align: middle;\n",
       "    }\n",
       "\n",
       "    .dataframe tbody tr th {\n",
       "        vertical-align: top;\n",
       "    }\n",
       "\n",
       "    .dataframe thead th {\n",
       "        text-align: right;\n",
       "    }\n",
       "</style>\n",
       "<table border=\"1\" class=\"dataframe\">\n",
       "  <thead>\n",
       "    <tr style=\"text-align: right;\">\n",
       "      <th></th>\n",
       "      <th>False</th>\n",
       "      <th>True</th>\n",
       "      <th>accuracy</th>\n",
       "      <th>macro avg</th>\n",
       "      <th>weighted avg</th>\n",
       "    </tr>\n",
       "  </thead>\n",
       "  <tbody>\n",
       "    <tr>\n",
       "      <th>precision</th>\n",
       "      <td>0.677893</td>\n",
       "      <td>0.475742</td>\n",
       "      <td>0.610536</td>\n",
       "      <td>0.576817</td>\n",
       "      <td>0.602430</td>\n",
       "    </tr>\n",
       "    <tr>\n",
       "      <th>recall</th>\n",
       "      <td>0.721266</td>\n",
       "      <td>0.424640</td>\n",
       "      <td>0.610536</td>\n",
       "      <td>0.572953</td>\n",
       "      <td>0.610536</td>\n",
       "    </tr>\n",
       "    <tr>\n",
       "      <th>f1-score</th>\n",
       "      <td>0.698907</td>\n",
       "      <td>0.448741</td>\n",
       "      <td>0.610536</td>\n",
       "      <td>0.573824</td>\n",
       "      <td>0.605521</td>\n",
       "    </tr>\n",
       "    <tr>\n",
       "      <th>support</th>\n",
       "      <td>464662.000000</td>\n",
       "      <td>276778.000000</td>\n",
       "      <td>0.610536</td>\n",
       "      <td>741440.000000</td>\n",
       "      <td>741440.000000</td>\n",
       "    </tr>\n",
       "  </tbody>\n",
       "</table>\n",
       "</div>"
      ],
      "text/plain": [
       "                   False           True  accuracy      macro avg  \\\n",
       "precision       0.677893       0.475742  0.610536       0.576817   \n",
       "recall          0.721266       0.424640  0.610536       0.572953   \n",
       "f1-score        0.698907       0.448741  0.610536       0.573824   \n",
       "support    464662.000000  276778.000000  0.610536  741440.000000   \n",
       "\n",
       "            weighted avg  \n",
       "precision       0.602430  \n",
       "recall          0.610536  \n",
       "f1-score        0.605521  \n",
       "support    741440.000000  "
      ]
     },
     "execution_count": 54,
     "metadata": {},
     "output_type": "execute_result"
    }
   ],
   "source": [
    "accuracy_score, matrix, report = model.accuracy_report(knn, y_pred, y_test)\n",
    "\n",
    "print(accuracy_score)\n",
    "print(matrix)\n",
    "\n",
    "report"
   ]
  },
  {
   "cell_type": "markdown",
   "metadata": {},
   "source": [
    "## Conclusion\n",
    "\n",
    "It seems that KNN is the best model for this task. We are only able to get a 61% accuracy on our test data, is which is a little less than our baseline. When it comes to recall, our model performs significantly better. However, we defintively want to do better.  \n",
    "\n",
    "I believe that the reasons why the model is not performing as well is because there are other factors, beyond just those present in the data, that lead to a flight getting delayed. \n",
    "\n",
    "As we saw from the data, the missing variables that we could bring in to further improve the model are:\n",
    "\n",
    "1. Weather data\n",
    "    * If we could add hourly weather data, we would be able to see if there were any particular weather elements that we can use for modeling.\n",
    "1. Previous flight information\n",
    "    * We saw that actually the biggest reason for a flight delay is because the plane arrived late. If we could perhaps find a way to actually track that information, we could further enhanced the model. A way to actually accomplish this is to perhaps use the mean delay avg in minutes for the previous flight.\n",
    "    \n",
    "That being said, we can reject our main null hypothesis, as we have demonstrated that we can create a model that is more effective than our baseline, using only historical flight information. "
   ]
  },
  {
   "cell_type": "markdown",
   "metadata": {},
   "source": [
    "------------"
   ]
  },
  {
   "cell_type": "markdown",
   "metadata": {},
   "source": [
    "# Phase II\n",
    "\n",
    "Our objective now is to predict weather a flight will be delayed, while using weather data. Unfortunately, acquiring weather data was a little harder than expected. In order to accomplish our objectives, we needed to acquire weather data that covered all top 15 airports, and the data was recorded on an hourly basis. This was harder to acquire than expected. \n",
    "\n",
    "I was able to get a dataset with hourly weather data for cities all over the US. It covered 2018 data range, but it was slighly untraditional, as it didn't include temperature or pressure data, but rather it collected what, if any, weather events the city was expericing. \n",
    "\n",
    "The data comes from Kaggle, but it was originally collected by a team at Cornell.$^1$ The following is a description of the weather events captured in the data:\n",
    "\n",
    "### Hypothesis:\n",
    "\n",
    "* $H_0$: Weather conditions are not a helpful features that can help predict probability of a fligth being delayed.\n",
    "* $H_a$: Weather conditions are helpful features that can help predict probability of a fligth being delayed.\n",
    "\n",
    "**Description of Weather Events**\n",
    "\n",
    "Weather event is a spatiotemporal entity, where such an entity is associated with location and time. Following is the description of available weather event types in this dataset:\n",
    "\n",
    "Severe-Cold: The case of having extremely low temperature, with temperature below -23.7 degrees of Celsius.\n",
    "Fog: The case where there is low visibility condition as a result of fog or haze.\n",
    "Hail: The case of having solid precipitation including ice pellets and hail.\n",
    "Rain: The case of having rain, ranging from light to heavy.\n",
    "Snow: The case of having snow, ranging from light to heavy.\n",
    "Storm: The extremely windy condition, where the wind speed is at least 60 km/h.\n",
    "Other Precipitation: Any other type of precipitation which cannot be assigned to previously described event types.\n",
    "\n",
    "\n",
    "$^1$Moosavi, Sobhan, Mohammad Hossein Samavatian, Arnab Nandi, Srinivasan Parthasarathy, and Rajiv Ramnath. [“Short and Long-term Pattern Discovery Over Large-Scale Geo-Spatiotemporal Data.”](https://arxiv.org/abs/1902.06792) In Proceedings of the 25th ACM SIGKDD International Conference on Knowledge Discovery & Data Mining, ACM, 2019."
   ]
  },
  {
   "cell_type": "markdown",
   "metadata": {},
   "source": [
    "## Wrangle"
   ]
  },
  {
   "cell_type": "code",
   "execution_count": 55,
   "metadata": {},
   "outputs": [],
   "source": [
    "weather_data = pd.read_csv(\"US_WeatherEvents_2016-2019.csv\")"
   ]
  },
  {
   "cell_type": "code",
   "execution_count": 56,
   "metadata": {},
   "outputs": [
    {
     "data": {
      "text/html": [
       "<div>\n",
       "<style scoped>\n",
       "    .dataframe tbody tr th:only-of-type {\n",
       "        vertical-align: middle;\n",
       "    }\n",
       "\n",
       "    .dataframe tbody tr th {\n",
       "        vertical-align: top;\n",
       "    }\n",
       "\n",
       "    .dataframe thead th {\n",
       "        text-align: right;\n",
       "    }\n",
       "</style>\n",
       "<table border=\"1\" class=\"dataframe\">\n",
       "  <thead>\n",
       "    <tr style=\"text-align: right;\">\n",
       "      <th></th>\n",
       "      <th>EventId</th>\n",
       "      <th>Type</th>\n",
       "      <th>Severity</th>\n",
       "      <th>StartTime(UTC)</th>\n",
       "      <th>EndTime(UTC)</th>\n",
       "      <th>TimeZone</th>\n",
       "      <th>AirportCode</th>\n",
       "      <th>LocationLat</th>\n",
       "      <th>LocationLng</th>\n",
       "      <th>City</th>\n",
       "      <th>County</th>\n",
       "      <th>State</th>\n",
       "      <th>ZipCode</th>\n",
       "    </tr>\n",
       "  </thead>\n",
       "  <tbody>\n",
       "    <tr>\n",
       "      <th>0</th>\n",
       "      <td>W-1</td>\n",
       "      <td>Snow</td>\n",
       "      <td>Light</td>\n",
       "      <td>2016-01-06 23:14:00</td>\n",
       "      <td>2016-01-07 00:34:00</td>\n",
       "      <td>US/Mountain</td>\n",
       "      <td>K04V</td>\n",
       "      <td>38.0972</td>\n",
       "      <td>-106.1689</td>\n",
       "      <td>Saguache</td>\n",
       "      <td>Saguache</td>\n",
       "      <td>CO</td>\n",
       "      <td>81149.0</td>\n",
       "    </tr>\n",
       "    <tr>\n",
       "      <th>1</th>\n",
       "      <td>W-2</td>\n",
       "      <td>Snow</td>\n",
       "      <td>Light</td>\n",
       "      <td>2016-01-07 04:14:00</td>\n",
       "      <td>2016-01-07 04:54:00</td>\n",
       "      <td>US/Mountain</td>\n",
       "      <td>K04V</td>\n",
       "      <td>38.0972</td>\n",
       "      <td>-106.1689</td>\n",
       "      <td>Saguache</td>\n",
       "      <td>Saguache</td>\n",
       "      <td>CO</td>\n",
       "      <td>81149.0</td>\n",
       "    </tr>\n",
       "    <tr>\n",
       "      <th>2</th>\n",
       "      <td>W-3</td>\n",
       "      <td>Snow</td>\n",
       "      <td>Light</td>\n",
       "      <td>2016-01-07 05:54:00</td>\n",
       "      <td>2016-01-07 15:34:00</td>\n",
       "      <td>US/Mountain</td>\n",
       "      <td>K04V</td>\n",
       "      <td>38.0972</td>\n",
       "      <td>-106.1689</td>\n",
       "      <td>Saguache</td>\n",
       "      <td>Saguache</td>\n",
       "      <td>CO</td>\n",
       "      <td>81149.0</td>\n",
       "    </tr>\n",
       "    <tr>\n",
       "      <th>3</th>\n",
       "      <td>W-4</td>\n",
       "      <td>Snow</td>\n",
       "      <td>Light</td>\n",
       "      <td>2016-01-08 05:34:00</td>\n",
       "      <td>2016-01-08 05:54:00</td>\n",
       "      <td>US/Mountain</td>\n",
       "      <td>K04V</td>\n",
       "      <td>38.0972</td>\n",
       "      <td>-106.1689</td>\n",
       "      <td>Saguache</td>\n",
       "      <td>Saguache</td>\n",
       "      <td>CO</td>\n",
       "      <td>81149.0</td>\n",
       "    </tr>\n",
       "    <tr>\n",
       "      <th>4</th>\n",
       "      <td>W-5</td>\n",
       "      <td>Snow</td>\n",
       "      <td>Light</td>\n",
       "      <td>2016-01-08 13:54:00</td>\n",
       "      <td>2016-01-08 15:54:00</td>\n",
       "      <td>US/Mountain</td>\n",
       "      <td>K04V</td>\n",
       "      <td>38.0972</td>\n",
       "      <td>-106.1689</td>\n",
       "      <td>Saguache</td>\n",
       "      <td>Saguache</td>\n",
       "      <td>CO</td>\n",
       "      <td>81149.0</td>\n",
       "    </tr>\n",
       "  </tbody>\n",
       "</table>\n",
       "</div>"
      ],
      "text/plain": [
       "  EventId  Type Severity       StartTime(UTC)         EndTime(UTC)  \\\n",
       "0     W-1  Snow    Light  2016-01-06 23:14:00  2016-01-07 00:34:00   \n",
       "1     W-2  Snow    Light  2016-01-07 04:14:00  2016-01-07 04:54:00   \n",
       "2     W-3  Snow    Light  2016-01-07 05:54:00  2016-01-07 15:34:00   \n",
       "3     W-4  Snow    Light  2016-01-08 05:34:00  2016-01-08 05:54:00   \n",
       "4     W-5  Snow    Light  2016-01-08 13:54:00  2016-01-08 15:54:00   \n",
       "\n",
       "      TimeZone AirportCode  LocationLat  LocationLng      City    County  \\\n",
       "0  US/Mountain        K04V      38.0972    -106.1689  Saguache  Saguache   \n",
       "1  US/Mountain        K04V      38.0972    -106.1689  Saguache  Saguache   \n",
       "2  US/Mountain        K04V      38.0972    -106.1689  Saguache  Saguache   \n",
       "3  US/Mountain        K04V      38.0972    -106.1689  Saguache  Saguache   \n",
       "4  US/Mountain        K04V      38.0972    -106.1689  Saguache  Saguache   \n",
       "\n",
       "  State  ZipCode  \n",
       "0    CO  81149.0  \n",
       "1    CO  81149.0  \n",
       "2    CO  81149.0  \n",
       "3    CO  81149.0  \n",
       "4    CO  81149.0  "
      ]
     },
     "execution_count": 56,
     "metadata": {},
     "output_type": "execute_result"
    }
   ],
   "source": [
    "weather_data.head()"
   ]
  },
  {
   "cell_type": "markdown",
   "metadata": {},
   "source": [
    "When we first read the data, it comes in with data that ranges from 2016-2018 and it includes cities all over the US. \n",
    "\n",
    "One thing I noticed was that the `AirportCode` didn't necesarly also match the correct `City`. I found that some of the airport codes, like CTL, didn't match Charlotte. To fix for this issue, I used another data set, to match the `AirportCode` in the database and combine it with the `ICAO` airport codes so that I could not only merge it with my flight_data, but also better record what city that the airport belonged to.\n",
    "\n",
    "The major problem that the data had was that it only had records of precipitation activites. When events were supposed to be clear weather conditions, they weren't recorded. As such, I had to reset the datetime index to ensure that there weren't any time lags in the dataframe. This was a little tricker, given that it had to be done on a city by city basis.\n",
    "\n",
    "The following steps were needed to make the data usable:\n",
    "\n",
    "1. Used airport data to add `IATA` codes, so that we could better merge the data in the future\n",
    "1. Filter for only the top 15 airports, using the `IATA` codes. \n",
    "1. Create a loop that goes through data for each city, and individually reset all datetime indexes, so that we have a complete picture of what the weather was like for that city. \n",
    "1. The data was in UTC timezone, and so we needed to convert the data into local data, so that it could match our flight information. \n",
    "1. Add a unique identifier (primary key) that could be used to combine the weather dataset with the flight information. \n",
    "\n",
    "These steps are accomplish by the two functions below"
   ]
  },
  {
   "cell_type": "code",
   "execution_count": 59,
   "metadata": {},
   "outputs": [],
   "source": [
    "weather_data = wrangle.prep_weather_data()"
   ]
  },
  {
   "cell_type": "code",
   "execution_count": null,
   "metadata": {},
   "outputs": [],
   "source": [
    "weather_data = wragnle.filter_weather_data(weather_data)"
   ]
  },
  {
   "cell_type": "code",
   "execution_count": null,
   "metadata": {
    "scrolled": true
   },
   "outputs": [],
   "source": [
    "weather_data.head()"
   ]
  },
  {
   "cell_type": "markdown",
   "metadata": {},
   "source": [
    "As we see, the data now is in a usable format, that can be merged with the flight data set. Each observation is a particular time, day and city. The hours have also been updated to their local timezone.\n",
    "\n",
    "Now that the data is in the correct format, we are ready to merge the data with the flight dataframe"
   ]
  },
  {
   "cell_type": "code",
   "execution_count": null,
   "metadata": {},
   "outputs": [],
   "source": [
    "merged_df = wrangle.merge_flight_weather_data()"
   ]
  },
  {
   "cell_type": "code",
   "execution_count": null,
   "metadata": {},
   "outputs": [],
   "source": [
    "merged_df.head()"
   ]
  },
  {
   "cell_type": "markdown",
   "metadata": {},
   "source": [
    "We now have an effective dataframe that we can use for exploration and modeling. \n",
    "\n",
    "Each observation of the data contains:\n",
    "\n",
    "1. A time and date\n",
    "1. an airline and flight number for a particular flight\n",
    "1. The airport where the flight is departing from\n",
    "1. The airport where the flight is flying to\n",
    "1. The number of minutes the flight was delay at departure and/ arrival\n",
    "1. The type of precipitation (and intencity) that the partilar departing airport was experincing at a specific day and time\n",
    "\n",
    "With these values, we are ready to move onto exploration"
   ]
  },
  {
   "cell_type": "markdown",
   "metadata": {},
   "source": [
    "## Exploration\n",
    "\n"
   ]
  },
  {
   "cell_type": "code",
   "execution_count": null,
   "metadata": {
    "scrolled": false
   },
   "outputs": [],
   "source": [
    "plt.figure(figsize=(15,5))\n",
    "sns.barplot(data=merged_df,x=\"Type\", y=\"arr_delay\", ci=False)\n",
    "plt.title(\"What type of precipitation leads to most delays?\")\n",
    "plt.ylabel(\"Number of minutes delayed\")\n",
    "plt.xlabel(\"Type of Weather\")"
   ]
  },
  {
   "cell_type": "markdown",
   "metadata": {},
   "source": [
    "Interesting - it seems that storms lead to the total highest minutes in delays, followed by snow. Extremely cold temperatures seems to have the lowerst number of delays, as well as clear skys."
   ]
  },
  {
   "cell_type": "code",
   "execution_count": null,
   "metadata": {},
   "outputs": [],
   "source": [
    "plt.figure(figsize=(15,5))\n",
    "sns.boxplot(data=merged_df,x=\"Type\", y=\"arr_delay\")\n",
    "plt.title(\"What type of precipitation leads to most delays?\")\n",
    "plt.ylabel(\"Number of minutes delayed\")\n",
    "plt.xlabel(\"Type of Weather\")"
   ]
  },
  {
   "cell_type": "markdown",
   "metadata": {},
   "source": [
    "There are clearly some really high outliers - but overall, Storm stills seems to have the biggest average, closely followed perhaps by precipitation. \n",
    "\n",
    "On a positive note, we have evidence that weather isn't the only reason a plane is delayed, as we still see delays when the sky's are clear, however, they are clearly the minority, so we can hopefuly expect the model will greatly improve with this tipe of information."
   ]
  },
  {
   "cell_type": "code",
   "execution_count": null,
   "metadata": {},
   "outputs": [],
   "source": [
    "# does the weather severity play a role?\n",
    "\n",
    "plt.figure(figsize=(15,5))\n",
    "sns.barplot(data=merged_df, y=\"arr_delay\", x=\"Severity\", ci=False)\n",
    "plt.title(\"Does weather severity play a role in delays?\")"
   ]
  },
  {
   "cell_type": "code",
   "execution_count": null,
   "metadata": {
    "scrolled": false
   },
   "outputs": [],
   "source": [
    "severity = merged_df.Severity.unique()\n",
    "\n",
    "fig, ax = plt.subplots(nrows=2, ncols=3, figsize=(15,8))\n",
    "\n",
    "for count, i in enumerate(severity):\n",
    "     \n",
    "    data = merged_df[test.Severity == i]\n",
    "    plt.subplot(3, 3, count + 1)\n",
    "    sns.barplot(data=data, x=\"Type\", y=\"arr_delay\", ci=False)\n",
    "    plt.title(f\"{i}\")\n",
    "    fig.tight_layout()\n",
    "    \n",
    "plt.show()"
   ]
  },
  {
   "cell_type": "markdown",
   "metadata": {},
   "source": [
    "Interestingly, we see that actually `heavy` precipiation seems to cause the most delays, with `Heavy Snow` causing the greatest delays."
   ]
  },
  {
   "cell_type": "markdown",
   "metadata": {},
   "source": [
    "## Preprocessing"
   ]
  },
  {
   "cell_type": "code",
   "execution_count": 60,
   "metadata": {},
   "outputs": [],
   "source": [
    "features_for_modeling = [\"dest_airport_avg_delay\", \"avg_type_severity\", \"carrier_avg_delay\", \"airport_avg_delay\", \"crs_dep_time\", \"crs_arr_time\", \"month\", \"day_of_week\"]\n",
    "target_variable = \"is_delay\""
   ]
  },
  {
   "cell_type": "code",
   "execution_count": 61,
   "metadata": {},
   "outputs": [],
   "source": [
    "train_scaled, y_train, validate_scaled, y_validate, test_scaled, y_test = preprocessing.weather_modeling_prep(modeling=True, features_for_modeling=features_for_modeling, target_variable=target_variable)"
   ]
  },
  {
   "cell_type": "code",
   "execution_count": 62,
   "metadata": {},
   "outputs": [
    {
     "data": {
      "text/plain": [
       "(1668247, 556083, 741444)"
      ]
     },
     "execution_count": 62,
     "metadata": {},
     "output_type": "execute_result"
    }
   ],
   "source": [
    "train_scaled.shape[0], validate_scaled.shape[0], test_scaled.shape[0]"
   ]
  },
  {
   "cell_type": "code",
   "execution_count": 63,
   "metadata": {},
   "outputs": [
    {
     "data": {
      "text/html": [
       "<div>\n",
       "<style scoped>\n",
       "    .dataframe tbody tr th:only-of-type {\n",
       "        vertical-align: middle;\n",
       "    }\n",
       "\n",
       "    .dataframe tbody tr th {\n",
       "        vertical-align: top;\n",
       "    }\n",
       "\n",
       "    .dataframe thead th {\n",
       "        text-align: right;\n",
       "    }\n",
       "</style>\n",
       "<table border=\"1\" class=\"dataframe\">\n",
       "  <thead>\n",
       "    <tr style=\"text-align: right;\">\n",
       "      <th></th>\n",
       "      <th>dest_airport_avg_delay</th>\n",
       "      <th>avg_type_severity</th>\n",
       "      <th>carrier_avg_delay</th>\n",
       "      <th>airport_avg_delay</th>\n",
       "      <th>crs_dep_time</th>\n",
       "      <th>crs_arr_time</th>\n",
       "      <th>month</th>\n",
       "      <th>day_of_week</th>\n",
       "    </tr>\n",
       "  </thead>\n",
       "  <tbody>\n",
       "    <tr>\n",
       "      <th>2018-05-13_NK_1090</th>\n",
       "      <td>0.426594</td>\n",
       "      <td>0.050299</td>\n",
       "      <td>0.420473</td>\n",
       "      <td>0.909610</td>\n",
       "      <td>0.338846</td>\n",
       "      <td>0.475198</td>\n",
       "      <td>0.363636</td>\n",
       "      <td>1.000000</td>\n",
       "    </tr>\n",
       "    <tr>\n",
       "      <th>2018-05-20_UA_1682</th>\n",
       "      <td>0.313407</td>\n",
       "      <td>0.146900</td>\n",
       "      <td>0.439076</td>\n",
       "      <td>1.000000</td>\n",
       "      <td>0.531807</td>\n",
       "      <td>0.593581</td>\n",
       "      <td>0.363636</td>\n",
       "      <td>1.000000</td>\n",
       "    </tr>\n",
       "    <tr>\n",
       "      <th>2018-11-22_DL_1354</th>\n",
       "      <td>0.353418</td>\n",
       "      <td>0.114137</td>\n",
       "      <td>0.000000</td>\n",
       "      <td>0.083960</td>\n",
       "      <td>0.989822</td>\n",
       "      <td>0.266778</td>\n",
       "      <td>0.909091</td>\n",
       "      <td>0.500000</td>\n",
       "    </tr>\n",
       "    <tr>\n",
       "      <th>2018-07-02_AA_1765</th>\n",
       "      <td>0.398811</td>\n",
       "      <td>0.044873</td>\n",
       "      <td>0.486026</td>\n",
       "      <td>1.000000</td>\n",
       "      <td>0.211620</td>\n",
       "      <td>0.263026</td>\n",
       "      <td>0.545455</td>\n",
       "      <td>0.000000</td>\n",
       "    </tr>\n",
       "    <tr>\n",
       "      <th>2018-09-29_AA_517</th>\n",
       "      <td>0.338200</td>\n",
       "      <td>0.047391</td>\n",
       "      <td>0.486026</td>\n",
       "      <td>0.909610</td>\n",
       "      <td>0.644190</td>\n",
       "      <td>0.774073</td>\n",
       "      <td>0.727273</td>\n",
       "      <td>0.833333</td>\n",
       "    </tr>\n",
       "    <tr>\n",
       "      <th>...</th>\n",
       "      <td>...</td>\n",
       "      <td>...</td>\n",
       "      <td>...</td>\n",
       "      <td>...</td>\n",
       "      <td>...</td>\n",
       "      <td>...</td>\n",
       "      <td>...</td>\n",
       "      <td>...</td>\n",
       "    </tr>\n",
       "    <tr>\n",
       "      <th>2018-02-06_UA_1884</th>\n",
       "      <td>0.325157</td>\n",
       "      <td>0.044873</td>\n",
       "      <td>0.439076</td>\n",
       "      <td>0.323935</td>\n",
       "      <td>0.773961</td>\n",
       "      <td>0.879533</td>\n",
       "      <td>0.090909</td>\n",
       "      <td>0.166667</td>\n",
       "    </tr>\n",
       "    <tr>\n",
       "      <th>2018-01-02_DL_1550</th>\n",
       "      <td>0.351375</td>\n",
       "      <td>0.044873</td>\n",
       "      <td>0.000000</td>\n",
       "      <td>0.272249</td>\n",
       "      <td>0.472010</td>\n",
       "      <td>0.518549</td>\n",
       "      <td>0.000000</td>\n",
       "      <td>0.166667</td>\n",
       "    </tr>\n",
       "    <tr>\n",
       "      <th>2018-07-27_OH_5251</th>\n",
       "      <td>0.354454</td>\n",
       "      <td>0.040272</td>\n",
       "      <td>0.699364</td>\n",
       "      <td>0.711545</td>\n",
       "      <td>0.531383</td>\n",
       "      <td>0.563568</td>\n",
       "      <td>0.545455</td>\n",
       "      <td>0.666667</td>\n",
       "    </tr>\n",
       "    <tr>\n",
       "      <th>2018-07-18_B6_1183</th>\n",
       "      <td>0.426594</td>\n",
       "      <td>0.044873</td>\n",
       "      <td>0.873543</td>\n",
       "      <td>0.215099</td>\n",
       "      <td>0.556828</td>\n",
       "      <td>0.671530</td>\n",
       "      <td>0.545455</td>\n",
       "      <td>0.333333</td>\n",
       "    </tr>\n",
       "    <tr>\n",
       "      <th>2018-06-08_MQ_3649</th>\n",
       "      <td>0.474003</td>\n",
       "      <td>0.146900</td>\n",
       "      <td>0.360951</td>\n",
       "      <td>1.000000</td>\n",
       "      <td>0.531383</td>\n",
       "      <td>0.671947</td>\n",
       "      <td>0.454545</td>\n",
       "      <td>0.666667</td>\n",
       "    </tr>\n",
       "  </tbody>\n",
       "</table>\n",
       "<p>1668247 rows × 8 columns</p>\n",
       "</div>"
      ],
      "text/plain": [
       "                    dest_airport_avg_delay  avg_type_severity  \\\n",
       "2018-05-13_NK_1090                0.426594           0.050299   \n",
       "2018-05-20_UA_1682                0.313407           0.146900   \n",
       "2018-11-22_DL_1354                0.353418           0.114137   \n",
       "2018-07-02_AA_1765                0.398811           0.044873   \n",
       "2018-09-29_AA_517                 0.338200           0.047391   \n",
       "...                                    ...                ...   \n",
       "2018-02-06_UA_1884                0.325157           0.044873   \n",
       "2018-01-02_DL_1550                0.351375           0.044873   \n",
       "2018-07-27_OH_5251                0.354454           0.040272   \n",
       "2018-07-18_B6_1183                0.426594           0.044873   \n",
       "2018-06-08_MQ_3649                0.474003           0.146900   \n",
       "\n",
       "                    carrier_avg_delay  airport_avg_delay  crs_dep_time  \\\n",
       "2018-05-13_NK_1090           0.420473           0.909610      0.338846   \n",
       "2018-05-20_UA_1682           0.439076           1.000000      0.531807   \n",
       "2018-11-22_DL_1354           0.000000           0.083960      0.989822   \n",
       "2018-07-02_AA_1765           0.486026           1.000000      0.211620   \n",
       "2018-09-29_AA_517            0.486026           0.909610      0.644190   \n",
       "...                               ...                ...           ...   \n",
       "2018-02-06_UA_1884           0.439076           0.323935      0.773961   \n",
       "2018-01-02_DL_1550           0.000000           0.272249      0.472010   \n",
       "2018-07-27_OH_5251           0.699364           0.711545      0.531383   \n",
       "2018-07-18_B6_1183           0.873543           0.215099      0.556828   \n",
       "2018-06-08_MQ_3649           0.360951           1.000000      0.531383   \n",
       "\n",
       "                    crs_arr_time     month  day_of_week  \n",
       "2018-05-13_NK_1090      0.475198  0.363636     1.000000  \n",
       "2018-05-20_UA_1682      0.593581  0.363636     1.000000  \n",
       "2018-11-22_DL_1354      0.266778  0.909091     0.500000  \n",
       "2018-07-02_AA_1765      0.263026  0.545455     0.000000  \n",
       "2018-09-29_AA_517       0.774073  0.727273     0.833333  \n",
       "...                          ...       ...          ...  \n",
       "2018-02-06_UA_1884      0.879533  0.090909     0.166667  \n",
       "2018-01-02_DL_1550      0.518549  0.000000     0.166667  \n",
       "2018-07-27_OH_5251      0.563568  0.545455     0.666667  \n",
       "2018-07-18_B6_1183      0.671530  0.545455     0.333333  \n",
       "2018-06-08_MQ_3649      0.671947  0.454545     0.666667  \n",
       "\n",
       "[1668247 rows x 8 columns]"
      ]
     },
     "execution_count": 63,
     "metadata": {},
     "output_type": "execute_result"
    }
   ],
   "source": [
    "train_scaled"
   ]
  },
  {
   "cell_type": "markdown",
   "metadata": {},
   "source": [
    "## Modeling"
   ]
  },
  {
   "cell_type": "code",
   "execution_count": 64,
   "metadata": {},
   "outputs": [],
   "source": [
    "predictions = pd.DataFrame({\"actual\":y_train, \"baseline\": False})"
   ]
  },
  {
   "cell_type": "markdown",
   "metadata": {},
   "source": [
    "### Random Forest"
   ]
  },
  {
   "cell_type": "code",
   "execution_count": 65,
   "metadata": {
    "scrolled": true
   },
   "outputs": [],
   "source": [
    "# model.run_rf_loop(train_scaled, validate_scaled, y_validate, y_train, 8)"
   ]
  },
  {
   "cell_type": "code",
   "execution_count": 66,
   "metadata": {
    "scrolled": true
   },
   "outputs": [],
   "source": [
    "rf, y_pred = model.run_rf(train_scaled, y_train, 1, 3)\n",
    "predictions[\"random_forest\"] = y_pred"
   ]
  },
  {
   "cell_type": "code",
   "execution_count": 67,
   "metadata": {},
   "outputs": [
    {
     "name": "stdout",
     "output_type": "stream",
     "text": [
      "Accuracy on dataset: 0.63\n",
      "         False  True \n",
      "False  1041960   3066\n",
      "True    616401   6820\n"
     ]
    },
    {
     "data": {
      "text/html": [
       "<div>\n",
       "<style scoped>\n",
       "    .dataframe tbody tr th:only-of-type {\n",
       "        vertical-align: middle;\n",
       "    }\n",
       "\n",
       "    .dataframe tbody tr th {\n",
       "        vertical-align: top;\n",
       "    }\n",
       "\n",
       "    .dataframe thead th {\n",
       "        text-align: right;\n",
       "    }\n",
       "</style>\n",
       "<table border=\"1\" class=\"dataframe\">\n",
       "  <thead>\n",
       "    <tr style=\"text-align: right;\">\n",
       "      <th></th>\n",
       "      <th>False</th>\n",
       "      <th>True</th>\n",
       "      <th>accuracy</th>\n",
       "      <th>macro avg</th>\n",
       "      <th>weighted avg</th>\n",
       "    </tr>\n",
       "  </thead>\n",
       "  <tbody>\n",
       "    <tr>\n",
       "      <th>precision</th>\n",
       "      <td>6.283071e-01</td>\n",
       "      <td>0.689864</td>\n",
       "      <td>0.628672</td>\n",
       "      <td>6.590858e-01</td>\n",
       "      <td>6.513036e-01</td>\n",
       "    </tr>\n",
       "    <tr>\n",
       "      <th>recall</th>\n",
       "      <td>9.970661e-01</td>\n",
       "      <td>0.010943</td>\n",
       "      <td>0.628672</td>\n",
       "      <td>5.040046e-01</td>\n",
       "      <td>6.286719e-01</td>\n",
       "    </tr>\n",
       "    <tr>\n",
       "      <th>f1-score</th>\n",
       "      <td>7.708552e-01</td>\n",
       "      <td>0.021545</td>\n",
       "      <td>0.628672</td>\n",
       "      <td>3.961999e-01</td>\n",
       "      <td>4.909290e-01</td>\n",
       "    </tr>\n",
       "    <tr>\n",
       "      <th>support</th>\n",
       "      <td>1.045026e+06</td>\n",
       "      <td>623221.000000</td>\n",
       "      <td>0.628672</td>\n",
       "      <td>1.668247e+06</td>\n",
       "      <td>1.668247e+06</td>\n",
       "    </tr>\n",
       "  </tbody>\n",
       "</table>\n",
       "</div>"
      ],
      "text/plain": [
       "                  False           True  accuracy     macro avg  weighted avg\n",
       "precision  6.283071e-01       0.689864  0.628672  6.590858e-01  6.513036e-01\n",
       "recall     9.970661e-01       0.010943  0.628672  5.040046e-01  6.286719e-01\n",
       "f1-score   7.708552e-01       0.021545  0.628672  3.961999e-01  4.909290e-01\n",
       "support    1.045026e+06  623221.000000  0.628672  1.668247e+06  1.668247e+06"
      ]
     },
     "execution_count": 67,
     "metadata": {},
     "output_type": "execute_result"
    }
   ],
   "source": [
    "accuracy_score, matrix, report = model.accuracy_report(rf, y_pred, y_train)\n",
    "\n",
    "print(accuracy_score)\n",
    "print(matrix)\n",
    "\n",
    "report"
   ]
  },
  {
   "cell_type": "code",
   "execution_count": 68,
   "metadata": {},
   "outputs": [
    {
     "data": {
      "text/plain": [
       "0.6307241904535834"
      ]
     },
     "execution_count": 68,
     "metadata": {},
     "output_type": "execute_result"
    }
   ],
   "source": [
    "rf.score(validate_scaled, y_validate)"
   ]
  },
  {
   "cell_type": "code",
   "execution_count": 69,
   "metadata": {
    "scrolled": false
   },
   "outputs": [
    {
     "data": {
      "image/png": "[encoded data removed]",
      "text/plain": [
       "<Figure size 432x288 with 1 Axes>"
      ]
     },
     "metadata": {
      "needs_background": "light"
     },
     "output_type": "display_data"
    }
   ],
   "source": [
    "model.rf_feature_importance(rf, train_scaled)"
   ]
  },
  {
   "cell_type": "markdown",
   "metadata": {},
   "source": [
    "### KNN"
   ]
  },
  {
   "cell_type": "code",
   "execution_count": 70,
   "metadata": {},
   "outputs": [],
   "source": [
    "# model.run_knn_loop(train_scaled, validate_scaled, y_validate, y_train, 10)"
   ]
  },
  {
   "cell_type": "code",
   "execution_count": 71,
   "metadata": {},
   "outputs": [],
   "source": [
    "knn = KNeighborsClassifier(n_neighbors=3, weights='uniform')"
   ]
  },
  {
   "cell_type": "code",
   "execution_count": 72,
   "metadata": {},
   "outputs": [
    {
     "data": {
      "text/plain": [
       "KNeighborsClassifier(algorithm='auto', leaf_size=30, metric='minkowski',\n",
       "                     metric_params=None, n_jobs=None, n_neighbors=3, p=2,\n",
       "                     weights='uniform')"
      ]
     },
     "execution_count": 72,
     "metadata": {},
     "output_type": "execute_result"
    }
   ],
   "source": [
    "knn.fit(train_scaled, y_train)"
   ]
  },
  {
   "cell_type": "code",
   "execution_count": 73,
   "metadata": {},
   "outputs": [],
   "source": [
    "y_pred = knn.predict(train_scaled)\n",
    "predictions[\"knn\"] = y_pred"
   ]
  },
  {
   "cell_type": "code",
   "execution_count": 74,
   "metadata": {},
   "outputs": [
    {
     "name": "stdout",
     "output_type": "stream",
     "text": [
      "Accuracy on dataset: 0.79\n",
      "        False   True \n",
      "False  908482  136544\n",
      "True   210572  412649\n"
     ]
    },
    {
     "data": {
      "text/html": [
       "<div>\n",
       "<style scoped>\n",
       "    .dataframe tbody tr th:only-of-type {\n",
       "        vertical-align: middle;\n",
       "    }\n",
       "\n",
       "    .dataframe tbody tr th {\n",
       "        vertical-align: top;\n",
       "    }\n",
       "\n",
       "    .dataframe thead th {\n",
       "        text-align: right;\n",
       "    }\n",
       "</style>\n",
       "<table border=\"1\" class=\"dataframe\">\n",
       "  <thead>\n",
       "    <tr style=\"text-align: right;\">\n",
       "      <th></th>\n",
       "      <th>False</th>\n",
       "      <th>True</th>\n",
       "      <th>accuracy</th>\n",
       "      <th>macro avg</th>\n",
       "      <th>weighted avg</th>\n",
       "    </tr>\n",
       "  </thead>\n",
       "  <tbody>\n",
       "    <tr>\n",
       "      <th>precision</th>\n",
       "      <td>8.118303e-01</td>\n",
       "      <td>0.751373</td>\n",
       "      <td>0.791928</td>\n",
       "      <td>7.816019e-01</td>\n",
       "      <td>7.892449e-01</td>\n",
       "    </tr>\n",
       "    <tr>\n",
       "      <th>recall</th>\n",
       "      <td>8.693391e-01</td>\n",
       "      <td>0.662123</td>\n",
       "      <td>0.791928</td>\n",
       "      <td>7.657311e-01</td>\n",
       "      <td>7.919277e-01</td>\n",
       "    </tr>\n",
       "    <tr>\n",
       "      <th>f1-score</th>\n",
       "      <td>8.396011e-01</td>\n",
       "      <td>0.703931</td>\n",
       "      <td>0.791928</td>\n",
       "      <td>7.717658e-01</td>\n",
       "      <td>7.889175e-01</td>\n",
       "    </tr>\n",
       "    <tr>\n",
       "      <th>support</th>\n",
       "      <td>1.045026e+06</td>\n",
       "      <td>623221.000000</td>\n",
       "      <td>0.791928</td>\n",
       "      <td>1.668247e+06</td>\n",
       "      <td>1.668247e+06</td>\n",
       "    </tr>\n",
       "  </tbody>\n",
       "</table>\n",
       "</div>"
      ],
      "text/plain": [
       "                  False           True  accuracy     macro avg  weighted avg\n",
       "precision  8.118303e-01       0.751373  0.791928  7.816019e-01  7.892449e-01\n",
       "recall     8.693391e-01       0.662123  0.791928  7.657311e-01  7.919277e-01\n",
       "f1-score   8.396011e-01       0.703931  0.791928  7.717658e-01  7.889175e-01\n",
       "support    1.045026e+06  623221.000000  0.791928  1.668247e+06  1.668247e+06"
      ]
     },
     "execution_count": 74,
     "metadata": {},
     "output_type": "execute_result"
    }
   ],
   "source": [
    "accuracy_score, matrix, report = model.accuracy_report(knn, y_pred, y_train)\n",
    "\n",
    "print(accuracy_score)\n",
    "print(matrix)\n",
    "\n",
    "report"
   ]
  },
  {
   "cell_type": "code",
   "execution_count": 75,
   "metadata": {},
   "outputs": [
    {
     "data": {
      "text/plain": [
       "0.6132016263759187"
      ]
     },
     "execution_count": 75,
     "metadata": {},
     "output_type": "execute_result"
    }
   ],
   "source": [
    "knn.score(validate_scaled, y_validate)"
   ]
  },
  {
   "cell_type": "markdown",
   "metadata": {},
   "source": [
    "### Gradient Boosting Classifier"
   ]
  },
  {
   "cell_type": "code",
   "execution_count": 76,
   "metadata": {},
   "outputs": [],
   "source": [
    "gb, y_pred = model.run_gb(train_scaled, y_train)\n",
    "predictions[\"gradient_boosting\"] = y_pred"
   ]
  },
  {
   "cell_type": "code",
   "execution_count": 77,
   "metadata": {
    "scrolled": false
   },
   "outputs": [
    {
     "name": "stdout",
     "output_type": "stream",
     "text": [
      "Accuracy on dataset: 0.63\n",
      "         False  True \n",
      "False  1041976   3050\n",
      "True    614272   8949\n"
     ]
    },
    {
     "data": {
      "text/html": [
       "<div>\n",
       "<style scoped>\n",
       "    .dataframe tbody tr th:only-of-type {\n",
       "        vertical-align: middle;\n",
       "    }\n",
       "\n",
       "    .dataframe tbody tr th {\n",
       "        vertical-align: top;\n",
       "    }\n",
       "\n",
       "    .dataframe thead th {\n",
       "        text-align: right;\n",
       "    }\n",
       "</style>\n",
       "<table border=\"1\" class=\"dataframe\">\n",
       "  <thead>\n",
       "    <tr style=\"text-align: right;\">\n",
       "      <th></th>\n",
       "      <th>False</th>\n",
       "      <th>True</th>\n",
       "      <th>accuracy</th>\n",
       "      <th>macro avg</th>\n",
       "      <th>weighted avg</th>\n",
       "    </tr>\n",
       "  </thead>\n",
       "  <tbody>\n",
       "    <tr>\n",
       "      <th>precision</th>\n",
       "      <td>6.291183e-01</td>\n",
       "      <td>0.745812</td>\n",
       "      <td>0.629958</td>\n",
       "      <td>6.874652e-01</td>\n",
       "      <td>6.727126e-01</td>\n",
       "    </tr>\n",
       "    <tr>\n",
       "      <th>recall</th>\n",
       "      <td>9.970814e-01</td>\n",
       "      <td>0.014359</td>\n",
       "      <td>0.629958</td>\n",
       "      <td>5.057203e-01</td>\n",
       "      <td>6.299577e-01</td>\n",
       "    </tr>\n",
       "    <tr>\n",
       "      <th>f1-score</th>\n",
       "      <td>7.714701e-01</td>\n",
       "      <td>0.028176</td>\n",
       "      <td>0.629958</td>\n",
       "      <td>3.998231e-01</td>\n",
       "      <td>4.937915e-01</td>\n",
       "    </tr>\n",
       "    <tr>\n",
       "      <th>support</th>\n",
       "      <td>1.045026e+06</td>\n",
       "      <td>623221.000000</td>\n",
       "      <td>0.629958</td>\n",
       "      <td>1.668247e+06</td>\n",
       "      <td>1.668247e+06</td>\n",
       "    </tr>\n",
       "  </tbody>\n",
       "</table>\n",
       "</div>"
      ],
      "text/plain": [
       "                  False           True  accuracy     macro avg  weighted avg\n",
       "precision  6.291183e-01       0.745812  0.629958  6.874652e-01  6.727126e-01\n",
       "recall     9.970814e-01       0.014359  0.629958  5.057203e-01  6.299577e-01\n",
       "f1-score   7.714701e-01       0.028176  0.629958  3.998231e-01  4.937915e-01\n",
       "support    1.045026e+06  623221.000000  0.629958  1.668247e+06  1.668247e+06"
      ]
     },
     "execution_count": 77,
     "metadata": {},
     "output_type": "execute_result"
    }
   ],
   "source": [
    "accuracy_score, matrix, report = model.accuracy_report(gb, y_pred, y_train)\n",
    "\n",
    "print(accuracy_score)\n",
    "print(matrix)\n",
    "\n",
    "report"
   ]
  },
  {
   "cell_type": "code",
   "execution_count": 78,
   "metadata": {},
   "outputs": [
    {
     "data": {
      "text/plain": [
       "0.6320495321741538"
      ]
     },
     "execution_count": 78,
     "metadata": {},
     "output_type": "execute_result"
    }
   ],
   "source": [
    "gb.score(validate_scaled, y_validate)"
   ]
  },
  {
   "cell_type": "code",
   "execution_count": 79,
   "metadata": {},
   "outputs": [
    {
     "name": "stdout",
     "output_type": "stream",
     "text": [
      "Accuracy Scores\n",
      "---------------\n",
      "Actual = 1.00\n",
      "Baseline = 0.63\n",
      "Random_Forest = 0.63\n",
      "Knn = 0.79\n",
      "Gradient_Boosting = 0.63\n"
     ]
    }
   ],
   "source": [
    "# How do the different models compare on accuracy?\n",
    "print(\"Accuracy Scores\")\n",
    "print(\"---------------\")\n",
    "for i in range(predictions.shape[1]):\n",
    "    report = model.create_report(predictions.actual, predictions.iloc[:,i])\n",
    "    print(f'{predictions.columns[i].title()} = {report.accuracy[0]:.2f}')"
   ]
  },
  {
   "cell_type": "code",
   "execution_count": 80,
   "metadata": {
    "scrolled": true
   },
   "outputs": [
    {
     "name": "stdout",
     "output_type": "stream",
     "text": [
      "Recall Scores\n",
      "---------------\n",
      "Actual = 1.00\n",
      "Baseline = 0.00\n",
      "Random_Forest = 0.01\n",
      "Knn = 0.66\n",
      "Gradient_Boosting = 0.01\n"
     ]
    }
   ],
   "source": [
    "# How do the different models compare on recall?\n",
    "print(\"Recall Scores\")\n",
    "print(\"---------------\")\n",
    "for i in range(predictions.shape[1]):\n",
    "    report = model.create_report(predictions.actual, predictions.iloc[:,i])\n",
    "    print(f'{predictions.columns[i].title()} = {report[\"True\"].loc[\"recall\"]:.2f}')"
   ]
  },
  {
   "cell_type": "code",
   "execution_count": 81,
   "metadata": {},
   "outputs": [
    {
     "name": "stdout",
     "output_type": "stream",
     "text": [
      "Precision Scores\n",
      "---------------\n",
      "Actual = 1.00\n",
      "Baseline = 0.00\n",
      "Random_Forest = 0.69\n",
      "Knn = 0.75\n",
      "Gradient_Boosting = 0.75\n"
     ]
    }
   ],
   "source": [
    "# How do the different models compare on recall?\n",
    "print(\"Precision Scores\")\n",
    "print(\"---------------\")\n",
    "for i in range(predictions.shape[1]):\n",
    "    report = model.create_report(predictions.actual, predictions.iloc[:,i])\n",
    "    print(f'{predictions.columns[i].title()} = {report[\"True\"].loc[\"precision\"]:.2f}')"
   ]
  },
  {
   "cell_type": "markdown",
   "metadata": {},
   "source": [
    "## Evaluate"
   ]
  },
  {
   "cell_type": "code",
   "execution_count": 82,
   "metadata": {},
   "outputs": [],
   "source": [
    "knn, y_pred = model.run_knn(train_scaled, y_train, 2)"
   ]
  },
  {
   "cell_type": "code",
   "execution_count": 83,
   "metadata": {},
   "outputs": [],
   "source": [
    "y_pred = knn.predict(test_scaled)"
   ]
  },
  {
   "cell_type": "code",
   "execution_count": 84,
   "metadata": {
    "scrolled": true
   },
   "outputs": [
    {
     "name": "stdout",
     "output_type": "stream",
     "text": [
      "Accuracy on dataset: 0.63\n",
      "        False  True \n",
      "False  404562  59697\n",
      "True   214616  62569\n"
     ]
    },
    {
     "data": {
      "text/html": [
       "<div>\n",
       "<style scoped>\n",
       "    .dataframe tbody tr th:only-of-type {\n",
       "        vertical-align: middle;\n",
       "    }\n",
       "\n",
       "    .dataframe tbody tr th {\n",
       "        vertical-align: top;\n",
       "    }\n",
       "\n",
       "    .dataframe thead th {\n",
       "        text-align: right;\n",
       "    }\n",
       "</style>\n",
       "<table border=\"1\" class=\"dataframe\">\n",
       "  <thead>\n",
       "    <tr style=\"text-align: right;\">\n",
       "      <th></th>\n",
       "      <th>False</th>\n",
       "      <th>True</th>\n",
       "      <th>accuracy</th>\n",
       "      <th>macro avg</th>\n",
       "      <th>weighted avg</th>\n",
       "    </tr>\n",
       "  </thead>\n",
       "  <tbody>\n",
       "    <tr>\n",
       "      <th>precision</th>\n",
       "      <td>0.653386</td>\n",
       "      <td>0.511745</td>\n",
       "      <td>0.630029</td>\n",
       "      <td>0.582565</td>\n",
       "      <td>0.600434</td>\n",
       "    </tr>\n",
       "    <tr>\n",
       "      <th>recall</th>\n",
       "      <td>0.871414</td>\n",
       "      <td>0.225730</td>\n",
       "      <td>0.630029</td>\n",
       "      <td>0.548572</td>\n",
       "      <td>0.630029</td>\n",
       "    </tr>\n",
       "    <tr>\n",
       "      <th>f1-score</th>\n",
       "      <td>0.746812</td>\n",
       "      <td>0.313275</td>\n",
       "      <td>0.630029</td>\n",
       "      <td>0.530044</td>\n",
       "      <td>0.584737</td>\n",
       "    </tr>\n",
       "    <tr>\n",
       "      <th>support</th>\n",
       "      <td>464259.000000</td>\n",
       "      <td>277185.000000</td>\n",
       "      <td>0.630029</td>\n",
       "      <td>741444.000000</td>\n",
       "      <td>741444.000000</td>\n",
       "    </tr>\n",
       "  </tbody>\n",
       "</table>\n",
       "</div>"
      ],
      "text/plain": [
       "                   False           True  accuracy      macro avg  \\\n",
       "precision       0.653386       0.511745  0.630029       0.582565   \n",
       "recall          0.871414       0.225730  0.630029       0.548572   \n",
       "f1-score        0.746812       0.313275  0.630029       0.530044   \n",
       "support    464259.000000  277185.000000  0.630029  741444.000000   \n",
       "\n",
       "            weighted avg  \n",
       "precision       0.600434  \n",
       "recall          0.630029  \n",
       "f1-score        0.584737  \n",
       "support    741444.000000  "
      ]
     },
     "execution_count": 84,
     "metadata": {},
     "output_type": "execute_result"
    }
   ],
   "source": [
    "accuracy_score, matrix, report = model.accuracy_report(gb, y_pred, y_test)\n",
    "\n",
    "print(accuracy_score)\n",
    "print(matrix)\n",
    "\n",
    "report"
   ]
  },
  {
   "cell_type": "markdown",
   "metadata": {},
   "source": [
    "**Takeaway:** As we can see - it seems that weather conditions doesn't greatly help us improve our models. Overall, the KNN was still the best performing model, however, when we look to create the models, they are either greatly overfit, or they don't perform better than the baseline. \n",
    "\n",
    "It is surprising, given the research that I found, that weather wouldn't help us better predict flight delays. I suspect that the reason why our models are not as effective is due to the type of weather data that was used, as well as the number of airports we used in our scope. \n",
    "\n",
    "Given that some airports would be better equiped to deal with ceirtain weather problems depending on their location, this could be causing a problem with the models. For example, we saw that snow can be one of the biggest factors for flight delays, however airports like Chicago or Denver might be better equiped to deal with snow, and as a results, we may not see delays in these airports. This might confuse the model, as it makes it look like snow perhaps doesn't have a big impact in flight delays, and as such, it gives the features less priority. \n",
    "\n",
    "In order to try to improve the model, I will create a separate model for each airport, so that each airport can be analyzed individually. We can then aggregate the scores to compare them against our existing models. This will also greatly help in improving the speed of the GUI / Flask app, as it will reduce the time needed for the model to be fitted. "
   ]
  },
  {
   "cell_type": "markdown",
   "metadata": {},
   "source": [
    "### Individual Models\n",
    "\n",
    "Given that KNN has consistently been the best performing model, we will just look to fit our individual models with a KNN, with a K-neighbors of 3. \n",
    "\n",
    "The function below, called `model_airports_individually` actually masks the dataframe for each individual airport, and create's models for each. For the purposes of evaluating the effectiveness of the models, we collect the scores. The models are fitted using `train_data`, but the scores we see below are based on how the model performs using `test_data`."
   ]
  },
  {
   "cell_type": "code",
   "execution_count": 85,
   "metadata": {},
   "outputs": [],
   "source": [
    "features_for_modeling = [\"dest_airport_avg_delay\", \"avg_type_severity\", \"carrier_avg_delay\", \"airport_avg_delay\", \"crs_dep_time\", \"crs_arr_time\", \"month\", \"day_of_week\"]\n",
    "target_variable = \"is_delay\""
   ]
  },
  {
   "cell_type": "code",
   "execution_count": 86,
   "metadata": {},
   "outputs": [],
   "source": [
    "score = model.model_airports_individually(features_for_modeling, target_variable)"
   ]
  },
  {
   "cell_type": "code",
   "execution_count": 88,
   "metadata": {},
   "outputs": [
    {
     "data": {
      "text/plain": [
       "0.6057530606054229"
      ]
     },
     "execution_count": 88,
     "metadata": {},
     "output_type": "execute_result"
    }
   ],
   "source": [
    "score.loc[\"accuracy\"].mean()"
   ]
  },
  {
   "cell_type": "code",
   "execution_count": 89,
   "metadata": {},
   "outputs": [
    {
     "data": {
      "text/plain": [
       "0.4148794325324767"
      ]
     },
     "execution_count": 89,
     "metadata": {},
     "output_type": "execute_result"
    }
   ],
   "source": [
    "score.loc[\"recall\"].mean()"
   ]
  },
  {
   "cell_type": "markdown",
   "metadata": {},
   "source": [
    "Overall, it seems that when modeled individually, the models do performs just about the same our our initial, Phase I models. While it is still not as effective in terms of accuracy, the model still performs at around 41% recall. \n",
    "\n",
    "I recommend using these individually fitted models. While it might not be more effective, it will be significantly faster from a processing point of view to make a prediction if the data is filtered down. "
   ]
  },
  {
   "cell_type": "markdown",
   "metadata": {},
   "source": [
    "------"
   ]
  },
  {
   "cell_type": "markdown",
   "metadata": {},
   "source": [
    "# Conclusion\n",
    "\n"
   ]
  },
  {
   "cell_type": "markdown",
   "metadata": {},
   "source": [
    "Overall, we found that we can effectively use historical and weather data to predict flight delays with higher recall scores than our baseline. \n",
    "\n",
    "However, I found that there might be a key element missing in the data to more effectively predict flight delays. The biggest suspect at the moment is the fact that my data isn't showing the probability that the plane for that flight arrives late. As we saw from the exploration, late plane arrival is the biggest cause for delays. If there was a way for us to calculate where the previous flights were coming from, or at least the avg time it arrives late, I think we can have a far more effective model.\n",
    "\n",
    "Below is the function we will use to fit and create a prediction:"
   ]
  },
  {
   "cell_type": "code",
   "execution_count": 91,
   "metadata": {},
   "outputs": [],
   "source": [
    "airline = \"AA\"\n",
    "flight_number = \"1988\"\n",
    "date = \"07/20/2020\"\n",
    "dep_airport = \"CTL\"\n",
    "arr_airport = \"SAT\"\n",
    "dep_time = \"11:19\"\n",
    "arr_time = \"13:01\""
   ]
  },
  {
   "cell_type": "code",
   "execution_count": null,
   "metadata": {},
   "outputs": [],
   "source": [
    "merged_df = wrangle.merge_flight_weather_data()\n",
    "merged_df = preprocessing.to_date_time(merged_df)\n",
    "merged_df = preprocessing.create_new_features(merged_df)\n",
    "merged_df = preprocessing.create_target_variable(merged_df)\n",
    "\n",
    "# add weather features\n",
    "merged_df[\"avg_weather_delay\"] = merged_df.groupby(\"Type\").arr_delay.transform(\"mean\")\n",
    "merged_df[\"type_severity\"] = merged_df.Type + \"_\" + merged_df.Severity\n",
    "merged_df[\"avg_type_severity\"] = merged_df.groupby(\"type_severity\").arr_delay.transform(\"mean\")\n",
    "\n",
    "merged_df = merged_df[(merged_df.op_carrier == airline)]\n",
    "\n",
    "merged_df = merged_df[features_for_modeling]\n",
    "merged_df = merged_df.set_index(\"observation\")\n",
    "\n",
    "train, validate, test = preprocessing.split_data(merged_df)\n",
    "\n",
    "X_train = train.drop(columns=target_variable)\n",
    "y_train = train[target_variable]\n",
    "X_validate = validate.drop(columns=target_variable)\n",
    "y_validate = validate[target_variable]\n",
    "X_test = test.drop(columns=target_variable)\n",
    "y_test = test[target_variable]\n",
    "\n",
    "scaler, train_scaled, validate_scaled, test_scaled = preprocessing.min_max_scaler(X_train, X_validate, X_test)\n",
    "\n",
    "knn, y_pred = run_knn(train_scaled, y_train, 3)\n",
    "y_pred = knn.predict(test_scaled)\n",
    "report = classification_report(y_test, y_pred, output_dict = True)\n",
    "report = pd.DataFrame.from_dict(report)\n",
    "actual_score = pd.DataFrame({airline: [report.accuracy.values[0], report[\"True\"].loc[\"recall\"]]}, index=[\"accuracy\", \"recall\"])\n",
    "\n",
    "score = pd.concat([score, actual_score], axis=1)"
   ]
  }
 ],
 "metadata": {
  "kernelspec": {
   "display_name": "Python 3",
   "language": "python",
   "name": "python3"
  },
  "language_info": {
   "codemirror_mode": {
    "name": "ipython",
    "version": 3
   },
   "file_extension": ".py",
   "mimetype": "text/x-python",
   "name": "python",
   "nbconvert_exporter": "python",
   "pygments_lexer": "ipython3",
   "version": "3.7.4"
  }
 },
 "nbformat": 4,
 "nbformat_minor": 2
}
